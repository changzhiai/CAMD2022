{
 "cells": [
  {
   "cell_type": "code",
   "execution_count": 25,
   "metadata": {},
   "outputs": [],
   "source": [
    "# teacher\n",
    "import ase.visualize as viz\n",
    "viz.view = lambda atoms, repeat=None: None"
   ]
  },
  {
   "cell_type": "markdown",
   "metadata": {},
   "source": [
    "\n",
    "# Battery project\n"
   ]
  },
  {
   "cell_type": "markdown",
   "metadata": {},
   "source": [
    "\n",
    "## Day 3 - Equilibrium potential\n"
   ]
  },
  {
   "cell_type": "markdown",
   "metadata": {},
   "source": [
    "\n",
    "Today you will study the LiFePO$_4$ cathode. You will calculate the equilibrium potential and use Bayesian error estimation to quantify how sensitive the calculated equilibrium potential is towards choice of functional. After today you should be able to discuss:\n",
    "\n",
    "-  The volume change during charge/discharge.\n",
    "\n",
    "-  The maximum gravimetric and volumetric energy density of a FePO$_4$/C battery assuming the majority of weight and volume will be given by the electrodes.\n",
    "\n",
    "-  Uncertainty in the calculations.\n",
    "\n",
    "Some of calculations you will perform today will be tedious to be run in this notebook. You will automatically submit some calculations to the HPC cluster directly from this notebook. When you have to wait for calculations to finish you can get started on addressing the bullet points above.\n"
   ]
  },
  {
   "cell_type": "markdown",
   "metadata": {},
   "source": [
    "\n",
    "## Initialize\n"
   ]
  },
  {
   "cell_type": "code",
   "execution_count": 1,
   "metadata": {},
   "outputs": [],
   "source": [
    "%matplotlib notebook\n",
    "import numpy as np\n",
    "from ase.visualize import view\n",
    "import matplotlib.pyplot as plt\n",
    "from ase.io import read, write, Trajectory\n",
    "from ase.parallel import paropen\n",
    "from gpaw import GPAW, FermiDirac, Mixer, PW\n",
    "from ase.dft.bee import BEEFEnsemble\n",
    "from ase import Atoms"
   ]
  },
  {
   "cell_type": "markdown",
   "metadata": {},
   "source": [
    "\n",
    "## FePO$_4$\n"
   ]
  },
  {
   "cell_type": "markdown",
   "metadata": {},
   "source": [
    "\n",
    "First we will construct an atoms object for FePO$_4$. ASE can read files from in a large number of different [formats](https://wiki.fysik.dtu.dk/ase/ase/io/io.html?highlight=read%20formats#file-input-and-output). However, in this case you will build it from scratch using the below information:\n"
   ]
  },
  {
   "cell_type": "code",
   "execution_count": null,
   "metadata": {},
   "outputs": [],
   "source": [
    "# Positions:\n",
    "# Fe      2.73015081       1.46880951       4.56541172\n",
    "# Fe      2.23941067       4.40642872       2.14957739\n",
    "# Fe      7.20997230       4.40642925       0.26615813\n",
    "# Fe      7.70070740       1.46880983       2.68199421\n",
    "# O       1.16033403       1.46881052       3.40240205\n",
    "# O       3.80867172       4.40642951       0.98654342\n",
    "# O       8.77981469       4.40642875       1.42923946\n",
    "# O       6.13142032       1.46881092       3.84509827\n",
    "# O       4.37288562       1.46880982       0.81812712\n",
    "# O       0.59764596       4.40643021       3.23442747\n",
    "# O       5.56702590       4.40642886       4.01346264\n",
    "# O       9.34268360       1.46880929       1.59716233\n",
    "# O       1.64001691       0.26061277       1.17298291\n",
    "# O       3.32931769       5.61463705       3.58882629\n",
    "# O       8.30013707       3.19826250       3.65857000\n",
    "# O       6.61076951       2.67698811       1.24272700\n",
    "# O       8.30013642       5.61459688       3.65856912\n",
    "# O       6.61076982       0.26063178       1.24272567\n",
    "# O       1.64001666       2.67700652       1.17298270\n",
    "# O       3.32931675       3.19822249       3.58882660\n",
    "# P       0.90585688       1.46880966       1.89272372\n",
    "# P       4.06363530       4.40642949       4.30853266\n",
    "# P       9.03398503       4.40642957       2.93877879\n",
    "# P       5.87676435       1.46881009       0.52297232\n",
    "\n",
    "\n",
    "# Unit cell:\n",
    "#            periodic     x          y          z    \n",
    "#   1. axis:    yes    9.94012    0.00000    0.00000\n",
    "#   2. axis:    yes    0.00000    5.87524    0.00000\n",
    "#   3. axis:    yes    0.00000    0.00000    4.83157\n"
   ]
  },
  {
   "cell_type": "markdown",
   "metadata": {},
   "source": [
    "\n",
    "You *can* use the cell below as a starting point.\n"
   ]
  },
  {
   "cell_type": "code",
   "execution_count": 4,
   "metadata": {},
   "outputs": [],
   "source": [
    "# fepo4 = Atoms('Fe4O...',\n",
    "#               positions=[[x0, y0, z0],[x1, y1, z1]...],\n",
    "#               cell=[x, y, z],\n",
    "#               pbc=[True, True, True])\n",
    "\n",
    "# Teacher:\n",
    "fepo4 = Atoms('Fe4O16P4',\n",
    "             positions=[[2.73015081, 1.46880951, 4.56541172],\n",
    "                [2.23941067, 4.40642872, 2.14957739],\n",
    "                [7.20997230, 4.40642925, 0.26615813],\n",
    "                [7.70070740, 1.46880983, 2.68199421],\n",
    "                [1.16033403, 1.46881052, 3.40240205],\n",
    "                [3.80867172, 4.40642951, 0.98654342],\n",
    "                [8.77981469, 4.40642875, 1.42923946],\n",
    "                [6.13142032, 1.46881092, 3.84509827],\n",
    "                [4.37288562, 1.46880982, 0.81812712],\n",
    "                [0.59764596, 4.40643021, 3.23442747],\n",
    "                [5.56702590, 4.40642886, 4.01346264],\n",
    "                [9.34268360, 1.46880929, 1.59716233],\n",
    "                [1.64001691, 0.26061277, 1.17298291],\n",
    "                [3.32931769, 5.61463705, 3.58882629],\n",
    "                [8.30013707, 3.19826250, 3.65857000],\n",
    "                [6.61076951, 2.67698811, 1.24272700],\n",
    "                [8.30013642, 5.61459688, 3.65856912],\n",
    "                [6.61076982, 0.26063178, 1.24272567],\n",
    "                [1.64001666, 2.67700652, 1.17298270],\n",
    "                [3.32931675, 3.19822249, 3.58882660],\n",
    "                [0.90585688, 1.46880966, 1.89272372],\n",
    "                [4.06363530, 4.40642949, 4.30853266],\n",
    "                [9.03398503, 4.40642957, 2.93877879],\n",
    "                [5.87676435, 1.46881009, 0.52297232]\n",
    "                        ],\n",
    "             cell=[9.94012, 5.87524, 4.83157],\n",
    "             pbc=[1, 1, 1])"
   ]
  },
  {
   "cell_type": "markdown",
   "metadata": {},
   "source": [
    "\n",
    "Visualize the structure you have made. Explore the different functions in the visualizer and determine the volume of the cell (`View -> Quick Info`).\n"
   ]
  },
  {
   "cell_type": "code",
   "execution_count": 6,
   "metadata": {},
   "outputs": [],
   "source": [
    "view(fepo4)"
   ]
  },
  {
   "cell_type": "markdown",
   "metadata": {},
   "source": [
    "\n",
    "For better convergence of calculations you should specify initial magnetic moments to iron. The iron will in this structure be Fe$^{3+}$ as it donates two *4s* electrons and one *3d* electron to PO$_4$$^{3-}$. What is the magnetic moment of iron? For simplicity you should assume that FePO$_4$ is ferromagnetic.\n"
   ]
  },
  {
   "cell_type": "code",
   "execution_count": 7,
   "metadata": {},
   "outputs": [],
   "source": [
    "# Teacher:\n",
    "for atom in fepo4:\n",
    "    if atom.symbol == 'Fe':\n",
    "        atom.magmom = 5.0  # student: atom.magmom = ?"
   ]
  },
  {
   "cell_type": "markdown",
   "metadata": {},
   "source": [
    "\n",
    "Now examine the initial magnetic moments of the system using an [appropriate method](https://wiki.fysik.dtu.dk/ase/ase/atoms.html?highlight=get_initial#list-of-all-methods).\n"
   ]
  },
  {
   "cell_type": "code",
   "execution_count": 8,
   "metadata": {},
   "outputs": [
    {
     "name": "stdout",
     "output_type": "stream",
     "text": [
      "[5. 5. 5. 5. 0. 0. 0. 0. 0. 0. 0. 0. 0. 0. 0. 0. 0. 0. 0. 0. 0. 0. 0. 0.]\n"
     ]
    }
   ],
   "source": [
    "magmoms = fepo4.get_initial_magnetic_moments()  # student: magmoms = fepo4.xxx()\n",
    "print(magmoms)"
   ]
  },
  {
   "cell_type": "markdown",
   "metadata": {},
   "source": [
    "\n",
    "Write your atoms object to file.\n"
   ]
  },
  {
   "cell_type": "code",
   "execution_count": 9,
   "metadata": {},
   "outputs": [],
   "source": [
    "write('fepo4.traj', fepo4)"
   ]
  },
  {
   "cell_type": "markdown",
   "metadata": {},
   "source": [
    "\n",
    "For this calculation you will use the BEEF-vdW functional developed by [Wellendorff et al.](https://journals.aps.org/prb/abstract/10.1103/PhysRevB.85.235149) Although there are better alternatives for calculating the energy of bulk systems, the BEEF-vdW has a build-in ensemble for error estimation of calculated energies. In the set-up of this calculator you will append relevant keyword values into a dictionary, which is inputted the calculator object.\n"
   ]
  },
  {
   "cell_type": "code",
   "execution_count": 10,
   "metadata": {},
   "outputs": [],
   "source": [
    "params_GPAW = {}"
   ]
  },
  {
   "cell_type": "markdown",
   "metadata": {},
   "source": [
    "\n",
    "To save computational time while keeping the calculations physically sound, the following should be used:\n"
   ]
  },
  {
   "cell_type": "code",
   "execution_count": 11,
   "metadata": {},
   "outputs": [],
   "source": [
    "params_GPAW['mode']        = PW(500)                      # The used plane wave energy cutoff\n",
    "params_GPAW['nbands']      = -40                          # The number on empty bands had the system been spin-paired \n",
    "params_GPAW['kpts']        = {'size': (2, 4, 5),          # The k-point mesh\n",
    "                              'gamma': True}\n",
    "params_GPAW['spinpol']     = True                         # Performing spin polarized calculations\n",
    "params_GPAW['xc']          = 'BEEF-vdW'                   # The used exchange-correlation functional\n",
    "params_GPAW['occupations'] = FermiDirac(width=0.1,        # The smearing\n",
    "                                        fixmagmom=True)   # Total magnetic moment fixed to the initial value\n",
    "params_GPAW['convergence'] = {'eigenstates': 1.0e-4,      # eV^2 / electron\n",
    "                              'energy':      2.0e-4,      # eV / electron\n",
    "                              'density':     1.0e-3}\n",
    "params_GPAW['mixer']       = Mixer(0.1, 5, weight=100.0)  # The mixer used during SCF optimization\n"
   ]
  },
  {
   "cell_type": "markdown",
   "metadata": {},
   "source": [
    "\n",
    "DFT suffers from a so-called self-interaction error. An electron interacts with the system electron density, to which it contributes itself. The error is most pronounced for highly localized orbitals. [Hubbard U correction](https://wiki.fysik.dtu.dk/gpaw/tutorialsexercises/energetics/hubbardu/hubbardu.html) is used to mitigate the self-interaction error of the highly localized *3d*-electrons of Fe. This is done in GPAW using the `setups` keyword.\n"
   ]
  },
  {
   "cell_type": "code",
   "execution_count": 12,
   "metadata": {},
   "outputs": [],
   "source": [
    "params_GPAW['setups']      = {'Fe': ':d,4.3'}             # U=4.3 applied to d orbitals\n"
   ]
  },
  {
   "cell_type": "markdown",
   "metadata": {},
   "source": [
    "\n",
    "Make a GPAW calculator and attach it to the atoms object. Here you will use [get_potential_energy](https://wiki.fysik.dtu.dk/ase/ase/atoms.html#ase.Atoms.get_potential_energy) to start the calculation.\n"
   ]
  },
  {
   "cell_type": "code",
   "execution_count": 13,
   "metadata": {},
   "outputs": [
    {
     "name": "stdout",
     "output_type": "stream",
     "text": [
      "\n",
      "  ___ ___ ___ _ _ _  \n",
      " |   |   |_  | | | | \n",
      " | | | | | . | | | | \n",
      " |__ |  _|___|_____|  22.1.1b1\n",
      " |___|_|             \n",
      "\n",
      "User:   dft22x019@n-62-27-19\n",
      "Date:   Sun Aug 14 17:08:20 2022\n",
      "Arch:   x86_64\n",
      "Pid:    6358\n",
      "CWD:    /zhome/fa/5/1000203270/CAMD2022/batteries\n",
      "Python: 3.8.5\n",
      "gpaw:   /zhome/fa/5/1000203270/CAMD2022/venv/gpaw/gpaw (4191706c58)\n",
      "_gpaw:  /zhome/fa/5/1000203270/CAMD2022/venv/gpaw/\n",
      "        _gpaw.cpython-38-x86_64-linux-gnu.so (88bf7688a8)\n",
      "ase:    /zhome/fa/5/1000203270/CAMD2022/venv/ase/ase (version 3.23.0b1-bcce2b6c57)\n",
      "numpy:  /zhome/fa/5/1000203270/CAMD2022/venv/lib/python3.8/site-packages/numpy (version 1.22.4)\n",
      "scipy:  /zhome/fa/5/1000203270/CAMD2022/venv/lib/python3.8/site-packages/scipy (version 1.8.1)\n",
      "libxc:  4.3.4\n",
      "units:  Angstrom and eV\n",
      "cores: 1\n",
      "OpenMP: False\n",
      "OMP_NUM_THREADS: 1\n",
      "\n",
      "Input parameters:\n",
      "  convergence: {density: 0.001,\n",
      "                eigenstates: 0.0001,\n",
      "                energy: 0.0002}\n",
      "  kpts: {gamma: True,\n",
      "         size: (2, 4, 5)}\n",
      "  mixer: {backend: pulay,\n",
      "          beta: 0.1,\n",
      "          method: separate,\n",
      "          nmaxold: 5,\n",
      "          weight: 100.0}\n",
      "  mode: {ecut: 500.0,\n",
      "         name: pw}\n",
      "  nbands: -40\n",
      "  occupations: {fixmagmom: True,\n",
      "                name: fermi-dirac,\n",
      "                width: 0.1}\n",
      "  setups: {Fe: :d,4.3}\n",
      "  spinpol: True\n",
      "  xc: BEEF-vdW\n",
      "\n",
      "System changes: positions, numbers, cell, pbc, initial_charges, initial_magmoms \n",
      "\n",
      "Initialize ...\n",
      "\n",
      "species:\n",
      "  Fe:\n",
      "    name: Iron\n",
      "    id: 37abbd8d6c3c35915a9b583b742da910\n",
      "    Z: 26.0\n",
      "    valence: 8\n",
      "    core: 18\n",
      "    charge: 0.0\n",
      "    Hubbard: {U: 4.3,  # eV\n",
      "              l: 2,\n",
      "              scale: True}\n",
      "    file: /zhome/86/d/1666/PAW/gpaw-setups-0.9.20000/Fe.PBE.gz\n",
      "    compensation charges: {type: gauss,\n",
      "                           rc: 0.33,\n",
      "                           lmax: 2}\n",
      "    cutoffs: {filter: 2.06,\n",
      "              core: 2.67}\n",
      "    valence states:\n",
      "      #              energy  rcut\n",
      "      - 4s(2.00)    -5.291   1.164\n",
      "      - 4p(0.00)    -1.326   1.058\n",
      "      - 3d(6.00)    -7.505   1.058\n",
      "      -  s          21.920   1.164\n",
      "      -  p          25.885   1.058\n",
      "      -  d          19.706   1.058\n",
      "  \n",
      "    # Using partial waves for Fe as LCAO basis\n",
      "\n",
      "  O:\n",
      "    name: Oxygen\n",
      "    id: 32ecd46bf208036f09c70b0ec9a88b78\n",
      "    Z: 8.0\n",
      "    valence: 6\n",
      "    core: 2\n",
      "    charge: 0.0\n",
      "    file: /zhome/86/d/1666/PAW/gpaw-setups-0.9.20000/O.PBE.gz\n",
      "    compensation charges: {type: gauss,\n",
      "                           rc: 0.21,\n",
      "                           lmax: 2}\n",
      "    cutoffs: {filter: 1.17,\n",
      "              core: 0.83}\n",
      "    valence states:\n",
      "      #              energy  rcut\n",
      "      - 2s(2.00)   -23.961   0.688\n",
      "      - 2p(4.00)    -9.029   0.598\n",
      "      -  s           3.251   0.688\n",
      "      -  p          18.182   0.598\n",
      "      -  d           0.000   0.619\n",
      "  \n",
      "    # Using partial waves for O as LCAO basis\n",
      "\n",
      "  P:\n",
      "    name: Phosphorus\n",
      "    id: 03b4a34d18bb161274a4ee27145ba70a\n",
      "    Z: 15.0\n",
      "    valence: 5\n",
      "    core: 10\n",
      "    charge: 0.0\n",
      "    file: /zhome/86/d/1666/PAW/gpaw-setups-0.9.20000/P.PBE.gz\n",
      "    compensation charges: {type: gauss,\n",
      "                           rc: 0.30,\n",
      "                           lmax: 2}\n",
      "    cutoffs: {filter: 1.69,\n",
      "              core: 1.81}\n",
      "    valence states:\n",
      "      #              energy  rcut\n",
      "      - 3s(2.00)   -13.968   0.953\n",
      "      - 3p(3.00)    -5.506   0.953\n",
      "      -  s          13.244   0.953\n",
      "      -  p          21.705   0.953\n",
      "      -  d           0.000   0.953\n",
      "  \n",
      "    # Using partial waves for P as LCAO basis\n",
      "\n",
      "Reference energy: -208343.109853  # eV\n",
      "\n",
      "Spin-polarized calculation.\n",
      "Magnetic moment: 20.000000\n",
      "\n",
      "Convergence criteria:\n",
      " Maximum [total energy] change in last 3 cyles: 0.0002 eV / electron\n",
      " Maximum integral of absolute [dens]ity change: 0.001 electrons / valence electron\n",
      " Maximum integral of absolute [eigenst]ate change: 0.0001 eV^2 / valence electron\n",
      " Maximum number of scf [iter]ations: 333\n",
      " (Square brackets indicate name in SCF output, whereas a 'c' in\n",
      " the SCF output indicates the quantity has converged.)\n",
      "\n",
      "Symmetries present (total): 1\n",
      "\n",
      "  ( 1  0  0)\n",
      "  ( 0  1  0)\n",
      "  ( 0  0  1)\n",
      "\n",
      "40 k-points: 2 x 4 x 5 Monkhorst-Pack grid + [1/4,1/8,0.000000]\n",
      "22 k-points in the irreducible part of the Brillouin zone\n",
      "       k-points in crystal coordinates                weights\n",
      "   0:     0.00000000    0.00000000    0.00000000          1/40\n",
      "   1:     0.00000000    0.00000000    0.20000000          2/40\n",
      "   2:     0.00000000    0.00000000    0.40000000          2/40\n",
      "   3:     0.00000000    0.25000000   -0.40000000          2/40\n",
      "   4:     0.00000000    0.25000000   -0.20000000          2/40\n",
      "   5:     0.00000000    0.25000000    0.00000000          2/40\n",
      "   6:     0.00000000    0.25000000    0.20000000          2/40\n",
      "   7:     0.00000000    0.25000000    0.40000000          2/40\n",
      "   8:     0.00000000    0.50000000    0.00000000          1/40\n",
      "   9:     0.00000000    0.50000000    0.20000000          2/40\n",
      "          ...\n",
      "  21:     0.50000000    0.50000000    0.40000000          2/40\n",
      "\n",
      "Wave functions: Plane wave expansion\n",
      "  Cutoff energy: 500.000 eV\n",
      "  Number of coefficients (min, max): 7128, 7190\n",
      "  Pulay-stress correction: 0.000000 eV/Ang^3 (de/decut=0.000000)\n",
      "  Using FFTW library\n",
      "  ScaLapack parameters: grid=1x1, blocksize=None\n",
      "  Wavefunction extrapolation:\n",
      "    Improved wavefunction reuse through dual PAW basis \n",
      "\n",
      "Occupation numbers: Fixed magnetic moment: 20.000\n",
      "Fermi-Dirac:\n",
      "  width: 0.1000  # eV\n",
      " \n",
      "\n",
      "Eigensolver\n",
      "   Davidson(niter=2) \n",
      "\n",
      "Densities:\n",
      "  Coarse grid: 54*32*25 grid\n",
      "  Fine grid: 108*64*50 grid\n",
      "  Total Charge: 0.000000 \n",
      "\n",
      "Density mixing:\n",
      "  Method: separate\n",
      "  Backend: pulay\n",
      "  Linear mixing parameter: 0.1\n",
      "  old densities: 5\n",
      "  Damping of long wavelength oscillations: 100 \n",
      "\n",
      "Hamiltonian:\n",
      "  XC and Coulomb potentials evaluated on a 108*64*50 grid\n",
      "  Using the BEEF-vdW Exchange-Correlation functional\n",
      "  External potential:\n",
      "    NoExternalPotential\n",
      " \n",
      "\n",
      "XC parameters: BEEF-vdW with 2 nearest neighbor stencil\n",
      "\n",
      "Memory estimate:\n",
      "  Process memory now: 143.71 MiB\n",
      "  Calculator: 715.28 MiB\n",
      "    Density: 29.58 MiB\n",
      "      Arrays: 11.54 MiB\n",
      "      Localized functions: 11.45 MiB\n",
      "      Mixer: 6.59 MiB\n",
      "    Hamiltonian: 8.88 MiB\n",
      "      Arrays: 8.57 MiB\n",
      "      XC: 0.00 MiB\n",
      "      Poisson: 0.00 MiB\n",
      "      vbar: 0.31 MiB\n",
      "    Wavefunctions: 676.83 MiB\n",
      "      Arrays psit_nG: 598.58 MiB\n",
      "      Eigensolver: 16.50 MiB\n",
      "      Projections: 27.64 MiB\n",
      "      Projectors: 30.05 MiB\n",
      "      PW-descriptor: 4.06 MiB\n",
      "\n",
      "Total number of cores used: 1\n",
      "\n",
      "Number of atoms: 24\n",
      "Number of atomic orbitals: 116\n",
      "Number of bands in calculation: 124\n",
      "Number of valence electrons: 148\n",
      "Bands to converge: occupied\n",
      "\n",
      "... initialized\n",
      "\n",
      "Initializing position-dependent things.\n",
      "\n",
      "Density initialized from atomic densities\n",
      "Creating initial wave functions:\n",
      "  116 bands from LCAO basis set\n",
      "  8 bands from random numbers\n",
      "\n",
      "     .-----------------------.  \n",
      "    /|                       |  \n",
      "   / |       OP  O       O   |  \n",
      "  /  O   FeO           O  P  |  \n",
      " *   |   Fe      O           |  \n",
      " |   O                   O   |  \n",
      " |   .-------O-------Fe------.  \n",
      " |  P  O           O Fe  O  /   \n",
      " | / O       O  PO         /    \n",
      " |/                       /     \n",
      " *-----------------------*      \n",
      "\n",
      "Positions:\n",
      "   0 Fe     2.730151    1.468810    4.565412    ( 0.0000,  0.0000,  5.0000)\n",
      "   1 Fe     2.239411    4.406429    2.149577    ( 0.0000,  0.0000,  5.0000)\n",
      "   2 Fe     7.209972    4.406429    0.266158    ( 0.0000,  0.0000,  5.0000)\n",
      "   3 Fe     7.700707    1.468810    2.681994    ( 0.0000,  0.0000,  5.0000)\n",
      "   4 O      1.160334    1.468811    3.402402    ( 0.0000,  0.0000,  0.0000)\n",
      "   5 O      3.808672    4.406430    0.986543    ( 0.0000,  0.0000,  0.0000)\n",
      "   6 O      8.779815    4.406429    1.429239    ( 0.0000,  0.0000,  0.0000)\n",
      "   7 O      6.131420    1.468811    3.845098    ( 0.0000,  0.0000,  0.0000)\n",
      "   8 O      4.372886    1.468810    0.818127    ( 0.0000,  0.0000,  0.0000)\n",
      "   9 O      0.597646    4.406430    3.234427    ( 0.0000,  0.0000,  0.0000)\n",
      "  10 O      5.567026    4.406429    4.013463    ( 0.0000,  0.0000,  0.0000)\n",
      "  11 O      9.342684    1.468809    1.597162    ( 0.0000,  0.0000,  0.0000)\n",
      "  12 O      1.640017    0.260613    1.172983    ( 0.0000,  0.0000,  0.0000)\n",
      "  13 O      3.329318    5.614637    3.588826    ( 0.0000,  0.0000,  0.0000)\n",
      "  14 O      8.300137    3.198262    3.658570    ( 0.0000,  0.0000,  0.0000)\n",
      "  15 O      6.610770    2.676988    1.242727    ( 0.0000,  0.0000,  0.0000)\n",
      "  16 O      8.300136    5.614597    3.658569    ( 0.0000,  0.0000,  0.0000)\n",
      "  17 O      6.610770    0.260632    1.242726    ( 0.0000,  0.0000,  0.0000)\n",
      "  18 O      1.640017    2.677007    1.172983    ( 0.0000,  0.0000,  0.0000)\n",
      "  19 O      3.329317    3.198222    3.588827    ( 0.0000,  0.0000,  0.0000)\n",
      "  20 P      0.905857    1.468810    1.892724    ( 0.0000,  0.0000,  0.0000)\n",
      "  21 P      4.063635    4.406429    4.308533    ( 0.0000,  0.0000,  0.0000)\n",
      "  22 P      9.033985    4.406430    2.938779    ( 0.0000,  0.0000,  0.0000)\n",
      "  23 P      5.876764    1.468810    0.522972    ( 0.0000,  0.0000,  0.0000)\n",
      "\n",
      "Unit cell:\n",
      "           periodic     x           y           z      points  spacing\n",
      "  1. axis:    yes    9.940120    0.000000    0.000000    54     0.1841\n",
      "  2. axis:    yes    0.000000    5.875240    0.000000    32     0.1836\n",
      "  3. axis:    yes    0.000000    0.000000    4.831570    25     0.1933\n",
      "\n",
      "  Lengths:   9.940120   5.875240   4.831570\n",
      "  Angles:   90.000000  90.000000  90.000000\n",
      "\n",
      "Effective grid spacing dv^(1/3) = 0.1869\n",
      "\n"
     ]
    },
    {
     "name": "stdout",
     "output_type": "stream",
     "text": [
      "     iter     time        total  log10-change:  magmom\n",
      "                         energy  eigst   dens\n",
      "iter:   1 17:14:10  -741.200342                  +19.7103\n",
      "iter:   2 17:15:30  -730.641320  -1.39  -0.83    +19.7393\n",
      "iter:   3 17:16:50  -718.941328  -1.09  -0.91    +19.8195\n",
      "iter:   4 17:18:15  -719.273363  -1.64  -1.24    +19.8741\n",
      "iter:   5 17:19:33  -721.346838  -1.42  -1.42    +19.9618\n",
      "iter:   6 17:20:54  -720.061272  -2.04  -1.53    +20.0110\n",
      "iter:   7 17:22:16  -719.512662  -2.23  -1.85    +19.9971\n",
      "iter:   8 17:23:44  -719.494752  -3.49  -2.34    +20.0037\n",
      "iter:   9 17:25:11  -719.485982c -4.33c -2.46    +20.0027\n",
      "iter:  10 17:26:36  -719.492506c -3.47  -2.61    +20.0008\n",
      "iter:  11 17:28:05  -719.555351  -3.01  -2.46    +20.0012\n",
      "iter:  12 17:29:34  -719.488478  -3.45  -2.17    +20.0010\n",
      "iter:  13 17:31:00  -719.494322  -4.11c -2.90    +20.0006\n",
      "iter:  14 17:32:32  -719.491150c -5.35c -2.91    +20.0009\n",
      "iter:  15 17:34:01  -719.491652c -5.24c -3.03c   +20.0011\n",
      "\n",
      "Converged after 15 iterations.\n",
      "\n",
      "Dipole moment: (0.002152, -0.000022, -0.000701) |e|*Ang\n",
      "\n",
      "Total magnetic moment: (0.000000, 0.000000, 20.001115)\n",
      "Local magnetic moments:\n",
      "   0 Fe ( 0.000000,  0.000000,  4.367230)\n",
      "   1 Fe ( 0.000000,  0.000000,  4.367202)\n",
      "   2 Fe ( 0.000000,  0.000000,  4.367232)\n",
      "   3 Fe ( 0.000000,  0.000000,  4.367202)\n",
      "   4 O  ( 0.000000,  0.000000,  0.090017)\n",
      "   5 O  ( 0.000000,  0.000000,  0.090071)\n",
      "   6 O  ( 0.000000,  0.000000,  0.090021)\n",
      "   7 O  ( 0.000000,  0.000000,  0.090079)\n",
      "   8 O  ( 0.000000,  0.000000,  0.095653)\n",
      "   9 O  ( 0.000000,  0.000000,  0.095687)\n",
      "  10 O  ( 0.000000,  0.000000,  0.095599)\n",
      "  11 O  ( 0.000000,  0.000000,  0.095637)\n",
      "  12 O  ( 0.000000,  0.000000,  0.125170)\n",
      "  13 O  ( 0.000000,  0.000000,  0.125152)\n",
      "  14 O  ( 0.000000,  0.000000,  0.125174)\n",
      "  15 O  ( 0.000000,  0.000000,  0.125156)\n",
      "  16 O  ( 0.000000,  0.000000,  0.125172)\n",
      "  17 O  ( 0.000000,  0.000000,  0.125154)\n",
      "  18 O  ( 0.000000,  0.000000,  0.125169)\n",
      "  19 O  ( 0.000000,  0.000000,  0.125151)\n",
      "  20 P  ( 0.000000,  0.000000,  0.025417)\n",
      "  21 P  ( 0.000000,  0.000000,  0.025425)\n",
      "  22 P  ( 0.000000,  0.000000,  0.025416)\n",
      "  23 P  ( 0.000000,  0.000000,  0.025423)\n",
      "\n",
      "Energy contributions relative to reference atoms: (reference = -208343.109853)\n",
      "\n",
      "Kinetic:       +260.902152\n",
      "Potential:     -220.713820\n",
      "External:        +0.000000\n",
      "XC:            -759.439056\n",
      "Entropy (-ST):   -0.000032\n",
      "Local:           -0.240912\n",
      "--------------------------\n",
      "Free energy:   -719.491668\n",
      "Extrapolated:  -719.491652\n",
      "\n",
      "Spin contamination: 0.044481 electrons\n",
      "Showing only first 2 kpts\n",
      "                      Up                     Down\n",
      " Kpt  Band  Eigenvalues  Occupancy  Eigenvalues  Occupancy\n",
      "  0    72      1.57582    1.00000      5.15632    0.00000\n",
      "  0    73      1.68234    1.00000      5.17870    0.00000\n",
      "  0    74      1.85941    1.00000      5.18146    0.00000\n",
      "  0    75      1.93767    1.00000      5.26372    0.00000\n",
      "\n",
      "  1    72      1.56632    1.00000      5.24105    0.00000\n",
      "  1    73      1.72700    1.00000      5.28520    0.00000\n",
      "  1    74      1.81328    1.00000      5.28714    0.00000\n",
      "  1    75      1.93843    1.00000      5.31379    0.00000\n",
      "\n",
      "\n",
      "Fermi levels: 5.06534, 3.65745\n",
      "\n",
      "-719.4916523683381\n"
     ]
    }
   ],
   "source": [
    "calc = GPAW(**params_GPAW)\n",
    "fepo4.calc = calc\n",
    "epot_fepo4_cell = fepo4.get_potential_energy()\n",
    "print(epot_fepo4_cell)\n",
    "write('fepo4_out.traj', fepo4)\n"
   ]
  },
  {
   "cell_type": "markdown",
   "metadata": {},
   "source": [
    "\n",
    "You will use the ensemble capability of the BEEF-vdW functional. You will need this later so you should write it to file so you do not have to start all over again later. Start by obtaining the required data from the calculator, i.e., the individual energy of each term in the BEEF-vdW functional expansion. Get the energy difference compared to BEEF-vdW for 2000 ensemble functionals.\n"
   ]
  },
  {
   "cell_type": "code",
   "execution_count": 15,
   "metadata": {},
   "outputs": [
    {
     "name": "stdout",
     "output_type": "stream",
     "text": [
      "beefvdw ensemble started\n",
      "beefvdw ensemble finished\n"
     ]
    }
   ],
   "source": [
    "from ase.dft.bee import BEEFEnsemble\n",
    "\n",
    "ens = BEEFEnsemble(calc)\n",
    "dE = ens.get_ensemble_energies(2000)\n"
   ]
  },
  {
   "cell_type": "markdown",
   "metadata": {},
   "source": [
    "\n",
    "Print the energy differences to file. This is not the most efficient way of printing to file but can allow easier subsequent data treatment.\n"
   ]
  },
  {
   "cell_type": "code",
   "execution_count": 16,
   "metadata": {},
   "outputs": [],
   "source": [
    "with paropen('ensemble_fepo4.dat', 'a') as result:\n",
    "    for e in dE:\n",
    "        print(e, file=result)\n"
   ]
  },
  {
   "cell_type": "markdown",
   "metadata": {},
   "source": [
    "\n",
    "You now have what you need to make a full script. Make it in the cell below and execute it to make sure the script runs. Once you have made sure the calculation is able to run, stop it by `interupt the kernel`.\n"
   ]
  },
  {
   "cell_type": "code",
   "execution_count": null,
   "metadata": {},
   "outputs": [],
   "source": [
    "# %%writefile 'fepo4.py'\n",
    "from ase.parallel import paropen\n",
    "from ase.io import read, write\n",
    "from ase.dft.bee import BEEFEnsemble\n",
    "from gpaw import GPAW, FermiDirac, Mixer, PW\n",
    "\n",
    "# Read in the structure you made and wrote to file above\n",
    "fepo4 = read('fepo4.traj')\n",
    "\n",
    "# params_GPAW = {...}\n",
    "\n",
    "# do calculation ...\n",
    "# BEEF ...\n",
    "# write ensemble_fepo4.dat file ...\n",
    "\n",
    "write('fepo4_out.traj', fepo4)\n",
    "\n",
    "\n",
    "# Teacher:\n",
    "from ase.parallel import paropen\n",
    "from ase.io import read, write\n",
    "from ase.io.trajectory import Trajectory\n",
    "from ase.dft.bee import BEEFEnsemble\n",
    "from gpaw import GPAW, FermiDirac, Mixer, PW\n",
    "fepo4 = read('fepo4.traj')\n",
    "\n",
    "params_GPAW = {}\n",
    "params_GPAW['mode']        = PW(500)                     #The used plane wave energy cutoff\n",
    "params_GPAW['nbands']      = -40                           #The number on empty bands had the system been spin-paired\n",
    "params_GPAW['kpts']        = {'size':  (2,4,5),            #The k-point mesh\n",
    "                              'gamma': True}\n",
    "params_GPAW['spinpol']     = True                          #Performing spin polarized calculations\n",
    "params_GPAW['xc']          = 'BEEF-vdW'                    #The used exchange-correlation functional\n",
    "params_GPAW['occupations'] = FermiDirac(width = 0.1,      #The smearing\n",
    "                                        fixmagmom = True)  #Total magnetic moment fixed to the initial value\n",
    "params_GPAW['convergence'] = {'eigenstates': 1.0e-4,       #eV^2 / electron\n",
    "                              'energy':      2.0e-4,       #eV / electron\n",
    "                              'density':     1.0e-3,}\n",
    "params_GPAW['mixer']       = Mixer(0.1, 5, weight=100.0)   #The mixer used during SCF optimization\n",
    "params_GPAW['setups']      = {'Fe': ':d,4.3'}              #U=4.3 applied to d orbitals\n",
    "\n",
    "calc = GPAW(**params_GPAW)\n",
    "fepo4.calc = calc\n",
    "epot_fepo4_cell=fepo4.get_potential_energy()\n",
    "print('E_Pot=', epot_fepo4_cell)\n",
    "\n",
    "write('fepo4_out.traj', fepo4)\n",
    "\n",
    "ens = BEEFEnsemble(calc)\n",
    "dE = ens.get_ensemble_energies(2000)\n",
    "\n",
    "with paropen('ensemble_fepo4.dat', 'a') as result:\n",
    "    for e in dE:\n",
    "        print(e, file=result)"
   ]
  },
  {
   "cell_type": "markdown",
   "metadata": {},
   "source": [
    "\n",
    "Uncomment the `%%writefile` line and execute the cell again and submit the calculation to the HPC cluster. The calculation should take around 10 minutes.\n"
   ]
  },
  {
   "cell_type": "code",
   "execution_count": null,
   "metadata": {},
   "outputs": [],
   "source": [
    "!mq submit fepo4.py -R 8:1h  # submits the calculation to 8 cores, 1 hour"
   ]
  },
  {
   "cell_type": "markdown",
   "metadata": {},
   "source": [
    "\n",
    "Run the below cell to examine the status of your calculation. If no output is returned, the calculation has either finished or failed.\n"
   ]
  },
  {
   "cell_type": "code",
   "execution_count": null,
   "metadata": {},
   "outputs": [],
   "source": [
    "!mq ls"
   ]
  },
  {
   "cell_type": "markdown",
   "metadata": {},
   "source": [
    "\n",
    "Once the calculation begins, you can run the cells below to open the error log and output of the calculation in a new window. This can be done while the calculation is running.\n"
   ]
  },
  {
   "cell_type": "code",
   "execution_count": null,
   "metadata": {},
   "outputs": [],
   "source": [
    "# Error log\n",
    "!cat \"$(ls -t fepo4.py.*err | head -1)\""
   ]
  },
  {
   "cell_type": "code",
   "execution_count": null,
   "metadata": {},
   "outputs": [],
   "source": [
    "# Output\n",
    "!cat \"$(ls -t fepo4.py.*out | head -1)\""
   ]
  },
  {
   "cell_type": "markdown",
   "metadata": {},
   "source": [
    "\n",
    "Once the calculation has finished, load in the result. You can skip past this cell and return later.\n"
   ]
  },
  {
   "cell_type": "code",
   "execution_count": null,
   "metadata": {},
   "outputs": [],
   "source": [
    "try:\n",
    "    fepo4 = read('fepo4_out.traj')\n",
    "    print('Calculation finished')\n",
    "except FileNotFoundError:\n",
    "    print('Calculation has not yet finished')"
   ]
  },
  {
   "cell_type": "markdown",
   "metadata": {},
   "source": [
    "\n",
    "## LiFePO$_4$\n",
    "\n",
    "\n"
   ]
  },
  {
   "cell_type": "markdown",
   "metadata": {},
   "source": [
    "\n",
    "You will now do similar for LiFePO$_4$. In this case you will load in a template structure called `lifepo4_wo_li.traj` missing only the Li atoms. It is located in the resources folder.\n"
   ]
  },
  {
   "cell_type": "code",
   "execution_count": 2,
   "metadata": {},
   "outputs": [],
   "source": [
    "lifepo4_wo_li = read('lifepo4_wo_li.traj')"
   ]
  },
  {
   "cell_type": "markdown",
   "metadata": {},
   "source": [
    "\n",
    "Visualize the structure.\n"
   ]
  },
  {
   "cell_type": "code",
   "execution_count": 3,
   "metadata": {},
   "outputs": [
    {
     "data": {
      "text/plain": [
       "<subprocess.Popen at 0x7f4ba066a2b0>"
      ]
     },
     "execution_count": 3,
     "metadata": {},
     "output_type": "execute_result"
    }
   ],
   "source": [
    "view(lifepo4_wo_li)"
   ]
  },
  {
   "cell_type": "markdown",
   "metadata": {},
   "source": [
    "\n",
    "You should now add Li into the structure using the fractional coordinates below:\n"
   ]
  },
  {
   "cell_type": "code",
   "execution_count": null,
   "metadata": {},
   "outputs": [],
   "source": [
    "# Li  0    0    0\n",
    "# Li  0    0.5  0\n",
    "# Li  0.5  0.5  0.5\n",
    "# Li  0.5  0    0.5\n"
   ]
  },
  {
   "cell_type": "markdown",
   "metadata": {},
   "source": [
    "\n",
    "Add Li atoms into the structure, e.g., by following the example in [this ASE tutorial](https://wiki.fysik.dtu.dk/ase/tutorials/manipulating_atoms.html?highlight=set_cell#manipulating-atoms).\n"
   ]
  },
  {
   "cell_type": "code",
   "execution_count": 4,
   "metadata": {},
   "outputs": [],
   "source": [
    "from numpy import identity\n",
    "from ase import Atom\n",
    "\n",
    "cell = lifepo4_wo_li.get_cell()\n",
    "\n",
    "# ...\n",
    "\n",
    "# lifepo4 = lifepo4_wo_li.copy()\n",
    "\n",
    "# Teacher:\n",
    "from numpy import identity\n",
    "from ase import Atom\n",
    "\n",
    "lifepo4 = lifepo4_wo_li.copy()\n",
    "cell = lifepo4.get_cell()\n",
    "xyzcell = identity(3)\n",
    "lifepo4.set_cell(xyzcell, scale_atoms=True)  # Set the unit cell and rescale\n",
    "lifepo4.append(Atom('Li', (0, 0, 0)))\n",
    "lifepo4.append(Atom('Li', (0, 0.5, 0)))\n",
    "lifepo4.append(Atom('Li', (0.5, 0.5, 0.5)))\n",
    "lifepo4.append(Atom('Li', (0.5, 0, 0.5)))\n",
    "lifepo4.set_cell(cell, scale_atoms=True)"
   ]
  },
  {
   "cell_type": "markdown",
   "metadata": {},
   "source": [
    "\n",
    "Visualize the structure with added Li.\n"
   ]
  },
  {
   "cell_type": "code",
   "execution_count": 5,
   "metadata": {},
   "outputs": [
    {
     "data": {
      "text/plain": [
       "<subprocess.Popen at 0x7f4ba0664bb0>"
      ]
     },
     "execution_count": 5,
     "metadata": {},
     "output_type": "execute_result"
    }
   ],
   "source": [
    "view(lifepo4)"
   ]
  },
  {
   "cell_type": "markdown",
   "metadata": {},
   "source": [
    "\n",
    "Ensure that the magnetic moments are as they should be, once again assuming ferromagnetism for simplicity.\n"
   ]
  },
  {
   "cell_type": "code",
   "execution_count": 6,
   "metadata": {},
   "outputs": [
    {
     "name": "stdout",
     "output_type": "stream",
     "text": [
      "[4. 4. 4. 4. 0. 0. 0. 0. 0. 0. 0. 0. 0. 0. 0. 0. 0. 0. 0. 0. 0. 0. 0. 0.\n",
      " 0. 0. 0. 0.]\n"
     ]
    }
   ],
   "source": [
    "# ...\n",
    "\n",
    "# teacher\n",
    "print(lifepo4.get_initial_magnetic_moments())"
   ]
  },
  {
   "cell_type": "markdown",
   "metadata": {},
   "source": [
    "\n",
    "At this point you should save your structure by writing it to a trajectory file.\n"
   ]
  },
  {
   "cell_type": "code",
   "execution_count": 7,
   "metadata": {},
   "outputs": [],
   "source": [
    "write('lifepo4.traj', lifepo4)"
   ]
  },
  {
   "cell_type": "markdown",
   "metadata": {},
   "source": [
    "\n",
    "You should now calculate the potential energy of this sytem using the method and same calculational parameters as for FePO$_4$ above. Make a full script in the cell below similar to what you did above for FePO$_4$ and make sure that it runs.\n"
   ]
  },
  {
   "cell_type": "code",
   "execution_count": 9,
   "metadata": {},
   "outputs": [
    {
     "name": "stdout",
     "output_type": "stream",
     "text": [
      "Writing lifepo4.py\n"
     ]
    }
   ],
   "source": [
    "%%writefile 'lifepo4.py'\n",
    "from ase.parallel import paropen\n",
    "from ase.io import read, write\n",
    "from ase.dft.bee import BEEFEnsemble\n",
    "from gpaw import GPAW, FermiDirac, Mixer, PW\n",
    "\n",
    "# Read in the structure you made and wrote to file above\n",
    "lifepo4 = read('lifepo4.traj')\n",
    "\n",
    "# params_GPAW = {...}\n",
    "\n",
    "# ...\n",
    "# ...\n",
    "# ...\n",
    "\n",
    "# write('lifepo4_out.traj', lifepo4)\n",
    "\n",
    "# teacher\n",
    "from ase.parallel import paropen\n",
    "from ase.io import read\n",
    "from ase.io.trajectory import Trajectory\n",
    "from ase.dft.bee import BEEFEnsemble\n",
    "from gpaw import GPAW, FermiDirac, Mixer, PW\n",
    "\n",
    "#Read in the structure you made and wrote to file above\n",
    "lifepo4 = read('lifepo4.traj')\n",
    "\n",
    "params_GPAW = {}\n",
    "params_GPAW['mode']        = PW(500)                     #The used plane wave energy cutoff\n",
    "params_GPAW['nbands']      = -40                           #The number on empty bands had the system been spin-paired\n",
    "params_GPAW['kpts']        = {'size':  (2,4,5),            #The k-point mesh\n",
    "                              'gamma': True}\n",
    "params_GPAW['spinpol']     = True                          #Performing spin polarized calculations\n",
    "params_GPAW['xc']          = 'BEEF-vdW'                    #The used exchange-correlation functional\n",
    "params_GPAW['occupations'] = FermiDirac(width = 0.1,      #The smearing\n",
    "                                        fixmagmom = True)  #Total magnetic moment fixed to the initial value\n",
    "params_GPAW['convergence'] = {'eigenstates': 1.0e-4,       #eV^2 / electron\n",
    "                              'energy':      2.0e-4,       #eV / electron\n",
    "                              'density':     1.0e-3,}\n",
    "params_GPAW['mixer']       = Mixer(0.1, 5, weight=100.0)   #The mixer used during SCF optimization\n",
    "params_GPAW['setups']      = {'Fe': ':d,4.3'}              #U=4.3 applied to d orbitals\n",
    "\n",
    "calc = GPAW(**params_GPAW)\n",
    "lifepo4.calc = calc\n",
    "epot_lifepo4_cell=lifepo4.get_potential_energy()\n",
    "print('E_Pot=', epot_lifepo4_cell)\n",
    "\n",
    "traj=Trajectory('lifepo4_out.traj', mode='w', atoms=lifepo4)\n",
    "traj.write()\n",
    "\n",
    "ens = BEEFEnsemble(calc)\n",
    "dE = ens.get_ensemble_energies(2000)\n",
    "result = paropen('ensemble_lifepo4.dat','a')\n",
    "for e in dE:\n",
    "    print(e, file=result)\n",
    "result.close()"
   ]
  },
  {
   "cell_type": "markdown",
   "metadata": {},
   "source": [
    "\n",
    "If the code runs, submit to the HPC cluster as you did above. The calculation takes approximately 10 minutes.\n"
   ]
  },
  {
   "cell_type": "code",
   "execution_count": 10,
   "metadata": {},
   "outputs": [
    {
     "name": "stdout",
     "output_type": "stream",
     "text": [
      "13907623 ./ lifepo4.py 8:1h\r\n",
      "1 task submitted\r\n"
     ]
    }
   ],
   "source": [
    "!mq submit lifepo4.py -R 8:1h  # submits the calculation to 8 cores, 1 hour"
   ]
  },
  {
   "cell_type": "markdown",
   "metadata": {},
   "source": [
    "\n",
    "Run the below cell to examine the status of your calculation. If no output is returned, the calculation has either finished or failed.\n"
   ]
  },
  {
   "cell_type": "code",
   "execution_count": 11,
   "metadata": {},
   "outputs": [
    {
     "name": "stdout",
     "output_type": "stream",
     "text": [
      "id       folder name       res.  age state  time\r\n",
      "-------- ------ ---------- ---- ---- ------ ----\r\n",
      "13907623 ./     lifepo4.py 8:1h 0:03 queued 0:00\r\n",
      "-------- ------ ---------- ---- ---- ------ ----\r\n",
      "queued: 1, total: 1\r\n"
     ]
    }
   ],
   "source": [
    "!mq ls"
   ]
  },
  {
   "cell_type": "markdown",
   "metadata": {},
   "source": [
    "\n",
    "Once the calculation begins, you can run the cells below to open the error log and output of the calculation in a new window.\n"
   ]
  },
  {
   "cell_type": "code",
   "execution_count": 12,
   "metadata": {},
   "outputs": [
    {
     "name": "stdout",
     "output_type": "stream",
     "text": [
      "Modules Release 4.8.0 (2021-07-14)\r\n",
      "DCC-SW: Added modules (2021-nov/XeonE5-2660v3)\r\n",
      "DCC-SW: Removed standard modules: /apps/dcc/etc/ModulesSL73/modulefiles\r\n",
      "DCC-SW: Using gnu/11.2.0 compiler\r\n",
      "DCC-SW: Released modules (2021-nov/XeonE5-2660v3)\r\n",
      "DCC-SW: Added modules (2020-aug/XeonE5-2660v3)\r\n",
      "DCC-SW: Removed standard modules: /apps/dcc/etc/ModulesSL73/modulefiles\r\n",
      "DCC-SW: Using gnu/9.3.0 compiler\r\n",
      "DCC-SW: Released modules (2020-aug/XeonE5-2660v3)\r\n",
      "Modules Release 4.8.0 (2021-07-14)\r\n",
      "DCC-SW: Added modules (2021-nov/XeonE5-2660v3)\r\n",
      "DCC-SW: Removed standard modules: /apps/dcc/etc/ModulesSL73/modulefiles\r\n",
      "DCC-SW: Using gnu/11.2.0 compiler\r\n",
      "DCC-SW: Released modules (2021-nov/XeonE5-2660v3)\r\n",
      "DCC-SW: Added modules (2020-aug/XeonE5-2660v3)\r\n",
      "DCC-SW: Removed standard modules: /apps/dcc/etc/ModulesSL73/modulefiles\r\n",
      "DCC-SW: Using gnu/9.3.0 compiler\r\n",
      "DCC-SW: Released modules (2020-aug/XeonE5-2660v3)\r\n",
      "Modules Release 4.3.0 (2019-07-26)\r\n",
      "DCC-SW: Added modules (2021-nov/XeonE5-2660v3)\r\n",
      "DCC-SW: Removed standard modules: /apps/dcc/etc/ModulesSL73/modulefiles\r\n",
      "DCC-SW: Using gnu/11.2.0 compiler\r\n",
      "DCC-SW: Released modules (2021-nov/XeonE5-2660v3)\r\n",
      "DCC-SW: Added modules (2020-aug/XeonE5-2660v3)\r\n",
      "DCC-SW: Removed standard modules: /apps/dcc/etc/ModulesSL73/modulefiles\r\n",
      "DCC-SW: Using gnu/9.3.0 compiler\r\n"
     ]
    }
   ],
   "source": [
    "# Error log\n",
    "!cat \"$(ls -t lifepo4.py.*err | head -1)\""
   ]
  },
  {
   "cell_type": "code",
   "execution_count": 13,
   "metadata": {},
   "outputs": [
    {
     "name": "stdout",
     "output_type": "stream",
     "text": [
      "venv: /zhome/fa/5/1000203270/CAMD2022/venv/bin/activate\r\n"
     ]
    }
   ],
   "source": [
    "# Output\n",
    "!cat \"$(ls -t lifepo4.py.*out | head -1)\""
   ]
  },
  {
   "cell_type": "markdown",
   "metadata": {},
   "source": [
    "\n",
    "When calculation has finished, load in the result. You can skip past this cell and return later.\n"
   ]
  },
  {
   "cell_type": "code",
   "execution_count": 14,
   "metadata": {},
   "outputs": [
    {
     "name": "stdout",
     "output_type": "stream",
     "text": [
      "Calculation has not yet finished\n"
     ]
    }
   ],
   "source": [
    "try:\n",
    "    lifepo4=read('lifepo4_out.traj')\n",
    "    print('Calculation finished')\n",
    "except FileNotFoundError:\n",
    "    print('Calculation has not yet finished')"
   ]
  },
  {
   "cell_type": "markdown",
   "metadata": {},
   "source": [
    "\n",
    "### Li metal\n",
    "\n",
    "We use a Li metal reference to calculate the equilibrium potential. On exercise day 2 you used a Li metal reference to calculate the intercalation energy in the graphite anode. The approach is similar here. Just read in the result of the calculation with DFTD3 and attach a new calulator to it.\n"
   ]
  },
  {
   "cell_type": "code",
   "execution_count": 17,
   "metadata": {},
   "outputs": [
    {
     "ename": "FileNotFoundError",
     "evalue": "[Errno 2] No such file or directory: 'Li-metal-DFTD3.traj'",
     "output_type": "error",
     "traceback": [
      "\u001b[0;31m---------------------------------------------------------------------------\u001b[0m",
      "\u001b[0;31mFileNotFoundError\u001b[0m                         Traceback (most recent call last)",
      "\u001b[0;32m<ipython-input-17-7449cd5ad82c>\u001b[0m in \u001b[0;36m<module>\u001b[0;34m\u001b[0m\n\u001b[1;32m      3\u001b[0m \u001b[0;32mfrom\u001b[0m \u001b[0mase\u001b[0m\u001b[0;34m.\u001b[0m\u001b[0mio\u001b[0m \u001b[0;32mimport\u001b[0m \u001b[0mread\u001b[0m\u001b[0;34m\u001b[0m\u001b[0;34m\u001b[0m\u001b[0m\n\u001b[1;32m      4\u001b[0m \u001b[0;34m\u001b[0m\u001b[0m\n\u001b[0;32m----> 5\u001b[0;31m \u001b[0mli_metal\u001b[0m \u001b[0;34m=\u001b[0m \u001b[0mread\u001b[0m\u001b[0;34m(\u001b[0m\u001b[0;34m'Li-metal-DFTD3.traj'\u001b[0m\u001b[0;34m)\u001b[0m  \u001b[0;31m# Change file name accordingly\u001b[0m\u001b[0;34m\u001b[0m\u001b[0;34m\u001b[0m\u001b[0m\n\u001b[0m\u001b[1;32m      6\u001b[0m \u001b[0;34m\u001b[0m\u001b[0m\n\u001b[1;32m      7\u001b[0m calc = GPAW(mode=PW(500),\n",
      "\u001b[0;32m~/CAMD2022/venv/ase/ase/io/formats.py\u001b[0m in \u001b[0;36mread\u001b[0;34m(filename, index, format, parallel, do_not_split_by_at_sign, **kwargs)\u001b[0m\n\u001b[1;32m    764\u001b[0m     \u001b[0;32mif\u001b[0m \u001b[0mindex\u001b[0m \u001b[0;32mis\u001b[0m \u001b[0;32mNone\u001b[0m\u001b[0;34m:\u001b[0m\u001b[0;34m\u001b[0m\u001b[0;34m\u001b[0m\u001b[0m\n\u001b[1;32m    765\u001b[0m         \u001b[0mindex\u001b[0m \u001b[0;34m=\u001b[0m \u001b[0;34m-\u001b[0m\u001b[0;36m1\u001b[0m\u001b[0;34m\u001b[0m\u001b[0;34m\u001b[0m\u001b[0m\n\u001b[0;32m--> 766\u001b[0;31m     \u001b[0mformat\u001b[0m \u001b[0;34m=\u001b[0m \u001b[0mformat\u001b[0m \u001b[0;32mor\u001b[0m \u001b[0mfiletype\u001b[0m\u001b[0;34m(\u001b[0m\u001b[0mfilename\u001b[0m\u001b[0;34m,\u001b[0m \u001b[0mread\u001b[0m\u001b[0;34m=\u001b[0m\u001b[0misinstance\u001b[0m\u001b[0;34m(\u001b[0m\u001b[0mfilename\u001b[0m\u001b[0;34m,\u001b[0m \u001b[0mstr\u001b[0m\u001b[0;34m)\u001b[0m\u001b[0;34m)\u001b[0m\u001b[0;34m\u001b[0m\u001b[0;34m\u001b[0m\u001b[0m\n\u001b[0m\u001b[1;32m    767\u001b[0m \u001b[0;34m\u001b[0m\u001b[0m\n\u001b[1;32m    768\u001b[0m     \u001b[0mio\u001b[0m \u001b[0;34m=\u001b[0m \u001b[0mget_ioformat\u001b[0m\u001b[0;34m(\u001b[0m\u001b[0mformat\u001b[0m\u001b[0;34m)\u001b[0m\u001b[0;34m\u001b[0m\u001b[0;34m\u001b[0m\u001b[0m\n",
      "\u001b[0;32m~/CAMD2022/venv/ase/ase/io/formats.py\u001b[0m in \u001b[0;36mfiletype\u001b[0;34m(filename, read, guess)\u001b[0m\n\u001b[1;32m    955\u001b[0m \u001b[0;34m\u001b[0m\u001b[0m\n\u001b[1;32m    956\u001b[0m         \u001b[0;32mif\u001b[0m \u001b[0morig_filename\u001b[0m \u001b[0;34m==\u001b[0m \u001b[0mfilename\u001b[0m\u001b[0;34m:\u001b[0m\u001b[0;34m\u001b[0m\u001b[0;34m\u001b[0m\u001b[0m\n\u001b[0;32m--> 957\u001b[0;31m             \u001b[0mfd\u001b[0m \u001b[0;34m=\u001b[0m \u001b[0mopen_with_compression\u001b[0m\u001b[0;34m(\u001b[0m\u001b[0mfilename\u001b[0m\u001b[0;34m,\u001b[0m \u001b[0;34m'rb'\u001b[0m\u001b[0;34m)\u001b[0m\u001b[0;34m\u001b[0m\u001b[0;34m\u001b[0m\u001b[0m\n\u001b[0m\u001b[1;32m    958\u001b[0m         \u001b[0;32melse\u001b[0m\u001b[0;34m:\u001b[0m\u001b[0;34m\u001b[0m\u001b[0;34m\u001b[0m\u001b[0m\n\u001b[1;32m    959\u001b[0m             \u001b[0mfd\u001b[0m \u001b[0;34m=\u001b[0m \u001b[0morig_filename\u001b[0m  \u001b[0;31m# type: ignore\u001b[0m\u001b[0;34m\u001b[0m\u001b[0;34m\u001b[0m\u001b[0m\n",
      "\u001b[0;32m~/CAMD2022/venv/ase/ase/io/formats.py\u001b[0m in \u001b[0;36mopen_with_compression\u001b[0;34m(filename, mode)\u001b[0m\n\u001b[1;32m    586\u001b[0m     \u001b[0;32melse\u001b[0m\u001b[0;34m:\u001b[0m\u001b[0;34m\u001b[0m\u001b[0;34m\u001b[0m\u001b[0m\n\u001b[1;32m    587\u001b[0m         \u001b[0;31m# Either None or unknown string\u001b[0m\u001b[0;34m\u001b[0m\u001b[0;34m\u001b[0m\u001b[0;34m\u001b[0m\u001b[0m\n\u001b[0;32m--> 588\u001b[0;31m         \u001b[0;32mreturn\u001b[0m \u001b[0mopen\u001b[0m\u001b[0;34m(\u001b[0m\u001b[0mfilename\u001b[0m\u001b[0;34m,\u001b[0m \u001b[0mmode\u001b[0m\u001b[0;34m)\u001b[0m\u001b[0;34m\u001b[0m\u001b[0;34m\u001b[0m\u001b[0m\n\u001b[0m\u001b[1;32m    589\u001b[0m \u001b[0;34m\u001b[0m\u001b[0m\n\u001b[1;32m    590\u001b[0m \u001b[0;34m\u001b[0m\u001b[0m\n",
      "\u001b[0;31mFileNotFoundError\u001b[0m: [Errno 2] No such file or directory: 'Li-metal-DFTD3.traj'"
     ]
    }
   ],
   "source": [
    "from ase import Atoms\n",
    "from gpaw import GPAW, FermiDirac, PW\n",
    "from ase.io import read\n",
    "\n",
    "li_metal = read('Li-metal-DFTD3.traj')  # Change file name accordingly\n",
    "\n",
    "calc = GPAW(mode=PW(500),\n",
    "            kpts=(8, 8, 8),\n",
    "            occupations=FermiDirac(0.15),\n",
    "            nbands=-10,\n",
    "            txt=None,\n",
    "            xc='BEEF-vdW')\n",
    "\n",
    "li_metal.calc = calc\n",
    "li_metal.get_potential_energy()\n",
    "li_metal.write('li_metal.traj')"
   ]
  },
  {
   "cell_type": "markdown",
   "metadata": {},
   "source": [
    "\n",
    "Now calculate the ensemble in the same way as for FePO$_4$ and LiFePO$_4$.\n"
   ]
  },
  {
   "cell_type": "code",
   "execution_count": null,
   "metadata": {},
   "outputs": [],
   "source": [
    "ens = BEEFEnsemble(calc)\n",
    "li_metal_ens_cell= ens.get_ensemble_energies(2000)\n",
    "with paropen('ensemble_li_metal.dat', 'a') as result:\n",
    "    for e in li_metal_ens_cell:\n",
    "        print(e, file=result)"
   ]
  },
  {
   "cell_type": "markdown",
   "metadata": {},
   "source": [
    "\n",
    "## Calculate equilibrium potential and uncertainty\n"
   ]
  },
  {
   "cell_type": "markdown",
   "metadata": {},
   "source": [
    "\n",
    "You can now calculate the equilibrium potential for the case of a FePO$_4$/Li metal battery from the intercallation energy of Li in FePO$_4$. For simplicity, use that assumption that all vibrational energies and entropic terms cancel each other. You should now have completed all submitted calculations before you proceed.\n"
   ]
  },
  {
   "cell_type": "markdown",
   "metadata": {},
   "source": [
    "\n",
    "The calculated energies are for the full cells. Convert them to the energy per formula unit. The [len(...)](https://docs.python.org/3.6/library/functions.html#len) function can be quite helpful for this.\n"
   ]
  },
  {
   "cell_type": "code",
   "execution_count": null,
   "metadata": {},
   "outputs": [],
   "source": [
    "epot_fepo4_cell=fepo4.get_potential_energy()\n",
    "epot_lifepo4_cell=lifepo4.get_potential_energy()\n",
    "epot_li_metal_cell=li_metal.get_potential_energy()\n",
    "print('epot_fepo4_cell =', epot_fepo4_cell)\n",
    "print('epot_lifepo4_cell =', epot_lifepo4_cell)\n",
    "print('epot_li_metal_cell =', epot_li_metal_cell)"
   ]
  },
  {
   "cell_type": "code",
   "execution_count": null,
   "metadata": {},
   "outputs": [],
   "source": [
    "epot_fepo4 = epot_fepo4_cell / len(fepo4) * 6  # student: epot_fepo4 = ...\n",
    "epot_lifepo4 = epot_lifepo4_cell / len(lifepo4) * 7  # student: epot_lifepo4 = ...\n",
    "epot_li_metal = epot_li_metal_cell / len(li_metal)  # student: epot_li_metal = ...\n",
    "# print(epot_fepo4, ...)"
   ]
  },
  {
   "cell_type": "markdown",
   "metadata": {},
   "source": [
    "\n",
    "No calculate the equilibrium potential under the assumption that it is given by $V_{eq} = \\Delta U /e $, where $U$ is the electronic potential energy of the system and $e$ is the number of electrons transfered.\n"
   ]
  },
  {
   "cell_type": "code",
   "execution_count": null,
   "metadata": {},
   "outputs": [],
   "source": [
    "# V_eq = ...\n",
    "\n",
    "# teacher\n",
    "V_eq = epot_lifepo4 - epot_fepo4 - epot_li_metal\n",
    "print(V_eq)"
   ]
  },
  {
   "cell_type": "markdown",
   "metadata": {},
   "source": [
    "\n",
    "You will now calculate the error estimate for the Li intercallation energy in FePO$_4$ using the BEEF ensemble results. Start by loading in the files. Wait a few minutes and rerun the cell if the number is not 2000 for all of them.\n"
   ]
  },
  {
   "cell_type": "code",
   "execution_count": null,
   "metadata": {},
   "outputs": [],
   "source": [
    "fepo4_ens_cell = np.genfromtxt('ensemble_fepo4.dat')\n",
    "lifepo4_ens_cell = np.genfromtxt('ensemble_lifepo4.dat')\n",
    "\n",
    "print('number of functionals in ensemble=', len(fepo4_ens_cell))\n",
    "print('number of functionals in ensemble=', len(lifepo4_ens_cell))\n",
    "print('number of functionals in ensemble=', len(li_metal_ens_cell))"
   ]
  },
  {
   "cell_type": "markdown",
   "metadata": {},
   "source": [
    "\n",
    "Note that these are energies per cell and not per formula unit. Convert them as you did the potential energies above. Note that you are now performing the operation on a list of length 2000 and not a single float value as before.\n"
   ]
  },
  {
   "cell_type": "code",
   "execution_count": null,
   "metadata": {},
   "outputs": [],
   "source": [
    "# fepo4_ens = fepo4_ens_cell / ...\n",
    "# ...\n",
    "# ...\n",
    "\n",
    "# teacher\n",
    "fepo4_ens = fepo4_ens_cell / len(fepo4) * 6\n",
    "lifepo4_ens = lifepo4_ens_cell / len(lifepo4) * 7\n",
    "li_metal_ens = li_metal_ens_cell / len(li_metal)"
   ]
  },
  {
   "cell_type": "markdown",
   "metadata": {},
   "source": [
    "\n",
    "Make a list of equilibrium potentials.\n"
   ]
  },
  {
   "cell_type": "code",
   "execution_count": null,
   "metadata": {},
   "outputs": [],
   "source": [
    "# V_eq_ens = lifepo4_ens - ...\n",
    "\n",
    "# teacher\n",
    "V_eq_ens = lifepo4_ens - fepo4_ens - li_metal_ens"
   ]
  },
  {
   "cell_type": "markdown",
   "metadata": {},
   "source": [
    "\n",
    "Use the plot command below to visualize the distribution.\n"
   ]
  },
  {
   "cell_type": "code",
   "execution_count": null,
   "metadata": {},
   "outputs": [],
   "source": [
    "plt.hist(V_eq_ens, 50)\n",
    "plt.grid(True)"
   ]
  },
  {
   "cell_type": "markdown",
   "metadata": {},
   "source": [
    "\n",
    "Use the [NumPy function standard deviation function](https://docs.scipy.org/doc/numpy/reference/generated/numpy.std.html#numpy-std) to obtain the standard deviation of the ensemble.\n"
   ]
  },
  {
   "cell_type": "code",
   "execution_count": null,
   "metadata": {},
   "outputs": [],
   "source": [
    "# error = ...\n",
    "# print(error)\n",
    "\n",
    "# teacher\n",
    "error = np.std(V_eq_ens)\n",
    "print(error)"
   ]
  },
  {
   "cell_type": "markdown",
   "metadata": {},
   "source": [
    "\n",
    "The equilibrium potential for a FePO$_4$/Li battery is thus as a good estimate:\n"
   ]
  },
  {
   "cell_type": "code",
   "execution_count": null,
   "metadata": {},
   "outputs": [],
   "source": [
    "print(f'{V_eq:.2f} V +- {error:.2f} V')"
   ]
  },
  {
   "cell_type": "markdown",
   "metadata": {},
   "source": [
    "\n",
    "You can get the equilibrium potential for the FePO$_4$/C battery using the intercallation energy of Li in graphite, that you calculated on Day 2. What equilibrium potential do you find? How does that compare to the cell voltage you can obtain from FePO$_4$/C batteries?\n"
   ]
  },
  {
   "cell_type": "code",
   "execution_count": null,
   "metadata": {},
   "outputs": [],
   "source": [
    "# You can use this cell for FePO4/C potential calculation"
   ]
  },
  {
   "cell_type": "markdown",
   "metadata": {},
   "source": [
    "\n",
    "Make sure you are able to discuss the bullet points at the top of this notebook. You can use the cell below for calculations.\n"
   ]
  },
  {
   "cell_type": "code",
   "execution_count": null,
   "metadata": {},
   "outputs": [],
   "source": []
  },
  {
   "cell_type": "markdown",
   "metadata": {},
   "source": [
    "\n",
    "## Bonus\n"
   ]
  },
  {
   "cell_type": "markdown",
   "metadata": {},
   "source": [
    "\n",
    "How does the predicted error estimate change if you consider the full reaction from Li in graphite + FePO4  to empty graphite + LiFePO4.\n"
   ]
  }
 ],
 "metadata": {
  "kernelspec": {
   "display_name": "CAMD2022",
   "language": "python",
   "name": "camd2022"
  },
  "language_info": {
   "codemirror_mode": {
    "name": "ipython",
    "version": 3
   },
   "file_extension": ".py",
   "mimetype": "text/x-python",
   "name": "python",
   "nbconvert_exporter": "python",
   "pygments_lexer": "ipython3",
   "version": "3.8.5"
  }
 },
 "nbformat": 4,
 "nbformat_minor": 1
}
