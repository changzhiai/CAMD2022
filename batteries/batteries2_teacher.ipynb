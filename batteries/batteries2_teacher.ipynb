{
 "cells": [
  {
   "cell_type": "code",
   "execution_count": 25,
   "metadata": {},
   "outputs": [],
   "source": [
    "# teacher\n",
    "import ase.visualize as viz\n",
    "viz.view = lambda atoms, repeat=None: None"
   ]
  },
  {
   "cell_type": "markdown",
   "metadata": {},
   "source": [
    "\n",
    "# Battery project\n"
   ]
  },
  {
   "cell_type": "markdown",
   "metadata": {},
   "source": [
    "\n",
    "## Day 3 - Equilibrium potential\n"
   ]
  },
  {
   "cell_type": "markdown",
   "metadata": {},
   "source": [
    "\n",
    "Today you will study the LiFePO$_4$ cathode. You will calculate the equilibrium potential and use Bayesian error estimation to quantify how sensitive the calculated equilibrium potential is towards choice of functional. After today you should be able to discuss:\n",
    "\n",
    "-  The volume change during charge/discharge.\n",
    "\n",
    "-  The maximum gravimetric and volumetric energy density of a FePO$_4$/C battery assuming the majority of weight and volume will be given by the electrodes.\n",
    "\n",
    "-  Uncertainty in the calculations.\n",
    "\n",
    "Some of calculations you will perform today will be tedious to be run in this notebook. You will automatically submit some calculations to the HPC cluster directly from this notebook. When you have to wait for calculations to finish you can get started on addressing the bullet points above.\n"
   ]
  },
  {
   "cell_type": "markdown",
   "metadata": {},
   "source": [
    "\n",
    "## Initialize\n"
   ]
  },
  {
   "cell_type": "code",
   "execution_count": 21,
   "metadata": {},
   "outputs": [],
   "source": [
    "%matplotlib notebook\n",
    "import numpy as np\n",
    "from ase.visualize import view\n",
    "import matplotlib.pyplot as plt\n",
    "from ase.io import read, write, Trajectory\n",
    "from ase.parallel import paropen\n",
    "from gpaw import GPAW, FermiDirac, Mixer, PW\n",
    "from ase.dft.bee import BEEFEnsemble\n",
    "from ase import Atoms"
   ]
  },
  {
   "cell_type": "markdown",
   "metadata": {},
   "source": [
    "\n",
    "## FePO$_4$\n"
   ]
  },
  {
   "cell_type": "markdown",
   "metadata": {},
   "source": [
    "\n",
    "First we will construct an atoms object for FePO$_4$. ASE can read files from in a large number of different [formats](https://wiki.fysik.dtu.dk/ase/ase/io/io.html?highlight=read%20formats#file-input-and-output). However, in this case you will build it from scratch using the below information:\n"
   ]
  },
  {
   "cell_type": "code",
   "execution_count": null,
   "metadata": {},
   "outputs": [],
   "source": [
    "# Positions:\n",
    "# Fe      2.73015081       1.46880951       4.56541172\n",
    "# Fe      2.23941067       4.40642872       2.14957739\n",
    "# Fe      7.20997230       4.40642925       0.26615813\n",
    "# Fe      7.70070740       1.46880983       2.68199421\n",
    "# O       1.16033403       1.46881052       3.40240205\n",
    "# O       3.80867172       4.40642951       0.98654342\n",
    "# O       8.77981469       4.40642875       1.42923946\n",
    "# O       6.13142032       1.46881092       3.84509827\n",
    "# O       4.37288562       1.46880982       0.81812712\n",
    "# O       0.59764596       4.40643021       3.23442747\n",
    "# O       5.56702590       4.40642886       4.01346264\n",
    "# O       9.34268360       1.46880929       1.59716233\n",
    "# O       1.64001691       0.26061277       1.17298291\n",
    "# O       3.32931769       5.61463705       3.58882629\n",
    "# O       8.30013707       3.19826250       3.65857000\n",
    "# O       6.61076951       2.67698811       1.24272700\n",
    "# O       8.30013642       5.61459688       3.65856912\n",
    "# O       6.61076982       0.26063178       1.24272567\n",
    "# O       1.64001666       2.67700652       1.17298270\n",
    "# O       3.32931675       3.19822249       3.58882660\n",
    "# P       0.90585688       1.46880966       1.89272372\n",
    "# P       4.06363530       4.40642949       4.30853266\n",
    "# P       9.03398503       4.40642957       2.93877879\n",
    "# P       5.87676435       1.46881009       0.52297232\n",
    "\n",
    "\n",
    "# Unit cell:\n",
    "#            periodic     x          y          z    \n",
    "#   1. axis:    yes    9.94012    0.00000    0.00000\n",
    "#   2. axis:    yes    0.00000    5.87524    0.00000\n",
    "#   3. axis:    yes    0.00000    0.00000    4.83157\n"
   ]
  },
  {
   "cell_type": "markdown",
   "metadata": {},
   "source": [
    "\n",
    "You *can* use the cell below as a starting point.\n"
   ]
  },
  {
   "cell_type": "code",
   "execution_count": 4,
   "metadata": {},
   "outputs": [],
   "source": [
    "# fepo4 = Atoms('Fe4O...',\n",
    "#               positions=[[x0, y0, z0],[x1, y1, z1]...],\n",
    "#               cell=[x, y, z],\n",
    "#               pbc=[True, True, True])\n",
    "\n",
    "# Teacher:\n",
    "fepo4 = Atoms('Fe4O16P4',\n",
    "             positions=[[2.73015081, 1.46880951, 4.56541172],\n",
    "                [2.23941067, 4.40642872, 2.14957739],\n",
    "                [7.20997230, 4.40642925, 0.26615813],\n",
    "                [7.70070740, 1.46880983, 2.68199421],\n",
    "                [1.16033403, 1.46881052, 3.40240205],\n",
    "                [3.80867172, 4.40642951, 0.98654342],\n",
    "                [8.77981469, 4.40642875, 1.42923946],\n",
    "                [6.13142032, 1.46881092, 3.84509827],\n",
    "                [4.37288562, 1.46880982, 0.81812712],\n",
    "                [0.59764596, 4.40643021, 3.23442747],\n",
    "                [5.56702590, 4.40642886, 4.01346264],\n",
    "                [9.34268360, 1.46880929, 1.59716233],\n",
    "                [1.64001691, 0.26061277, 1.17298291],\n",
    "                [3.32931769, 5.61463705, 3.58882629],\n",
    "                [8.30013707, 3.19826250, 3.65857000],\n",
    "                [6.61076951, 2.67698811, 1.24272700],\n",
    "                [8.30013642, 5.61459688, 3.65856912],\n",
    "                [6.61076982, 0.26063178, 1.24272567],\n",
    "                [1.64001666, 2.67700652, 1.17298270],\n",
    "                [3.32931675, 3.19822249, 3.58882660],\n",
    "                [0.90585688, 1.46880966, 1.89272372],\n",
    "                [4.06363530, 4.40642949, 4.30853266],\n",
    "                [9.03398503, 4.40642957, 2.93877879],\n",
    "                [5.87676435, 1.46881009, 0.52297232]\n",
    "                        ],\n",
    "             cell=[9.94012, 5.87524, 4.83157],\n",
    "             pbc=[1, 1, 1])"
   ]
  },
  {
   "cell_type": "markdown",
   "metadata": {},
   "source": [
    "\n",
    "Visualize the structure you have made. Explore the different functions in the visualizer and determine the volume of the cell (`View -> Quick Info`).\n"
   ]
  },
  {
   "cell_type": "code",
   "execution_count": 6,
   "metadata": {},
   "outputs": [],
   "source": [
    "view(fepo4)"
   ]
  },
  {
   "cell_type": "markdown",
   "metadata": {},
   "source": [
    "\n",
    "For better convergence of calculations you should specify initial magnetic moments to iron. The iron will in this structure be Fe$^{3+}$ as it donates two *4s* electrons and one *3d* electron to PO$_4$$^{3-}$. What is the magnetic moment of iron? For simplicity you should assume that FePO$_4$ is ferromagnetic.\n"
   ]
  },
  {
   "cell_type": "code",
   "execution_count": 7,
   "metadata": {},
   "outputs": [],
   "source": [
    "# Teacher:\n",
    "for atom in fepo4:\n",
    "    if atom.symbol == 'Fe':\n",
    "        atom.magmom = 5.0  # student: atom.magmom = ?"
   ]
  },
  {
   "cell_type": "markdown",
   "metadata": {},
   "source": [
    "\n",
    "Now examine the initial magnetic moments of the system using an [appropriate method](https://wiki.fysik.dtu.dk/ase/ase/atoms.html?highlight=get_initial#list-of-all-methods).\n"
   ]
  },
  {
   "cell_type": "code",
   "execution_count": 8,
   "metadata": {},
   "outputs": [
    {
     "name": "stdout",
     "output_type": "stream",
     "text": [
      "[5. 5. 5. 5. 0. 0. 0. 0. 0. 0. 0. 0. 0. 0. 0. 0. 0. 0. 0. 0. 0. 0. 0. 0.]\n"
     ]
    }
   ],
   "source": [
    "magmoms = fepo4.get_initial_magnetic_moments()  # student: magmoms = fepo4.xxx()\n",
    "print(magmoms)"
   ]
  },
  {
   "cell_type": "markdown",
   "metadata": {},
   "source": [
    "\n",
    "Write your atoms object to file.\n"
   ]
  },
  {
   "cell_type": "code",
   "execution_count": 9,
   "metadata": {},
   "outputs": [],
   "source": [
    "write('fepo4.traj', fepo4)"
   ]
  },
  {
   "cell_type": "markdown",
   "metadata": {},
   "source": [
    "\n",
    "For this calculation you will use the BEEF-vdW functional developed by [Wellendorff et al.](https://journals.aps.org/prb/abstract/10.1103/PhysRevB.85.235149) Although there are better alternatives for calculating the energy of bulk systems, the BEEF-vdW has a build-in ensemble for error estimation of calculated energies. In the set-up of this calculator you will append relevant keyword values into a dictionary, which is inputted the calculator object.\n"
   ]
  },
  {
   "cell_type": "code",
   "execution_count": 10,
   "metadata": {},
   "outputs": [],
   "source": [
    "params_GPAW = {}"
   ]
  },
  {
   "cell_type": "markdown",
   "metadata": {},
   "source": [
    "\n",
    "To save computational time while keeping the calculations physically sound, the following should be used:\n"
   ]
  },
  {
   "cell_type": "code",
   "execution_count": 11,
   "metadata": {},
   "outputs": [],
   "source": [
    "params_GPAW['mode']        = PW(500)                      # The used plane wave energy cutoff\n",
    "params_GPAW['nbands']      = -40                          # The number on empty bands had the system been spin-paired \n",
    "params_GPAW['kpts']        = {'size': (2, 4, 5),          # The k-point mesh\n",
    "                              'gamma': True}\n",
    "params_GPAW['spinpol']     = True                         # Performing spin polarized calculations\n",
    "params_GPAW['xc']          = 'BEEF-vdW'                   # The used exchange-correlation functional\n",
    "params_GPAW['occupations'] = FermiDirac(width=0.1,        # The smearing\n",
    "                                        fixmagmom=True)   # Total magnetic moment fixed to the initial value\n",
    "params_GPAW['convergence'] = {'eigenstates': 1.0e-4,      # eV^2 / electron\n",
    "                              'energy':      2.0e-4,      # eV / electron\n",
    "                              'density':     1.0e-3}\n",
    "params_GPAW['mixer']       = Mixer(0.1, 5, weight=100.0)  # The mixer used during SCF optimization\n"
   ]
  },
  {
   "cell_type": "markdown",
   "metadata": {},
   "source": [
    "\n",
    "DFT suffers from a so-called self-interaction error. An electron interacts with the system electron density, to which it contributes itself. The error is most pronounced for highly localized orbitals. [Hubbard U correction](https://wiki.fysik.dtu.dk/gpaw/tutorialsexercises/energetics/hubbardu/hubbardu.html) is used to mitigate the self-interaction error of the highly localized *3d*-electrons of Fe. This is done in GPAW using the `setups` keyword.\n"
   ]
  },
  {
   "cell_type": "code",
   "execution_count": 12,
   "metadata": {},
   "outputs": [],
   "source": [
    "params_GPAW['setups']      = {'Fe': ':d,4.3'}             # U=4.3 applied to d orbitals\n"
   ]
  },
  {
   "cell_type": "markdown",
   "metadata": {},
   "source": [
    "\n",
    "Make a GPAW calculator and attach it to the atoms object. Here you will use [get_potential_energy](https://wiki.fysik.dtu.dk/ase/ase/atoms.html#ase.Atoms.get_potential_energy) to start the calculation.\n"
   ]
  },
  {
   "cell_type": "code",
   "execution_count": 13,
   "metadata": {},
   "outputs": [
    {
     "name": "stdout",
     "output_type": "stream",
     "text": [
      "\n",
      "  ___ ___ ___ _ _ _  \n",
      " |   |   |_  | | | | \n",
      " | | | | | . | | | | \n",
      " |__ |  _|___|_____|  22.1.1b1\n",
      " |___|_|             \n",
      "\n",
      "User:   dft22x019@n-62-27-19\n",
      "Date:   Sun Aug 14 17:08:20 2022\n",
      "Arch:   x86_64\n",
      "Pid:    6358\n",
      "CWD:    /zhome/fa/5/1000203270/CAMD2022/batteries\n",
      "Python: 3.8.5\n",
      "gpaw:   /zhome/fa/5/1000203270/CAMD2022/venv/gpaw/gpaw (4191706c58)\n",
      "_gpaw:  /zhome/fa/5/1000203270/CAMD2022/venv/gpaw/\n",
      "        _gpaw.cpython-38-x86_64-linux-gnu.so (88bf7688a8)\n",
      "ase:    /zhome/fa/5/1000203270/CAMD2022/venv/ase/ase (version 3.23.0b1-bcce2b6c57)\n",
      "numpy:  /zhome/fa/5/1000203270/CAMD2022/venv/lib/python3.8/site-packages/numpy (version 1.22.4)\n",
      "scipy:  /zhome/fa/5/1000203270/CAMD2022/venv/lib/python3.8/site-packages/scipy (version 1.8.1)\n",
      "libxc:  4.3.4\n",
      "units:  Angstrom and eV\n",
      "cores: 1\n",
      "OpenMP: False\n",
      "OMP_NUM_THREADS: 1\n",
      "\n",
      "Input parameters:\n",
      "  convergence: {density: 0.001,\n",
      "                eigenstates: 0.0001,\n",
      "                energy: 0.0002}\n",
      "  kpts: {gamma: True,\n",
      "         size: (2, 4, 5)}\n",
      "  mixer: {backend: pulay,\n",
      "          beta: 0.1,\n",
      "          method: separate,\n",
      "          nmaxold: 5,\n",
      "          weight: 100.0}\n",
      "  mode: {ecut: 500.0,\n",
      "         name: pw}\n",
      "  nbands: -40\n",
      "  occupations: {fixmagmom: True,\n",
      "                name: fermi-dirac,\n",
      "                width: 0.1}\n",
      "  setups: {Fe: :d,4.3}\n",
      "  spinpol: True\n",
      "  xc: BEEF-vdW\n",
      "\n",
      "System changes: positions, numbers, cell, pbc, initial_charges, initial_magmoms \n",
      "\n",
      "Initialize ...\n",
      "\n",
      "species:\n",
      "  Fe:\n",
      "    name: Iron\n",
      "    id: 37abbd8d6c3c35915a9b583b742da910\n",
      "    Z: 26.0\n",
      "    valence: 8\n",
      "    core: 18\n",
      "    charge: 0.0\n",
      "    Hubbard: {U: 4.3,  # eV\n",
      "              l: 2,\n",
      "              scale: True}\n",
      "    file: /zhome/86/d/1666/PAW/gpaw-setups-0.9.20000/Fe.PBE.gz\n",
      "    compensation charges: {type: gauss,\n",
      "                           rc: 0.33,\n",
      "                           lmax: 2}\n",
      "    cutoffs: {filter: 2.06,\n",
      "              core: 2.67}\n",
      "    valence states:\n",
      "      #              energy  rcut\n",
      "      - 4s(2.00)    -5.291   1.164\n",
      "      - 4p(0.00)    -1.326   1.058\n",
      "      - 3d(6.00)    -7.505   1.058\n",
      "      -  s          21.920   1.164\n",
      "      -  p          25.885   1.058\n",
      "      -  d          19.706   1.058\n",
      "  \n",
      "    # Using partial waves for Fe as LCAO basis\n",
      "\n",
      "  O:\n",
      "    name: Oxygen\n",
      "    id: 32ecd46bf208036f09c70b0ec9a88b78\n",
      "    Z: 8.0\n",
      "    valence: 6\n",
      "    core: 2\n",
      "    charge: 0.0\n",
      "    file: /zhome/86/d/1666/PAW/gpaw-setups-0.9.20000/O.PBE.gz\n",
      "    compensation charges: {type: gauss,\n",
      "                           rc: 0.21,\n",
      "                           lmax: 2}\n",
      "    cutoffs: {filter: 1.17,\n",
      "              core: 0.83}\n",
      "    valence states:\n",
      "      #              energy  rcut\n",
      "      - 2s(2.00)   -23.961   0.688\n",
      "      - 2p(4.00)    -9.029   0.598\n",
      "      -  s           3.251   0.688\n",
      "      -  p          18.182   0.598\n",
      "      -  d           0.000   0.619\n",
      "  \n",
      "    # Using partial waves for O as LCAO basis\n",
      "\n",
      "  P:\n",
      "    name: Phosphorus\n",
      "    id: 03b4a34d18bb161274a4ee27145ba70a\n",
      "    Z: 15.0\n",
      "    valence: 5\n",
      "    core: 10\n",
      "    charge: 0.0\n",
      "    file: /zhome/86/d/1666/PAW/gpaw-setups-0.9.20000/P.PBE.gz\n",
      "    compensation charges: {type: gauss,\n",
      "                           rc: 0.30,\n",
      "                           lmax: 2}\n",
      "    cutoffs: {filter: 1.69,\n",
      "              core: 1.81}\n",
      "    valence states:\n",
      "      #              energy  rcut\n",
      "      - 3s(2.00)   -13.968   0.953\n",
      "      - 3p(3.00)    -5.506   0.953\n",
      "      -  s          13.244   0.953\n",
      "      -  p          21.705   0.953\n",
      "      -  d           0.000   0.953\n",
      "  \n",
      "    # Using partial waves for P as LCAO basis\n",
      "\n",
      "Reference energy: -208343.109853  # eV\n",
      "\n",
      "Spin-polarized calculation.\n",
      "Magnetic moment: 20.000000\n",
      "\n",
      "Convergence criteria:\n",
      " Maximum [total energy] change in last 3 cyles: 0.0002 eV / electron\n",
      " Maximum integral of absolute [dens]ity change: 0.001 electrons / valence electron\n",
      " Maximum integral of absolute [eigenst]ate change: 0.0001 eV^2 / valence electron\n",
      " Maximum number of scf [iter]ations: 333\n",
      " (Square brackets indicate name in SCF output, whereas a 'c' in\n",
      " the SCF output indicates the quantity has converged.)\n",
      "\n",
      "Symmetries present (total): 1\n",
      "\n",
      "  ( 1  0  0)\n",
      "  ( 0  1  0)\n",
      "  ( 0  0  1)\n",
      "\n",
      "40 k-points: 2 x 4 x 5 Monkhorst-Pack grid + [1/4,1/8,0.000000]\n",
      "22 k-points in the irreducible part of the Brillouin zone\n",
      "       k-points in crystal coordinates                weights\n",
      "   0:     0.00000000    0.00000000    0.00000000          1/40\n",
      "   1:     0.00000000    0.00000000    0.20000000          2/40\n",
      "   2:     0.00000000    0.00000000    0.40000000          2/40\n",
      "   3:     0.00000000    0.25000000   -0.40000000          2/40\n",
      "   4:     0.00000000    0.25000000   -0.20000000          2/40\n",
      "   5:     0.00000000    0.25000000    0.00000000          2/40\n",
      "   6:     0.00000000    0.25000000    0.20000000          2/40\n",
      "   7:     0.00000000    0.25000000    0.40000000          2/40\n",
      "   8:     0.00000000    0.50000000    0.00000000          1/40\n",
      "   9:     0.00000000    0.50000000    0.20000000          2/40\n",
      "          ...\n",
      "  21:     0.50000000    0.50000000    0.40000000          2/40\n",
      "\n",
      "Wave functions: Plane wave expansion\n",
      "  Cutoff energy: 500.000 eV\n",
      "  Number of coefficients (min, max): 7128, 7190\n",
      "  Pulay-stress correction: 0.000000 eV/Ang^3 (de/decut=0.000000)\n",
      "  Using FFTW library\n",
      "  ScaLapack parameters: grid=1x1, blocksize=None\n",
      "  Wavefunction extrapolation:\n",
      "    Improved wavefunction reuse through dual PAW basis \n",
      "\n",
      "Occupation numbers: Fixed magnetic moment: 20.000\n",
      "Fermi-Dirac:\n",
      "  width: 0.1000  # eV\n",
      " \n",
      "\n",
      "Eigensolver\n",
      "   Davidson(niter=2) \n",
      "\n",
      "Densities:\n",
      "  Coarse grid: 54*32*25 grid\n",
      "  Fine grid: 108*64*50 grid\n",
      "  Total Charge: 0.000000 \n",
      "\n",
      "Density mixing:\n",
      "  Method: separate\n",
      "  Backend: pulay\n",
      "  Linear mixing parameter: 0.1\n",
      "  old densities: 5\n",
      "  Damping of long wavelength oscillations: 100 \n",
      "\n",
      "Hamiltonian:\n",
      "  XC and Coulomb potentials evaluated on a 108*64*50 grid\n",
      "  Using the BEEF-vdW Exchange-Correlation functional\n",
      "  External potential:\n",
      "    NoExternalPotential\n",
      " \n",
      "\n",
      "XC parameters: BEEF-vdW with 2 nearest neighbor stencil\n",
      "\n",
      "Memory estimate:\n",
      "  Process memory now: 143.71 MiB\n",
      "  Calculator: 715.28 MiB\n",
      "    Density: 29.58 MiB\n",
      "      Arrays: 11.54 MiB\n",
      "      Localized functions: 11.45 MiB\n",
      "      Mixer: 6.59 MiB\n",
      "    Hamiltonian: 8.88 MiB\n",
      "      Arrays: 8.57 MiB\n",
      "      XC: 0.00 MiB\n",
      "      Poisson: 0.00 MiB\n",
      "      vbar: 0.31 MiB\n",
      "    Wavefunctions: 676.83 MiB\n",
      "      Arrays psit_nG: 598.58 MiB\n",
      "      Eigensolver: 16.50 MiB\n",
      "      Projections: 27.64 MiB\n",
      "      Projectors: 30.05 MiB\n",
      "      PW-descriptor: 4.06 MiB\n",
      "\n",
      "Total number of cores used: 1\n",
      "\n",
      "Number of atoms: 24\n",
      "Number of atomic orbitals: 116\n",
      "Number of bands in calculation: 124\n",
      "Number of valence electrons: 148\n",
      "Bands to converge: occupied\n",
      "\n",
      "... initialized\n",
      "\n",
      "Initializing position-dependent things.\n",
      "\n",
      "Density initialized from atomic densities\n",
      "Creating initial wave functions:\n",
      "  116 bands from LCAO basis set\n",
      "  8 bands from random numbers\n",
      "\n",
      "     .-----------------------.  \n",
      "    /|                       |  \n",
      "   / |       OP  O       O   |  \n",
      "  /  O   FeO           O  P  |  \n",
      " *   |   Fe      O           |  \n",
      " |   O                   O   |  \n",
      " |   .-------O-------Fe------.  \n",
      " |  P  O           O Fe  O  /   \n",
      " | / O       O  PO         /    \n",
      " |/                       /     \n",
      " *-----------------------*      \n",
      "\n",
      "Positions:\n",
      "   0 Fe     2.730151    1.468810    4.565412    ( 0.0000,  0.0000,  5.0000)\n",
      "   1 Fe     2.239411    4.406429    2.149577    ( 0.0000,  0.0000,  5.0000)\n",
      "   2 Fe     7.209972    4.406429    0.266158    ( 0.0000,  0.0000,  5.0000)\n",
      "   3 Fe     7.700707    1.468810    2.681994    ( 0.0000,  0.0000,  5.0000)\n",
      "   4 O      1.160334    1.468811    3.402402    ( 0.0000,  0.0000,  0.0000)\n",
      "   5 O      3.808672    4.406430    0.986543    ( 0.0000,  0.0000,  0.0000)\n",
      "   6 O      8.779815    4.406429    1.429239    ( 0.0000,  0.0000,  0.0000)\n",
      "   7 O      6.131420    1.468811    3.845098    ( 0.0000,  0.0000,  0.0000)\n",
      "   8 O      4.372886    1.468810    0.818127    ( 0.0000,  0.0000,  0.0000)\n",
      "   9 O      0.597646    4.406430    3.234427    ( 0.0000,  0.0000,  0.0000)\n",
      "  10 O      5.567026    4.406429    4.013463    ( 0.0000,  0.0000,  0.0000)\n",
      "  11 O      9.342684    1.468809    1.597162    ( 0.0000,  0.0000,  0.0000)\n",
      "  12 O      1.640017    0.260613    1.172983    ( 0.0000,  0.0000,  0.0000)\n",
      "  13 O      3.329318    5.614637    3.588826    ( 0.0000,  0.0000,  0.0000)\n",
      "  14 O      8.300137    3.198262    3.658570    ( 0.0000,  0.0000,  0.0000)\n",
      "  15 O      6.610770    2.676988    1.242727    ( 0.0000,  0.0000,  0.0000)\n",
      "  16 O      8.300136    5.614597    3.658569    ( 0.0000,  0.0000,  0.0000)\n",
      "  17 O      6.610770    0.260632    1.242726    ( 0.0000,  0.0000,  0.0000)\n",
      "  18 O      1.640017    2.677007    1.172983    ( 0.0000,  0.0000,  0.0000)\n",
      "  19 O      3.329317    3.198222    3.588827    ( 0.0000,  0.0000,  0.0000)\n",
      "  20 P      0.905857    1.468810    1.892724    ( 0.0000,  0.0000,  0.0000)\n",
      "  21 P      4.063635    4.406429    4.308533    ( 0.0000,  0.0000,  0.0000)\n",
      "  22 P      9.033985    4.406430    2.938779    ( 0.0000,  0.0000,  0.0000)\n",
      "  23 P      5.876764    1.468810    0.522972    ( 0.0000,  0.0000,  0.0000)\n",
      "\n",
      "Unit cell:\n",
      "           periodic     x           y           z      points  spacing\n",
      "  1. axis:    yes    9.940120    0.000000    0.000000    54     0.1841\n",
      "  2. axis:    yes    0.000000    5.875240    0.000000    32     0.1836\n",
      "  3. axis:    yes    0.000000    0.000000    4.831570    25     0.1933\n",
      "\n",
      "  Lengths:   9.940120   5.875240   4.831570\n",
      "  Angles:   90.000000  90.000000  90.000000\n",
      "\n",
      "Effective grid spacing dv^(1/3) = 0.1869\n",
      "\n"
     ]
    },
    {
     "name": "stdout",
     "output_type": "stream",
     "text": [
      "     iter     time        total  log10-change:  magmom\n",
      "                         energy  eigst   dens\n",
      "iter:   1 17:14:10  -741.200342                  +19.7103\n",
      "iter:   2 17:15:30  -730.641320  -1.39  -0.83    +19.7393\n",
      "iter:   3 17:16:50  -718.941328  -1.09  -0.91    +19.8195\n",
      "iter:   4 17:18:15  -719.273363  -1.64  -1.24    +19.8741\n",
      "iter:   5 17:19:33  -721.346838  -1.42  -1.42    +19.9618\n",
      "iter:   6 17:20:54  -720.061272  -2.04  -1.53    +20.0110\n",
      "iter:   7 17:22:16  -719.512662  -2.23  -1.85    +19.9971\n",
      "iter:   8 17:23:44  -719.494752  -3.49  -2.34    +20.0037\n",
      "iter:   9 17:25:11  -719.485982c -4.33c -2.46    +20.0027\n",
      "iter:  10 17:26:36  -719.492506c -3.47  -2.61    +20.0008\n",
      "iter:  11 17:28:05  -719.555351  -3.01  -2.46    +20.0012\n",
      "iter:  12 17:29:34  -719.488478  -3.45  -2.17    +20.0010\n",
      "iter:  13 17:31:00  -719.494322  -4.11c -2.90    +20.0006\n",
      "iter:  14 17:32:32  -719.491150c -5.35c -2.91    +20.0009\n",
      "iter:  15 17:34:01  -719.491652c -5.24c -3.03c   +20.0011\n",
      "\n",
      "Converged after 15 iterations.\n",
      "\n",
      "Dipole moment: (0.002152, -0.000022, -0.000701) |e|*Ang\n",
      "\n",
      "Total magnetic moment: (0.000000, 0.000000, 20.001115)\n",
      "Local magnetic moments:\n",
      "   0 Fe ( 0.000000,  0.000000,  4.367230)\n",
      "   1 Fe ( 0.000000,  0.000000,  4.367202)\n",
      "   2 Fe ( 0.000000,  0.000000,  4.367232)\n",
      "   3 Fe ( 0.000000,  0.000000,  4.367202)\n",
      "   4 O  ( 0.000000,  0.000000,  0.090017)\n",
      "   5 O  ( 0.000000,  0.000000,  0.090071)\n",
      "   6 O  ( 0.000000,  0.000000,  0.090021)\n",
      "   7 O  ( 0.000000,  0.000000,  0.090079)\n",
      "   8 O  ( 0.000000,  0.000000,  0.095653)\n",
      "   9 O  ( 0.000000,  0.000000,  0.095687)\n",
      "  10 O  ( 0.000000,  0.000000,  0.095599)\n",
      "  11 O  ( 0.000000,  0.000000,  0.095637)\n",
      "  12 O  ( 0.000000,  0.000000,  0.125170)\n",
      "  13 O  ( 0.000000,  0.000000,  0.125152)\n",
      "  14 O  ( 0.000000,  0.000000,  0.125174)\n",
      "  15 O  ( 0.000000,  0.000000,  0.125156)\n",
      "  16 O  ( 0.000000,  0.000000,  0.125172)\n",
      "  17 O  ( 0.000000,  0.000000,  0.125154)\n",
      "  18 O  ( 0.000000,  0.000000,  0.125169)\n",
      "  19 O  ( 0.000000,  0.000000,  0.125151)\n",
      "  20 P  ( 0.000000,  0.000000,  0.025417)\n",
      "  21 P  ( 0.000000,  0.000000,  0.025425)\n",
      "  22 P  ( 0.000000,  0.000000,  0.025416)\n",
      "  23 P  ( 0.000000,  0.000000,  0.025423)\n",
      "\n",
      "Energy contributions relative to reference atoms: (reference = -208343.109853)\n",
      "\n",
      "Kinetic:       +260.902152\n",
      "Potential:     -220.713820\n",
      "External:        +0.000000\n",
      "XC:            -759.439056\n",
      "Entropy (-ST):   -0.000032\n",
      "Local:           -0.240912\n",
      "--------------------------\n",
      "Free energy:   -719.491668\n",
      "Extrapolated:  -719.491652\n",
      "\n",
      "Spin contamination: 0.044481 electrons\n",
      "Showing only first 2 kpts\n",
      "                      Up                     Down\n",
      " Kpt  Band  Eigenvalues  Occupancy  Eigenvalues  Occupancy\n",
      "  0    72      1.57582    1.00000      5.15632    0.00000\n",
      "  0    73      1.68234    1.00000      5.17870    0.00000\n",
      "  0    74      1.85941    1.00000      5.18146    0.00000\n",
      "  0    75      1.93767    1.00000      5.26372    0.00000\n",
      "\n",
      "  1    72      1.56632    1.00000      5.24105    0.00000\n",
      "  1    73      1.72700    1.00000      5.28520    0.00000\n",
      "  1    74      1.81328    1.00000      5.28714    0.00000\n",
      "  1    75      1.93843    1.00000      5.31379    0.00000\n",
      "\n",
      "\n",
      "Fermi levels: 5.06534, 3.65745\n",
      "\n",
      "-719.4916523683381\n"
     ]
    }
   ],
   "source": [
    "calc = GPAW(**params_GPAW)\n",
    "fepo4.calc = calc\n",
    "epot_fepo4_cell = fepo4.get_potential_energy()\n",
    "print(epot_fepo4_cell)\n",
    "write('fepo4_out.traj', fepo4)\n"
   ]
  },
  {
   "cell_type": "markdown",
   "metadata": {},
   "source": [
    "\n",
    "You will use the ensemble capability of the BEEF-vdW functional. You will need this later so you should write it to file so you do not have to start all over again later. Start by obtaining the required data from the calculator, i.e., the individual energy of each term in the BEEF-vdW functional expansion. Get the energy difference compared to BEEF-vdW for 2000 ensemble functionals.\n"
   ]
  },
  {
   "cell_type": "code",
   "execution_count": 15,
   "metadata": {},
   "outputs": [
    {
     "name": "stdout",
     "output_type": "stream",
     "text": [
      "beefvdw ensemble started\n",
      "beefvdw ensemble finished\n"
     ]
    }
   ],
   "source": [
    "from ase.dft.bee import BEEFEnsemble\n",
    "\n",
    "ens = BEEFEnsemble(calc)\n",
    "dE = ens.get_ensemble_energies(2000)\n"
   ]
  },
  {
   "cell_type": "markdown",
   "metadata": {},
   "source": [
    "\n",
    "Print the energy differences to file. This is not the most efficient way of printing to file but can allow easier subsequent data treatment.\n"
   ]
  },
  {
   "cell_type": "code",
   "execution_count": 16,
   "metadata": {},
   "outputs": [],
   "source": [
    "with paropen('ensemble_fepo4.dat', 'a') as result:\n",
    "    for e in dE:\n",
    "        print(e, file=result)\n"
   ]
  },
  {
   "cell_type": "markdown",
   "metadata": {},
   "source": [
    "\n",
    "You now have what you need to make a full script. Make it in the cell below and execute it to make sure the script runs. Once you have made sure the calculation is able to run, stop it by `interupt the kernel`.\n"
   ]
  },
  {
   "cell_type": "code",
   "execution_count": 51,
   "metadata": {},
   "outputs": [
    {
     "name": "stdout",
     "output_type": "stream",
     "text": [
      "Overwriting fepo4.py\n"
     ]
    }
   ],
   "source": [
    "%%writefile 'fepo4.py'\n",
    "from ase.parallel import paropen\n",
    "from ase.io import read, write\n",
    "from ase.dft.bee import BEEFEnsemble\n",
    "from gpaw import GPAW, FermiDirac, Mixer, PW\n",
    "\n",
    "# Read in the structure you made and wrote to file above\n",
    "fepo4 = read('fepo4.traj')\n",
    "\n",
    "# params_GPAW = {...}\n",
    "\n",
    "# do calculation ...\n",
    "# BEEF ...\n",
    "# write ensemble_fepo4.dat file ...\n",
    "\n",
    "# write('fepo4_out.traj', fepo4)\n",
    "\n",
    "\n",
    "# Teacher:\n",
    "from ase.parallel import paropen\n",
    "from ase.io import read, write\n",
    "from ase.io.trajectory import Trajectory\n",
    "from ase.dft.bee import BEEFEnsemble\n",
    "from gpaw import GPAW, FermiDirac, Mixer, PW\n",
    "fepo4 = read('fepo4.traj')\n",
    "\n",
    "params_GPAW = {}\n",
    "params_GPAW['mode']        = PW(500)                     #The used plane wave energy cutoff\n",
    "params_GPAW['nbands']      = -40                           #The number on empty bands had the system been spin-paired\n",
    "params_GPAW['kpts']        = {'size':  (2,4,5),            #The k-point mesh\n",
    "                              'gamma': True}\n",
    "params_GPAW['spinpol']     = True                          #Performing spin polarized calculations\n",
    "params_GPAW['xc']          = 'BEEF-vdW'                    #The used exchange-correlation functional\n",
    "params_GPAW['occupations'] = FermiDirac(width = 0.1,      #The smearing\n",
    "                                        fixmagmom = True)  #Total magnetic moment fixed to the initial value\n",
    "params_GPAW['convergence'] = {'eigenstates': 1.0e-4,       #eV^2 / electron\n",
    "                              'energy':      2.0e-4,       #eV / electron\n",
    "                              'density':     1.0e-3,}\n",
    "params_GPAW['mixer']       = Mixer(0.1, 5, weight=100.0)   #The mixer used during SCF optimization\n",
    "params_GPAW['setups']      = {'Fe': ':d,4.3'}              #U=4.3 applied to d orbitals\n",
    "\n",
    "calc = GPAW(**params_GPAW)\n",
    "fepo4.calc = calc\n",
    "epot_fepo4_cell=fepo4.get_potential_energy()\n",
    "print('E_Pot=', epot_fepo4_cell)\n",
    "\n",
    "write('fepo4_out.traj', fepo4)\n",
    "\n",
    "ens = BEEFEnsemble(calc)\n",
    "dE = ens.get_ensemble_energies(2000)\n",
    "\n",
    "with paropen('ensemble_fepo4.dat', 'a') as result:\n",
    "    for e in dE:\n",
    "        print(e, file=result)"
   ]
  },
  {
   "cell_type": "markdown",
   "metadata": {},
   "source": [
    "\n",
    "Uncomment the `%%writefile` line and execute the cell again and submit the calculation to the HPC cluster. The calculation should take around 10 minutes.\n"
   ]
  },
  {
   "cell_type": "code",
   "execution_count": 52,
   "metadata": {},
   "outputs": [
    {
     "name": "stdout",
     "output_type": "stream",
     "text": [
      "13909295 ./ fepo4.py 8:1h\r\n",
      "1 task submitted\r\n"
     ]
    }
   ],
   "source": [
    "!mq submit fepo4.py -R 8:1h  # submits the calculation to 8 cores, 1 hour"
   ]
  },
  {
   "cell_type": "markdown",
   "metadata": {},
   "source": [
    "\n",
    "Run the below cell to examine the status of your calculation. If no output is returned, the calculation has either finished or failed.\n"
   ]
  },
  {
   "cell_type": "code",
   "execution_count": 60,
   "metadata": {},
   "outputs": [
    {
     "name": "stdout",
     "output_type": "stream",
     "text": [
      "id       folder name               res.      age state  time error\r\n",
      "-------- ------ ------------------ ---- -------- ------ ---- -------------------\r\n",
      "13907623 ./     lifepo4.py         8:1h 21:54:35 \u001b[92mdone  \u001b[0m 3:58 \r\n",
      "13907896 ./     graphite_LDA.py    8:1h 21:11:32 \u001b[92mdone  \u001b[0m 2:11 \r\n",
      "13908847 ./     intercalation_e.py 8:1h  2:18:21 \u001b[91mFAILED\u001b[0m 4:41 [n-62-28-28:30527] \r\n",
      "13908851 ./     fepo4.py           8:1h  2:15:50 \u001b[92mdone  \u001b[0m 4:05 \r\n",
      "13908963 ./     intercalation_e.py 8:1h  1:09:55 \u001b[91mFAILED\u001b[0m 4:24 [n-62-28-34:28660] \r\n",
      "13909236 ./     fepo4.py           8:1h    19:29 \u001b[92mdone  \u001b[0m 3:52 \r\n",
      "13909295 ./     fepo4.py           8:1h     4:29 \u001b[92mdone  \u001b[0m 4:06 \r\n",
      "-------- ------ ------------------ ---- -------- ------ ---- -------------------\r\n",
      "\u001b[92mdone\u001b[0m: 5, \u001b[91mFAILED\u001b[0m: 2, total: 7\r\n"
     ]
    }
   ],
   "source": [
    "!mq ls"
   ]
  },
  {
   "cell_type": "markdown",
   "metadata": {},
   "source": [
    "\n",
    "Once the calculation begins, you can run the cells below to open the error log and output of the calculation in a new window. This can be done while the calculation is running.\n"
   ]
  },
  {
   "cell_type": "code",
   "execution_count": 54,
   "metadata": {},
   "outputs": [
    {
     "name": "stdout",
     "output_type": "stream",
     "text": [
      "Modules Release 4.8.0 (2021-07-14)\r\n",
      "DCC-SW: Added modules (2021-nov/XeonE5-2660v3)\r\n",
      "DCC-SW: Removed standard modules: /apps/dcc/etc/ModulesSL73/modulefiles\r\n",
      "DCC-SW: Using gnu/11.2.0 compiler\r\n",
      "DCC-SW: Released modules (2021-nov/XeonE5-2660v3)\r\n",
      "DCC-SW: Added modules (2020-aug/XeonE5-2660v3)\r\n",
      "DCC-SW: Removed standard modules: /apps/dcc/etc/ModulesSL73/modulefiles\r\n",
      "DCC-SW: Using gnu/9.3.0 compiler\r\n"
     ]
    }
   ],
   "source": [
    "# Error log\n",
    "!cat \"$(ls -t fepo4.py.*err | head -1)\""
   ]
  },
  {
   "cell_type": "code",
   "execution_count": 55,
   "metadata": {},
   "outputs": [],
   "source": [
    "# Output\n",
    "!cat \"$(ls -t fepo4.py.*out | head -1)\""
   ]
  },
  {
   "cell_type": "markdown",
   "metadata": {},
   "source": [
    "\n",
    "Once the calculation has finished, load in the result. You can skip past this cell and return later.\n"
   ]
  },
  {
   "cell_type": "code",
   "execution_count": 56,
   "metadata": {},
   "outputs": [
    {
     "name": "stdout",
     "output_type": "stream",
     "text": [
      "Calculation finished\n"
     ]
    }
   ],
   "source": [
    "try:\n",
    "    fepo4 = read('fepo4_out.traj')\n",
    "    print('Calculation finished')\n",
    "except FileNotFoundError:\n",
    "    print('Calculation has not yet finished')"
   ]
  },
  {
   "cell_type": "markdown",
   "metadata": {},
   "source": [
    "\n",
    "## LiFePO$_4$\n",
    "\n",
    "\n"
   ]
  },
  {
   "cell_type": "markdown",
   "metadata": {},
   "source": [
    "You will now do similar for LiFePO$_4$. In this case you will load in a template structure called `lifepo4_wo_li.traj` missing only the Li atoms. It is located in the resources folder.\n"
   ]
  },
  {
   "cell_type": "code",
   "execution_count": 12,
   "metadata": {},
   "outputs": [],
   "source": [
    "lifepo4_wo_li = read('lifepo4_wo_li.traj')"
   ]
  },
  {
   "cell_type": "markdown",
   "metadata": {},
   "source": [
    "\n",
    "Visualize the structure.\n"
   ]
  },
  {
   "cell_type": "code",
   "execution_count": 16,
   "metadata": {},
   "outputs": [
    {
     "data": {
      "text/plain": [
       "<subprocess.Popen at 0x7f800615f160>"
      ]
     },
     "execution_count": 16,
     "metadata": {},
     "output_type": "execute_result"
    }
   ],
   "source": [
    "view(lifepo4_wo_li)"
   ]
  },
  {
   "cell_type": "markdown",
   "metadata": {},
   "source": [
    "\n",
    "You should now add Li into the structure using the fractional coordinates below:\n"
   ]
  },
  {
   "cell_type": "code",
   "execution_count": null,
   "metadata": {},
   "outputs": [],
   "source": [
    "# Li  0    0    0\n",
    "# Li  0    0.5  0\n",
    "# Li  0.5  0.5  0.5\n",
    "# Li  0.5  0    0.5\n"
   ]
  },
  {
   "cell_type": "markdown",
   "metadata": {},
   "source": [
    "\n",
    "Add Li atoms into the structure, e.g., by following the example in [this ASE tutorial](https://wiki.fysik.dtu.dk/ase/tutorials/manipulating_atoms.html?highlight=set_cell#manipulating-atoms).\n"
   ]
  },
  {
   "cell_type": "code",
   "execution_count": 4,
   "metadata": {},
   "outputs": [],
   "source": [
    "from numpy import identity\n",
    "from ase import Atom\n",
    "\n",
    "cell = lifepo4_wo_li.get_cell()\n",
    "\n",
    "# ...\n",
    "\n",
    "# lifepo4 = lifepo4_wo_li.copy()\n",
    "\n",
    "# Teacher:\n",
    "from numpy import identity\n",
    "from ase import Atom\n",
    "\n",
    "lifepo4 = lifepo4_wo_li.copy()\n",
    "cell = lifepo4.get_cell()\n",
    "xyzcell = identity(3)\n",
    "lifepo4.set_cell(xyzcell, scale_atoms=True)  # Set the unit cell and rescale\n",
    "lifepo4.append(Atom('Li', (0, 0, 0)))\n",
    "lifepo4.append(Atom('Li', (0, 0.5, 0)))\n",
    "lifepo4.append(Atom('Li', (0.5, 0.5, 0.5)))\n",
    "lifepo4.append(Atom('Li', (0.5, 0, 0.5)))\n",
    "lifepo4.set_cell(cell, scale_atoms=True)"
   ]
  },
  {
   "cell_type": "markdown",
   "metadata": {},
   "source": [
    "\n",
    "Visualize the structure with added Li.\n"
   ]
  },
  {
   "cell_type": "code",
   "execution_count": 5,
   "metadata": {},
   "outputs": [
    {
     "data": {
      "text/plain": [
       "<subprocess.Popen at 0x7f4ba0664bb0>"
      ]
     },
     "execution_count": 5,
     "metadata": {},
     "output_type": "execute_result"
    }
   ],
   "source": [
    "view(lifepo4)"
   ]
  },
  {
   "cell_type": "markdown",
   "metadata": {},
   "source": [
    "\n",
    "Ensure that the magnetic moments are as they should be, once again assuming ferromagnetism for simplicity.\n"
   ]
  },
  {
   "cell_type": "code",
   "execution_count": 6,
   "metadata": {},
   "outputs": [
    {
     "name": "stdout",
     "output_type": "stream",
     "text": [
      "[4. 4. 4. 4. 0. 0. 0. 0. 0. 0. 0. 0. 0. 0. 0. 0. 0. 0. 0. 0. 0. 0. 0. 0.\n",
      " 0. 0. 0. 0.]\n"
     ]
    }
   ],
   "source": [
    "# ...\n",
    "\n",
    "# teacher\n",
    "print(lifepo4.get_initial_magnetic_moments())"
   ]
  },
  {
   "cell_type": "markdown",
   "metadata": {},
   "source": [
    "\n",
    "At this point you should save your structure by writing it to a trajectory file.\n"
   ]
  },
  {
   "cell_type": "code",
   "execution_count": 7,
   "metadata": {},
   "outputs": [],
   "source": [
    "write('lifepo4.traj', lifepo4)"
   ]
  },
  {
   "cell_type": "markdown",
   "metadata": {},
   "source": [
    "\n",
    "You should now calculate the potential energy of this sytem using the method and same calculational parameters as for FePO$_4$ above. Make a full script in the cell below similar to what you did above for FePO$_4$ and make sure that it runs.\n"
   ]
  },
  {
   "cell_type": "code",
   "execution_count": 64,
   "metadata": {},
   "outputs": [
    {
     "name": "stdout",
     "output_type": "stream",
     "text": [
      "Overwriting lifepo4.py\n"
     ]
    }
   ],
   "source": [
    "%%writefile 'lifepo4.py'\n",
    "from ase.parallel import paropen\n",
    "from ase.io import read, write\n",
    "from ase.dft.bee import BEEFEnsemble\n",
    "from gpaw import GPAW, FermiDirac, Mixer, PW\n",
    "\n",
    "# Read in the structure you made and wrote to file above\n",
    "lifepo4 = read('lifepo4.traj')\n",
    "\n",
    "# params_GPAW = {...}\n",
    "\n",
    "# ...\n",
    "# ...\n",
    "# ...\n",
    "\n",
    "# write('lifepo4_out.traj', lifepo4)\n",
    "\n",
    "# teacher\n",
    "from ase.parallel import paropen\n",
    "from ase.io import read\n",
    "from ase.io.trajectory import Trajectory\n",
    "from ase.dft.bee import BEEFEnsemble\n",
    "from gpaw import GPAW, FermiDirac, Mixer, PW\n",
    "\n",
    "#Read in the structure you made and wrote to file above\n",
    "lifepo4 = read('lifepo4.traj')\n",
    "\n",
    "params_GPAW = {}\n",
    "params_GPAW['mode']        = PW(500)                     #The used plane wave energy cutoff\n",
    "params_GPAW['nbands']      = -40                           #The number on empty bands had the system been spin-paired\n",
    "params_GPAW['kpts']        = {'size':  (2,4,5),            #The k-point mesh\n",
    "                              'gamma': True}\n",
    "params_GPAW['spinpol']     = True                          #Performing spin polarized calculations\n",
    "params_GPAW['xc']          = 'BEEF-vdW'                    #The used exchange-correlation functional\n",
    "params_GPAW['occupations'] = FermiDirac(width = 0.1,      #The smearing\n",
    "                                        fixmagmom = True)  #Total magnetic moment fixed to the initial value\n",
    "params_GPAW['convergence'] = {'eigenstates': 1.0e-4,       #eV^2 / electron\n",
    "                              'energy':      2.0e-4,       #eV / electron\n",
    "                              'density':     1.0e-3,}\n",
    "params_GPAW['mixer']       = Mixer(0.1, 5, weight=100.0)   #The mixer used during SCF optimization\n",
    "params_GPAW['setups']      = {'Fe': ':d,4.3'}              #U=4.3 applied to d orbitals\n",
    "\n",
    "calc = GPAW(**params_GPAW)\n",
    "lifepo4.calc = calc\n",
    "epot_lifepo4_cell=lifepo4.get_potential_energy()\n",
    "print('E_Pot=', epot_lifepo4_cell)\n",
    "\n",
    "traj=Trajectory('lifepo4_out.traj', mode='w', atoms=lifepo4)\n",
    "traj.write()\n",
    "\n",
    "ens = BEEFEnsemble(calc)\n",
    "dE = ens.get_ensemble_energies(2000)\n",
    "result = paropen('ensemble_lifepo4.dat','a')\n",
    "for e in dE:\n",
    "    print(e, file=result)\n",
    "result.close()"
   ]
  },
  {
   "cell_type": "markdown",
   "metadata": {},
   "source": [
    "\n",
    "If the code runs, submit to the HPC cluster as you did above. The calculation takes approximately 10 minutes.\n"
   ]
  },
  {
   "cell_type": "code",
   "execution_count": 65,
   "metadata": {},
   "outputs": [
    {
     "name": "stdout",
     "output_type": "stream",
     "text": [
      "13909311 ./ lifepo4.py 8:1h\r\n",
      "1 task submitted\r\n"
     ]
    }
   ],
   "source": [
    "!mq submit lifepo4.py -R 8:1h  # submits the calculation to 8 cores, 1 hour"
   ]
  },
  {
   "cell_type": "markdown",
   "metadata": {},
   "source": [
    "\n",
    "Run the below cell to examine the status of your calculation. If no output is returned, the calculation has either finished or failed.\n"
   ]
  },
  {
   "cell_type": "code",
   "execution_count": 70,
   "metadata": {},
   "outputs": [
    {
     "name": "stdout",
     "output_type": "stream",
     "text": [
      "id       folder name               res.      age state  time error\n",
      "-------- ------ ------------------ ---- -------- ------ ---- -------------------\n",
      "13907623 ./     lifepo4.py         8:1h 22:01:02 \u001b[92mdone  \u001b[0m 3:58 \n",
      "13907896 ./     graphite_LDA.py    8:1h 21:17:59 \u001b[92mdone  \u001b[0m 2:11 \n",
      "13908847 ./     intercalation_e.py 8:1h  2:24:48 \u001b[91mFAILED\u001b[0m 4:41 [n-62-28-28:30527] \n",
      "13908851 ./     fepo4.py           8:1h  2:22:17 \u001b[92mdone  \u001b[0m 4:05 \n",
      "13908963 ./     intercalation_e.py 8:1h  1:16:22 \u001b[91mFAILED\u001b[0m 4:24 [n-62-28-34:28660] \n",
      "13909236 ./     fepo4.py           8:1h    25:56 \u001b[92mdone  \u001b[0m 3:52 \n",
      "13909295 ./     fepo4.py           8:1h    10:56 \u001b[92mdone  \u001b[0m 4:06 \n",
      "13909311 ./     lifepo4.py         8:1h     4:10 \u001b[92mdone  \u001b[0m 4:05 \n",
      "-------- ------ ------------------ ---- -------- ------ ---- -------------------\n",
      "\u001b[92mdone\u001b[0m: 6, \u001b[91mFAILED\u001b[0m: 2, total: 8\n"
     ]
    }
   ],
   "source": [
    "!mq ls"
   ]
  },
  {
   "cell_type": "markdown",
   "metadata": {},
   "source": [
    "\n",
    "Once the calculation begins, you can run the cells below to open the error log and output of the calculation in a new window.\n"
   ]
  },
  {
   "cell_type": "code",
   "execution_count": 12,
   "metadata": {},
   "outputs": [
    {
     "name": "stdout",
     "output_type": "stream",
     "text": [
      "Modules Release 4.8.0 (2021-07-14)\r\n",
      "DCC-SW: Added modules (2021-nov/XeonE5-2660v3)\r\n",
      "DCC-SW: Removed standard modules: /apps/dcc/etc/ModulesSL73/modulefiles\r\n",
      "DCC-SW: Using gnu/11.2.0 compiler\r\n",
      "DCC-SW: Released modules (2021-nov/XeonE5-2660v3)\r\n",
      "DCC-SW: Added modules (2020-aug/XeonE5-2660v3)\r\n",
      "DCC-SW: Removed standard modules: /apps/dcc/etc/ModulesSL73/modulefiles\r\n",
      "DCC-SW: Using gnu/9.3.0 compiler\r\n",
      "DCC-SW: Released modules (2020-aug/XeonE5-2660v3)\r\n",
      "Modules Release 4.8.0 (2021-07-14)\r\n",
      "DCC-SW: Added modules (2021-nov/XeonE5-2660v3)\r\n",
      "DCC-SW: Removed standard modules: /apps/dcc/etc/ModulesSL73/modulefiles\r\n",
      "DCC-SW: Using gnu/11.2.0 compiler\r\n",
      "DCC-SW: Released modules (2021-nov/XeonE5-2660v3)\r\n",
      "DCC-SW: Added modules (2020-aug/XeonE5-2660v3)\r\n",
      "DCC-SW: Removed standard modules: /apps/dcc/etc/ModulesSL73/modulefiles\r\n",
      "DCC-SW: Using gnu/9.3.0 compiler\r\n",
      "DCC-SW: Released modules (2020-aug/XeonE5-2660v3)\r\n",
      "Modules Release 4.3.0 (2019-07-26)\r\n",
      "DCC-SW: Added modules (2021-nov/XeonE5-2660v3)\r\n",
      "DCC-SW: Removed standard modules: /apps/dcc/etc/ModulesSL73/modulefiles\r\n",
      "DCC-SW: Using gnu/11.2.0 compiler\r\n",
      "DCC-SW: Released modules (2021-nov/XeonE5-2660v3)\r\n",
      "DCC-SW: Added modules (2020-aug/XeonE5-2660v3)\r\n",
      "DCC-SW: Removed standard modules: /apps/dcc/etc/ModulesSL73/modulefiles\r\n",
      "DCC-SW: Using gnu/9.3.0 compiler\r\n"
     ]
    }
   ],
   "source": [
    "# Error log\n",
    "!cat \"$(ls -t lifepo4.py.*err | head -1)\""
   ]
  },
  {
   "cell_type": "code",
   "execution_count": 13,
   "metadata": {},
   "outputs": [
    {
     "name": "stdout",
     "output_type": "stream",
     "text": [
      "venv: /zhome/fa/5/1000203270/CAMD2022/venv/bin/activate\r\n"
     ]
    }
   ],
   "source": [
    "# Output\n",
    "!cat \"$(ls -t lifepo4.py.*out | head -1)\""
   ]
  },
  {
   "cell_type": "markdown",
   "metadata": {},
   "source": [
    "\n",
    "When calculation has finished, load in the result. You can skip past this cell and return later.\n"
   ]
  },
  {
   "cell_type": "code",
   "execution_count": 17,
   "metadata": {},
   "outputs": [
    {
     "name": "stdout",
     "output_type": "stream",
     "text": [
      "Calculation finished\n"
     ]
    }
   ],
   "source": [
    "try:\n",
    "    lifepo4=read('lifepo4_out.traj')\n",
    "    print('Calculation finished')\n",
    "except FileNotFoundError:\n",
    "    print('Calculation has not yet finished')"
   ]
  },
  {
   "cell_type": "markdown",
   "metadata": {},
   "source": [
    "\n",
    "### Li metal\n",
    "\n",
    "We use a Li metal reference to calculate the equilibrium potential. On exercise day 2 you used a Li metal reference to calculate the intercalation energy in the graphite anode. The approach is similar here. Just read in the result of the calculation with DFTD3 and attach a new calulator to it.\n"
   ]
  },
  {
   "cell_type": "code",
   "execution_count": 22,
   "metadata": {},
   "outputs": [],
   "source": [
    "from ase import Atoms\n",
    "from gpaw import GPAW, FermiDirac, PW\n",
    "from ase.io import read\n",
    "\n",
    "li_metal = read('Li-metal-DFTD3.traj')  # Change file name accordingly\n",
    "\n",
    "calc = GPAW(mode=PW(500),\n",
    "            kpts=(8, 8, 8),\n",
    "            occupations=FermiDirac(0.15),\n",
    "            nbands=-10,\n",
    "            txt=None,\n",
    "            xc='BEEF-vdW')\n",
    "\n",
    "li_metal.calc = calc\n",
    "li_metal.get_potential_energy()\n",
    "li_metal.write('li_metal.traj')"
   ]
  },
  {
   "cell_type": "markdown",
   "metadata": {},
   "source": [
    "\n",
    "Now calculate the ensemble in the same way as for FePO$_4$ and LiFePO$_4$.\n"
   ]
  },
  {
   "cell_type": "code",
   "execution_count": 23,
   "metadata": {},
   "outputs": [
    {
     "name": "stdout",
     "output_type": "stream",
     "text": [
      "beefvdw ensemble started\n",
      "beefvdw ensemble finished\n"
     ]
    }
   ],
   "source": [
    "ens = BEEFEnsemble(calc)\n",
    "li_metal_ens_cell= ens.get_ensemble_energies(2000)\n",
    "with paropen('ensemble_li_metal.dat', 'a') as result:\n",
    "    for e in li_metal_ens_cell:\n",
    "        print(e, file=result)"
   ]
  },
  {
   "cell_type": "markdown",
   "metadata": {},
   "source": [
    "\n",
    "## Calculate equilibrium potential and uncertainty\n"
   ]
  },
  {
   "cell_type": "markdown",
   "metadata": {},
   "source": [
    "\n",
    "You can now calculate the equilibrium potential for the case of a FePO$_4$/Li metal battery from the intercallation energy of Li in FePO$_4$. For simplicity, use that assumption that all vibrational energies and entropic terms cancel each other. You should now have completed all submitted calculations before you proceed.\n"
   ]
  },
  {
   "cell_type": "markdown",
   "metadata": {},
   "source": [
    "\n",
    "The calculated energies are for the full cells. Convert them to the energy per formula unit. The [len(...)](https://docs.python.org/3.6/library/functions.html#len) function can be quite helpful for this.\n"
   ]
  },
  {
   "cell_type": "code",
   "execution_count": 71,
   "metadata": {},
   "outputs": [
    {
     "name": "stdout",
     "output_type": "stream",
     "text": [
      "epot_fepo4_cell = -719.4916815416422\n",
      "epot_lifepo4_cell = -756.506569676925\n",
      "epot_li_metal_cell = -2.020080854238107\n"
     ]
    }
   ],
   "source": [
    "from ase.io import read\n",
    "fepo4 = read('fepo4_out.traj')\n",
    "lifepo4=read('lifepo4_out.traj')\n",
    "li_metal = read('Li-metal-DFTD3.traj')\n",
    "\n",
    "epot_fepo4_cell=fepo4.get_potential_energy()\n",
    "epot_lifepo4_cell=lifepo4.get_potential_energy()\n",
    "epot_li_metal_cell=li_metal.get_potential_energy()\n",
    "print('epot_fepo4_cell =', epot_fepo4_cell)\n",
    "print('epot_lifepo4_cell =', epot_lifepo4_cell)\n",
    "print('epot_li_metal_cell =', epot_li_metal_cell)"
   ]
  },
  {
   "cell_type": "code",
   "execution_count": 72,
   "metadata": {},
   "outputs": [],
   "source": [
    "epot_fepo4 = epot_fepo4_cell / len(fepo4) * 6  # student: epot_fepo4 = ...\n",
    "epot_lifepo4 = epot_lifepo4_cell / len(lifepo4) * 7  # student: epot_lifepo4 = ...\n",
    "epot_li_metal = epot_li_metal_cell / len(li_metal)  # student: epot_li_metal = ...\n",
    "# print(epot_fepo4, ...)"
   ]
  },
  {
   "cell_type": "markdown",
   "metadata": {},
   "source": [
    "\n",
    "No calculate the equilibrium potential under the assumption that it is given by $V_{eq} = \\Delta U /e $, where $U$ is the electronic potential energy of the system and $e$ is the number of electrons transfered.\n"
   ]
  },
  {
   "cell_type": "code",
   "execution_count": 73,
   "metadata": {},
   "outputs": [
    {
     "name": "stdout",
     "output_type": "stream",
     "text": [
      "-7.233641179582601\n"
     ]
    }
   ],
   "source": [
    "# V_eq = ...\n",
    "\n",
    "# teacher\n",
    "V_eq = epot_lifepo4 - epot_fepo4 - epot_li_metal\n",
    "print(V_eq)"
   ]
  },
  {
   "cell_type": "markdown",
   "metadata": {},
   "source": [
    "\n",
    "You will now calculate the error estimate for the Li intercallation energy in FePO$_4$ using the BEEF ensemble results. Start by loading in the files. Wait a few minutes and rerun the cell if the number is not 2000 for all of them.\n"
   ]
  },
  {
   "cell_type": "code",
   "execution_count": 74,
   "metadata": {},
   "outputs": [
    {
     "name": "stdout",
     "output_type": "stream",
     "text": [
      "number of functionals in ensemble= 2000\n",
      "number of functionals in ensemble= 2000\n",
      "number of functionals in ensemble= 2000\n"
     ]
    }
   ],
   "source": [
    "import numpy as np\n",
    "fepo4_ens_cell = np.genfromtxt('ensemble_fepo4.dat')\n",
    "lifepo4_ens_cell = np.genfromtxt('ensemble_lifepo4.dat')\n",
    "\n",
    "print('number of functionals in ensemble=', len(fepo4_ens_cell))\n",
    "print('number of functionals in ensemble=', len(lifepo4_ens_cell))\n",
    "print('number of functionals in ensemble=', len(li_metal_ens_cell))"
   ]
  },
  {
   "cell_type": "markdown",
   "metadata": {},
   "source": [
    "\n",
    "Note that these are energies per cell and not per formula unit. Convert them as you did the potential energies above. Note that you are now performing the operation on a list of length 2000 and not a single float value as before.\n"
   ]
  },
  {
   "cell_type": "code",
   "execution_count": 75,
   "metadata": {},
   "outputs": [],
   "source": [
    "# fepo4_ens = fepo4_ens_cell / ...\n",
    "# ...\n",
    "# ...\n",
    "\n",
    "# teacher\n",
    "fepo4_ens = fepo4_ens_cell / len(fepo4) * 6\n",
    "lifepo4_ens = lifepo4_ens_cell / len(lifepo4) * 7\n",
    "li_metal_ens = li_metal_ens_cell / len(li_metal)"
   ]
  },
  {
   "cell_type": "markdown",
   "metadata": {},
   "source": [
    "\n",
    "Make a list of equilibrium potentials.\n"
   ]
  },
  {
   "cell_type": "code",
   "execution_count": 76,
   "metadata": {},
   "outputs": [],
   "source": [
    "# V_eq_ens = lifepo4_ens - ...\n",
    "\n",
    "# teacher\n",
    "V_eq_ens = lifepo4_ens - fepo4_ens - li_metal_ens"
   ]
  },
  {
   "cell_type": "markdown",
   "metadata": {},
   "source": [
    "\n",
    "Use the plot command below to visualize the distribution.\n"
   ]
  },
  {
   "cell_type": "code",
   "execution_count": 77,
   "metadata": {},
   "outputs": [
    {
     "data": {
      "application/javascript": [
       "/* Put everything inside the global mpl namespace */\n",
       "/* global mpl */\n",
       "window.mpl = {};\n",
       "\n",
       "mpl.get_websocket_type = function () {\n",
       "    if (typeof WebSocket !== 'undefined') {\n",
       "        return WebSocket;\n",
       "    } else if (typeof MozWebSocket !== 'undefined') {\n",
       "        return MozWebSocket;\n",
       "    } else {\n",
       "        alert(\n",
       "            'Your browser does not have WebSocket support. ' +\n",
       "                'Please try Chrome, Safari or Firefox ≥ 6. ' +\n",
       "                'Firefox 4 and 5 are also supported but you ' +\n",
       "                'have to enable WebSockets in about:config.'\n",
       "        );\n",
       "    }\n",
       "};\n",
       "\n",
       "mpl.figure = function (figure_id, websocket, ondownload, parent_element) {\n",
       "    this.id = figure_id;\n",
       "\n",
       "    this.ws = websocket;\n",
       "\n",
       "    this.supports_binary = this.ws.binaryType !== undefined;\n",
       "\n",
       "    if (!this.supports_binary) {\n",
       "        var warnings = document.getElementById('mpl-warnings');\n",
       "        if (warnings) {\n",
       "            warnings.style.display = 'block';\n",
       "            warnings.textContent =\n",
       "                'This browser does not support binary websocket messages. ' +\n",
       "                'Performance may be slow.';\n",
       "        }\n",
       "    }\n",
       "\n",
       "    this.imageObj = new Image();\n",
       "\n",
       "    this.context = undefined;\n",
       "    this.message = undefined;\n",
       "    this.canvas = undefined;\n",
       "    this.rubberband_canvas = undefined;\n",
       "    this.rubberband_context = undefined;\n",
       "    this.format_dropdown = undefined;\n",
       "\n",
       "    this.image_mode = 'full';\n",
       "\n",
       "    this.root = document.createElement('div');\n",
       "    this.root.setAttribute('style', 'display: inline-block');\n",
       "    this._root_extra_style(this.root);\n",
       "\n",
       "    parent_element.appendChild(this.root);\n",
       "\n",
       "    this._init_header(this);\n",
       "    this._init_canvas(this);\n",
       "    this._init_toolbar(this);\n",
       "\n",
       "    var fig = this;\n",
       "\n",
       "    this.waiting = false;\n",
       "\n",
       "    this.ws.onopen = function () {\n",
       "        fig.send_message('supports_binary', { value: fig.supports_binary });\n",
       "        fig.send_message('send_image_mode', {});\n",
       "        if (fig.ratio !== 1) {\n",
       "            fig.send_message('set_device_pixel_ratio', {\n",
       "                device_pixel_ratio: fig.ratio,\n",
       "            });\n",
       "        }\n",
       "        fig.send_message('refresh', {});\n",
       "    };\n",
       "\n",
       "    this.imageObj.onload = function () {\n",
       "        if (fig.image_mode === 'full') {\n",
       "            // Full images could contain transparency (where diff images\n",
       "            // almost always do), so we need to clear the canvas so that\n",
       "            // there is no ghosting.\n",
       "            fig.context.clearRect(0, 0, fig.canvas.width, fig.canvas.height);\n",
       "        }\n",
       "        fig.context.drawImage(fig.imageObj, 0, 0);\n",
       "    };\n",
       "\n",
       "    this.imageObj.onunload = function () {\n",
       "        fig.ws.close();\n",
       "    };\n",
       "\n",
       "    this.ws.onmessage = this._make_on_message_function(this);\n",
       "\n",
       "    this.ondownload = ondownload;\n",
       "};\n",
       "\n",
       "mpl.figure.prototype._init_header = function () {\n",
       "    var titlebar = document.createElement('div');\n",
       "    titlebar.classList =\n",
       "        'ui-dialog-titlebar ui-widget-header ui-corner-all ui-helper-clearfix';\n",
       "    var titletext = document.createElement('div');\n",
       "    titletext.classList = 'ui-dialog-title';\n",
       "    titletext.setAttribute(\n",
       "        'style',\n",
       "        'width: 100%; text-align: center; padding: 3px;'\n",
       "    );\n",
       "    titlebar.appendChild(titletext);\n",
       "    this.root.appendChild(titlebar);\n",
       "    this.header = titletext;\n",
       "};\n",
       "\n",
       "mpl.figure.prototype._canvas_extra_style = function (_canvas_div) {};\n",
       "\n",
       "mpl.figure.prototype._root_extra_style = function (_canvas_div) {};\n",
       "\n",
       "mpl.figure.prototype._init_canvas = function () {\n",
       "    var fig = this;\n",
       "\n",
       "    var canvas_div = (this.canvas_div = document.createElement('div'));\n",
       "    canvas_div.setAttribute(\n",
       "        'style',\n",
       "        'border: 1px solid #ddd;' +\n",
       "            'box-sizing: content-box;' +\n",
       "            'clear: both;' +\n",
       "            'min-height: 1px;' +\n",
       "            'min-width: 1px;' +\n",
       "            'outline: 0;' +\n",
       "            'overflow: hidden;' +\n",
       "            'position: relative;' +\n",
       "            'resize: both;'\n",
       "    );\n",
       "\n",
       "    function on_keyboard_event_closure(name) {\n",
       "        return function (event) {\n",
       "            return fig.key_event(event, name);\n",
       "        };\n",
       "    }\n",
       "\n",
       "    canvas_div.addEventListener(\n",
       "        'keydown',\n",
       "        on_keyboard_event_closure('key_press')\n",
       "    );\n",
       "    canvas_div.addEventListener(\n",
       "        'keyup',\n",
       "        on_keyboard_event_closure('key_release')\n",
       "    );\n",
       "\n",
       "    this._canvas_extra_style(canvas_div);\n",
       "    this.root.appendChild(canvas_div);\n",
       "\n",
       "    var canvas = (this.canvas = document.createElement('canvas'));\n",
       "    canvas.classList.add('mpl-canvas');\n",
       "    canvas.setAttribute('style', 'box-sizing: content-box;');\n",
       "\n",
       "    this.context = canvas.getContext('2d');\n",
       "\n",
       "    var backingStore =\n",
       "        this.context.backingStorePixelRatio ||\n",
       "        this.context.webkitBackingStorePixelRatio ||\n",
       "        this.context.mozBackingStorePixelRatio ||\n",
       "        this.context.msBackingStorePixelRatio ||\n",
       "        this.context.oBackingStorePixelRatio ||\n",
       "        this.context.backingStorePixelRatio ||\n",
       "        1;\n",
       "\n",
       "    this.ratio = (window.devicePixelRatio || 1) / backingStore;\n",
       "\n",
       "    var rubberband_canvas = (this.rubberband_canvas = document.createElement(\n",
       "        'canvas'\n",
       "    ));\n",
       "    rubberband_canvas.setAttribute(\n",
       "        'style',\n",
       "        'box-sizing: content-box; position: absolute; left: 0; top: 0; z-index: 1;'\n",
       "    );\n",
       "\n",
       "    // Apply a ponyfill if ResizeObserver is not implemented by browser.\n",
       "    if (this.ResizeObserver === undefined) {\n",
       "        if (window.ResizeObserver !== undefined) {\n",
       "            this.ResizeObserver = window.ResizeObserver;\n",
       "        } else {\n",
       "            var obs = _JSXTOOLS_RESIZE_OBSERVER({});\n",
       "            this.ResizeObserver = obs.ResizeObserver;\n",
       "        }\n",
       "    }\n",
       "\n",
       "    this.resizeObserverInstance = new this.ResizeObserver(function (entries) {\n",
       "        var nentries = entries.length;\n",
       "        for (var i = 0; i < nentries; i++) {\n",
       "            var entry = entries[i];\n",
       "            var width, height;\n",
       "            if (entry.contentBoxSize) {\n",
       "                if (entry.contentBoxSize instanceof Array) {\n",
       "                    // Chrome 84 implements new version of spec.\n",
       "                    width = entry.contentBoxSize[0].inlineSize;\n",
       "                    height = entry.contentBoxSize[0].blockSize;\n",
       "                } else {\n",
       "                    // Firefox implements old version of spec.\n",
       "                    width = entry.contentBoxSize.inlineSize;\n",
       "                    height = entry.contentBoxSize.blockSize;\n",
       "                }\n",
       "            } else {\n",
       "                // Chrome <84 implements even older version of spec.\n",
       "                width = entry.contentRect.width;\n",
       "                height = entry.contentRect.height;\n",
       "            }\n",
       "\n",
       "            // Keep the size of the canvas and rubber band canvas in sync with\n",
       "            // the canvas container.\n",
       "            if (entry.devicePixelContentBoxSize) {\n",
       "                // Chrome 84 implements new version of spec.\n",
       "                canvas.setAttribute(\n",
       "                    'width',\n",
       "                    entry.devicePixelContentBoxSize[0].inlineSize\n",
       "                );\n",
       "                canvas.setAttribute(\n",
       "                    'height',\n",
       "                    entry.devicePixelContentBoxSize[0].blockSize\n",
       "                );\n",
       "            } else {\n",
       "                canvas.setAttribute('width', width * fig.ratio);\n",
       "                canvas.setAttribute('height', height * fig.ratio);\n",
       "            }\n",
       "            canvas.setAttribute(\n",
       "                'style',\n",
       "                'width: ' + width + 'px; height: ' + height + 'px;'\n",
       "            );\n",
       "\n",
       "            rubberband_canvas.setAttribute('width', width);\n",
       "            rubberband_canvas.setAttribute('height', height);\n",
       "\n",
       "            // And update the size in Python. We ignore the initial 0/0 size\n",
       "            // that occurs as the element is placed into the DOM, which should\n",
       "            // otherwise not happen due to the minimum size styling.\n",
       "            if (fig.ws.readyState == 1 && width != 0 && height != 0) {\n",
       "                fig.request_resize(width, height);\n",
       "            }\n",
       "        }\n",
       "    });\n",
       "    this.resizeObserverInstance.observe(canvas_div);\n",
       "\n",
       "    function on_mouse_event_closure(name) {\n",
       "        return function (event) {\n",
       "            return fig.mouse_event(event, name);\n",
       "        };\n",
       "    }\n",
       "\n",
       "    rubberband_canvas.addEventListener(\n",
       "        'mousedown',\n",
       "        on_mouse_event_closure('button_press')\n",
       "    );\n",
       "    rubberband_canvas.addEventListener(\n",
       "        'mouseup',\n",
       "        on_mouse_event_closure('button_release')\n",
       "    );\n",
       "    rubberband_canvas.addEventListener(\n",
       "        'dblclick',\n",
       "        on_mouse_event_closure('dblclick')\n",
       "    );\n",
       "    // Throttle sequential mouse events to 1 every 20ms.\n",
       "    rubberband_canvas.addEventListener(\n",
       "        'mousemove',\n",
       "        on_mouse_event_closure('motion_notify')\n",
       "    );\n",
       "\n",
       "    rubberband_canvas.addEventListener(\n",
       "        'mouseenter',\n",
       "        on_mouse_event_closure('figure_enter')\n",
       "    );\n",
       "    rubberband_canvas.addEventListener(\n",
       "        'mouseleave',\n",
       "        on_mouse_event_closure('figure_leave')\n",
       "    );\n",
       "\n",
       "    canvas_div.addEventListener('wheel', function (event) {\n",
       "        if (event.deltaY < 0) {\n",
       "            event.step = 1;\n",
       "        } else {\n",
       "            event.step = -1;\n",
       "        }\n",
       "        on_mouse_event_closure('scroll')(event);\n",
       "    });\n",
       "\n",
       "    canvas_div.appendChild(canvas);\n",
       "    canvas_div.appendChild(rubberband_canvas);\n",
       "\n",
       "    this.rubberband_context = rubberband_canvas.getContext('2d');\n",
       "    this.rubberband_context.strokeStyle = '#000000';\n",
       "\n",
       "    this._resize_canvas = function (width, height, forward) {\n",
       "        if (forward) {\n",
       "            canvas_div.style.width = width + 'px';\n",
       "            canvas_div.style.height = height + 'px';\n",
       "        }\n",
       "    };\n",
       "\n",
       "    // Disable right mouse context menu.\n",
       "    this.rubberband_canvas.addEventListener('contextmenu', function (_e) {\n",
       "        event.preventDefault();\n",
       "        return false;\n",
       "    });\n",
       "\n",
       "    function set_focus() {\n",
       "        canvas.focus();\n",
       "        canvas_div.focus();\n",
       "    }\n",
       "\n",
       "    window.setTimeout(set_focus, 100);\n",
       "};\n",
       "\n",
       "mpl.figure.prototype._init_toolbar = function () {\n",
       "    var fig = this;\n",
       "\n",
       "    var toolbar = document.createElement('div');\n",
       "    toolbar.classList = 'mpl-toolbar';\n",
       "    this.root.appendChild(toolbar);\n",
       "\n",
       "    function on_click_closure(name) {\n",
       "        return function (_event) {\n",
       "            return fig.toolbar_button_onclick(name);\n",
       "        };\n",
       "    }\n",
       "\n",
       "    function on_mouseover_closure(tooltip) {\n",
       "        return function (event) {\n",
       "            if (!event.currentTarget.disabled) {\n",
       "                return fig.toolbar_button_onmouseover(tooltip);\n",
       "            }\n",
       "        };\n",
       "    }\n",
       "\n",
       "    fig.buttons = {};\n",
       "    var buttonGroup = document.createElement('div');\n",
       "    buttonGroup.classList = 'mpl-button-group';\n",
       "    for (var toolbar_ind in mpl.toolbar_items) {\n",
       "        var name = mpl.toolbar_items[toolbar_ind][0];\n",
       "        var tooltip = mpl.toolbar_items[toolbar_ind][1];\n",
       "        var image = mpl.toolbar_items[toolbar_ind][2];\n",
       "        var method_name = mpl.toolbar_items[toolbar_ind][3];\n",
       "\n",
       "        if (!name) {\n",
       "            /* Instead of a spacer, we start a new button group. */\n",
       "            if (buttonGroup.hasChildNodes()) {\n",
       "                toolbar.appendChild(buttonGroup);\n",
       "            }\n",
       "            buttonGroup = document.createElement('div');\n",
       "            buttonGroup.classList = 'mpl-button-group';\n",
       "            continue;\n",
       "        }\n",
       "\n",
       "        var button = (fig.buttons[name] = document.createElement('button'));\n",
       "        button.classList = 'mpl-widget';\n",
       "        button.setAttribute('role', 'button');\n",
       "        button.setAttribute('aria-disabled', 'false');\n",
       "        button.addEventListener('click', on_click_closure(method_name));\n",
       "        button.addEventListener('mouseover', on_mouseover_closure(tooltip));\n",
       "\n",
       "        var icon_img = document.createElement('img');\n",
       "        icon_img.src = '_images/' + image + '.png';\n",
       "        icon_img.srcset = '_images/' + image + '_large.png 2x';\n",
       "        icon_img.alt = tooltip;\n",
       "        button.appendChild(icon_img);\n",
       "\n",
       "        buttonGroup.appendChild(button);\n",
       "    }\n",
       "\n",
       "    if (buttonGroup.hasChildNodes()) {\n",
       "        toolbar.appendChild(buttonGroup);\n",
       "    }\n",
       "\n",
       "    var fmt_picker = document.createElement('select');\n",
       "    fmt_picker.classList = 'mpl-widget';\n",
       "    toolbar.appendChild(fmt_picker);\n",
       "    this.format_dropdown = fmt_picker;\n",
       "\n",
       "    for (var ind in mpl.extensions) {\n",
       "        var fmt = mpl.extensions[ind];\n",
       "        var option = document.createElement('option');\n",
       "        option.selected = fmt === mpl.default_extension;\n",
       "        option.innerHTML = fmt;\n",
       "        fmt_picker.appendChild(option);\n",
       "    }\n",
       "\n",
       "    var status_bar = document.createElement('span');\n",
       "    status_bar.classList = 'mpl-message';\n",
       "    toolbar.appendChild(status_bar);\n",
       "    this.message = status_bar;\n",
       "};\n",
       "\n",
       "mpl.figure.prototype.request_resize = function (x_pixels, y_pixels) {\n",
       "    // Request matplotlib to resize the figure. Matplotlib will then trigger a resize in the client,\n",
       "    // which will in turn request a refresh of the image.\n",
       "    this.send_message('resize', { width: x_pixels, height: y_pixels });\n",
       "};\n",
       "\n",
       "mpl.figure.prototype.send_message = function (type, properties) {\n",
       "    properties['type'] = type;\n",
       "    properties['figure_id'] = this.id;\n",
       "    this.ws.send(JSON.stringify(properties));\n",
       "};\n",
       "\n",
       "mpl.figure.prototype.send_draw_message = function () {\n",
       "    if (!this.waiting) {\n",
       "        this.waiting = true;\n",
       "        this.ws.send(JSON.stringify({ type: 'draw', figure_id: this.id }));\n",
       "    }\n",
       "};\n",
       "\n",
       "mpl.figure.prototype.handle_save = function (fig, _msg) {\n",
       "    var format_dropdown = fig.format_dropdown;\n",
       "    var format = format_dropdown.options[format_dropdown.selectedIndex].value;\n",
       "    fig.ondownload(fig, format);\n",
       "};\n",
       "\n",
       "mpl.figure.prototype.handle_resize = function (fig, msg) {\n",
       "    var size = msg['size'];\n",
       "    if (size[0] !== fig.canvas.width || size[1] !== fig.canvas.height) {\n",
       "        fig._resize_canvas(size[0], size[1], msg['forward']);\n",
       "        fig.send_message('refresh', {});\n",
       "    }\n",
       "};\n",
       "\n",
       "mpl.figure.prototype.handle_rubberband = function (fig, msg) {\n",
       "    var x0 = msg['x0'] / fig.ratio;\n",
       "    var y0 = (fig.canvas.height - msg['y0']) / fig.ratio;\n",
       "    var x1 = msg['x1'] / fig.ratio;\n",
       "    var y1 = (fig.canvas.height - msg['y1']) / fig.ratio;\n",
       "    x0 = Math.floor(x0) + 0.5;\n",
       "    y0 = Math.floor(y0) + 0.5;\n",
       "    x1 = Math.floor(x1) + 0.5;\n",
       "    y1 = Math.floor(y1) + 0.5;\n",
       "    var min_x = Math.min(x0, x1);\n",
       "    var min_y = Math.min(y0, y1);\n",
       "    var width = Math.abs(x1 - x0);\n",
       "    var height = Math.abs(y1 - y0);\n",
       "\n",
       "    fig.rubberband_context.clearRect(\n",
       "        0,\n",
       "        0,\n",
       "        fig.canvas.width / fig.ratio,\n",
       "        fig.canvas.height / fig.ratio\n",
       "    );\n",
       "\n",
       "    fig.rubberband_context.strokeRect(min_x, min_y, width, height);\n",
       "};\n",
       "\n",
       "mpl.figure.prototype.handle_figure_label = function (fig, msg) {\n",
       "    // Updates the figure title.\n",
       "    fig.header.textContent = msg['label'];\n",
       "};\n",
       "\n",
       "mpl.figure.prototype.handle_cursor = function (fig, msg) {\n",
       "    fig.rubberband_canvas.style.cursor = msg['cursor'];\n",
       "};\n",
       "\n",
       "mpl.figure.prototype.handle_message = function (fig, msg) {\n",
       "    fig.message.textContent = msg['message'];\n",
       "};\n",
       "\n",
       "mpl.figure.prototype.handle_draw = function (fig, _msg) {\n",
       "    // Request the server to send over a new figure.\n",
       "    fig.send_draw_message();\n",
       "};\n",
       "\n",
       "mpl.figure.prototype.handle_image_mode = function (fig, msg) {\n",
       "    fig.image_mode = msg['mode'];\n",
       "};\n",
       "\n",
       "mpl.figure.prototype.handle_history_buttons = function (fig, msg) {\n",
       "    for (var key in msg) {\n",
       "        if (!(key in fig.buttons)) {\n",
       "            continue;\n",
       "        }\n",
       "        fig.buttons[key].disabled = !msg[key];\n",
       "        fig.buttons[key].setAttribute('aria-disabled', !msg[key]);\n",
       "    }\n",
       "};\n",
       "\n",
       "mpl.figure.prototype.handle_navigate_mode = function (fig, msg) {\n",
       "    if (msg['mode'] === 'PAN') {\n",
       "        fig.buttons['Pan'].classList.add('active');\n",
       "        fig.buttons['Zoom'].classList.remove('active');\n",
       "    } else if (msg['mode'] === 'ZOOM') {\n",
       "        fig.buttons['Pan'].classList.remove('active');\n",
       "        fig.buttons['Zoom'].classList.add('active');\n",
       "    } else {\n",
       "        fig.buttons['Pan'].classList.remove('active');\n",
       "        fig.buttons['Zoom'].classList.remove('active');\n",
       "    }\n",
       "};\n",
       "\n",
       "mpl.figure.prototype.updated_canvas_event = function () {\n",
       "    // Called whenever the canvas gets updated.\n",
       "    this.send_message('ack', {});\n",
       "};\n",
       "\n",
       "// A function to construct a web socket function for onmessage handling.\n",
       "// Called in the figure constructor.\n",
       "mpl.figure.prototype._make_on_message_function = function (fig) {\n",
       "    return function socket_on_message(evt) {\n",
       "        if (evt.data instanceof Blob) {\n",
       "            var img = evt.data;\n",
       "            if (img.type !== 'image/png') {\n",
       "                /* FIXME: We get \"Resource interpreted as Image but\n",
       "                 * transferred with MIME type text/plain:\" errors on\n",
       "                 * Chrome.  But how to set the MIME type?  It doesn't seem\n",
       "                 * to be part of the websocket stream */\n",
       "                img.type = 'image/png';\n",
       "            }\n",
       "\n",
       "            /* Free the memory for the previous frames */\n",
       "            if (fig.imageObj.src) {\n",
       "                (window.URL || window.webkitURL).revokeObjectURL(\n",
       "                    fig.imageObj.src\n",
       "                );\n",
       "            }\n",
       "\n",
       "            fig.imageObj.src = (window.URL || window.webkitURL).createObjectURL(\n",
       "                img\n",
       "            );\n",
       "            fig.updated_canvas_event();\n",
       "            fig.waiting = false;\n",
       "            return;\n",
       "        } else if (\n",
       "            typeof evt.data === 'string' &&\n",
       "            evt.data.slice(0, 21) === 'data:image/png;base64'\n",
       "        ) {\n",
       "            fig.imageObj.src = evt.data;\n",
       "            fig.updated_canvas_event();\n",
       "            fig.waiting = false;\n",
       "            return;\n",
       "        }\n",
       "\n",
       "        var msg = JSON.parse(evt.data);\n",
       "        var msg_type = msg['type'];\n",
       "\n",
       "        // Call the  \"handle_{type}\" callback, which takes\n",
       "        // the figure and JSON message as its only arguments.\n",
       "        try {\n",
       "            var callback = fig['handle_' + msg_type];\n",
       "        } catch (e) {\n",
       "            console.log(\n",
       "                \"No handler for the '\" + msg_type + \"' message type: \",\n",
       "                msg\n",
       "            );\n",
       "            return;\n",
       "        }\n",
       "\n",
       "        if (callback) {\n",
       "            try {\n",
       "                // console.log(\"Handling '\" + msg_type + \"' message: \", msg);\n",
       "                callback(fig, msg);\n",
       "            } catch (e) {\n",
       "                console.log(\n",
       "                    \"Exception inside the 'handler_\" + msg_type + \"' callback:\",\n",
       "                    e,\n",
       "                    e.stack,\n",
       "                    msg\n",
       "                );\n",
       "            }\n",
       "        }\n",
       "    };\n",
       "};\n",
       "\n",
       "// from https://stackoverflow.com/questions/1114465/getting-mouse-location-in-canvas\n",
       "mpl.findpos = function (e) {\n",
       "    //this section is from http://www.quirksmode.org/js/events_properties.html\n",
       "    var targ;\n",
       "    if (!e) {\n",
       "        e = window.event;\n",
       "    }\n",
       "    if (e.target) {\n",
       "        targ = e.target;\n",
       "    } else if (e.srcElement) {\n",
       "        targ = e.srcElement;\n",
       "    }\n",
       "    if (targ.nodeType === 3) {\n",
       "        // defeat Safari bug\n",
       "        targ = targ.parentNode;\n",
       "    }\n",
       "\n",
       "    // pageX,Y are the mouse positions relative to the document\n",
       "    var boundingRect = targ.getBoundingClientRect();\n",
       "    var x = e.pageX - (boundingRect.left + document.body.scrollLeft);\n",
       "    var y = e.pageY - (boundingRect.top + document.body.scrollTop);\n",
       "\n",
       "    return { x: x, y: y };\n",
       "};\n",
       "\n",
       "/*\n",
       " * return a copy of an object with only non-object keys\n",
       " * we need this to avoid circular references\n",
       " * https://stackoverflow.com/a/24161582/3208463\n",
       " */\n",
       "function simpleKeys(original) {\n",
       "    return Object.keys(original).reduce(function (obj, key) {\n",
       "        if (typeof original[key] !== 'object') {\n",
       "            obj[key] = original[key];\n",
       "        }\n",
       "        return obj;\n",
       "    }, {});\n",
       "}\n",
       "\n",
       "mpl.figure.prototype.mouse_event = function (event, name) {\n",
       "    var canvas_pos = mpl.findpos(event);\n",
       "\n",
       "    if (name === 'button_press') {\n",
       "        this.canvas.focus();\n",
       "        this.canvas_div.focus();\n",
       "    }\n",
       "\n",
       "    var x = canvas_pos.x * this.ratio;\n",
       "    var y = canvas_pos.y * this.ratio;\n",
       "\n",
       "    this.send_message(name, {\n",
       "        x: x,\n",
       "        y: y,\n",
       "        button: event.button,\n",
       "        step: event.step,\n",
       "        guiEvent: simpleKeys(event),\n",
       "    });\n",
       "\n",
       "    /* This prevents the web browser from automatically changing to\n",
       "     * the text insertion cursor when the button is pressed.  We want\n",
       "     * to control all of the cursor setting manually through the\n",
       "     * 'cursor' event from matplotlib */\n",
       "    event.preventDefault();\n",
       "    return false;\n",
       "};\n",
       "\n",
       "mpl.figure.prototype._key_event_extra = function (_event, _name) {\n",
       "    // Handle any extra behaviour associated with a key event\n",
       "};\n",
       "\n",
       "mpl.figure.prototype.key_event = function (event, name) {\n",
       "    // Prevent repeat events\n",
       "    if (name === 'key_press') {\n",
       "        if (event.key === this._key) {\n",
       "            return;\n",
       "        } else {\n",
       "            this._key = event.key;\n",
       "        }\n",
       "    }\n",
       "    if (name === 'key_release') {\n",
       "        this._key = null;\n",
       "    }\n",
       "\n",
       "    var value = '';\n",
       "    if (event.ctrlKey && event.key !== 'Control') {\n",
       "        value += 'ctrl+';\n",
       "    }\n",
       "    else if (event.altKey && event.key !== 'Alt') {\n",
       "        value += 'alt+';\n",
       "    }\n",
       "    else if (event.shiftKey && event.key !== 'Shift') {\n",
       "        value += 'shift+';\n",
       "    }\n",
       "\n",
       "    value += 'k' + event.key;\n",
       "\n",
       "    this._key_event_extra(event, name);\n",
       "\n",
       "    this.send_message(name, { key: value, guiEvent: simpleKeys(event) });\n",
       "    return false;\n",
       "};\n",
       "\n",
       "mpl.figure.prototype.toolbar_button_onclick = function (name) {\n",
       "    if (name === 'download') {\n",
       "        this.handle_save(this, null);\n",
       "    } else {\n",
       "        this.send_message('toolbar_button', { name: name });\n",
       "    }\n",
       "};\n",
       "\n",
       "mpl.figure.prototype.toolbar_button_onmouseover = function (tooltip) {\n",
       "    this.message.textContent = tooltip;\n",
       "};\n",
       "\n",
       "///////////////// REMAINING CONTENT GENERATED BY embed_js.py /////////////////\n",
       "// prettier-ignore\n",
       "var _JSXTOOLS_RESIZE_OBSERVER=function(A){var t,i=new WeakMap,n=new WeakMap,a=new WeakMap,r=new WeakMap,o=new Set;function s(e){if(!(this instanceof s))throw new TypeError(\"Constructor requires 'new' operator\");i.set(this,e)}function h(){throw new TypeError(\"Function is not a constructor\")}function c(e,t,i,n){e=0 in arguments?Number(arguments[0]):0,t=1 in arguments?Number(arguments[1]):0,i=2 in arguments?Number(arguments[2]):0,n=3 in arguments?Number(arguments[3]):0,this.right=(this.x=this.left=e)+(this.width=i),this.bottom=(this.y=this.top=t)+(this.height=n),Object.freeze(this)}function d(){t=requestAnimationFrame(d);var s=new WeakMap,p=new Set;o.forEach((function(t){r.get(t).forEach((function(i){var r=t instanceof window.SVGElement,o=a.get(t),d=r?0:parseFloat(o.paddingTop),f=r?0:parseFloat(o.paddingRight),l=r?0:parseFloat(o.paddingBottom),u=r?0:parseFloat(o.paddingLeft),g=r?0:parseFloat(o.borderTopWidth),m=r?0:parseFloat(o.borderRightWidth),w=r?0:parseFloat(o.borderBottomWidth),b=u+f,F=d+l,v=(r?0:parseFloat(o.borderLeftWidth))+m,W=g+w,y=r?0:t.offsetHeight-W-t.clientHeight,E=r?0:t.offsetWidth-v-t.clientWidth,R=b+v,z=F+W,M=r?t.width:parseFloat(o.width)-R-E,O=r?t.height:parseFloat(o.height)-z-y;if(n.has(t)){var k=n.get(t);if(k[0]===M&&k[1]===O)return}n.set(t,[M,O]);var S=Object.create(h.prototype);S.target=t,S.contentRect=new c(u,d,M,O),s.has(i)||(s.set(i,[]),p.add(i)),s.get(i).push(S)}))})),p.forEach((function(e){i.get(e).call(e,s.get(e),e)}))}return s.prototype.observe=function(i){if(i instanceof window.Element){r.has(i)||(r.set(i,new Set),o.add(i),a.set(i,window.getComputedStyle(i)));var n=r.get(i);n.has(this)||n.add(this),cancelAnimationFrame(t),t=requestAnimationFrame(d)}},s.prototype.unobserve=function(i){if(i instanceof window.Element&&r.has(i)){var n=r.get(i);n.has(this)&&(n.delete(this),n.size||(r.delete(i),o.delete(i))),n.size||r.delete(i),o.size||cancelAnimationFrame(t)}},A.DOMRectReadOnly=c,A.ResizeObserver=s,A.ResizeObserverEntry=h,A}; // eslint-disable-line\n",
       "mpl.toolbar_items = [[\"Home\", \"Reset original view\", \"fa fa-home icon-home\", \"home\"], [\"Back\", \"Back to previous view\", \"fa fa-arrow-left icon-arrow-left\", \"back\"], [\"Forward\", \"Forward to next view\", \"fa fa-arrow-right icon-arrow-right\", \"forward\"], [\"\", \"\", \"\", \"\"], [\"Pan\", \"Left button pans, Right button zooms\\nx/y fixes axis, CTRL fixes aspect\", \"fa fa-arrows icon-move\", \"pan\"], [\"Zoom\", \"Zoom to rectangle\\nx/y fixes axis\", \"fa fa-square-o icon-check-empty\", \"zoom\"], [\"\", \"\", \"\", \"\"], [\"Download\", \"Download plot\", \"fa fa-floppy-o icon-save\", \"download\"]];\n",
       "\n",
       "mpl.extensions = [\"eps\", \"jpeg\", \"pgf\", \"pdf\", \"png\", \"ps\", \"raw\", \"svg\", \"tif\"];\n",
       "\n",
       "mpl.default_extension = \"png\";/* global mpl */\n",
       "\n",
       "var comm_websocket_adapter = function (comm) {\n",
       "    // Create a \"websocket\"-like object which calls the given IPython comm\n",
       "    // object with the appropriate methods. Currently this is a non binary\n",
       "    // socket, so there is still some room for performance tuning.\n",
       "    var ws = {};\n",
       "\n",
       "    ws.binaryType = comm.kernel.ws.binaryType;\n",
       "    ws.readyState = comm.kernel.ws.readyState;\n",
       "    function updateReadyState(_event) {\n",
       "        if (comm.kernel.ws) {\n",
       "            ws.readyState = comm.kernel.ws.readyState;\n",
       "        } else {\n",
       "            ws.readyState = 3; // Closed state.\n",
       "        }\n",
       "    }\n",
       "    comm.kernel.ws.addEventListener('open', updateReadyState);\n",
       "    comm.kernel.ws.addEventListener('close', updateReadyState);\n",
       "    comm.kernel.ws.addEventListener('error', updateReadyState);\n",
       "\n",
       "    ws.close = function () {\n",
       "        comm.close();\n",
       "    };\n",
       "    ws.send = function (m) {\n",
       "        //console.log('sending', m);\n",
       "        comm.send(m);\n",
       "    };\n",
       "    // Register the callback with on_msg.\n",
       "    comm.on_msg(function (msg) {\n",
       "        //console.log('receiving', msg['content']['data'], msg);\n",
       "        var data = msg['content']['data'];\n",
       "        if (data['blob'] !== undefined) {\n",
       "            data = {\n",
       "                data: new Blob(msg['buffers'], { type: data['blob'] }),\n",
       "            };\n",
       "        }\n",
       "        // Pass the mpl event to the overridden (by mpl) onmessage function.\n",
       "        ws.onmessage(data);\n",
       "    });\n",
       "    return ws;\n",
       "};\n",
       "\n",
       "mpl.mpl_figure_comm = function (comm, msg) {\n",
       "    // This is the function which gets called when the mpl process\n",
       "    // starts-up an IPython Comm through the \"matplotlib\" channel.\n",
       "\n",
       "    var id = msg.content.data.id;\n",
       "    // Get hold of the div created by the display call when the Comm\n",
       "    // socket was opened in Python.\n",
       "    var element = document.getElementById(id);\n",
       "    var ws_proxy = comm_websocket_adapter(comm);\n",
       "\n",
       "    function ondownload(figure, _format) {\n",
       "        window.open(figure.canvas.toDataURL());\n",
       "    }\n",
       "\n",
       "    var fig = new mpl.figure(id, ws_proxy, ondownload, element);\n",
       "\n",
       "    // Call onopen now - mpl needs it, as it is assuming we've passed it a real\n",
       "    // web socket which is closed, not our websocket->open comm proxy.\n",
       "    ws_proxy.onopen();\n",
       "\n",
       "    fig.parent_element = element;\n",
       "    fig.cell_info = mpl.find_output_cell(\"<div id='\" + id + \"'></div>\");\n",
       "    if (!fig.cell_info) {\n",
       "        console.error('Failed to find cell for figure', id, fig);\n",
       "        return;\n",
       "    }\n",
       "    fig.cell_info[0].output_area.element.on(\n",
       "        'cleared',\n",
       "        { fig: fig },\n",
       "        fig._remove_fig_handler\n",
       "    );\n",
       "};\n",
       "\n",
       "mpl.figure.prototype.handle_close = function (fig, msg) {\n",
       "    var width = fig.canvas.width / fig.ratio;\n",
       "    fig.cell_info[0].output_area.element.off(\n",
       "        'cleared',\n",
       "        fig._remove_fig_handler\n",
       "    );\n",
       "    fig.resizeObserverInstance.unobserve(fig.canvas_div);\n",
       "\n",
       "    // Update the output cell to use the data from the current canvas.\n",
       "    fig.push_to_output();\n",
       "    var dataURL = fig.canvas.toDataURL();\n",
       "    // Re-enable the keyboard manager in IPython - without this line, in FF,\n",
       "    // the notebook keyboard shortcuts fail.\n",
       "    IPython.keyboard_manager.enable();\n",
       "    fig.parent_element.innerHTML =\n",
       "        '<img src=\"' + dataURL + '\" width=\"' + width + '\">';\n",
       "    fig.close_ws(fig, msg);\n",
       "};\n",
       "\n",
       "mpl.figure.prototype.close_ws = function (fig, msg) {\n",
       "    fig.send_message('closing', msg);\n",
       "    // fig.ws.close()\n",
       "};\n",
       "\n",
       "mpl.figure.prototype.push_to_output = function (_remove_interactive) {\n",
       "    // Turn the data on the canvas into data in the output cell.\n",
       "    var width = this.canvas.width / this.ratio;\n",
       "    var dataURL = this.canvas.toDataURL();\n",
       "    this.cell_info[1]['text/html'] =\n",
       "        '<img src=\"' + dataURL + '\" width=\"' + width + '\">';\n",
       "};\n",
       "\n",
       "mpl.figure.prototype.updated_canvas_event = function () {\n",
       "    // Tell IPython that the notebook contents must change.\n",
       "    IPython.notebook.set_dirty(true);\n",
       "    this.send_message('ack', {});\n",
       "    var fig = this;\n",
       "    // Wait a second, then push the new image to the DOM so\n",
       "    // that it is saved nicely (might be nice to debounce this).\n",
       "    setTimeout(function () {\n",
       "        fig.push_to_output();\n",
       "    }, 1000);\n",
       "};\n",
       "\n",
       "mpl.figure.prototype._init_toolbar = function () {\n",
       "    var fig = this;\n",
       "\n",
       "    var toolbar = document.createElement('div');\n",
       "    toolbar.classList = 'btn-toolbar';\n",
       "    this.root.appendChild(toolbar);\n",
       "\n",
       "    function on_click_closure(name) {\n",
       "        return function (_event) {\n",
       "            return fig.toolbar_button_onclick(name);\n",
       "        };\n",
       "    }\n",
       "\n",
       "    function on_mouseover_closure(tooltip) {\n",
       "        return function (event) {\n",
       "            if (!event.currentTarget.disabled) {\n",
       "                return fig.toolbar_button_onmouseover(tooltip);\n",
       "            }\n",
       "        };\n",
       "    }\n",
       "\n",
       "    fig.buttons = {};\n",
       "    var buttonGroup = document.createElement('div');\n",
       "    buttonGroup.classList = 'btn-group';\n",
       "    var button;\n",
       "    for (var toolbar_ind in mpl.toolbar_items) {\n",
       "        var name = mpl.toolbar_items[toolbar_ind][0];\n",
       "        var tooltip = mpl.toolbar_items[toolbar_ind][1];\n",
       "        var image = mpl.toolbar_items[toolbar_ind][2];\n",
       "        var method_name = mpl.toolbar_items[toolbar_ind][3];\n",
       "\n",
       "        if (!name) {\n",
       "            /* Instead of a spacer, we start a new button group. */\n",
       "            if (buttonGroup.hasChildNodes()) {\n",
       "                toolbar.appendChild(buttonGroup);\n",
       "            }\n",
       "            buttonGroup = document.createElement('div');\n",
       "            buttonGroup.classList = 'btn-group';\n",
       "            continue;\n",
       "        }\n",
       "\n",
       "        button = fig.buttons[name] = document.createElement('button');\n",
       "        button.classList = 'btn btn-default';\n",
       "        button.href = '#';\n",
       "        button.title = name;\n",
       "        button.innerHTML = '<i class=\"fa ' + image + ' fa-lg\"></i>';\n",
       "        button.addEventListener('click', on_click_closure(method_name));\n",
       "        button.addEventListener('mouseover', on_mouseover_closure(tooltip));\n",
       "        buttonGroup.appendChild(button);\n",
       "    }\n",
       "\n",
       "    if (buttonGroup.hasChildNodes()) {\n",
       "        toolbar.appendChild(buttonGroup);\n",
       "    }\n",
       "\n",
       "    // Add the status bar.\n",
       "    var status_bar = document.createElement('span');\n",
       "    status_bar.classList = 'mpl-message pull-right';\n",
       "    toolbar.appendChild(status_bar);\n",
       "    this.message = status_bar;\n",
       "\n",
       "    // Add the close button to the window.\n",
       "    var buttongrp = document.createElement('div');\n",
       "    buttongrp.classList = 'btn-group inline pull-right';\n",
       "    button = document.createElement('button');\n",
       "    button.classList = 'btn btn-mini btn-primary';\n",
       "    button.href = '#';\n",
       "    button.title = 'Stop Interaction';\n",
       "    button.innerHTML = '<i class=\"fa fa-power-off icon-remove icon-large\"></i>';\n",
       "    button.addEventListener('click', function (_evt) {\n",
       "        fig.handle_close(fig, {});\n",
       "    });\n",
       "    button.addEventListener(\n",
       "        'mouseover',\n",
       "        on_mouseover_closure('Stop Interaction')\n",
       "    );\n",
       "    buttongrp.appendChild(button);\n",
       "    var titlebar = this.root.querySelector('.ui-dialog-titlebar');\n",
       "    titlebar.insertBefore(buttongrp, titlebar.firstChild);\n",
       "};\n",
       "\n",
       "mpl.figure.prototype._remove_fig_handler = function (event) {\n",
       "    var fig = event.data.fig;\n",
       "    if (event.target !== this) {\n",
       "        // Ignore bubbled events from children.\n",
       "        return;\n",
       "    }\n",
       "    fig.close_ws(fig, {});\n",
       "};\n",
       "\n",
       "mpl.figure.prototype._root_extra_style = function (el) {\n",
       "    el.style.boxSizing = 'content-box'; // override notebook setting of border-box.\n",
       "};\n",
       "\n",
       "mpl.figure.prototype._canvas_extra_style = function (el) {\n",
       "    // this is important to make the div 'focusable\n",
       "    el.setAttribute('tabindex', 0);\n",
       "    // reach out to IPython and tell the keyboard manager to turn it's self\n",
       "    // off when our div gets focus\n",
       "\n",
       "    // location in version 3\n",
       "    if (IPython.notebook.keyboard_manager) {\n",
       "        IPython.notebook.keyboard_manager.register_events(el);\n",
       "    } else {\n",
       "        // location in version 2\n",
       "        IPython.keyboard_manager.register_events(el);\n",
       "    }\n",
       "};\n",
       "\n",
       "mpl.figure.prototype._key_event_extra = function (event, _name) {\n",
       "    // Check for shift+enter\n",
       "    if (event.shiftKey && event.which === 13) {\n",
       "        this.canvas_div.blur();\n",
       "        // select the cell after this one\n",
       "        var index = IPython.notebook.find_cell_index(this.cell_info[0]);\n",
       "        IPython.notebook.select(index + 1);\n",
       "    }\n",
       "};\n",
       "\n",
       "mpl.figure.prototype.handle_save = function (fig, _msg) {\n",
       "    fig.ondownload(fig, null);\n",
       "};\n",
       "\n",
       "mpl.find_output_cell = function (html_output) {\n",
       "    // Return the cell and output element which can be found *uniquely* in the notebook.\n",
       "    // Note - this is a bit hacky, but it is done because the \"notebook_saving.Notebook\"\n",
       "    // IPython event is triggered only after the cells have been serialised, which for\n",
       "    // our purposes (turning an active figure into a static one), is too late.\n",
       "    var cells = IPython.notebook.get_cells();\n",
       "    var ncells = cells.length;\n",
       "    for (var i = 0; i < ncells; i++) {\n",
       "        var cell = cells[i];\n",
       "        if (cell.cell_type === 'code') {\n",
       "            for (var j = 0; j < cell.output_area.outputs.length; j++) {\n",
       "                var data = cell.output_area.outputs[j];\n",
       "                if (data.data) {\n",
       "                    // IPython >= 3 moved mimebundle to data attribute of output\n",
       "                    data = data.data;\n",
       "                }\n",
       "                if (data['text/html'] === html_output) {\n",
       "                    return [cell, data, j];\n",
       "                }\n",
       "            }\n",
       "        }\n",
       "    }\n",
       "};\n",
       "\n",
       "// Register the function which deals with the matplotlib target/channel.\n",
       "// The kernel may be null if the page has been refreshed.\n",
       "if (IPython.notebook.kernel !== null) {\n",
       "    IPython.notebook.kernel.comm_manager.register_target(\n",
       "        'matplotlib',\n",
       "        mpl.mpl_figure_comm\n",
       "    );\n",
       "}\n"
      ],
      "text/plain": [
       "<IPython.core.display.Javascript object>"
      ]
     },
     "metadata": {},
     "output_type": "display_data"
    },
    {
     "data": {
      "text/html": [
       "<img src=\"data:image/png;base64,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\" width=\"640\">"
      ],
      "text/plain": [
       "<IPython.core.display.HTML object>"
      ]
     },
     "metadata": {},
     "output_type": "display_data"
    }
   ],
   "source": [
    "plt.hist(V_eq_ens, 50)\n",
    "plt.grid(True)"
   ]
  },
  {
   "cell_type": "markdown",
   "metadata": {},
   "source": [
    "\n",
    "Use the [NumPy function standard deviation function](https://docs.scipy.org/doc/numpy/reference/generated/numpy.std.html#numpy-std) to obtain the standard deviation of the ensemble.\n"
   ]
  },
  {
   "cell_type": "code",
   "execution_count": 78,
   "metadata": {},
   "outputs": [
    {
     "name": "stdout",
     "output_type": "stream",
     "text": [
      "0.6002060332412464\n"
     ]
    }
   ],
   "source": [
    "# error = ...\n",
    "# print(error)\n",
    "\n",
    "# teacher\n",
    "error = np.std(V_eq_ens)\n",
    "print(error)"
   ]
  },
  {
   "cell_type": "markdown",
   "metadata": {},
   "source": [
    "\n",
    "The equilibrium potential for a FePO$_4$/Li battery is thus as a good estimate:\n"
   ]
  },
  {
   "cell_type": "code",
   "execution_count": 79,
   "metadata": {},
   "outputs": [
    {
     "name": "stdout",
     "output_type": "stream",
     "text": [
      "-7.23 V +- 0.60 V\n"
     ]
    }
   ],
   "source": [
    "print(f'{V_eq:.2f} V +- {error:.2f} V')"
   ]
  },
  {
   "cell_type": "markdown",
   "metadata": {},
   "source": [
    "\n",
    "You can get the equilibrium potential for the FePO$_4$/C battery using the intercallation energy of Li in graphite, that you calculated on Day 2. What equilibrium potential do you find? How does that compare to the cell voltage you can obtain from FePO$_4$/C batteries?\n"
   ]
  },
  {
   "cell_type": "code",
   "execution_count": null,
   "metadata": {},
   "outputs": [],
   "source": [
    "# You can use this cell for FePO4/C potential calculation"
   ]
  },
  {
   "cell_type": "markdown",
   "metadata": {},
   "source": [
    "\n",
    "Make sure you are able to discuss the bullet points at the top of this notebook. You can use the cell below for calculations.\n"
   ]
  },
  {
   "cell_type": "code",
   "execution_count": null,
   "metadata": {},
   "outputs": [],
   "source": []
  },
  {
   "cell_type": "markdown",
   "metadata": {},
   "source": [
    "\n",
    "## Bonus\n"
   ]
  },
  {
   "cell_type": "markdown",
   "metadata": {},
   "source": [
    "\n",
    "How does the predicted error estimate change if you consider the full reaction from Li in graphite + FePO4  to empty graphite + LiFePO4.\n"
   ]
  }
 ],
 "metadata": {
  "kernelspec": {
   "display_name": "CAMD2022",
   "language": "python",
   "name": "camd2022"
  },
  "language_info": {
   "codemirror_mode": {
    "name": "ipython",
    "version": 3
   },
   "file_extension": ".py",
   "mimetype": "text/x-python",
   "name": "python",
   "nbconvert_exporter": "python",
   "pygments_lexer": "ipython3",
   "version": "3.8.5"
  }
 },
 "nbformat": 4,
 "nbformat_minor": 1
}
