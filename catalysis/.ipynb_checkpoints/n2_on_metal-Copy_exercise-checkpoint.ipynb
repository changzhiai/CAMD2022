{
 "cells": [
  {
   "cell_type": "markdown",
   "metadata": {},
   "source": [
    "\n",
    "### Exercise\n",
    "\n",
    "1) Make a new notebook and set up an adsorption configuration where the N<sub>2</sub> molecule is lying down with the center of mass above a three-fold hollow site as shown below. Use an adsorption height of 1.7 Å.\n",
    "\n",
    "<img src=\"N2Ru_hollow.png\">\n",
    "\n",
    "Remember that you can read in the `traj` files you have saved, so you don't need to optimise the surface again.\n",
    "\n",
    "View the combined system before you optimize the structure to ensure that you created what you intended.\n"
   ]
  },
  {
   "cell_type": "code",
   "execution_count": null,
   "metadata": {},
   "outputs": [],
   "source": [
    "from ase import Atoms\n",
    "from gpaw import GPAW, PW\n",
    "from ase.constraints import FixAtoms\n",
    "from ase.optimize import QuasiNewton\n",
    "from ase.build import fcc111, hcp0001\n",
    "import numpy as np\n",
    "from ase.visualize import view\n",
    "from ase.io import read, write\n",
    "import time\n",
    "\n",
    "a_Ru = 2.704  # PBE value from OQMD.org; expt value is 2.706\n",
    "slab = hcp0001('Ru', a=a_Ru, size=(2, 2, 2), vacuum=5.0)\n",
    "\n",
    "# Other metals are possible, for example Rhodium\n",
    "# Rhodium is FCC so you should use fcc111(...) to set up the system (same arguments).\n",
    "# Remember to set the FCC lattice constant, get it from OQMD.org.\n",
    "\n",
    "# a_Rh = 3.793\n",
    "# slab = fcc111('Rh', a=a_Rh, size=(2, 2, 2), vacuum=5.0)\n",
    "\n",
    "calc = GPAW(xc='PBE',\n",
    "            mode=PW(350),\n",
    "            kpts={'size': (4, 4, 1), 'gamma': True},\n",
    "            convergence={'eigenstates': 1e-6})\n",
    "slab.calc = calc\n",
    "\n",
    "z = slab.positions[:, 2]\n",
    "constraint = FixAtoms(mask=(z < z.min() + 1.0))\n",
    "slab.set_constraint(constraint)\n",
    "dyn = QuasiNewton(slab, trajectory='Ru.traj')\n",
    "t = time.time()\n",
    "dyn.run(fmax=0.05)\n",
    "#print(f'Wall time: {(time.time() - t) / 60} min.')\n",
    "\n",
    "slabN2= read('.traj')\n",
    "#iter0 = read('Ru.traj', index=0)\n",
    "#print('Energy: ', iter0.get_potential_energy())\n",
    "#print('Forces: ', iter0.get_forces())\n",
    "\n",
    "e_slab = slab.get_potential_energy()\n",
    "#print(e_slab)\n",
    "\n",
    "d = 1.10\n",
    "molecule = Atoms('2N', positions=[(0., 0., 0.), (0., 0., d)])\n",
    "molecule.set_cell(slab.get_cell())\n",
    "molecule.center()\n",
    "calc_mol = GPAW(xc='PBE', mode=PW(350))\n",
    "molecule.calc = calc_mol\n",
    "dyn2 = QuasiNewton(molecule, trajectory='N2.traj')\n",
    "dyn2.run(fmax=0.05)\n",
    "e_N2 = molecule.get_potential_energy()\n",
    "\n",
    "#d_N2 = molecule.get_distance(0, 1)\n",
    "#print(d_N2)\n",
    "\n",
    "h = 1.9  # guess at the binding height\n",
    "d = 1.2  # guess at the binding distance\n",
    "slab.positions[4, 2] += 0.2  # pre-relax the binding metal atom.\n",
    "\n",
    "molecule = Atoms('2N', positions=[(0, 0, 0), (0, 0, d)])\n",
    "p = slab.get_positions()[4]\n",
    "molecule.translate(p + (0, 0, h))\n",
    "slabN2 = slab + molecule\n",
    "constraint = FixAtoms(mask=(z < z.min() + 1.0))\n",
    "slabN2.set_constraint(constraint)\n",
    "#view(slabN2)\n",
    "\n",
    "slabN2.calc = calc\n",
    "dyn = QuasiNewton(slabN2, trajectory='N2Ru-top.traj', maxstep=0.02)\n",
    "t = time.time()\n",
    "dyn.run(fmax=0.05)\n",
    "print(f'Wall time: {(time.time() - t) / 60} min.')\n",
    "\n",
    "d_N2_ads2 = slabN2.get_distance(4,8)\n",
    "print(d_N2_ads2)"
   ]
  },
  {
   "cell_type": "code",
   "execution_count": null,
   "metadata": {},
   "outputs": [],
   "source": [
    "slab = read('Ru.traj')\n",
    "view(slab)"
   ]
  },
  {
   "cell_type": "markdown",
   "metadata": {},
   "source": [
    "\n",
    "Note that when viewing the structure, you can find the index of the individual atoms in the ``slab`` object by clicking on them.\n",
    "\n",
    "You might also find the [`get_center_of_mass()`](https://wiki.fysik.dtu.dk/ase/ase/atoms.html#ase.Atoms.get_center_of_mass) and [`rotate()`](https://wiki.fysik.dtu.dk/ase/ase/atoms.html#ase.Atoms.rotate) methods useful.\n"
   ]
  },
  {
   "cell_type": "code",
   "execution_count": null,
   "metadata": {},
   "outputs": [],
   "source": []
  },
  {
   "cell_type": "code",
   "execution_count": null,
   "metadata": {},
   "outputs": [],
   "source": []
  },
  {
   "cell_type": "markdown",
   "metadata": {},
   "source": [
    "\n",
    "Now you should optimize the structure as you did before with the N<sub>2</sub> molecule standing.  The calculation will probably bee too long to run interactively in a Notebook.  Prototype it here, then interrupt the calculation and copy-paste the relevant cells into a script.\n",
    "\n",
    "Check the number of irreducible k-points and then submit the job as a batch job running on that number of CPU cores.\n"
   ]
  },
  {
   "cell_type": "code",
   "execution_count": null,
   "metadata": {},
   "outputs": [],
   "source": []
  },
  {
   "cell_type": "code",
   "execution_count": null,
   "metadata": {},
   "outputs": [],
   "source": []
  },
  {
   "cell_type": "code",
   "execution_count": null,
   "metadata": {},
   "outputs": [],
   "source": []
  },
  {
   "cell_type": "markdown",
   "metadata": {},
   "source": [
    "\n",
    "3) Make a configuration where two N atoms are adsorbed in hollow sites on the surface as shown below\n",
    "\n",
    "<img src='2NadsRu.png'>\n",
    "\n",
    "Note that here the two N atoms sit on next-nearest hollow sites.  An alternative would be to have them on nearest neighbor sites.  If you feel energetic you could investigate that as well.  Also, there are two different kinds of hollow sites, they are not completely equivalent!\n"
   ]
  },
  {
   "cell_type": "code",
   "execution_count": null,
   "metadata": {},
   "outputs": [],
   "source": []
  },
  {
   "cell_type": "markdown",
   "metadata": {},
   "source": [
    "\n",
    "Optimise the structure and get the final energy. Is it favourable to dissociate N<sub>2</sub> on the surface? What is the N-N distance now? What does that mean for catalysis?\n"
   ]
  },
  {
   "cell_type": "code",
   "execution_count": null,
   "metadata": {},
   "outputs": [],
   "source": []
  }
 ],
 "metadata": {
  "kernelspec": {
   "display_name": "CAMD2022",
   "language": "python",
   "name": "camd2022"
  },
  "language_info": {
   "codemirror_mode": {
    "name": "ipython",
    "version": 3
   },
   "file_extension": ".py",
   "mimetype": "text/x-python",
   "name": "python",
   "nbconvert_exporter": "python",
   "pygments_lexer": "ipython3",
   "version": "3.8.5"
  }
 },
 "nbformat": 4,
 "nbformat_minor": 1
}
