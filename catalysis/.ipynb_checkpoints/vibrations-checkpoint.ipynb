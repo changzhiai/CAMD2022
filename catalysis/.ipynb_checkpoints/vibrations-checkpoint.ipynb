{
 "cells": [
  {
   "cell_type": "markdown",
   "metadata": {},
   "source": [
    "\n",
    "## Extra exercise - vibrational energy\n",
    "The energy calculated with DFT is the electronic energy at 0K. However, to model catalytic reactions we are usually intereseted in the energy landscape at finite temperature. In this exercise we will calculate the energy contributions from vibrations and see how they affect the splitting of N<sub>2</sub> on Ru.\n",
    "\n",
    "We calculate the vibrational energy in the harmonic approximation using the finite displacement method. For further reading see for example:\n",
    "\n",
    "* [Stoffel et al, Angewandte Chemie Int. Ed., 49, 5242-5266 (2010)](https://onlinelibrary.wiley.com/doi/abs/10.1002/anie.200906780)\n",
    "* [Togo and Tanaka, Scripta Materialia 108, 1-5 (2015)](https://www.sciencedirect.com/science/article/pii/S1359646215003127)\n",
    "\n",
    "### Vibrational energy of the initial and final states\n",
    "a) Calculating vibrations requires tighter convergence than normal energy calculations. Therefore you should first take your already optimised initial and final state geometries from the NEB calculations and relax them further to `fmax=0.01eV/Å` with the QuasiNewton optimiser and an energy cutoff of 450eV. Converge the eigenstates to 1e-8. (Note that for other systems you might need even tighter convergence!)\n",
    "\n",
    "Submit the structures to the queue. The optimisation should take 10-15 mins for each structure on 8 cores.\n"
   ]
  },
  {
   "cell_type": "code",
   "execution_count": null,
   "metadata": {},
   "outputs": [],
   "source": []
  },
  {
   "cell_type": "markdown",
   "metadata": {},
   "source": [
    "\n",
    "b) Once you have done this you can calculate the vibrations using the [vibrations module in ASE](https://wiki.fysik.dtu.dk/ase/ase/vibrations/vibrations.html) following the template below. We only calculate the vibrations of the adsorbate and assume that the frequencies of the substrate are unchanged - this is a common assumption. Use 4 displacements to fit the frequencies and the same calculator parameters as in a).\n",
    "Submit the calculations for the initial and the final state to the queue. It will take a while to run, but you can start preparing your analysis (part c and d) or read some of the references in the meantime.\n"
   ]
  },
  {
   "cell_type": "code",
   "execution_count": null,
   "metadata": {},
   "outputs": [],
   "source": [
    "# You can't run this cell - use it as a starting point for your python script!\n",
    "from ase.io import read\n",
    "from ase.vibrations import Vibrations\n",
    "from gpaw import GPAW, PW\n",
    "\n",
    "slab = read('path_to_your_structure')\n",
    "calc = GPAW(xc='PBE',\n",
    "            mode=PW(450),\n",
    "            kpts=?,\n",
    "            convergence={'eigenstates': 1e-8},  # student; convergence=?,\n",
    "            symmetry={'point_group': False},\n",
    "            txt='vib.txt')\n",
    "slab.calc = calc\n",
    "Uini = slab.get_potential_energy()\n",
    "\n",
    "vib = Vibrations(slab,\n",
    "                 name='vib',\n",
    "                 indices=[?, ?],\n",
    "                 nfree=4)\n",
    "vib.run()\n",
    "vib.summary(log='vib_summary.log')\n",
    "for i in range(6):\n",
    "    vib.write_mode(i)"
   ]
  },
  {
   "cell_type": "code",
   "execution_count": null,
   "metadata": {},
   "outputs": [],
   "source": [
    "from ase.io import read\n",
    "from ase.vibrations import Vibrations\n",
    "from gpaw import GPAW, PW\n",
    "\n",
    "slab = read('tight-2Nads.traj')\n",
    "calc = GPAW(xc='PBE',\n",
    "            mode=PW(450),\n",
    "            kpts=?,\n",
    "            convergence={'eigenstates': 1e-8},  # student; convergence=?,\n",
    "            symmetry={'point_group': False},\n",
    "            txt='vib2.txt')\n",
    "slab.calc = calc\n",
    "Ufin = slab.get_potential_energy()\n",
    "\n",
    "vib2 = Vibrations(slab,\n",
    "                  name='vib2',\n",
    "                  indices=[?, ?],\n",
    "                  nfree=4)\n",
    "vib2.run()\n",
    "vib2.summary(log='vib2_summary.log')\n",
    "for i in range(6):\n",
    "    vib2.write_mode(i)"
   ]
  },
  {
   "cell_type": "markdown",
   "metadata": {},
   "source": [
    "\n",
    "The final three lines write out the frequencies and `.traj` files with animations of the different modes in order of their energy. Take a look at the vibrational modes in the files. Do you understand why the first mode has a low energy, while the last one has a high energy?\n"
   ]
  },
  {
   "cell_type": "markdown",
   "metadata": {},
   "source": [
    "\n",
    "c) Analyse the frequencies in the harmonic approximation:\n"
   ]
  },
  {
   "cell_type": "code",
   "execution_count": null,
   "metadata": {},
   "outputs": [],
   "source": [
    "from ase.thermochemistry import HarmonicThermo\n",
    "\n",
    "T = 300  # Kelvin\n",
    "energies = [0.01, 0.05, 0.10]  # An example only - insert your calculated energy levels here - in eV!\n",
    "vibs = HarmonicThermo(energies)\n",
    "Efree = vibs.get_helmholtz_energy(T, verbose=True)\n",
    "print('Free energy at 300 K: ', Efree)"
   ]
  },
  {
   "cell_type": "markdown",
   "metadata": {},
   "source": [
    "\n",
    "The `verbose` keyword gives a detailed description of the different contributions to the free energy. For more information on what the different contributions are see the [ASE background webpage](https://wiki.fysik.dtu.dk/ase/ase/thermochemistry/thermochemistry.html#background) (go to the **Harmonic limit** sub-heading).\n",
    "Now try to calculate how the different contributions change with temperature. You can for example make a `for` loop and use the `get_entropy()` and `get_internal_energy()` methods [(see description here)](https://wiki.fysik.dtu.dk/ase/ase/thermochemistry/thermochemistry.html#ase.thermochemistry.IdealGasThermo.get_enthalpy).\n"
   ]
  },
  {
   "cell_type": "markdown",
   "metadata": {},
   "source": [
    "\n",
    "d) Calculate how the vibrational energy affects the overall reaction energy. How does it change with temperature? Which contribution is important for the change in reaction energy?\n"
   ]
  },
  {
   "cell_type": "code",
   "execution_count": null,
   "metadata": {},
   "outputs": [],
   "source": []
  },
  {
   "cell_type": "markdown",
   "metadata": {},
   "source": [
    "\n",
    "e) To make sure that your NEB is converged you should also calculate the vibrational energy of the transition state. Again, this requires tighter convergence than we have used in the NEB exercise. This takes a while to run so to save time, we provide the transition state geometry from a reasonably converged NEB (i.e. `fmax=0.01`, a cutoff energy of 500eV and eigenstates converged to 1e-8) in the file `TS.xyz`. Calculate the vibrations with these parameters. How many imaginary modes do you get and how do they look? What does this mean?\n"
   ]
  },
  {
   "cell_type": "code",
   "execution_count": null,
   "metadata": {},
   "outputs": [],
   "source": []
  },
  {
   "cell_type": "code",
   "execution_count": null,
   "metadata": {},
   "outputs": [],
   "source": []
  }
 ],
 "metadata": {
  "kernelspec": {
   "display_name": "CAMD2022",
   "language": "python",
   "name": "camd2022"
  },
  "language_info": {
   "codemirror_mode": {
    "name": "ipython",
    "version": 3
   },
   "file_extension": ".py",
   "mimetype": "text/x-python",
   "name": "python",
   "nbconvert_exporter": "python",
   "pygments_lexer": "ipython3",
   "version": "3.8.5"
  }
 },
 "nbformat": 4,
 "nbformat_minor": 1
}
