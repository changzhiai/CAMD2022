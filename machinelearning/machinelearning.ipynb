{
 "cells": [
  {
   "cell_type": "code",
   "execution_count": null,
   "metadata": {},
   "outputs": [],
   "source": []
  },
  {
   "cell_type": "markdown",
   "metadata": {},
   "source": [
    "\n",
    "# Introduction\n",
    "\n",
    "In this series of excercises, you will learn how to work with ase databases,\n",
    "and do some simple machine learning for electronic structure properties. The\n",
    "driving idea is to predict complex properties of compounds from simpler\n",
    "properties, under the slogan that the fastest calculation is the one you\n",
    "don't have to run. We start by importing some relevant packages for\n",
    "scientific python and `ase` in particular.\n"
   ]
  },
  {
   "cell_type": "code",
   "execution_count": 1,
   "metadata": {},
   "outputs": [],
   "source": [
    "%matplotlib inline\n",
    "import numpy as np\n",
    "import matplotlib.pyplot as plt\n",
    "from ase.db import connect"
   ]
  },
  {
   "cell_type": "markdown",
   "metadata": {},
   "source": [
    "\n",
    "In the current directory, there is an `ase` database file called 'organometal.db'.\n",
    "It contains information about organometallic perovskites, and the goal is to\n",
    "predict properties for these. Along with the perovskite compounds, there are\n",
    "also reference calculations of the elements in their standard states. We\n",
    "start by connecting to the database (more info on the `ase db` module can be\n",
    "found [here](https://wiki.fysik.dtu.dk/ase/ase/db/db.html#module-ase.db)),\n",
    "and inspecting a single row:\n"
   ]
  },
  {
   "cell_type": "code",
   "execution_count": 2,
   "metadata": {},
   "outputs": [
    {
     "data": {
      "text/plain": [
       "{'_constraints': [],\n",
       " '_constrained_forces': None,\n",
       " '_data': b'\\x08\\x00\\x00\\x00\\x00\\x00\\x00\\x00{}',\n",
       " '_keys': ['gllbsc_disc',\n",
       "  'project',\n",
       "  'name',\n",
       "  'symmetry',\n",
       "  'gllbsc_ind_gap',\n",
       "  'space_group',\n",
       "  'gllbsc_dir_gap'],\n",
       " 'gllbsc_disc': 1.16255167424,\n",
       " 'project': 'organometal',\n",
       " 'name': 'FAPbCl3',\n",
       " 'symmetry': 'cubic',\n",
       " 'gllbsc_ind_gap': 3.1711144486300005,\n",
       " 'space_group': 'Pm-3m',\n",
       " 'gllbsc_dir_gap': 3.1711144486300005,\n",
       " 'id': 1,\n",
       " 'unique_id': '4308611a5838ff36b1000c1e193f309b',\n",
       " 'ctime': 14.594562483135096,\n",
       " 'mtime': 22.610487681495318,\n",
       " 'user': 'ivca',\n",
       " 'numbers': array([82, 17, 17, 17,  6,  1,  1,  1,  1,  1,  7,  7], dtype=int32),\n",
       " 'positions': array([[-0.06292938,  0.02971551,  0.10378368],\n",
       "        [ 2.80069557,  0.15641387,  0.06054166],\n",
       "        [-0.25643367,  2.90256087, -0.16420323],\n",
       "        [ 0.09866038, -0.0949907 ,  3.23839837],\n",
       "        [ 3.00008247,  3.1180841 ,  2.94410401],\n",
       "        [ 2.64579562,  3.9667072 ,  2.34223777],\n",
       "        [ 4.54241163,  2.77073058,  1.67281093],\n",
       "        [ 1.46391394,  3.31402355,  4.25018857],\n",
       "        [ 4.47929508,  1.68275973,  3.05035906],\n",
       "        [ 2.5736485 ,  2.00491891,  4.61898352],\n",
       "        [ 4.07819104,  2.49354513,  2.55208713],\n",
       "        [ 2.31678785,  2.80192185,  4.01149641]]),\n",
       " 'cell': array([[5.74896796, 0.        , 0.        ],\n",
       "        [0.        , 5.68593932, 0.        ],\n",
       "        [0.        , 0.        , 5.87173275]]),\n",
       " 'pbc': array([ True,  True,  True]),\n",
       " 'initial_magmoms': array([0., 0., 0., 0., 0., 0., 0., 0., 0., 0., 0., 0.]),\n",
       " 'calculator': 'gpaw',\n",
       " 'calculator_parameters': {'xc': 'GGA_X_PBE_SOL+GGA_C_PBE_SOL'},\n",
       " 'energy': -61.01070059250217}"
      ]
     },
     "execution_count": 2,
     "metadata": {},
     "output_type": "execute_result"
    }
   ],
   "source": [
    "db = connect('organometal.db')\n",
    "row = next(db.select(project='organometal'))\n",
    "vars(row)"
   ]
  },
  {
   "cell_type": "markdown",
   "metadata": {},
   "source": [
    "\n",
    "Each row of the database has some key-value pairs, which are stored explicitly, as well as some basic information which is always stored, recording how the data was calculated. Can you identify what each of the keys below refers to?\n",
    "\n",
    "calculator:\n",
    "calculator_parameters:\n",
    "cell:\n",
    "ctime:\n",
    "energy:\n",
    "gllbsc_dir_gap:\n",
    "gllbsc_disc:\n",
    "gllbsc_ind_gap:\n",
    "id:\n",
    "initial_magmoms:\n",
    "mtime:\n",
    "name:\n",
    "numbers:\n",
    "pbc:\n",
    "positions:\n",
    "project:\n",
    "space_group:\n",
    "symmetry:\n",
    "unique_id:\n",
    "user:\n"
   ]
  },
  {
   "cell_type": "markdown",
   "metadata": {},
   "source": [
    "\n",
    "Each row also has a `toatoms()` method, which lets us extract an `ase.Atoms` object from the row.\n"
   ]
  },
  {
   "cell_type": "code",
   "execution_count": 3,
   "metadata": {},
   "outputs": [
    {
     "data": {
      "text/plain": [
       "<subprocess.Popen at 0x7f07582d7910>"
      ]
     },
     "execution_count": 3,
     "metadata": {},
     "output_type": "execute_result"
    }
   ],
   "source": [
    "from ase.visualize import view\n",
    "view(row.toatoms())"
   ]
  },
  {
   "cell_type": "markdown",
   "metadata": {},
   "source": [
    "\n",
    "When doing any kind of data analysis, the first step is always to become familiar with the data in question, on a basic level. The `select()` method of the database applies a query to the database and returns an iterator of all the rows matching that query. To select all rows with a user of `einstein`, we would type `db.select(user='einstein')`. To select all rows with a gllbsc direct gap greater than 0.5 eV, we would type `db.select('gllbsc_dir_gap>0.5')`.\n",
    "Counting the number of hits can be be done using `db.count(key=value)` for some key-value pair.\n",
    "\n",
    "How many rows are there in the database?\n",
    "How many belong to the `organometal` _project_? And how many to the `references` _subproject_?\n"
   ]
  },
  {
   "cell_type": "code",
   "execution_count": 4,
   "metadata": {},
   "outputs": [
    {
     "name": "stdout",
     "output_type": "stream",
     "text": [
      "There are 156 entries, of which 148 are part of the `organometallic` project, and 8 are references.\n"
     ]
    }
   ],
   "source": [
    "N = db.count()\n",
    "om = db.count(project=\"organometal\")\n",
    "refs = db.count(subproject=\"references\")\n",
    "print(f\"There are {N} entries, of which {om} are part of the `organometallic` project, and {refs} are references.\")"
   ]
  },
  {
   "cell_type": "markdown",
   "metadata": {},
   "source": [
    "\n",
    "The structures in the database were generated from the general formula ABX,\n",
    "and then varying A, B and X. X represents a combination of 3 halogen atoms,\n",
    "chosen from [\"Cl\", \"Br\", \"I\"]. The A, B and X is encoded in value for the key\n",
    "`name`, i.e. `row.name -> 'CsPbI3'`. We have also distorted some of the\n",
    "structures, giving four different symmetry types for each atomic composition.\n",
    "\n",
    "1. Try to identity the possible values of A and B.\n",
    "   (Hint: A and B is labeled with two characters `row.name`,\n",
    "   i.e `A='Cs'` and `B='Pb'` in `'CsPbI3'`)\n",
    "\n",
    "2. Can you identify the four different symmetry classes?\n",
    "\n",
    "3. By making all possible combinations of both A, B, X, and symmetries, how\n",
    "   many structures could be generated in total? And how many unique are there,\n",
    "   i.e. without considering the different symmetries?\n"
   ]
  },
  {
   "cell_type": "code",
   "execution_count": 5,
   "metadata": {},
   "outputs": [
    {
     "name": "stdout",
     "output_type": "stream",
     "text": [
      "The A atoms are one of {'FA', 'MA', 'Cs'}. The B atoms are one of {'Pb', 'Sn'}. The used symmetry classes are {'orthorhombic_2', 'tetragonal', 'orthorhombic_1', 'cubic'}.\n",
      "There are 60 unique compounds, and 240 structures, when symmetry is considered.\n"
     ]
    }
   ],
   "source": [
    "from math import comb\n",
    "# general formula ABX\n",
    "Xs = {\"Cl\", \"Br\", \"I\"}\n",
    "As = set()\n",
    "Bs = set()\n",
    "sym_classes = set()\n",
    "for row in db.select(project=\"organometal\"):\n",
    "    As.update((row.name[:2],))\n",
    "    Bs.update((row.name[2:4],))\n",
    "    sym_classes.update((row.symmetry,))\n",
    "\n",
    "print(f\"The A atoms are one of {As}. The B atoms are one of {Bs}. The used symmetry classes are {sym_classes}.\")\n",
    "n_Xs = len(Xs)\n",
    "n_uniq = len(As) * len(Bs) * comb(2 * n_Xs - 1, n_Xs)\n",
    "print(f\"There are {n_uniq} unique compounds, and {len(sym_classes)*n_uniq} structures, when symmetry is considered.\")"
   ]
  },
  {
   "cell_type": "code",
   "execution_count": 6,
   "metadata": {},
   "outputs": [
    {
     "data": {
      "text/plain": [
       "10"
      ]
     },
     "execution_count": 6,
     "metadata": {},
     "output_type": "execute_result"
    }
   ],
   "source": [
    "comb(2 * n_Xs - 1, n_Xs)"
   ]
  },
  {
   "cell_type": "code",
   "execution_count": 7,
   "metadata": {},
   "outputs": [
    {
     "data": {
      "text/plain": [
       "3"
      ]
     },
     "execution_count": 7,
     "metadata": {},
     "output_type": "execute_result"
    }
   ],
   "source": [
    "n_Xs"
   ]
  },
  {
   "cell_type": "markdown",
   "metadata": {},
   "source": [
    "\n",
    "As you can see from the exercise above, two organic molecules (methylammonium MA, formula CH$_6$N and formamidinium FA, formula CH$_5$N$_2$) can be used instead of Cs as cations in the inorganic perovskite template. View the structure of MA and FA from the reference subproject in the database.\n"
   ]
  },
  {
   "cell_type": "code",
   "execution_count": 8,
   "metadata": {},
   "outputs": [
    {
     "data": {
      "text/plain": [
       "<subprocess.Popen at 0x7f0736b34bb0>"
      ]
     },
     "execution_count": 8,
     "metadata": {},
     "output_type": "execute_result"
    }
   ],
   "source": [
    "view(db.get(element=\"MA\").toatoms())\n",
    "view(db.get(element=\"FA\").toatoms())"
   ]
  },
  {
   "cell_type": "markdown",
   "metadata": {},
   "source": [
    "\n",
    "Two good ideas are to plot distributions of interesting quantities, and to calculate some summary statistics of numeric quantities, such as the mean and the variance.\n"
   ]
  },
  {
   "cell_type": "code",
   "execution_count": 9,
   "metadata": {},
   "outputs": [
    {
     "name": "stdout",
     "output_type": "stream",
     "text": [
      "Mean of `gllbsc_disc` = 0.9155\n",
      "Variance of `gllbsc_disc` = 0.1076\n"
     ]
    },
    {
     "data": {
      "image/png": "[encoded data removed]",
      "text/plain": [
       "<Figure size 432x288 with 1 Axes>"
      ]
     },
     "metadata": {
      "needs_background": "light"
     },
     "output_type": "display_data"
    }
   ],
   "source": [
    "organometal_rows = [x for x in db.select(project='organometal')]\n",
    "discs = [x.gllbsc_disc for x in organometal_rows]\n",
    "print(f\"Mean of `gllbsc_disc` = {np.mean(discs):.4f}\")\n",
    "print(f\"Variance of `gllbsc_disc` = {np.var(discs):.4f}\")\n",
    "plt.hist(discs)\n",
    "plt.xlabel('Energy (eV)')\n",
    "plt.show()"
   ]
  },
  {
   "cell_type": "markdown",
   "metadata": {},
   "source": [
    "\n",
    "Make a histogram for each of the numeric quantities in the database, and calculate the mean and variance of these quantities. You can also make scatter plots of one quantitity against another by using the `scatter` method of pyplot, `plt.scatter()`. How do these distributions vary with the `symmetry` keyword of the database?\n"
   ]
  },
  {
   "cell_type": "code",
   "execution_count": 10,
   "metadata": {},
   "outputs": [],
   "source": [
    "numeric_quantities = [\"energy\", \"gllbsc_disc\", \"gllbsc_dir_gap\", \"gllbsc_ind_gap\"]\n"
   ]
  },
  {
   "cell_type": "markdown",
   "metadata": {},
   "source": [
    "\n",
    "The energy contained in each row is an energy with respect to some arbitrary reference, which was set in the original calculation. A more sensible reference is provided by the materials with `subproject == 'references'`. We can calculate the heat of formation per unit cell of the 'MAPbI3' compound as follows:\n"
   ]
  },
  {
   "cell_type": "code",
   "execution_count": 11,
   "metadata": {},
   "outputs": [
    {
     "name": "stdout",
     "output_type": "stream",
     "text": [
      "hof = -0.668 eV/atom\n"
     ]
    }
   ],
   "source": [
    "row = db.get(name='MAPbI3', symmetry='cubic')\n",
    "en_cubic = row.energy\n",
    "en_refs = {}\n",
    "for row in db.select(subproject='references'):\n",
    "    en_refs[row.element] = row.energy / row.natoms\n",
    "\n",
    "E_standard = en_cubic - (8 * en_refs['MA'] + en_refs['Pb'] + 3 * en_refs['I'])\n",
    "print(f'hof = {E_standard / row.natoms:.3f} eV/atom')"
   ]
  },
  {
   "cell_type": "code",
   "execution_count": 12,
   "metadata": {},
   "outputs": [
    {
     "name": "stdout",
     "output_type": "stream",
     "text": [
      "Atoms(symbols='CH5N2', pbc=True, cell=[15.0, 15.0, 15.0], calculator=SinglePointCalculator(...))\n"
     ]
    }
   ],
   "source": [
    "print(row.toatoms())"
   ]
  },
  {
   "cell_type": "markdown",
   "metadata": {},
   "source": [
    "\n",
    "Based on this, can you calculate the difference in heat of formation per formula unit of MAPbI$_3$ in the tetragonal phase versus the cubic phase? What about the heat of formation of FASnBr$_2$Cl in the orthorhombic_1 phase versus the cubic phase of the FASnBr$_3$, and of FASnCl$_3$. (hint: tetragonal and orthorhombic phases have a unit cell larger than the cubic structure).\n"
   ]
  },
  {
   "cell_type": "code",
   "execution_count": 13,
   "metadata": {},
   "outputs": [
    {
     "name": "stdout",
     "output_type": "stream",
     "text": [
      "Mean of `energy` = -139.1946\n",
      "Variance of `energy` = 7592.3967\n",
      "\n",
      "Mean of `gllbsc_disc` = 0.9155\n",
      "Variance of `gllbsc_disc` = 0.1076\n",
      "\n",
      "Mean of `gllbsc_dir_gap` = 2.3065\n",
      "Variance of `gllbsc_dir_gap` = 1.2684\n",
      "\n",
      "Mean of `gllbsc_ind_gap` = 2.2593\n",
      "Variance of `gllbsc_ind_gap` = 1.1715\n",
      "\n"
     ]
    },
    {
     "data": {
      "image/png": "[encoded data removed]",
      "text/plain": [
       "<Figure size 1008x288 with 4 Axes>"
      ]
     },
     "metadata": {
      "needs_background": "light"
     },
     "output_type": "display_data"
    },
    {
     "data": {
      "image/png": "[encoded data removed]",
      "text/plain": [
       "<Figure size 1008x1008 with 16 Axes>"
      ]
     },
     "metadata": {
      "needs_background": "light"
     },
     "output_type": "display_data"
    }
   ],
   "source": [
    "N = len(numeric_quantities)\n",
    "labels = [\"Energy (eV)\", \"Discontinuity (eV)\", \"Direct Gap (eV)\", \"Indirect Gap (eV)\"]\n",
    "all_data = list(db.select(project=\"organometal\"))\n",
    "classes = [x.symmetry for x in all_data]\n",
    "y = np.array(classes)\n",
    "\n",
    "fig, axs = plt.subplots(1, N, sharey=True, figsize=(14,4))\n",
    "axs[0].set_ylabel(\"Counts\")\n",
    "for i, (colm, lab) in enumerate(zip(numeric_quantities, labels)):\n",
    "    x = [r[colm] for r in all_data]\n",
    "    axs[i].hist(x)\n",
    "    axs[i].set_xlabel(lab)\n",
    "    print(f\"Mean of `{colm}` = {np.mean(x):.4f}\")\n",
    "    print(f\"Variance of `{colm}` = {np.var(x):.4f}\\n\")\n",
    "fig.tight_layout()\n",
    "plt.show()\n",
    "\n",
    "X = np.array([[x[c] for c in numeric_quantities] for x in all_data])\n",
    "fig, axs = plt.subplots(N, N, figsize=(14,14))\n",
    "for n1 in range(N):\n",
    "    for n2 in range(N):\n",
    "        for c in set(classes):\n",
    "            ax = axs[n1, n2]\n",
    "            mask = (c==y)\n",
    "            ax.scatter(X[mask, n2], X[mask, n1])\n",
    "            if n1 == N-1:\n",
    "                ax.set_xlabel(numeric_quantities[n2])\n",
    "            else:\n",
    "                ax.set_xticks([])\n",
    "            if n2 == 0:\n",
    "                ax.set_ylabel(numeric_quantities[n1])\n",
    "            else:\n",
    "                ax.set_yticks([])\n",
    "fig.tight_layout()\n",
    "axs[0, 0].legend(list(set(classes)), loc='upper left')\n",
    "plt.show()"
   ]
  },
  {
   "cell_type": "markdown",
   "metadata": {},
   "source": [
    "\n",
    "# Machine Learning\n",
    "\n",
    "Machine Learning is the science of getting computers to learn and act like humans do, and improve their learning over time in autonomous fashion, by feeding them data and information in the form of observations and real-world interactions. The crucial idea is that the computer should be able to improve its performance at a given task as we give it more information. A tutorial on machine learning in general can be found [here](http://scikit-learn.org/stable/tutorial/basic/tutorial.html).\n",
    "\n",
    "In this workbook we will be carrying  out a supervised learning task, where we attempt to predict a particular (known) attribute of a given structure, based on other attributes of the structure. This can be useful if it allows us to use easy-to-calculate properties to say something about quantities which are difficult to calculate. This approach to learning, where we attempt to find a map $f$ from the attributes, $X$, of our data to some target property, $y$, is known as supervised learning. See [here](https://en.wikipedia.org/wiki/Supervised_learning) for more general information on the topic.\n",
    "\n",
    "The two most important ingredients in the supervised learning approach are which attributes of the data we feed into the machine learning process, and which model we then apply on the data.\n",
    "\n",
    "## Input Vectors\n",
    "\n",
    "To start, we use a one-hot encoding of each of the different categories of data as our input vector. Later, you will be asked to see if you can find a better set of features to describe the data.\n"
   ]
  },
  {
   "cell_type": "code",
   "execution_count": 14,
   "metadata": {},
   "outputs": [],
   "source": [
    "def calculate_input_vector(row):\n",
    "    symm_vec = [0, 0, 0, 0]\n",
    "    A_vec = [0, 0, 0]\n",
    "    B_vec = [0, 0]\n",
    "    X_vec = [0, 0, 0]  # i.e I3->[0, 3, 0], I2Cl->[1, 2, 0], Br3->[0, 0, 3]\n",
    "    constant = [1,]\n",
    "    symm_vec[['cubic',\n",
    "              'tetragonal',\n",
    "              'orthorhombic_1',\n",
    "              'orthorhombic_2'].index(row.symmetry)] = 1\n",
    "    A_vec[['Cs', 'FA', 'MA'].index(row.name[:2])] = 1\n",
    "    B_vec[0] = 1 if 'Pb' in row.name else 0\n",
    "    B_vec[1] = 1 if 'Sn' in row.name else 0\n",
    "\n",
    "    Xs = ['Cl', 'I', 'Br']\n",
    "    nhalo = sum([s in Xs for s in row.symbols])\n",
    "    for i, X in enumerate(Xs):\n",
    "        X_vec[i] = 3 * sum([s == X for s in row.symbols]) // nhalo\n",
    "\n",
    "    vec = symm_vec + A_vec + B_vec + X_vec + constant\n",
    "    return vec"
   ]
  },
  {
   "cell_type": "markdown",
   "metadata": {},
   "source": [
    "\n",
    "In a one-hot encoding, assign the data into different categorical classes, and then have one feature for each class. For example, there are four different symmetries in the data, so the first four features of the input vector describe which symmetry the material lies in. A '1' in a given position indicates that the material falls into that class, while a '0' indicates that it does not.\n",
    "\n",
    "As an example, we apply the encoding to the first few rows of the database with cubic symmetry, and show the formula and the name:\n"
   ]
  },
  {
   "cell_type": "code",
   "execution_count": 15,
   "metadata": {},
   "outputs": [
    {
     "name": "stdout",
     "output_type": "stream",
     "text": [
      "name=FAPbCl3 formula=PbCCl3H5N2 symmetry=cubic\n",
      "vec=[1, 0, 0, 0, 0, 1, 0, 1, 0, 3, 0, 0, 1]\n",
      "-------------------------------------------------------------------------------\n",
      "name=FASnIBrCl formula=SnBrCClH5IN2 symmetry=cubic\n",
      "vec=[1, 0, 0, 0, 0, 1, 0, 0, 1, 1, 1, 1, 1]\n",
      "-------------------------------------------------------------------------------\n",
      "name=CsPbI2Br formula=CsPbBrI2 symmetry=cubic\n",
      "vec=[1, 0, 0, 0, 1, 0, 0, 1, 0, 0, 2, 1, 1]\n",
      "-------------------------------------------------------------------------------\n",
      "name=MAPbBr2Cl formula=PbBr2CClH6N symmetry=cubic\n",
      "vec=[1, 0, 0, 0, 0, 0, 1, 1, 0, 1, 0, 2, 1]\n",
      "-------------------------------------------------------------------------------\n",
      "name=MAPbI2Br formula=PbBrCH6I2N symmetry=cubic\n",
      "vec=[1, 0, 0, 0, 0, 0, 1, 1, 0, 0, 2, 1, 1]\n",
      "-------------------------------------------------------------------------------\n"
     ]
    }
   ],
   "source": [
    "for row in db.select(symmetry='cubic', limit=5):\n",
    "    print(f'name={row.name} formula={row.formula} symmetry={row.symmetry}')\n",
    "    print(f'vec={calculate_input_vector(row)}')\n",
    "    print('-'*79)"
   ]
  },
  {
   "cell_type": "markdown",
   "metadata": {},
   "source": [
    "\n",
    "We see that as expected, the row has a '1' in the first position, indicating that it has a cubic symmetry.\n",
    "\n",
    "We are now ready to generate the input matrix $X$ that we will use in the machine learning process. At the same time we extract the indirect band gap as the target vector, $y$.\n"
   ]
  },
  {
   "cell_type": "code",
   "execution_count": 16,
   "metadata": {},
   "outputs": [
    {
     "name": "stdout",
     "output_type": "stream",
     "text": [
      "X.shape =  (148, 13)\n",
      "Y.shape = (148, 1)\n"
     ]
    }
   ],
   "source": [
    "X = []\n",
    "y = []\n",
    "for row in db.select('project'):\n",
    "    X.append(calculate_input_vector(row))\n",
    "    y.append(row.gllbsc_ind_gap)\n",
    "\n",
    "X = np.array(X)\n",
    "y = np.array(y).reshape(-1, 1)\n",
    "print('X.shape = ', np.shape(X))\n",
    "print('Y.shape =', np.shape(y))"
   ]
  },
  {
   "cell_type": "markdown",
   "metadata": {},
   "source": [
    "\n",
    "## Modelling\n",
    "\n",
    "With the input and output in place, we are ready to do the initial machine\n",
    "learning. All supervised machine learning processes do the following, in a\n",
    "generalized sense:\n",
    "\n",
    "- Select a general functional form for the model, parametrized in\n",
    "  a suitable way.\n",
    "\n",
    "- Find a loss function to evaluate the performance of a given set\n",
    "  of parameters.\n",
    "\n",
    "- Optimize the parameters of the model to minimize the loss.\n",
    "\n",
    "All the hard work is usually in the last step, since for complex models the\n",
    "relationship between the parameters and the loss function can be very\n",
    "difficult. However, for simpler models, we can sometimes find a closed form\n",
    "for the loss function.\n",
    "\n",
    "The very simplest class of machine learning models are just generalized\n",
    "linear models, where the target, $y$, is assumed to be a linear function of\n",
    "the input variables. You can read more about them\n",
    "[here](http://scikit-learn.org/stable/modules/linear_model.html#ordinary-least-squares). For a\n",
    "linear function, we guess a functional form $f(\\mathbf{x}) = \\sum_n w_n x_n = \\mathbf w \\cdot \\mathbf x$, and seek to optimize the weight vector, $\\mathbf w$.\n",
    "\n",
    "If we choose the loss function\n",
    "$$ L = \\sum_i (f(\\mathbf{x}_i) - y_i))^2 = \\sum_{i} \\left(\\sum_{n}w_i x_{in} - y_i\\right)^2 $$\n",
    ", we will recover ordinary least squares regression. In matrix terms, the loss corresponds to the norm $ L = \\left\\| \\mathbf{y} - \\mathbf{X} \\mathbf{w} \\right\\|^2$.\n",
    "The loss is minimal when the derivative with respect to the weight vector is zero. A bit of\n",
    "rearranging gives that this is true when\n",
    "$$ \\mathbf w = (\\mathbf{X}^T\\mathbf{X}) ^ {-1} \\mathbf{X}^T \\mathbf{y} $$\n",
    "\n",
    "Here $\\mathbf w$ is an (n_features, 1) weight vector that we are trying to\n",
    "find, $\\mathbf{X}$ is an (n_samples , n_features) matrix of our observed\n",
    "inputs and $\\mathbf y$ is the (n_samples, 1) output vector that we are trying\n",
    "to predict.\n",
    "\n",
    "Write a function `fit`, which takes as input a matrix $\\mathbf X$, and a\n",
    "target vector $\\mathbf y$, and performs this linear regression, returning the\n",
    "list of weights and an estimate of the loss for this list of weights.\n",
    "\n",
    "Hint: useful functions are `np.dot()` and `np.linalg.inv()`, which calculate\n",
    "the dot product and inverse, respectively, of their arguments.\n"
   ]
  },
  {
   "cell_type": "code",
   "execution_count": 17,
   "metadata": {},
   "outputs": [],
   "source": [
    "def fit(X, y):\n",
    "    \"\"\"\n",
    "    code goes here\n",
    "    \"\"\"\n",
    "    w = np.linalg.inv(X.T @ X) @ X.T @ y\n",
    "    loss = np.linalg.norm(y - X @ w)**2\n",
    "    return w, loss\n"
   ]
  },
  {
   "cell_type": "markdown",
   "metadata": {},
   "source": [
    "\n",
    "You can test your code on the following toy input - hopefully the weight vector you find is close to [1, 2, 3, 4, 5]\n"
   ]
  },
  {
   "cell_type": "code",
   "execution_count": 18,
   "metadata": {},
   "outputs": [
    {
     "data": {
      "image/png": "[encoded data removed]",
      "text/plain": [
       "<Figure size 432x288 with 1 Axes>"
      ]
     },
     "metadata": {
      "needs_background": "light"
     },
     "output_type": "display_data"
    },
    {
     "name": "stdout",
     "output_type": "stream",
     "text": [
      "[[0.95643389]\n",
      " [1.89067199]\n",
      " [3.17229759]\n",
      " [3.84789342]\n",
      " [5.2316627 ]]\n"
     ]
    }
   ],
   "source": [
    "nsamples = 50\n",
    "nfeatures = 5\n",
    "X_toy = np.random.rand(250).reshape(nsamples, nfeatures)\n",
    "coefficients = np.arange(1, nfeatures + 1).reshape(-1, 1)\n",
    "noise = np.random.normal(scale=0.2, size=nsamples).reshape(-1, 1)\n",
    "y_toy = np.dot(X_toy, coefficients) + noise\n",
    "w, loss = fit(X_toy, y_toy)\n",
    "plt.scatter(np.dot(X_toy, w), y_toy)\n",
    "plt.plot(plt.xlim(), plt.ylim(), ls='--', color='k')\n",
    "\n",
    "plt.show()\n",
    "print(w)"
   ]
  },
  {
   "cell_type": "markdown",
   "metadata": {},
   "source": [
    "\n",
    "Once that is working, try it on the original data! (hint: you have already calculated the matrix $X$ and target vector $y$ above) Does everything work as it should?\n"
   ]
  },
  {
   "cell_type": "code",
   "execution_count": 19,
   "metadata": {},
   "outputs": [
    {
     "data": {
      "image/png": "[encoded data removed]",
      "text/plain": [
       "<Figure size 432x288 with 1 Axes>"
      ]
     },
     "metadata": {
      "needs_background": "light"
     },
     "output_type": "display_data"
    },
    {
     "name": "stdout",
     "output_type": "stream",
     "text": [
      "[[ 1.85938062e+15]\n",
      " [ 1.85938062e+15]\n",
      " [ 1.85938062e+15]\n",
      " [ 1.85938062e+15]\n",
      " [-1.40909438e+15]\n",
      " [-1.40909438e+15]\n",
      " [-1.40909438e+15]\n",
      " [-4.50286240e+14]\n",
      " [-4.50286240e+14]\n",
      " [ 2.92913134e-01]\n",
      " [-2.13425790e-01]\n",
      " [-2.28013101e-01]\n",
      " [-3.34610791e+00]]\n"
     ]
    }
   ],
   "source": [
    "try:\n",
    "    w, loss = fit(X, y)\n",
    "    plt.scatter(np.dot(X, w), y)\n",
    "except np.linalg.LinAlgError:\n",
    "    pass\n",
    "else:\n",
    "    assert abs(w).max() > 1e10\n",
    "\n",
    "plt.show()\n",
    "print(w)"
   ]
  },
  {
   "cell_type": "markdown",
   "metadata": {},
   "source": [
    "\n",
    "One of the assumptions made in the derivation of the linear model is that the matrix $(\\mathbf{X}^T\\mathbf{X})$ is invertible. Unfortunately, that's not true for our case. That's because of the encoding we have chosen, which means for example that for any row, the first four columns must sum to one. The fourth column can therefore always be written as 1 - the sum of the first three.\n",
    "\n",
    "We can alleviate this by adding a regularization term to our loss function, which penalises large weights. The new loss is can then be written as  $L = \\left\\| \\mathbf{y} - \\mathbf{X} \\mathbf{w} \\right\\|^2 + \\alpha \\left\\| w\\right\\|^2$. Luckily, there is still a closed-form solution for this, namely $\\mathbf w = (\\mathbf{X}^T\\mathbf{X} + \\alpha \\mathbf{I}) ^ {-1} \\mathbf{X}^T \\mathbf{y}$. Modify your `fit()` function to take an extra argument $\\alpha$, and apply regularization to the original problem. Does everything work now? Do the weights of your model make sense? Try few different values for $\\alpha$. How does the fit changes with $\\alpha$?\n"
   ]
  },
  {
   "cell_type": "code",
   "execution_count": 20,
   "metadata": {},
   "outputs": [
    {
     "name": "stdout",
     "output_type": "stream",
     "text": [
      "[[-0.63957476  0.01127152 -0.44460553  1.5270547  -0.1341592   0.26403509\n",
      "   0.32444626  0.44076811  0.01280791  0.74657342  0.17220624  0.44303168\n",
      "   0.45393711]] 25.073871086040892\n",
      "yes e.g. first value == cubic is negative -> gives smaller bandgaps\n"
     ]
    },
    {
     "data": {
      "image/png": "[encoded data removed]",
      "text/plain": [
       "<Figure size 432x288 with 1 Axes>"
      ]
     },
     "metadata": {
      "needs_background": "light"
     },
     "output_type": "display_data"
    }
   ],
   "source": [
    "def fit(X, y, alpha):\n",
    "    w = np.linalg.inv(X.T @ X + alpha * np.eye(X.shape[1])) @ X.T @ y\n",
    "    L = np.linalg.norm(y - X @ w)**2 + alpha * np.linalg.norm(w)**2\n",
    "    return w, L\n",
    "\n",
    "w, loss = fit(X, y, 1e-4)\n",
    "print(w.T , loss)\n",
    "print('yes e.g. first value == cubic is negative -> gives smaller bandgaps')\n",
    "plt.scatter(np.dot(X, w), y)\n",
    "plt.plot(plt.xlim(), plt.ylim(), ls='--', color='k')\n",
    "\n",
    "plt.show()"
   ]
  },
  {
   "cell_type": "markdown",
   "metadata": {},
   "source": [
    "\n",
    "We can do all the things above in scikit-learn, which is a python software package for doing many different kinds of modelling.\n"
   ]
  },
  {
   "cell_type": "code",
   "execution_count": 22,
   "metadata": {},
   "outputs": [
    {
     "data": {
      "image/png": "[encoded data removed]",
      "text/plain": [
       "<Figure size 432x288 with 1 Axes>"
      ]
     },
     "metadata": {
      "needs_background": "light"
     },
     "output_type": "display_data"
    }
   ],
   "source": [
    "from sklearn import linear_model\n",
    "linear = linear_model.LinearRegression()\n",
    "\n",
    "linear.fit(X, y)\n",
    "ybar = linear.predict(X)\n",
    "ymax = np.array((y, ybar)).max() + 0.1\n",
    "plt.scatter(ybar, y)\n",
    "lims = [\n",
    "    np.min([plt.xlim(), plt.ylim()]),\n",
    "    np.max([plt.xlim(), plt.ylim()])\n",
    "]\n",
    "plt.plot(lims, lims, ls='--', color='k')\n",
    "plt.xlabel('Predicted Band Gap [eV]')\n",
    "plt.ylabel('Actual Band Gap [eV]')\n",
    "\n",
    "# We can wrap the above in a function, to avoid typing that same code again later\n",
    "def limits():\n",
    "    lims = [\n",
    "        np.min([plt.xlim(), plt.ylim()]),\n",
    "        np.max([plt.xlim(), plt.ylim()])\n",
    "    ]\n",
    "    plt.plot(lims, lims, ls='--', color='k')\n",
    "\n",
    "def make_comparison_plot(X, y, model, label):\n",
    "    model.fit(X, y)\n",
    "    ybar = model.predict(X)\n",
    "    plt.scatter(ybar, y)\n",
    "    limits()\n",
    "    plt.xlabel(f'Predicted {label}')\n",
    "    plt.ylabel(f'Actual {label}')"
   ]
  },
  {
   "cell_type": "markdown",
   "metadata": {},
   "source": [
    "\n",
    "All the models in scikit-learn have a `fit` method, which expects an $X$ matrix and a $y$ vector as inputs, and then trains the model. They also have a `predict` method, which takes an $X$ matrix as input and returns the $y$ values predicted by the model. We use this to plot the true vs the predicted band gap.\n"
   ]
  },
  {
   "cell_type": "markdown",
   "metadata": {},
   "source": [
    "\n",
    "We can also inspect the parameters of the model to see which elements of the input vector are important to the model:\n"
   ]
  },
  {
   "cell_type": "code",
   "execution_count": 23,
   "metadata": {},
   "outputs": [
    {
     "name": "stdout",
     "output_type": "stream",
     "text": [
      "[[-0.75311323 -0.10226537 -0.55814363  1.41352223 -0.28560058  0.11259489\n",
      "   0.17300569  0.21398062 -0.21398062  0.29263647 -0.28173106 -0.01090541\n",
      "   0.        ]]\n",
      "[2.30751404]\n"
     ]
    }
   ],
   "source": [
    "print(linear.coef_)\n",
    "print(linear.intercept_)"
   ]
  },
  {
   "cell_type": "markdown",
   "metadata": {},
   "source": [
    "\n",
    "We see that despite the singular matrix, sklearn is able to do a linear fit, and returns sensible coefficients. Relying on this behaviour is rather brittle, and a better idea is to do as before and add a regularization parameter to the original loss function, which is done in the `linear_model.Ridge` model:\n"
   ]
  },
  {
   "cell_type": "code",
   "execution_count": 24,
   "metadata": {},
   "outputs": [
    {
     "data": {
      "image/png": "[encoded data removed]",
      "text/plain": [
       "<Figure size 432x288 with 1 Axes>"
      ]
     },
     "metadata": {
      "needs_background": "light"
     },
     "output_type": "display_data"
    }
   ],
   "source": [
    "from sklearn import linear_model\n",
    "\n",
    "linear_regularized = linear_model.Ridge(alpha = .5)\n",
    "make_comparison_plot(X, y, linear_regularized, \"Band Gap [eV]\")"
   ]
  },
  {
   "cell_type": "code",
   "execution_count": 25,
   "metadata": {},
   "outputs": [
    {
     "name": "stdout",
     "output_type": "stream",
     "text": [
      "[[-0.74340375 -0.10021133 -0.55013679  1.39375188 -0.28226543  0.11008915\n",
      "   0.17217628  0.21146259 -0.21146259  0.29187829 -0.28086827 -0.01101003\n",
      "   0.        ]]\n",
      "[2.30716316]\n"
     ]
    }
   ],
   "source": [
    "print(linear_regularized.coef_)\n",
    "print(linear_regularized.intercept_)"
   ]
  },
  {
   "cell_type": "markdown",
   "metadata": {},
   "source": [
    "\n",
    "From visual inspection, it seems that the regularized model performs about as well as the original linear model.\n",
    "\n",
    "To proceed with the machine learning, we need some way of evaluating the performance of a model, which is better than visual inspection of predicted versus actual values, and an assessment of the reasonableness of model parameters. Scikit-learn provides a `score()` method for each model, which evaluates how good the fit is.\n"
   ]
  },
  {
   "cell_type": "code",
   "execution_count": 26,
   "metadata": {},
   "outputs": [
    {
     "data": {
      "text/plain": [
       "0.8552683158316907"
      ]
     },
     "execution_count": 26,
     "metadata": {},
     "output_type": "execute_result"
    }
   ],
   "source": [
    "linear_regularized.score(X, y)"
   ]
  },
  {
   "cell_type": "markdown",
   "metadata": {},
   "source": [
    "\n",
    "To truly compare between models, we should ideally train on some data, and evaluate the model on a different set of data. Otherwise, we could create a perfect model just by storing all the input data, and looking up the correct answer. The way to do this is by cross-validation, where the data is randomly split into a number of buckets, and for each bucket, the model is trained on all the other data, and then tested on the data in the bucket. Since the data might have a meaningful order in the database, it is important that the assignment of the data to each bucket is done at random. This is accomplished by the `shuffle` argument to `KFold`.\n",
    "\n",
    "This approach of evaluating the performance of a model is very general and can also be used to optimize the so-called hyperparameters of a model, such as the regularization parameter $\\alpha$. Here, we will not optimize $\\alpha$, but only compare the performance of the `alpha=0` and `alpha=0.5` model. The score has been chosen so that the closer it is to 1, the better.\n"
   ]
  },
  {
   "cell_type": "code",
   "execution_count": 27,
   "metadata": {},
   "outputs": [
    {
     "name": "stdout",
     "output_type": "stream",
     "text": [
      "[0.83860064 0.85240327]\n",
      "[0.83748897 0.85501867]\n"
     ]
    }
   ],
   "source": [
    "from sklearn import model_selection\n",
    "folds = model_selection.KFold(n_splits=2, shuffle=True, random_state=1)\n",
    "print(model_selection.cross_val_score(linear_regularized, X, y, cv=folds, scoring='explained_variance'))\n",
    "print(model_selection.cross_val_score(linear, X, y, cv=folds, scoring='explained_variance'))"
   ]
  },
  {
   "cell_type": "markdown",
   "metadata": {},
   "source": [
    "\n",
    "## Modelling the heat of formation\n",
    "\n",
    "Having looked at the band gap, we turn now to the heat of formation, which was defined further up. Try using the heat of formation as a target vector $\\mathbf y$ instead of the band gap. See if it is possible to predict the heat of formation using (regularized) linear regression and the simple input vector defined above. You can use the following code to calculate the heat of formation of all the compounds in the database. Can you explain what it does?\n"
   ]
  },
  {
   "cell_type": "code",
   "execution_count": 28,
   "metadata": {},
   "outputs": [],
   "source": [
    "en_refs = {}\n",
    "for row in db.select(subproject='references'):\n",
    "    en_refs[row.element] = row.energy/len(row.symbols)\n",
    "HoF = []\n",
    "for row in db.select(project='organometal'):\n",
    "        energy = row.energy\n",
    "        # how many units are in there!?\n",
    "        n_units = len([True for symbol in row.symbols if symbol == 'Pb' or symbol == 'Sn'])\n",
    "        energy_standard = 0\n",
    "        for symbol in row.symbols:\n",
    "            if symbol in ['Cs','Pb','Sn','I','Br','Cl']:\n",
    "                energy_standard += en_refs[symbol]\n",
    "        if 'FA' in row.name:\n",
    "            energy_standard += n_units * en_refs['FA'] * 8\n",
    "        if 'MA' in row.name:\n",
    "            energy_standard += n_units * en_refs['MA'] * 8\n",
    "        HoF.append((energy-energy_standard) / n_units)"
   ]
  },
  {
   "cell_type": "code",
   "execution_count": 29,
   "metadata": {},
   "outputs": [
    {
     "data": {
      "image/png": "[encoded data removed]",
      "text/plain": [
       "<Figure size 432x288 with 1 Axes>"
      ]
     },
     "metadata": {
      "needs_background": "light"
     },
     "output_type": "display_data"
    },
    {
     "data": {
      "image/png": "[encoded data removed]",
      "text/plain": [
       "<Figure size 432x288 with 1 Axes>"
      ]
     },
     "metadata": {
      "needs_background": "light"
     },
     "output_type": "display_data"
    }
   ],
   "source": [
    "from sklearn import linear_model\n",
    "linear_regularized = linear_model.Ridge(alpha=.5)\n",
    "\n",
    "HoF = np.array(HoF)\n",
    "w, loss = fit(X, HoF, 0.01)\n",
    "ybar2 = X @ w\n",
    "plt.scatter(np.dot(X, w), HoF)\n",
    "limits()\n",
    "plt.show()\n",
    "\n",
    "plt.figure()\n",
    "make_comparison_plot(X, HoF, linear_regularized, \"Heat of Formation [eV/Fu]\")"
   ]
  },
  {
   "cell_type": "markdown",
   "metadata": {},
   "source": [
    "\n",
    "When searching for new materials, we would like to find only stable materials. These should have a negative heat of formation, and be in the most stable symmetry class of the four we are considering. The model we have just made will tell us whether a given compound has a negative heat of formation, but it won't tell us whether a different symmetry class would have a lower energy.\n",
    "\n",
    "Predicting which symmetry class of the four is most stable for a given composition is a typical example of a classification problem: we would like to map a given composition, to which of the four symmetry classes is most stable. We start by creating the new output vector corresponding to our data. The output vector should have dimensions (n_compositions, 1), where n_compositions is the total number of different possible compositions without considering symmetries. For each composition, the output should indicate which of the symmetries in the database gives the lowest energy. An idea could be to reuse the `symmetry map` from further up.\n",
    "\n",
    "For the input vector, we can use the same one as before, only with the first four entries (corresponding to the symmetry class) removed.\n",
    "\n",
    "You should start by creating the target vector, which describes which symmetry is most stable for each composition:\n"
   ]
  },
  {
   "cell_type": "code",
   "execution_count": 30,
   "metadata": {},
   "outputs": [
    {
     "name": "stdout",
     "output_type": "stream",
     "text": [
      "(148,) (148, 9)\n"
     ]
    }
   ],
   "source": [
    "# Define `X_hof` and `y_hof` in here\n",
    "from collections import defaultdict\n",
    "X_hof = X[:, 4:]\n",
    "\n",
    "collection = defaultdict(list)\n",
    "for vec, hof in zip(X, HoF):\n",
    "    symm_vec = vec[:4].tolist().index(1)\n",
    "    comp = (*vec[4:],)\n",
    "    collection[comp].append((symm_vec, hof))\n",
    "most_stable = {k: min(collection[k], key=lambda ls: ls[1])[0] for k in collection}\n",
    "\n",
    "y_hof = np.array([most_stable[(*k,)] for k in X_hof])\n",
    "print(y_hof.shape, X_hof.shape)"
   ]
  },
  {
   "cell_type": "markdown",
   "metadata": {},
   "source": [
    "\n",
    "Once you have that, we can start modelling this data. To try something different, we will be using a decision tree to classify the data. This can be imported as follows:\n"
   ]
  },
  {
   "cell_type": "code",
   "execution_count": 32,
   "metadata": {},
   "outputs": [],
   "source": [
    "from sklearn import tree\n",
    "clf = tree.DecisionTreeClassifier()\n",
    "clf = clf.fit(X_hof, y_hof)  # student: clf = clf.fit(?, ?)\n"
   ]
  },
  {
   "cell_type": "code",
   "execution_count": 33,
   "metadata": {},
   "outputs": [],
   "source": [
    "# import graphviz\n",
    "# feature_names = ['first_cs','first_FA','first_MA','lead','tin','chlorine','iodine','bromine','reg']\n",
    "# target_names = ['cubic', 'tetragonal', 'orthorhombic_1', 'orthorhombic_2']\n",
    "# dot_data = tree.export_graphviz(clf, out_file=None,\n",
    "#                                 feature_names = feature_names,\n",
    "#                                 class_names = target_names,\n",
    "#                                 filled=True, rounded=True,\n",
    "#                                 special_characters=True)\n",
    "# graph = graphviz.Source(dot_data)\n",
    "# graph"
   ]
  },
  {
   "cell_type": "markdown",
   "metadata": {},
   "source": [
    "\n",
    "We can visualize the tree using `graphviz`. Can you explain it?\n"
   ]
  },
  {
   "cell_type": "code",
   "execution_count": 34,
   "metadata": {},
   "outputs": [
    {
     "data": {
      "image/svg+xml": [
       "<?xml version=\"1.0\" encoding=\"UTF-8\" standalone=\"no\"?>\n",
       "<!DOCTYPE svg PUBLIC \"-//W3C//DTD SVG 1.1//EN\"\n",
       " \"http://www.w3.org/Graphics/SVG/1.1/DTD/svg11.dtd\">\n",
       "<!-- Generated by graphviz version 2.30.1 (20200930.0103)\n",
       " -->\n",
       "<!-- Title: Tree Pages: 1 -->\n",
       "<svg width=\"3731pt\" height=\"1002pt\"\n",
       " viewBox=\"0.00 0.00 3731.00 1002.00\" xmlns=\"http://www.w3.org/2000/svg\" xmlns:xlink=\"http://www.w3.org/1999/xlink\">\n",
       "<g id=\"graph0\" class=\"graph\" transform=\"scale(1 1) rotate(0) translate(4 998)\">\n",
       "<title>Tree</title>\n",
       "<polygon fill=\"white\" stroke=\"white\" points=\"-4,5 -4,-998 3728,-998 3728,5 -4,5\"/>\n",
       "<!-- 0 -->\n",
       "<g id=\"node1\" class=\"node\"><title>0</title>\n",
       "<path fill=\"#f7d8c1\" stroke=\"black\" d=\"M2455.25,-993.5C2455.25,-993.5 2292.75,-993.5 2292.75,-993.5 2286.75,-993.5 2280.75,-987.5 2280.75,-981.5 2280.75,-981.5 2280.75,-926.5 2280.75,-926.5 2280.75,-920.5 2286.75,-914.5 2292.75,-914.5 2292.75,-914.5 2455.25,-914.5 2455.25,-914.5 2461.25,-914.5 2467.25,-920.5 2467.25,-926.5 2467.25,-926.5 2467.25,-981.5 2467.25,-981.5 2467.25,-987.5 2461.25,-993.5 2455.25,-993.5\"/>\n",
       "<text text-anchor=\"start\" x=\"2327\" y=\"-979.3\" font-family=\"Helvetica,sans-Serif\" font-size=\"14.00\">first_cs ≤ 0.5</text>\n",
       "<text text-anchor=\"start\" x=\"2330\" y=\"-965.3\" font-family=\"Helvetica,sans-Serif\" font-size=\"14.00\">gini = 0.698</text>\n",
       "<text text-anchor=\"start\" x=\"2319.5\" y=\"-951.3\" font-family=\"Helvetica,sans-Serif\" font-size=\"14.00\">samples = 148</text>\n",
       "<text text-anchor=\"start\" x=\"2289\" y=\"-937.3\" font-family=\"Helvetica,sans-Serif\" font-size=\"14.00\">value = [66, 29, 28, 25]</text>\n",
       "<text text-anchor=\"start\" x=\"2327\" y=\"-923.3\" font-family=\"Helvetica,sans-Serif\" font-size=\"14.00\">class = cubic</text>\n",
       "</g>\n",
       "<!-- 1 -->\n",
       "<g id=\"node2\" class=\"node\"><title>1</title>\n",
       "<path fill=\"#f1b991\" stroke=\"black\" d=\"M2148,-877.5C2148,-877.5 1994,-877.5 1994,-877.5 1988,-877.5 1982,-871.5 1982,-865.5 1982,-865.5 1982,-810.5 1982,-810.5 1982,-804.5 1988,-798.5 1994,-798.5 1994,-798.5 2148,-798.5 2148,-798.5 2154,-798.5 2160,-804.5 2160,-810.5 2160,-810.5 2160,-865.5 2160,-865.5 2160,-871.5 2154,-877.5 2148,-877.5\"/>\n",
       "<text text-anchor=\"start\" x=\"2027\" y=\"-863.3\" font-family=\"Helvetica,sans-Serif\" font-size=\"14.00\">iodine ≤ 0.5</text>\n",
       "<text text-anchor=\"start\" x=\"2027\" y=\"-849.3\" font-family=\"Helvetica,sans-Serif\" font-size=\"14.00\">gini = 0.552</text>\n",
       "<text text-anchor=\"start\" x=\"2016.5\" y=\"-835.3\" font-family=\"Helvetica,sans-Serif\" font-size=\"14.00\">samples = 100</text>\n",
       "<text text-anchor=\"start\" x=\"1990.5\" y=\"-821.3\" font-family=\"Helvetica,sans-Serif\" font-size=\"14.00\">value = [63, 17, 13, 7]</text>\n",
       "<text text-anchor=\"start\" x=\"2024\" y=\"-807.3\" font-family=\"Helvetica,sans-Serif\" font-size=\"14.00\">class = cubic</text>\n",
       "</g>\n",
       "<!-- 0&#45;&gt;1 -->\n",
       "<g id=\"edge1\" class=\"edge\"><title>0&#45;&gt;1</title>\n",
       "<path fill=\"none\" stroke=\"black\" d=\"M2280.62,-917.866C2245.42,-904.624 2205.29,-889.526 2169.63,-876.109\"/>\n",
       "<polygon fill=\"black\" stroke=\"black\" points=\"2170.78,-872.801 2160.19,-872.555 2168.31,-879.352 2170.78,-872.801\"/>\n",
       "<text text-anchor=\"middle\" x=\"2170.51\" y=\"-891.625\" font-family=\"Helvetica,sans-Serif\" font-size=\"14.00\">True</text>\n",
       "</g>\n",
       "<!-- 48 -->\n",
       "<g id=\"node49\" class=\"node\"><title>48</title>\n",
       "<path fill=\"#fbedfd\" stroke=\"black\" d=\"M2860.25,-877.5C2860.25,-877.5 2697.75,-877.5 2697.75,-877.5 2691.75,-877.5 2685.75,-871.5 2685.75,-865.5 2685.75,-865.5 2685.75,-810.5 2685.75,-810.5 2685.75,-804.5 2691.75,-798.5 2697.75,-798.5 2697.75,-798.5 2860.25,-798.5 2860.25,-798.5 2866.25,-798.5 2872.25,-804.5 2872.25,-810.5 2872.25,-810.5 2872.25,-865.5 2872.25,-865.5 2872.25,-871.5 2866.25,-877.5 2860.25,-877.5\"/>\n",
       "<text text-anchor=\"start\" x=\"2735\" y=\"-863.3\" font-family=\"Helvetica,sans-Serif\" font-size=\"14.00\">iodine ≤ 2.5</text>\n",
       "<text text-anchor=\"start\" x=\"2735\" y=\"-849.3\" font-family=\"Helvetica,sans-Serif\" font-size=\"14.00\">gini = 0.695</text>\n",
       "<text text-anchor=\"start\" x=\"2729\" y=\"-835.3\" font-family=\"Helvetica,sans-Serif\" font-size=\"14.00\">samples = 48</text>\n",
       "<text text-anchor=\"start\" x=\"2698.5\" y=\"-821.3\" font-family=\"Helvetica,sans-Serif\" font-size=\"14.00\">value = [3, 12, 15, 18]</text>\n",
       "<text text-anchor=\"start\" x=\"2694\" y=\"-807.3\" font-family=\"Helvetica,sans-Serif\" font-size=\"14.00\">class = orthorhombic_2</text>\n",
       "</g>\n",
       "<!-- 0&#45;&gt;48 -->\n",
       "<g id=\"edge48\" class=\"edge\"><title>0&#45;&gt;48</title>\n",
       "<path fill=\"none\" stroke=\"black\" d=\"M2467.42,-926.703C2529.75,-909.159 2611.73,-886.084 2675.95,-868.006\"/>\n",
       "<polygon fill=\"black\" stroke=\"black\" points=\"2677.02,-871.342 2685.7,-865.263 2675.12,-864.604 2677.02,-871.342\"/>\n",
       "<text text-anchor=\"middle\" x=\"2673.47\" y=\"-883.37\" font-family=\"Helvetica,sans-Serif\" font-size=\"14.00\">False</text>\n",
       "</g>\n",
       "<!-- 2 -->\n",
       "<g id=\"node3\" class=\"node\"><title>2</title>\n",
       "<path fill=\"#eda673\" stroke=\"black\" d=\"M967,-761.5C967,-761.5 831,-761.5 831,-761.5 825,-761.5 819,-755.5 819,-749.5 819,-749.5 819,-694.5 819,-694.5 819,-688.5 825,-682.5 831,-682.5 831,-682.5 967,-682.5 967,-682.5 973,-682.5 979,-688.5 979,-694.5 979,-694.5 979,-749.5 979,-749.5 979,-755.5 973,-761.5 967,-761.5\"/>\n",
       "<text text-anchor=\"start\" x=\"848.5\" y=\"-747.3\" font-family=\"Helvetica,sans-Serif\" font-size=\"14.00\">first_MA ≤ 0.5</text>\n",
       "<text text-anchor=\"start\" x=\"855\" y=\"-733.3\" font-family=\"Helvetica,sans-Serif\" font-size=\"14.00\">gini = 0.367</text>\n",
       "<text text-anchor=\"start\" x=\"849\" y=\"-719.3\" font-family=\"Helvetica,sans-Serif\" font-size=\"14.00\">samples = 43</text>\n",
       "<text text-anchor=\"start\" x=\"827.5\" y=\"-705.3\" font-family=\"Helvetica,sans-Serif\" font-size=\"14.00\">value = [33, 0, 9, 1]</text>\n",
       "<text text-anchor=\"start\" x=\"852\" y=\"-691.3\" font-family=\"Helvetica,sans-Serif\" font-size=\"14.00\">class = cubic</text>\n",
       "</g>\n",
       "<!-- 1&#45;&gt;2 -->\n",
       "<g id=\"edge2\" class=\"edge\"><title>1&#45;&gt;2</title>\n",
       "<path fill=\"none\" stroke=\"black\" d=\"M1981.95,-828.338C1764.51,-807.188 1208.35,-753.091 989.462,-731.799\"/>\n",
       "<polygon fill=\"black\" stroke=\"black\" points=\"989.588,-728.295 979.296,-730.81 988.91,-735.262 989.588,-728.295\"/>\n",
       "</g>\n",
       "<!-- 23 -->\n",
       "<g id=\"node24\" class=\"node\"><title>23</title>\n",
       "<path fill=\"#f7d6bf\" stroke=\"black\" d=\"M2143.25,-761.5C2143.25,-761.5 1998.75,-761.5 1998.75,-761.5 1992.75,-761.5 1986.75,-755.5 1986.75,-749.5 1986.75,-749.5 1986.75,-694.5 1986.75,-694.5 1986.75,-688.5 1992.75,-682.5 1998.75,-682.5 1998.75,-682.5 2143.25,-682.5 2143.25,-682.5 2149.25,-682.5 2155.25,-688.5 2155.25,-694.5 2155.25,-694.5 2155.25,-749.5 2155.25,-749.5 2155.25,-755.5 2149.25,-761.5 2143.25,-761.5\"/>\n",
       "<text text-anchor=\"start\" x=\"2033.5\" y=\"-747.3\" font-family=\"Helvetica,sans-Serif\" font-size=\"14.00\">lead ≤ 0.5</text>\n",
       "<text text-anchor=\"start\" x=\"2027\" y=\"-733.3\" font-family=\"Helvetica,sans-Serif\" font-size=\"14.00\">gini = 0.618</text>\n",
       "<text text-anchor=\"start\" x=\"2021\" y=\"-719.3\" font-family=\"Helvetica,sans-Serif\" font-size=\"14.00\">samples = 57</text>\n",
       "<text text-anchor=\"start\" x=\"1995\" y=\"-705.3\" font-family=\"Helvetica,sans-Serif\" font-size=\"14.00\">value = [30, 17, 4, 6]</text>\n",
       "<text text-anchor=\"start\" x=\"2024\" y=\"-691.3\" font-family=\"Helvetica,sans-Serif\" font-size=\"14.00\">class = cubic</text>\n",
       "</g>\n",
       "<!-- 1&#45;&gt;23 -->\n",
       "<g id=\"edge23\" class=\"edge\"><title>1&#45;&gt;23</title>\n",
       "<path fill=\"none\" stroke=\"black\" d=\"M2071,-798.405C2071,-789.862 2071,-780.702 2071,-771.813\"/>\n",
       "<polygon fill=\"black\" stroke=\"black\" points=\"2074.5,-771.555 2071,-761.555 2067.5,-771.555 2074.5,-771.555\"/>\n",
       "</g>\n",
       "<!-- 3 -->\n",
       "<g id=\"node4\" class=\"node\"><title>3</title>\n",
       "<path fill=\"#e68743\" stroke=\"black\" d=\"M526,-645.5C526,-645.5 390,-645.5 390,-645.5 384,-645.5 378,-639.5 378,-633.5 378,-633.5 378,-578.5 378,-578.5 378,-572.5 384,-566.5 390,-566.5 390,-566.5 526,-566.5 526,-566.5 532,-566.5 538,-572.5 538,-578.5 538,-578.5 538,-633.5 538,-633.5 538,-639.5 532,-645.5 526,-645.5\"/>\n",
       "<text text-anchor=\"start\" x=\"420.5\" y=\"-631.3\" font-family=\"Helvetica,sans-Serif\" font-size=\"14.00\">lead ≤ 0.5</text>\n",
       "<text text-anchor=\"start\" x=\"414\" y=\"-617.3\" font-family=\"Helvetica,sans-Serif\" font-size=\"14.00\">gini = 0.091</text>\n",
       "<text text-anchor=\"start\" x=\"408\" y=\"-603.3\" font-family=\"Helvetica,sans-Serif\" font-size=\"14.00\">samples = 21</text>\n",
       "<text text-anchor=\"start\" x=\"386.5\" y=\"-589.3\" font-family=\"Helvetica,sans-Serif\" font-size=\"14.00\">value = [20, 0, 1, 0]</text>\n",
       "<text text-anchor=\"start\" x=\"411\" y=\"-575.3\" font-family=\"Helvetica,sans-Serif\" font-size=\"14.00\">class = cubic</text>\n",
       "</g>\n",
       "<!-- 2&#45;&gt;3 -->\n",
       "<g id=\"edge3\" class=\"edge\"><title>2&#45;&gt;3</title>\n",
       "<path fill=\"none\" stroke=\"black\" d=\"M818.883,-700.289C742.559,-680.559 627.821,-650.899 548.294,-630.341\"/>\n",
       "<polygon fill=\"black\" stroke=\"black\" points=\"548.846,-626.869 538.289,-627.755 547.094,-633.646 548.846,-626.869\"/>\n",
       "</g>\n",
       "<!-- 10 -->\n",
       "<g id=\"node11\" class=\"node\"><title>10</title>\n",
       "<path fill=\"#f6d2b8\" stroke=\"black\" d=\"M967,-645.5C967,-645.5 831,-645.5 831,-645.5 825,-645.5 819,-639.5 819,-633.5 819,-633.5 819,-578.5 819,-578.5 819,-572.5 825,-566.5 831,-566.5 831,-566.5 967,-566.5 967,-566.5 973,-566.5 979,-572.5 979,-578.5 979,-578.5 979,-633.5 979,-633.5 979,-639.5 973,-645.5 967,-645.5\"/>\n",
       "<text text-anchor=\"start\" x=\"868\" y=\"-631.3\" font-family=\"Helvetica,sans-Serif\" font-size=\"14.00\">tin ≤ 0.5</text>\n",
       "<text text-anchor=\"start\" x=\"855\" y=\"-617.3\" font-family=\"Helvetica,sans-Serif\" font-size=\"14.00\">gini = 0.517</text>\n",
       "<text text-anchor=\"start\" x=\"849\" y=\"-603.3\" font-family=\"Helvetica,sans-Serif\" font-size=\"14.00\">samples = 22</text>\n",
       "<text text-anchor=\"start\" x=\"827.5\" y=\"-589.3\" font-family=\"Helvetica,sans-Serif\" font-size=\"14.00\">value = [13, 0, 8, 1]</text>\n",
       "<text text-anchor=\"start\" x=\"852\" y=\"-575.3\" font-family=\"Helvetica,sans-Serif\" font-size=\"14.00\">class = cubic</text>\n",
       "</g>\n",
       "<!-- 2&#45;&gt;10 -->\n",
       "<g id=\"edge10\" class=\"edge\"><title>2&#45;&gt;10</title>\n",
       "<path fill=\"none\" stroke=\"black\" d=\"M899,-682.405C899,-673.862 899,-664.702 899,-655.813\"/>\n",
       "<polygon fill=\"black\" stroke=\"black\" points=\"902.5,-655.555 899,-645.555 895.5,-655.555 902.5,-655.555\"/>\n",
       "</g>\n",
       "<!-- 4 -->\n",
       "<g id=\"node5\" class=\"node\"><title>4</title>\n",
       "<path fill=\"#e58139\" stroke=\"black\" d=\"M352,-522.5C352,-522.5 216,-522.5 216,-522.5 210,-522.5 204,-516.5 204,-510.5 204,-510.5 204,-469.5 204,-469.5 204,-463.5 210,-457.5 216,-457.5 216,-457.5 352,-457.5 352,-457.5 358,-457.5 364,-463.5 364,-469.5 364,-469.5 364,-510.5 364,-510.5 364,-516.5 358,-522.5 352,-522.5\"/>\n",
       "<text text-anchor=\"start\" x=\"249\" y=\"-508.3\" font-family=\"Helvetica,sans-Serif\" font-size=\"14.00\">gini = 0.0</text>\n",
       "<text text-anchor=\"start\" x=\"234\" y=\"-494.3\" font-family=\"Helvetica,sans-Serif\" font-size=\"14.00\">samples = 14</text>\n",
       "<text text-anchor=\"start\" x=\"212.5\" y=\"-480.3\" font-family=\"Helvetica,sans-Serif\" font-size=\"14.00\">value = [14, 0, 0, 0]</text>\n",
       "<text text-anchor=\"start\" x=\"237\" y=\"-466.3\" font-family=\"Helvetica,sans-Serif\" font-size=\"14.00\">class = cubic</text>\n",
       "</g>\n",
       "<!-- 3&#45;&gt;4 -->\n",
       "<g id=\"edge4\" class=\"edge\"><title>3&#45;&gt;4</title>\n",
       "<path fill=\"none\" stroke=\"black\" d=\"M399.092,-566.405C380.197,-554.025 359.321,-540.349 340.596,-528.08\"/>\n",
       "<polygon fill=\"black\" stroke=\"black\" points=\"342.441,-525.105 332.158,-522.552 338.605,-530.96 342.441,-525.105\"/>\n",
       "</g>\n",
       "<!-- 5 -->\n",
       "<g id=\"node6\" class=\"node\"><title>5</title>\n",
       "<path fill=\"#e9965a\" stroke=\"black\" d=\"M521.25,-529.5C521.25,-529.5 394.75,-529.5 394.75,-529.5 388.75,-529.5 382.75,-523.5 382.75,-517.5 382.75,-517.5 382.75,-462.5 382.75,-462.5 382.75,-456.5 388.75,-450.5 394.75,-450.5 394.75,-450.5 521.25,-450.5 521.25,-450.5 527.25,-450.5 533.25,-456.5 533.25,-462.5 533.25,-462.5 533.25,-517.5 533.25,-517.5 533.25,-523.5 527.25,-529.5 521.25,-529.5\"/>\n",
       "<text text-anchor=\"start\" x=\"406\" y=\"-515.3\" font-family=\"Helvetica,sans-Serif\" font-size=\"14.00\">bromine ≤ 1.5</text>\n",
       "<text text-anchor=\"start\" x=\"414\" y=\"-501.3\" font-family=\"Helvetica,sans-Serif\" font-size=\"14.00\">gini = 0.245</text>\n",
       "<text text-anchor=\"start\" x=\"412.5\" y=\"-487.3\" font-family=\"Helvetica,sans-Serif\" font-size=\"14.00\">samples = 7</text>\n",
       "<text text-anchor=\"start\" x=\"391\" y=\"-473.3\" font-family=\"Helvetica,sans-Serif\" font-size=\"14.00\">value = [6, 0, 1, 0]</text>\n",
       "<text text-anchor=\"start\" x=\"411\" y=\"-459.3\" font-family=\"Helvetica,sans-Serif\" font-size=\"14.00\">class = cubic</text>\n",
       "</g>\n",
       "<!-- 3&#45;&gt;5 -->\n",
       "<g id=\"edge5\" class=\"edge\"><title>3&#45;&gt;5</title>\n",
       "<path fill=\"none\" stroke=\"black\" d=\"M458,-566.405C458,-557.862 458,-548.702 458,-539.813\"/>\n",
       "<polygon fill=\"black\" stroke=\"black\" points=\"461.5,-539.555 458,-529.555 454.5,-539.555 461.5,-539.555\"/>\n",
       "</g>\n",
       "<!-- 6 -->\n",
       "<g id=\"node7\" class=\"node\"><title>6</title>\n",
       "<path fill=\"#f2c09c\" stroke=\"black\" d=\"M343.25,-413.5C343.25,-413.5 216.75,-413.5 216.75,-413.5 210.75,-413.5 204.75,-407.5 204.75,-401.5 204.75,-401.5 204.75,-346.5 204.75,-346.5 204.75,-340.5 210.75,-334.5 216.75,-334.5 216.75,-334.5 343.25,-334.5 343.25,-334.5 349.25,-334.5 355.25,-340.5 355.25,-346.5 355.25,-346.5 355.25,-401.5 355.25,-401.5 355.25,-407.5 349.25,-413.5 343.25,-413.5\"/>\n",
       "<text text-anchor=\"start\" x=\"229.5\" y=\"-399.3\" font-family=\"Helvetica,sans-Serif\" font-size=\"14.00\">chlorine ≤ 2.5</text>\n",
       "<text text-anchor=\"start\" x=\"236\" y=\"-385.3\" font-family=\"Helvetica,sans-Serif\" font-size=\"14.00\">gini = 0.444</text>\n",
       "<text text-anchor=\"start\" x=\"234.5\" y=\"-371.3\" font-family=\"Helvetica,sans-Serif\" font-size=\"14.00\">samples = 3</text>\n",
       "<text text-anchor=\"start\" x=\"213\" y=\"-357.3\" font-family=\"Helvetica,sans-Serif\" font-size=\"14.00\">value = [2, 0, 1, 0]</text>\n",
       "<text text-anchor=\"start\" x=\"233\" y=\"-343.3\" font-family=\"Helvetica,sans-Serif\" font-size=\"14.00\">class = cubic</text>\n",
       "</g>\n",
       "<!-- 5&#45;&gt;6 -->\n",
       "<g id=\"edge6\" class=\"edge\"><title>5&#45;&gt;6</title>\n",
       "<path fill=\"none\" stroke=\"black\" d=\"M397.737,-450.405C382.079,-440.377 365.092,-429.497 349.02,-419.204\"/>\n",
       "<polygon fill=\"black\" stroke=\"black\" points=\"350.509,-416.001 340.201,-413.555 346.734,-421.896 350.509,-416.001\"/>\n",
       "</g>\n",
       "<!-- 9 -->\n",
       "<g id=\"node10\" class=\"node\"><title>9</title>\n",
       "<path fill=\"#e58139\" stroke=\"black\" d=\"M521.25,-406.5C521.25,-406.5 394.75,-406.5 394.75,-406.5 388.75,-406.5 382.75,-400.5 382.75,-394.5 382.75,-394.5 382.75,-353.5 382.75,-353.5 382.75,-347.5 388.75,-341.5 394.75,-341.5 394.75,-341.5 521.25,-341.5 521.25,-341.5 527.25,-341.5 533.25,-347.5 533.25,-353.5 533.25,-353.5 533.25,-394.5 533.25,-394.5 533.25,-400.5 527.25,-406.5 521.25,-406.5\"/>\n",
       "<text text-anchor=\"start\" x=\"423\" y=\"-392.3\" font-family=\"Helvetica,sans-Serif\" font-size=\"14.00\">gini = 0.0</text>\n",
       "<text text-anchor=\"start\" x=\"412.5\" y=\"-378.3\" font-family=\"Helvetica,sans-Serif\" font-size=\"14.00\">samples = 4</text>\n",
       "<text text-anchor=\"start\" x=\"391\" y=\"-364.3\" font-family=\"Helvetica,sans-Serif\" font-size=\"14.00\">value = [4, 0, 0, 0]</text>\n",
       "<text text-anchor=\"start\" x=\"411\" y=\"-350.3\" font-family=\"Helvetica,sans-Serif\" font-size=\"14.00\">class = cubic</text>\n",
       "</g>\n",
       "<!-- 5&#45;&gt;9 -->\n",
       "<g id=\"edge9\" class=\"edge\"><title>5&#45;&gt;9</title>\n",
       "<path fill=\"none\" stroke=\"black\" d=\"M458,-450.405C458,-439.636 458,-427.885 458,-416.933\"/>\n",
       "<polygon fill=\"black\" stroke=\"black\" points=\"461.5,-416.736 458,-406.736 454.5,-416.736 461.5,-416.736\"/>\n",
       "</g>\n",
       "<!-- 7 -->\n",
       "<g id=\"node8\" class=\"node\"><title>7</title>\n",
       "<path fill=\"#399de5\" stroke=\"black\" d=\"M174.25,-290.5C174.25,-290.5 11.75,-290.5 11.75,-290.5 5.75,-290.5 -0.25,-284.5 -0.25,-278.5 -0.25,-278.5 -0.25,-237.5 -0.25,-237.5 -0.25,-231.5 5.75,-225.5 11.75,-225.5 11.75,-225.5 174.25,-225.5 174.25,-225.5 180.25,-225.5 186.25,-231.5 186.25,-237.5 186.25,-237.5 186.25,-278.5 186.25,-278.5 186.25,-284.5 180.25,-290.5 174.25,-290.5\"/>\n",
       "<text text-anchor=\"start\" x=\"58\" y=\"-276.3\" font-family=\"Helvetica,sans-Serif\" font-size=\"14.00\">gini = 0.0</text>\n",
       "<text text-anchor=\"start\" x=\"47.5\" y=\"-262.3\" font-family=\"Helvetica,sans-Serif\" font-size=\"14.00\">samples = 1</text>\n",
       "<text text-anchor=\"start\" x=\"26\" y=\"-248.3\" font-family=\"Helvetica,sans-Serif\" font-size=\"14.00\">value = [0, 0, 1, 0]</text>\n",
       "<text text-anchor=\"start\" x=\"8\" y=\"-234.3\" font-family=\"Helvetica,sans-Serif\" font-size=\"14.00\">class = orthorhombic_1</text>\n",
       "</g>\n",
       "<!-- 6&#45;&gt;7 -->\n",
       "<g id=\"edge7\" class=\"edge\"><title>6&#45;&gt;7</title>\n",
       "<path fill=\"none\" stroke=\"black\" d=\"M216.69,-334.405C196.292,-321.97 173.747,-308.225 153.552,-295.914\"/>\n",
       "<polygon fill=\"black\" stroke=\"black\" points=\"155.117,-292.769 144.756,-290.552 151.473,-298.746 155.117,-292.769\"/>\n",
       "</g>\n",
       "<!-- 8 -->\n",
       "<g id=\"node9\" class=\"node\"><title>8</title>\n",
       "<path fill=\"#e58139\" stroke=\"black\" d=\"M343.25,-290.5C343.25,-290.5 216.75,-290.5 216.75,-290.5 210.75,-290.5 204.75,-284.5 204.75,-278.5 204.75,-278.5 204.75,-237.5 204.75,-237.5 204.75,-231.5 210.75,-225.5 216.75,-225.5 216.75,-225.5 343.25,-225.5 343.25,-225.5 349.25,-225.5 355.25,-231.5 355.25,-237.5 355.25,-237.5 355.25,-278.5 355.25,-278.5 355.25,-284.5 349.25,-290.5 343.25,-290.5\"/>\n",
       "<text text-anchor=\"start\" x=\"245\" y=\"-276.3\" font-family=\"Helvetica,sans-Serif\" font-size=\"14.00\">gini = 0.0</text>\n",
       "<text text-anchor=\"start\" x=\"234.5\" y=\"-262.3\" font-family=\"Helvetica,sans-Serif\" font-size=\"14.00\">samples = 2</text>\n",
       "<text text-anchor=\"start\" x=\"213\" y=\"-248.3\" font-family=\"Helvetica,sans-Serif\" font-size=\"14.00\">value = [2, 0, 0, 0]</text>\n",
       "<text text-anchor=\"start\" x=\"233\" y=\"-234.3\" font-family=\"Helvetica,sans-Serif\" font-size=\"14.00\">class = cubic</text>\n",
       "</g>\n",
       "<!-- 6&#45;&gt;8 -->\n",
       "<g id=\"edge8\" class=\"edge\"><title>6&#45;&gt;8</title>\n",
       "<path fill=\"none\" stroke=\"black\" d=\"M280,-334.405C280,-323.636 280,-311.885 280,-300.933\"/>\n",
       "<polygon fill=\"black\" stroke=\"black\" points=\"283.5,-300.736 280,-290.736 276.5,-300.736 283.5,-300.736\"/>\n",
       "</g>\n",
       "<!-- 11 -->\n",
       "<g id=\"node12\" class=\"node\"><title>11</title>\n",
       "<path fill=\"#eda774\" stroke=\"black\" d=\"M871,-529.5C871,-529.5 735,-529.5 735,-529.5 729,-529.5 723,-523.5 723,-517.5 723,-517.5 723,-462.5 723,-462.5 723,-456.5 729,-450.5 735,-450.5 735,-450.5 871,-450.5 871,-450.5 877,-450.5 883,-456.5 883,-462.5 883,-462.5 883,-517.5 883,-517.5 883,-523.5 877,-529.5 871,-529.5\"/>\n",
       "<text text-anchor=\"start\" x=\"751\" y=\"-515.3\" font-family=\"Helvetica,sans-Serif\" font-size=\"14.00\">bromine ≤ 1.5</text>\n",
       "<text text-anchor=\"start\" x=\"759\" y=\"-501.3\" font-family=\"Helvetica,sans-Serif\" font-size=\"14.00\">gini = 0.355</text>\n",
       "<text text-anchor=\"start\" x=\"753\" y=\"-487.3\" font-family=\"Helvetica,sans-Serif\" font-size=\"14.00\">samples = 13</text>\n",
       "<text text-anchor=\"start\" x=\"731.5\" y=\"-473.3\" font-family=\"Helvetica,sans-Serif\" font-size=\"14.00\">value = [10, 0, 3, 0]</text>\n",
       "<text text-anchor=\"start\" x=\"756\" y=\"-459.3\" font-family=\"Helvetica,sans-Serif\" font-size=\"14.00\">class = cubic</text>\n",
       "</g>\n",
       "<!-- 10&#45;&gt;11 -->\n",
       "<g id=\"edge11\" class=\"edge\"><title>10&#45;&gt;11</title>\n",
       "<path fill=\"none\" stroke=\"black\" d=\"M866.499,-566.405C858.601,-557.027 850.077,-546.904 841.916,-537.212\"/>\n",
       "<polygon fill=\"black\" stroke=\"black\" points=\"844.586,-534.95 835.468,-529.555 839.232,-539.459 844.586,-534.95\"/>\n",
       "</g>\n",
       "<!-- 16 -->\n",
       "<g id=\"node17\" class=\"node\"><title>16</title>\n",
       "<path fill=\"#bddef6\" stroke=\"black\" d=\"M1076.25,-529.5C1076.25,-529.5 913.75,-529.5 913.75,-529.5 907.75,-529.5 901.75,-523.5 901.75,-517.5 901.75,-517.5 901.75,-462.5 901.75,-462.5 901.75,-456.5 907.75,-450.5 913.75,-450.5 913.75,-450.5 1076.25,-450.5 1076.25,-450.5 1082.25,-450.5 1088.25,-456.5 1088.25,-462.5 1088.25,-462.5 1088.25,-517.5 1088.25,-517.5 1088.25,-523.5 1082.25,-529.5 1076.25,-529.5\"/>\n",
       "<text text-anchor=\"start\" x=\"943\" y=\"-515.3\" font-family=\"Helvetica,sans-Serif\" font-size=\"14.00\">bromine ≤ 2.5</text>\n",
       "<text text-anchor=\"start\" x=\"951\" y=\"-501.3\" font-family=\"Helvetica,sans-Serif\" font-size=\"14.00\">gini = 0.568</text>\n",
       "<text text-anchor=\"start\" x=\"949.5\" y=\"-487.3\" font-family=\"Helvetica,sans-Serif\" font-size=\"14.00\">samples = 9</text>\n",
       "<text text-anchor=\"start\" x=\"928\" y=\"-473.3\" font-family=\"Helvetica,sans-Serif\" font-size=\"14.00\">value = [3, 0, 5, 1]</text>\n",
       "<text text-anchor=\"start\" x=\"910\" y=\"-459.3\" font-family=\"Helvetica,sans-Serif\" font-size=\"14.00\">class = orthorhombic_1</text>\n",
       "</g>\n",
       "<!-- 10&#45;&gt;16 -->\n",
       "<g id=\"edge16\" class=\"edge\"><title>10&#45;&gt;16</title>\n",
       "<path fill=\"none\" stroke=\"black\" d=\"M931.501,-566.405C939.399,-557.027 947.923,-546.904 956.084,-537.212\"/>\n",
       "<polygon fill=\"black\" stroke=\"black\" points=\"958.768,-539.459 962.532,-529.555 953.414,-534.95 958.768,-539.459\"/>\n",
       "</g>\n",
       "<!-- 12 -->\n",
       "<g id=\"node13\" class=\"node\"><title>12</title>\n",
       "<path fill=\"#f8e0ce\" stroke=\"black\" d=\"M708.25,-413.5C708.25,-413.5 581.75,-413.5 581.75,-413.5 575.75,-413.5 569.75,-407.5 569.75,-401.5 569.75,-401.5 569.75,-346.5 569.75,-346.5 569.75,-340.5 575.75,-334.5 581.75,-334.5 581.75,-334.5 708.25,-334.5 708.25,-334.5 714.25,-334.5 720.25,-340.5 720.25,-346.5 720.25,-346.5 720.25,-401.5 720.25,-401.5 720.25,-407.5 714.25,-413.5 708.25,-413.5\"/>\n",
       "<text text-anchor=\"start\" x=\"594.5\" y=\"-399.3\" font-family=\"Helvetica,sans-Serif\" font-size=\"14.00\">chlorine ≤ 2.5</text>\n",
       "<text text-anchor=\"start\" x=\"605.5\" y=\"-385.3\" font-family=\"Helvetica,sans-Serif\" font-size=\"14.00\">gini = 0.49</text>\n",
       "<text text-anchor=\"start\" x=\"599.5\" y=\"-371.3\" font-family=\"Helvetica,sans-Serif\" font-size=\"14.00\">samples = 7</text>\n",
       "<text text-anchor=\"start\" x=\"578\" y=\"-357.3\" font-family=\"Helvetica,sans-Serif\" font-size=\"14.00\">value = [4, 0, 3, 0]</text>\n",
       "<text text-anchor=\"start\" x=\"598\" y=\"-343.3\" font-family=\"Helvetica,sans-Serif\" font-size=\"14.00\">class = cubic</text>\n",
       "</g>\n",
       "<!-- 11&#45;&gt;12 -->\n",
       "<g id=\"edge12\" class=\"edge\"><title>11&#45;&gt;12</title>\n",
       "<path fill=\"none\" stroke=\"black\" d=\"M749.508,-450.405C735.738,-440.469 720.81,-429.698 706.662,-419.49\"/>\n",
       "<polygon fill=\"black\" stroke=\"black\" points=\"708.594,-416.568 698.437,-413.555 704.498,-422.245 708.594,-416.568\"/>\n",
       "</g>\n",
       "<!-- 15 -->\n",
       "<g id=\"node16\" class=\"node\"><title>15</title>\n",
       "<path fill=\"#e58139\" stroke=\"black\" d=\"M877.25,-406.5C877.25,-406.5 750.75,-406.5 750.75,-406.5 744.75,-406.5 738.75,-400.5 738.75,-394.5 738.75,-394.5 738.75,-353.5 738.75,-353.5 738.75,-347.5 744.75,-341.5 750.75,-341.5 750.75,-341.5 877.25,-341.5 877.25,-341.5 883.25,-341.5 889.25,-347.5 889.25,-353.5 889.25,-353.5 889.25,-394.5 889.25,-394.5 889.25,-400.5 883.25,-406.5 877.25,-406.5\"/>\n",
       "<text text-anchor=\"start\" x=\"779\" y=\"-392.3\" font-family=\"Helvetica,sans-Serif\" font-size=\"14.00\">gini = 0.0</text>\n",
       "<text text-anchor=\"start\" x=\"768.5\" y=\"-378.3\" font-family=\"Helvetica,sans-Serif\" font-size=\"14.00\">samples = 6</text>\n",
       "<text text-anchor=\"start\" x=\"747\" y=\"-364.3\" font-family=\"Helvetica,sans-Serif\" font-size=\"14.00\">value = [6, 0, 0, 0]</text>\n",
       "<text text-anchor=\"start\" x=\"767\" y=\"-350.3\" font-family=\"Helvetica,sans-Serif\" font-size=\"14.00\">class = cubic</text>\n",
       "</g>\n",
       "<!-- 11&#45;&gt;15 -->\n",
       "<g id=\"edge15\" class=\"edge\"><title>11&#45;&gt;15</title>\n",
       "<path fill=\"none\" stroke=\"black\" d=\"M806.724,-450.405C807.763,-439.636 808.897,-427.885 809.954,-416.933\"/>\n",
       "<polygon fill=\"black\" stroke=\"black\" points=\"813.461,-417.026 810.938,-406.736 806.493,-416.354 813.461,-417.026\"/>\n",
       "</g>\n",
       "<!-- 13 -->\n",
       "<g id=\"node14\" class=\"node\"><title>13</title>\n",
       "<path fill=\"#399de5\" stroke=\"black\" d=\"M548.25,-290.5C548.25,-290.5 385.75,-290.5 385.75,-290.5 379.75,-290.5 373.75,-284.5 373.75,-278.5 373.75,-278.5 373.75,-237.5 373.75,-237.5 373.75,-231.5 379.75,-225.5 385.75,-225.5 385.75,-225.5 548.25,-225.5 548.25,-225.5 554.25,-225.5 560.25,-231.5 560.25,-237.5 560.25,-237.5 560.25,-278.5 560.25,-278.5 560.25,-284.5 554.25,-290.5 548.25,-290.5\"/>\n",
       "<text text-anchor=\"start\" x=\"432\" y=\"-276.3\" font-family=\"Helvetica,sans-Serif\" font-size=\"14.00\">gini = 0.0</text>\n",
       "<text text-anchor=\"start\" x=\"421.5\" y=\"-262.3\" font-family=\"Helvetica,sans-Serif\" font-size=\"14.00\">samples = 3</text>\n",
       "<text text-anchor=\"start\" x=\"400\" y=\"-248.3\" font-family=\"Helvetica,sans-Serif\" font-size=\"14.00\">value = [0, 0, 3, 0]</text>\n",
       "<text text-anchor=\"start\" x=\"382\" y=\"-234.3\" font-family=\"Helvetica,sans-Serif\" font-size=\"14.00\">class = orthorhombic_1</text>\n",
       "</g>\n",
       "<!-- 12&#45;&gt;13 -->\n",
       "<g id=\"edge13\" class=\"edge\"><title>12&#45;&gt;13</title>\n",
       "<path fill=\"none\" stroke=\"black\" d=\"M584.737,-334.405C565.408,-322.025 544.053,-308.349 524.897,-296.08\"/>\n",
       "<polygon fill=\"black\" stroke=\"black\" points=\"526.574,-292.998 516.265,-290.552 522.799,-298.893 526.574,-292.998\"/>\n",
       "</g>\n",
       "<!-- 14 -->\n",
       "<g id=\"node15\" class=\"node\"><title>14</title>\n",
       "<path fill=\"#e58139\" stroke=\"black\" d=\"M717.25,-290.5C717.25,-290.5 590.75,-290.5 590.75,-290.5 584.75,-290.5 578.75,-284.5 578.75,-278.5 578.75,-278.5 578.75,-237.5 578.75,-237.5 578.75,-231.5 584.75,-225.5 590.75,-225.5 590.75,-225.5 717.25,-225.5 717.25,-225.5 723.25,-225.5 729.25,-231.5 729.25,-237.5 729.25,-237.5 729.25,-278.5 729.25,-278.5 729.25,-284.5 723.25,-290.5 717.25,-290.5\"/>\n",
       "<text text-anchor=\"start\" x=\"619\" y=\"-276.3\" font-family=\"Helvetica,sans-Serif\" font-size=\"14.00\">gini = 0.0</text>\n",
       "<text text-anchor=\"start\" x=\"608.5\" y=\"-262.3\" font-family=\"Helvetica,sans-Serif\" font-size=\"14.00\">samples = 4</text>\n",
       "<text text-anchor=\"start\" x=\"587\" y=\"-248.3\" font-family=\"Helvetica,sans-Serif\" font-size=\"14.00\">value = [4, 0, 0, 0]</text>\n",
       "<text text-anchor=\"start\" x=\"607\" y=\"-234.3\" font-family=\"Helvetica,sans-Serif\" font-size=\"14.00\">class = cubic</text>\n",
       "</g>\n",
       "<!-- 12&#45;&gt;14 -->\n",
       "<g id=\"edge14\" class=\"edge\"><title>12&#45;&gt;14</title>\n",
       "<path fill=\"none\" stroke=\"black\" d=\"M648.047,-334.405C648.897,-323.636 649.825,-311.885 650.689,-300.933\"/>\n",
       "<polygon fill=\"black\" stroke=\"black\" points=\"654.197,-300.981 651.494,-290.736 647.218,-300.43 654.197,-300.981\"/>\n",
       "</g>\n",
       "<!-- 17 -->\n",
       "<g id=\"node18\" class=\"node\"><title>17</title>\n",
       "<path fill=\"#f2c09c\" stroke=\"black\" d=\"M1046.25,-413.5C1046.25,-413.5 919.75,-413.5 919.75,-413.5 913.75,-413.5 907.75,-407.5 907.75,-401.5 907.75,-401.5 907.75,-346.5 907.75,-346.5 907.75,-340.5 913.75,-334.5 919.75,-334.5 919.75,-334.5 1046.25,-334.5 1046.25,-334.5 1052.25,-334.5 1058.25,-340.5 1058.25,-346.5 1058.25,-346.5 1058.25,-401.5 1058.25,-401.5 1058.25,-407.5 1052.25,-413.5 1046.25,-413.5\"/>\n",
       "<text text-anchor=\"start\" x=\"932.5\" y=\"-399.3\" font-family=\"Helvetica,sans-Serif\" font-size=\"14.00\">chlorine ≤ 1.5</text>\n",
       "<text text-anchor=\"start\" x=\"943.5\" y=\"-385.3\" font-family=\"Helvetica,sans-Serif\" font-size=\"14.00\">gini = 0.56</text>\n",
       "<text text-anchor=\"start\" x=\"937.5\" y=\"-371.3\" font-family=\"Helvetica,sans-Serif\" font-size=\"14.00\">samples = 5</text>\n",
       "<text text-anchor=\"start\" x=\"916\" y=\"-357.3\" font-family=\"Helvetica,sans-Serif\" font-size=\"14.00\">value = [3, 0, 1, 1]</text>\n",
       "<text text-anchor=\"start\" x=\"936\" y=\"-343.3\" font-family=\"Helvetica,sans-Serif\" font-size=\"14.00\">class = cubic</text>\n",
       "</g>\n",
       "<!-- 16&#45;&gt;17 -->\n",
       "<g id=\"edge17\" class=\"edge\"><title>16&#45;&gt;17</title>\n",
       "<path fill=\"none\" stroke=\"black\" d=\"M990.937,-450.405C990.028,-441.769 989.053,-432.503 988.108,-423.523\"/>\n",
       "<polygon fill=\"black\" stroke=\"black\" points=\"991.586,-423.134 987.058,-413.555 984.625,-423.867 991.586,-423.134\"/>\n",
       "</g>\n",
       "<!-- 22 -->\n",
       "<g id=\"node23\" class=\"node\"><title>22</title>\n",
       "<path fill=\"#399de5\" stroke=\"black\" d=\"M1251.25,-406.5C1251.25,-406.5 1088.75,-406.5 1088.75,-406.5 1082.75,-406.5 1076.75,-400.5 1076.75,-394.5 1076.75,-394.5 1076.75,-353.5 1076.75,-353.5 1076.75,-347.5 1082.75,-341.5 1088.75,-341.5 1088.75,-341.5 1251.25,-341.5 1251.25,-341.5 1257.25,-341.5 1263.25,-347.5 1263.25,-353.5 1263.25,-353.5 1263.25,-394.5 1263.25,-394.5 1263.25,-400.5 1257.25,-406.5 1251.25,-406.5\"/>\n",
       "<text text-anchor=\"start\" x=\"1135\" y=\"-392.3\" font-family=\"Helvetica,sans-Serif\" font-size=\"14.00\">gini = 0.0</text>\n",
       "<text text-anchor=\"start\" x=\"1124.5\" y=\"-378.3\" font-family=\"Helvetica,sans-Serif\" font-size=\"14.00\">samples = 4</text>\n",
       "<text text-anchor=\"start\" x=\"1103\" y=\"-364.3\" font-family=\"Helvetica,sans-Serif\" font-size=\"14.00\">value = [0, 0, 4, 0]</text>\n",
       "<text text-anchor=\"start\" x=\"1085\" y=\"-350.3\" font-family=\"Helvetica,sans-Serif\" font-size=\"14.00\">class = orthorhombic_1</text>\n",
       "</g>\n",
       "<!-- 16&#45;&gt;22 -->\n",
       "<g id=\"edge22\" class=\"edge\"><title>16&#45;&gt;22</title>\n",
       "<path fill=\"none\" stroke=\"black\" d=\"M1054.25,-450.405C1073.25,-438.025 1094.25,-424.349 1113.08,-412.08\"/>\n",
       "<polygon fill=\"black\" stroke=\"black\" points=\"1115.1,-414.943 1121.56,-406.552 1111.28,-409.078 1115.1,-414.943\"/>\n",
       "</g>\n",
       "<!-- 18 -->\n",
       "<g id=\"node19\" class=\"node\"><title>18</title>\n",
       "<path fill=\"#d739e5\" stroke=\"black\" d=\"M922.25,-290.5C922.25,-290.5 759.75,-290.5 759.75,-290.5 753.75,-290.5 747.75,-284.5 747.75,-278.5 747.75,-278.5 747.75,-237.5 747.75,-237.5 747.75,-231.5 753.75,-225.5 759.75,-225.5 759.75,-225.5 922.25,-225.5 922.25,-225.5 928.25,-225.5 934.25,-231.5 934.25,-237.5 934.25,-237.5 934.25,-278.5 934.25,-278.5 934.25,-284.5 928.25,-290.5 922.25,-290.5\"/>\n",
       "<text text-anchor=\"start\" x=\"806\" y=\"-276.3\" font-family=\"Helvetica,sans-Serif\" font-size=\"14.00\">gini = 0.0</text>\n",
       "<text text-anchor=\"start\" x=\"795.5\" y=\"-262.3\" font-family=\"Helvetica,sans-Serif\" font-size=\"14.00\">samples = 1</text>\n",
       "<text text-anchor=\"start\" x=\"774\" y=\"-248.3\" font-family=\"Helvetica,sans-Serif\" font-size=\"14.00\">value = [0, 0, 0, 1]</text>\n",
       "<text text-anchor=\"start\" x=\"756\" y=\"-234.3\" font-family=\"Helvetica,sans-Serif\" font-size=\"14.00\">class = orthorhombic_2</text>\n",
       "</g>\n",
       "<!-- 17&#45;&gt;18 -->\n",
       "<g id=\"edge18\" class=\"edge\"><title>17&#45;&gt;18</title>\n",
       "<path fill=\"none\" stroke=\"black\" d=\"M934.925,-334.405C919.99,-322.414 903.539,-309.207 888.633,-297.241\"/>\n",
       "<polygon fill=\"black\" stroke=\"black\" points=\"890.52,-294.267 880.531,-290.736 886.138,-299.726 890.52,-294.267\"/>\n",
       "</g>\n",
       "<!-- 19 -->\n",
       "<g id=\"node20\" class=\"node\"><title>19</title>\n",
       "<path fill=\"#eeab7b\" stroke=\"black\" d=\"M1091.25,-297.5C1091.25,-297.5 964.75,-297.5 964.75,-297.5 958.75,-297.5 952.75,-291.5 952.75,-285.5 952.75,-285.5 952.75,-230.5 952.75,-230.5 952.75,-224.5 958.75,-218.5 964.75,-218.5 964.75,-218.5 1091.25,-218.5 1091.25,-218.5 1097.25,-218.5 1103.25,-224.5 1103.25,-230.5 1103.25,-230.5 1103.25,-285.5 1103.25,-285.5 1103.25,-291.5 1097.25,-297.5 1091.25,-297.5\"/>\n",
       "<text text-anchor=\"start\" x=\"976\" y=\"-283.3\" font-family=\"Helvetica,sans-Serif\" font-size=\"14.00\">bromine ≤ 0.5</text>\n",
       "<text text-anchor=\"start\" x=\"984\" y=\"-269.3\" font-family=\"Helvetica,sans-Serif\" font-size=\"14.00\">gini = 0.375</text>\n",
       "<text text-anchor=\"start\" x=\"982.5\" y=\"-255.3\" font-family=\"Helvetica,sans-Serif\" font-size=\"14.00\">samples = 4</text>\n",
       "<text text-anchor=\"start\" x=\"961\" y=\"-241.3\" font-family=\"Helvetica,sans-Serif\" font-size=\"14.00\">value = [3, 0, 1, 0]</text>\n",
       "<text text-anchor=\"start\" x=\"981\" y=\"-227.3\" font-family=\"Helvetica,sans-Serif\" font-size=\"14.00\">class = cubic</text>\n",
       "</g>\n",
       "<!-- 17&#45;&gt;19 -->\n",
       "<g id=\"edge19\" class=\"edge\"><title>17&#45;&gt;19</title>\n",
       "<path fill=\"none\" stroke=\"black\" d=\"M998.235,-334.405C1001.72,-325.584 1005.46,-316.104 1009.07,-306.944\"/>\n",
       "<polygon fill=\"black\" stroke=\"black\" points=\"1012.36,-308.142 1012.78,-297.555 1005.85,-305.572 1012.36,-308.142\"/>\n",
       "</g>\n",
       "<!-- 20 -->\n",
       "<g id=\"node21\" class=\"node\"><title>20</title>\n",
       "<path fill=\"#399de5\" stroke=\"black\" d=\"M922.25,-174.5C922.25,-174.5 759.75,-174.5 759.75,-174.5 753.75,-174.5 747.75,-168.5 747.75,-162.5 747.75,-162.5 747.75,-121.5 747.75,-121.5 747.75,-115.5 753.75,-109.5 759.75,-109.5 759.75,-109.5 922.25,-109.5 922.25,-109.5 928.25,-109.5 934.25,-115.5 934.25,-121.5 934.25,-121.5 934.25,-162.5 934.25,-162.5 934.25,-168.5 928.25,-174.5 922.25,-174.5\"/>\n",
       "<text text-anchor=\"start\" x=\"806\" y=\"-160.3\" font-family=\"Helvetica,sans-Serif\" font-size=\"14.00\">gini = 0.0</text>\n",
       "<text text-anchor=\"start\" x=\"795.5\" y=\"-146.3\" font-family=\"Helvetica,sans-Serif\" font-size=\"14.00\">samples = 1</text>\n",
       "<text text-anchor=\"start\" x=\"774\" y=\"-132.3\" font-family=\"Helvetica,sans-Serif\" font-size=\"14.00\">value = [0, 0, 1, 0]</text>\n",
       "<text text-anchor=\"start\" x=\"756\" y=\"-118.3\" font-family=\"Helvetica,sans-Serif\" font-size=\"14.00\">class = orthorhombic_1</text>\n",
       "</g>\n",
       "<!-- 19&#45;&gt;20 -->\n",
       "<g id=\"edge20\" class=\"edge\"><title>19&#45;&gt;20</title>\n",
       "<path fill=\"none\" stroke=\"black\" d=\"M964.69,-218.405C944.292,-205.97 921.747,-192.225 901.552,-179.914\"/>\n",
       "<polygon fill=\"black\" stroke=\"black\" points=\"903.117,-176.769 892.756,-174.552 899.473,-182.746 903.117,-176.769\"/>\n",
       "</g>\n",
       "<!-- 21 -->\n",
       "<g id=\"node22\" class=\"node\"><title>21</title>\n",
       "<path fill=\"#e58139\" stroke=\"black\" d=\"M1091.25,-174.5C1091.25,-174.5 964.75,-174.5 964.75,-174.5 958.75,-174.5 952.75,-168.5 952.75,-162.5 952.75,-162.5 952.75,-121.5 952.75,-121.5 952.75,-115.5 958.75,-109.5 964.75,-109.5 964.75,-109.5 1091.25,-109.5 1091.25,-109.5 1097.25,-109.5 1103.25,-115.5 1103.25,-121.5 1103.25,-121.5 1103.25,-162.5 1103.25,-162.5 1103.25,-168.5 1097.25,-174.5 1091.25,-174.5\"/>\n",
       "<text text-anchor=\"start\" x=\"993\" y=\"-160.3\" font-family=\"Helvetica,sans-Serif\" font-size=\"14.00\">gini = 0.0</text>\n",
       "<text text-anchor=\"start\" x=\"982.5\" y=\"-146.3\" font-family=\"Helvetica,sans-Serif\" font-size=\"14.00\">samples = 3</text>\n",
       "<text text-anchor=\"start\" x=\"961\" y=\"-132.3\" font-family=\"Helvetica,sans-Serif\" font-size=\"14.00\">value = [3, 0, 0, 0]</text>\n",
       "<text text-anchor=\"start\" x=\"981\" y=\"-118.3\" font-family=\"Helvetica,sans-Serif\" font-size=\"14.00\">class = cubic</text>\n",
       "</g>\n",
       "<!-- 19&#45;&gt;21 -->\n",
       "<g id=\"edge21\" class=\"edge\"><title>19&#45;&gt;21</title>\n",
       "<path fill=\"none\" stroke=\"black\" d=\"M1028,-218.405C1028,-207.636 1028,-195.885 1028,-184.933\"/>\n",
       "<polygon fill=\"black\" stroke=\"black\" points=\"1031.5,-184.736 1028,-174.736 1024.5,-184.736 1031.5,-184.736\"/>\n",
       "</g>\n",
       "<!-- 24 -->\n",
       "<g id=\"node25\" class=\"node\"><title>24</title>\n",
       "<path fill=\"#dcfad9\" stroke=\"black\" d=\"M2050,-645.5C2050,-645.5 1914,-645.5 1914,-645.5 1908,-645.5 1902,-639.5 1902,-633.5 1902,-633.5 1902,-578.5 1902,-578.5 1902,-572.5 1908,-566.5 1914,-566.5 1914,-566.5 2050,-566.5 2050,-566.5 2056,-566.5 2062,-572.5 2062,-578.5 2062,-578.5 2062,-633.5 2062,-633.5 2062,-639.5 2056,-645.5 2050,-645.5\"/>\n",
       "<text text-anchor=\"start\" x=\"1930\" y=\"-631.3\" font-family=\"Helvetica,sans-Serif\" font-size=\"14.00\">bromine ≤ 0.5</text>\n",
       "<text text-anchor=\"start\" x=\"1938\" y=\"-617.3\" font-family=\"Helvetica,sans-Serif\" font-size=\"14.00\">gini = 0.717</text>\n",
       "<text text-anchor=\"start\" x=\"1932\" y=\"-603.3\" font-family=\"Helvetica,sans-Serif\" font-size=\"14.00\">samples = 28</text>\n",
       "<text text-anchor=\"start\" x=\"1910.5\" y=\"-589.3\" font-family=\"Helvetica,sans-Serif\" font-size=\"14.00\">value = [7, 11, 4, 6]</text>\n",
       "<text text-anchor=\"start\" x=\"1916.5\" y=\"-575.3\" font-family=\"Helvetica,sans-Serif\" font-size=\"14.00\">class = tetragonal</text>\n",
       "</g>\n",
       "<!-- 23&#45;&gt;24 -->\n",
       "<g id=\"edge24\" class=\"edge\"><title>23&#45;&gt;24</title>\n",
       "<path fill=\"none\" stroke=\"black\" d=\"M2040.87,-682.405C2033.62,-673.119 2025.8,-663.104 2018.3,-653.5\"/>\n",
       "<polygon fill=\"black\" stroke=\"black\" points=\"2021.01,-651.284 2012.1,-645.555 2015.5,-655.592 2021.01,-651.284\"/>\n",
       "</g>\n",
       "<!-- 43 -->\n",
       "<g id=\"node44\" class=\"node\"><title>43</title>\n",
       "<path fill=\"#eca26d\" stroke=\"black\" d=\"M2228,-645.5C2228,-645.5 2092,-645.5 2092,-645.5 2086,-645.5 2080,-639.5 2080,-633.5 2080,-633.5 2080,-578.5 2080,-578.5 2080,-572.5 2086,-566.5 2092,-566.5 2092,-566.5 2228,-566.5 2228,-566.5 2234,-566.5 2240,-572.5 2240,-578.5 2240,-578.5 2240,-633.5 2240,-633.5 2240,-639.5 2234,-645.5 2228,-645.5\"/>\n",
       "<text text-anchor=\"start\" x=\"2109.5\" y=\"-631.3\" font-family=\"Helvetica,sans-Serif\" font-size=\"14.00\">chlorine ≤ 0.5</text>\n",
       "<text text-anchor=\"start\" x=\"2116\" y=\"-617.3\" font-family=\"Helvetica,sans-Serif\" font-size=\"14.00\">gini = 0.328</text>\n",
       "<text text-anchor=\"start\" x=\"2110\" y=\"-603.3\" font-family=\"Helvetica,sans-Serif\" font-size=\"14.00\">samples = 29</text>\n",
       "<text text-anchor=\"start\" x=\"2088.5\" y=\"-589.3\" font-family=\"Helvetica,sans-Serif\" font-size=\"14.00\">value = [23, 6, 0, 0]</text>\n",
       "<text text-anchor=\"start\" x=\"2113\" y=\"-575.3\" font-family=\"Helvetica,sans-Serif\" font-size=\"14.00\">class = cubic</text>\n",
       "</g>\n",
       "<!-- 23&#45;&gt;43 -->\n",
       "<g id=\"edge43\" class=\"edge\"><title>23&#45;&gt;43</title>\n",
       "<path fill=\"none\" stroke=\"black\" d=\"M2101.13,-682.405C2108.38,-673.119 2116.2,-663.104 2123.7,-653.5\"/>\n",
       "<polygon fill=\"black\" stroke=\"black\" points=\"2126.5,-655.592 2129.9,-645.555 2120.99,-651.284 2126.5,-655.592\"/>\n",
       "</g>\n",
       "<!-- 25 -->\n",
       "<g id=\"node26\" class=\"node\"><title>25</title>\n",
       "<path fill=\"#f7d7fa\" stroke=\"black\" d=\"M1771.25,-529.5C1771.25,-529.5 1608.75,-529.5 1608.75,-529.5 1602.75,-529.5 1596.75,-523.5 1596.75,-517.5 1596.75,-517.5 1596.75,-462.5 1596.75,-462.5 1596.75,-456.5 1602.75,-450.5 1608.75,-450.5 1608.75,-450.5 1771.25,-450.5 1771.25,-450.5 1777.25,-450.5 1783.25,-456.5 1783.25,-462.5 1783.25,-462.5 1783.25,-517.5 1783.25,-517.5 1783.25,-523.5 1777.25,-529.5 1771.25,-529.5\"/>\n",
       "<text text-anchor=\"start\" x=\"1639.5\" y=\"-515.3\" font-family=\"Helvetica,sans-Serif\" font-size=\"14.00\">chlorine ≤ 1.5</text>\n",
       "<text text-anchor=\"start\" x=\"1646\" y=\"-501.3\" font-family=\"Helvetica,sans-Serif\" font-size=\"14.00\">gini = 0.684</text>\n",
       "<text text-anchor=\"start\" x=\"1640\" y=\"-487.3\" font-family=\"Helvetica,sans-Serif\" font-size=\"14.00\">samples = 14</text>\n",
       "<text text-anchor=\"start\" x=\"1623\" y=\"-473.3\" font-family=\"Helvetica,sans-Serif\" font-size=\"14.00\">value = [3, 1, 4, 6]</text>\n",
       "<text text-anchor=\"start\" x=\"1605\" y=\"-459.3\" font-family=\"Helvetica,sans-Serif\" font-size=\"14.00\">class = orthorhombic_2</text>\n",
       "</g>\n",
       "<!-- 24&#45;&gt;25 -->\n",
       "<g id=\"edge25\" class=\"edge\"><title>24&#45;&gt;25</title>\n",
       "<path fill=\"none\" stroke=\"black\" d=\"M1901.82,-573.698C1868.19,-560.568 1828.67,-545.137 1792.92,-531.183\"/>\n",
       "<polygon fill=\"black\" stroke=\"black\" points=\"1794.03,-527.856 1783.44,-527.48 1791.48,-534.377 1794.03,-527.856\"/>\n",
       "</g>\n",
       "<!-- 34 -->\n",
       "<g id=\"node35\" class=\"node\"><title>34</title>\n",
       "<path fill=\"#91ef88\" stroke=\"black\" d=\"M2050,-529.5C2050,-529.5 1914,-529.5 1914,-529.5 1908,-529.5 1902,-523.5 1902,-517.5 1902,-517.5 1902,-462.5 1902,-462.5 1902,-456.5 1908,-450.5 1914,-450.5 1914,-450.5 2050,-450.5 2050,-450.5 2056,-450.5 2062,-456.5 2062,-462.5 2062,-462.5 2062,-517.5 2062,-517.5 2062,-523.5 2056,-529.5 2050,-529.5\"/>\n",
       "<text text-anchor=\"start\" x=\"1931.5\" y=\"-515.3\" font-family=\"Helvetica,sans-Serif\" font-size=\"14.00\">chlorine ≤ 0.5</text>\n",
       "<text text-anchor=\"start\" x=\"1938\" y=\"-501.3\" font-family=\"Helvetica,sans-Serif\" font-size=\"14.00\">gini = 0.408</text>\n",
       "<text text-anchor=\"start\" x=\"1932\" y=\"-487.3\" font-family=\"Helvetica,sans-Serif\" font-size=\"14.00\">samples = 14</text>\n",
       "<text text-anchor=\"start\" x=\"1910.5\" y=\"-473.3\" font-family=\"Helvetica,sans-Serif\" font-size=\"14.00\">value = [4, 10, 0, 0]</text>\n",
       "<text text-anchor=\"start\" x=\"1916.5\" y=\"-459.3\" font-family=\"Helvetica,sans-Serif\" font-size=\"14.00\">class = tetragonal</text>\n",
       "</g>\n",
       "<!-- 24&#45;&gt;34 -->\n",
       "<g id=\"edge34\" class=\"edge\"><title>24&#45;&gt;34</title>\n",
       "<path fill=\"none\" stroke=\"black\" d=\"M1982,-566.405C1982,-557.862 1982,-548.702 1982,-539.813\"/>\n",
       "<polygon fill=\"black\" stroke=\"black\" points=\"1985.5,-539.555 1982,-529.555 1978.5,-539.555 1985.5,-539.555\"/>\n",
       "</g>\n",
       "<!-- 26 -->\n",
       "<g id=\"node27\" class=\"node\"><title>26</title>\n",
       "<path fill=\"#f7d7fa\" stroke=\"black\" d=\"M1465.25,-413.5C1465.25,-413.5 1302.75,-413.5 1302.75,-413.5 1296.75,-413.5 1290.75,-407.5 1290.75,-401.5 1290.75,-401.5 1290.75,-346.5 1290.75,-346.5 1290.75,-340.5 1296.75,-334.5 1302.75,-334.5 1302.75,-334.5 1465.25,-334.5 1465.25,-334.5 1471.25,-334.5 1477.25,-340.5 1477.25,-346.5 1477.25,-346.5 1477.25,-401.5 1477.25,-401.5 1477.25,-407.5 1471.25,-413.5 1465.25,-413.5\"/>\n",
       "<text text-anchor=\"start\" x=\"1333.5\" y=\"-399.3\" font-family=\"Helvetica,sans-Serif\" font-size=\"14.00\">first_MA ≤ 0.5</text>\n",
       "<text text-anchor=\"start\" x=\"1340\" y=\"-385.3\" font-family=\"Helvetica,sans-Serif\" font-size=\"14.00\">gini = 0.594</text>\n",
       "<text text-anchor=\"start\" x=\"1338.5\" y=\"-371.3\" font-family=\"Helvetica,sans-Serif\" font-size=\"14.00\">samples = 8</text>\n",
       "<text text-anchor=\"start\" x=\"1317\" y=\"-357.3\" font-family=\"Helvetica,sans-Serif\" font-size=\"14.00\">value = [3, 1, 0, 4]</text>\n",
       "<text text-anchor=\"start\" x=\"1299\" y=\"-343.3\" font-family=\"Helvetica,sans-Serif\" font-size=\"14.00\">class = orthorhombic_2</text>\n",
       "</g>\n",
       "<!-- 25&#45;&gt;26 -->\n",
       "<g id=\"edge26\" class=\"edge\"><title>25&#45;&gt;26</title>\n",
       "<path fill=\"none\" stroke=\"black\" d=\"M1596.53,-454.177C1561.84,-441.254 1522.31,-426.529 1486.84,-413.311\"/>\n",
       "<polygon fill=\"black\" stroke=\"black\" points=\"1488.02,-410.018 1477.43,-409.806 1485.58,-416.577 1488.02,-410.018\"/>\n",
       "</g>\n",
       "<!-- 31 -->\n",
       "<g id=\"node32\" class=\"node\"><title>31</title>\n",
       "<path fill=\"#9ccef2\" stroke=\"black\" d=\"M1771.25,-413.5C1771.25,-413.5 1608.75,-413.5 1608.75,-413.5 1602.75,-413.5 1596.75,-407.5 1596.75,-401.5 1596.75,-401.5 1596.75,-346.5 1596.75,-346.5 1596.75,-340.5 1602.75,-334.5 1608.75,-334.5 1608.75,-334.5 1771.25,-334.5 1771.25,-334.5 1777.25,-334.5 1783.25,-340.5 1783.25,-346.5 1783.25,-346.5 1783.25,-401.5 1783.25,-401.5 1783.25,-407.5 1777.25,-413.5 1771.25,-413.5\"/>\n",
       "<text text-anchor=\"start\" x=\"1642\" y=\"-399.3\" font-family=\"Helvetica,sans-Serif\" font-size=\"14.00\">first_FA ≤ 0.5</text>\n",
       "<text text-anchor=\"start\" x=\"1646\" y=\"-385.3\" font-family=\"Helvetica,sans-Serif\" font-size=\"14.00\">gini = 0.444</text>\n",
       "<text text-anchor=\"start\" x=\"1644.5\" y=\"-371.3\" font-family=\"Helvetica,sans-Serif\" font-size=\"14.00\">samples = 6</text>\n",
       "<text text-anchor=\"start\" x=\"1623\" y=\"-357.3\" font-family=\"Helvetica,sans-Serif\" font-size=\"14.00\">value = [0, 0, 4, 2]</text>\n",
       "<text text-anchor=\"start\" x=\"1605\" y=\"-343.3\" font-family=\"Helvetica,sans-Serif\" font-size=\"14.00\">class = orthorhombic_1</text>\n",
       "</g>\n",
       "<!-- 25&#45;&gt;31 -->\n",
       "<g id=\"edge31\" class=\"edge\"><title>25&#45;&gt;31</title>\n",
       "<path fill=\"none\" stroke=\"black\" d=\"M1690,-450.405C1690,-441.862 1690,-432.702 1690,-423.813\"/>\n",
       "<polygon fill=\"black\" stroke=\"black\" points=\"1693.5,-423.555 1690,-413.555 1686.5,-423.555 1693.5,-423.555\"/>\n",
       "</g>\n",
       "<!-- 27 -->\n",
       "<g id=\"node28\" class=\"node\"><title>27</title>\n",
       "<path fill=\"#eeab7b\" stroke=\"black\" d=\"M1260.25,-297.5C1260.25,-297.5 1133.75,-297.5 1133.75,-297.5 1127.75,-297.5 1121.75,-291.5 1121.75,-285.5 1121.75,-285.5 1121.75,-230.5 1121.75,-230.5 1121.75,-224.5 1127.75,-218.5 1133.75,-218.5 1133.75,-218.5 1260.25,-218.5 1260.25,-218.5 1266.25,-218.5 1272.25,-224.5 1272.25,-230.5 1272.25,-230.5 1272.25,-285.5 1272.25,-285.5 1272.25,-291.5 1266.25,-297.5 1260.25,-297.5\"/>\n",
       "<text text-anchor=\"start\" x=\"1146.5\" y=\"-283.3\" font-family=\"Helvetica,sans-Serif\" font-size=\"14.00\">chlorine ≤ 0.5</text>\n",
       "<text text-anchor=\"start\" x=\"1153\" y=\"-269.3\" font-family=\"Helvetica,sans-Serif\" font-size=\"14.00\">gini = 0.375</text>\n",
       "<text text-anchor=\"start\" x=\"1151.5\" y=\"-255.3\" font-family=\"Helvetica,sans-Serif\" font-size=\"14.00\">samples = 4</text>\n",
       "<text text-anchor=\"start\" x=\"1130\" y=\"-241.3\" font-family=\"Helvetica,sans-Serif\" font-size=\"14.00\">value = [3, 1, 0, 0]</text>\n",
       "<text text-anchor=\"start\" x=\"1150\" y=\"-227.3\" font-family=\"Helvetica,sans-Serif\" font-size=\"14.00\">class = cubic</text>\n",
       "</g>\n",
       "<!-- 26&#45;&gt;27 -->\n",
       "<g id=\"edge27\" class=\"edge\"><title>26&#45;&gt;27</title>\n",
       "<path fill=\"none\" stroke=\"black\" d=\"M1320.69,-334.405C1304.09,-324.284 1286.06,-313.295 1269.04,-302.918\"/>\n",
       "<polygon fill=\"black\" stroke=\"black\" points=\"1270.6,-299.772 1260.24,-297.555 1266.96,-305.749 1270.6,-299.772\"/>\n",
       "</g>\n",
       "<!-- 30 -->\n",
       "<g id=\"node31\" class=\"node\"><title>30</title>\n",
       "<path fill=\"#d739e5\" stroke=\"black\" d=\"M1465.25,-290.5C1465.25,-290.5 1302.75,-290.5 1302.75,-290.5 1296.75,-290.5 1290.75,-284.5 1290.75,-278.5 1290.75,-278.5 1290.75,-237.5 1290.75,-237.5 1290.75,-231.5 1296.75,-225.5 1302.75,-225.5 1302.75,-225.5 1465.25,-225.5 1465.25,-225.5 1471.25,-225.5 1477.25,-231.5 1477.25,-237.5 1477.25,-237.5 1477.25,-278.5 1477.25,-278.5 1477.25,-284.5 1471.25,-290.5 1465.25,-290.5\"/>\n",
       "<text text-anchor=\"start\" x=\"1349\" y=\"-276.3\" font-family=\"Helvetica,sans-Serif\" font-size=\"14.00\">gini = 0.0</text>\n",
       "<text text-anchor=\"start\" x=\"1338.5\" y=\"-262.3\" font-family=\"Helvetica,sans-Serif\" font-size=\"14.00\">samples = 4</text>\n",
       "<text text-anchor=\"start\" x=\"1317\" y=\"-248.3\" font-family=\"Helvetica,sans-Serif\" font-size=\"14.00\">value = [0, 0, 0, 4]</text>\n",
       "<text text-anchor=\"start\" x=\"1299\" y=\"-234.3\" font-family=\"Helvetica,sans-Serif\" font-size=\"14.00\">class = orthorhombic_2</text>\n",
       "</g>\n",
       "<!-- 26&#45;&gt;30 -->\n",
       "<g id=\"edge30\" class=\"edge\"><title>26&#45;&gt;30</title>\n",
       "<path fill=\"none\" stroke=\"black\" d=\"M1384,-334.405C1384,-323.636 1384,-311.885 1384,-300.933\"/>\n",
       "<polygon fill=\"black\" stroke=\"black\" points=\"1387.5,-300.736 1384,-290.736 1380.5,-300.736 1387.5,-300.736\"/>\n",
       "</g>\n",
       "<!-- 28 -->\n",
       "<g id=\"node29\" class=\"node\"><title>28</title>\n",
       "<path fill=\"#47e539\" stroke=\"black\" d=\"M1260.25,-174.5C1260.25,-174.5 1133.75,-174.5 1133.75,-174.5 1127.75,-174.5 1121.75,-168.5 1121.75,-162.5 1121.75,-162.5 1121.75,-121.5 1121.75,-121.5 1121.75,-115.5 1127.75,-109.5 1133.75,-109.5 1133.75,-109.5 1260.25,-109.5 1260.25,-109.5 1266.25,-109.5 1272.25,-115.5 1272.25,-121.5 1272.25,-121.5 1272.25,-162.5 1272.25,-162.5 1272.25,-168.5 1266.25,-174.5 1260.25,-174.5\"/>\n",
       "<text text-anchor=\"start\" x=\"1162\" y=\"-160.3\" font-family=\"Helvetica,sans-Serif\" font-size=\"14.00\">gini = 0.0</text>\n",
       "<text text-anchor=\"start\" x=\"1151.5\" y=\"-146.3\" font-family=\"Helvetica,sans-Serif\" font-size=\"14.00\">samples = 1</text>\n",
       "<text text-anchor=\"start\" x=\"1130\" y=\"-132.3\" font-family=\"Helvetica,sans-Serif\" font-size=\"14.00\">value = [0, 1, 0, 0]</text>\n",
       "<text text-anchor=\"start\" x=\"1131.5\" y=\"-118.3\" font-family=\"Helvetica,sans-Serif\" font-size=\"14.00\">class = tetragonal</text>\n",
       "</g>\n",
       "<!-- 27&#45;&gt;28 -->\n",
       "<g id=\"edge28\" class=\"edge\"><title>27&#45;&gt;28</title>\n",
       "<path fill=\"none\" stroke=\"black\" d=\"M1197,-218.405C1197,-207.636 1197,-195.885 1197,-184.933\"/>\n",
       "<polygon fill=\"black\" stroke=\"black\" points=\"1200.5,-184.736 1197,-174.736 1193.5,-184.736 1200.5,-184.736\"/>\n",
       "</g>\n",
       "<!-- 29 -->\n",
       "<g id=\"node30\" class=\"node\"><title>29</title>\n",
       "<path fill=\"#e58139\" stroke=\"black\" d=\"M1429.25,-174.5C1429.25,-174.5 1302.75,-174.5 1302.75,-174.5 1296.75,-174.5 1290.75,-168.5 1290.75,-162.5 1290.75,-162.5 1290.75,-121.5 1290.75,-121.5 1290.75,-115.5 1296.75,-109.5 1302.75,-109.5 1302.75,-109.5 1429.25,-109.5 1429.25,-109.5 1435.25,-109.5 1441.25,-115.5 1441.25,-121.5 1441.25,-121.5 1441.25,-162.5 1441.25,-162.5 1441.25,-168.5 1435.25,-174.5 1429.25,-174.5\"/>\n",
       "<text text-anchor=\"start\" x=\"1331\" y=\"-160.3\" font-family=\"Helvetica,sans-Serif\" font-size=\"14.00\">gini = 0.0</text>\n",
       "<text text-anchor=\"start\" x=\"1320.5\" y=\"-146.3\" font-family=\"Helvetica,sans-Serif\" font-size=\"14.00\">samples = 3</text>\n",
       "<text text-anchor=\"start\" x=\"1299\" y=\"-132.3\" font-family=\"Helvetica,sans-Serif\" font-size=\"14.00\">value = [3, 0, 0, 0]</text>\n",
       "<text text-anchor=\"start\" x=\"1319\" y=\"-118.3\" font-family=\"Helvetica,sans-Serif\" font-size=\"14.00\">class = cubic</text>\n",
       "</g>\n",
       "<!-- 27&#45;&gt;29 -->\n",
       "<g id=\"edge29\" class=\"edge\"><title>27&#45;&gt;29</title>\n",
       "<path fill=\"none\" stroke=\"black\" d=\"M1254.22,-218.405C1272.4,-206.137 1292.48,-192.595 1310.54,-180.412\"/>\n",
       "<polygon fill=\"black\" stroke=\"black\" points=\"1312.89,-183.046 1319.23,-174.552 1308.98,-177.243 1312.89,-183.046\"/>\n",
       "</g>\n",
       "<!-- 32 -->\n",
       "<g id=\"node33\" class=\"node\"><title>32</title>\n",
       "<path fill=\"#399de5\" stroke=\"black\" d=\"M1670.25,-290.5C1670.25,-290.5 1507.75,-290.5 1507.75,-290.5 1501.75,-290.5 1495.75,-284.5 1495.75,-278.5 1495.75,-278.5 1495.75,-237.5 1495.75,-237.5 1495.75,-231.5 1501.75,-225.5 1507.75,-225.5 1507.75,-225.5 1670.25,-225.5 1670.25,-225.5 1676.25,-225.5 1682.25,-231.5 1682.25,-237.5 1682.25,-237.5 1682.25,-278.5 1682.25,-278.5 1682.25,-284.5 1676.25,-290.5 1670.25,-290.5\"/>\n",
       "<text text-anchor=\"start\" x=\"1554\" y=\"-276.3\" font-family=\"Helvetica,sans-Serif\" font-size=\"14.00\">gini = 0.0</text>\n",
       "<text text-anchor=\"start\" x=\"1543.5\" y=\"-262.3\" font-family=\"Helvetica,sans-Serif\" font-size=\"14.00\">samples = 4</text>\n",
       "<text text-anchor=\"start\" x=\"1522\" y=\"-248.3\" font-family=\"Helvetica,sans-Serif\" font-size=\"14.00\">value = [0, 0, 4, 0]</text>\n",
       "<text text-anchor=\"start\" x=\"1504\" y=\"-234.3\" font-family=\"Helvetica,sans-Serif\" font-size=\"14.00\">class = orthorhombic_1</text>\n",
       "</g>\n",
       "<!-- 31&#45;&gt;32 -->\n",
       "<g id=\"edge32\" class=\"edge\"><title>31&#45;&gt;32</title>\n",
       "<path fill=\"none\" stroke=\"black\" d=\"M1655.81,-334.405C1645.48,-322.748 1634.13,-309.94 1623.77,-298.241\"/>\n",
       "<polygon fill=\"black\" stroke=\"black\" points=\"1626.37,-295.9 1617.12,-290.736 1621.13,-300.542 1626.37,-295.9\"/>\n",
       "</g>\n",
       "<!-- 33 -->\n",
       "<g id=\"node34\" class=\"node\"><title>33</title>\n",
       "<path fill=\"#d739e5\" stroke=\"black\" d=\"M1875.25,-290.5C1875.25,-290.5 1712.75,-290.5 1712.75,-290.5 1706.75,-290.5 1700.75,-284.5 1700.75,-278.5 1700.75,-278.5 1700.75,-237.5 1700.75,-237.5 1700.75,-231.5 1706.75,-225.5 1712.75,-225.5 1712.75,-225.5 1875.25,-225.5 1875.25,-225.5 1881.25,-225.5 1887.25,-231.5 1887.25,-237.5 1887.25,-237.5 1887.25,-278.5 1887.25,-278.5 1887.25,-284.5 1881.25,-290.5 1875.25,-290.5\"/>\n",
       "<text text-anchor=\"start\" x=\"1759\" y=\"-276.3\" font-family=\"Helvetica,sans-Serif\" font-size=\"14.00\">gini = 0.0</text>\n",
       "<text text-anchor=\"start\" x=\"1748.5\" y=\"-262.3\" font-family=\"Helvetica,sans-Serif\" font-size=\"14.00\">samples = 2</text>\n",
       "<text text-anchor=\"start\" x=\"1727\" y=\"-248.3\" font-family=\"Helvetica,sans-Serif\" font-size=\"14.00\">value = [0, 0, 0, 2]</text>\n",
       "<text text-anchor=\"start\" x=\"1709\" y=\"-234.3\" font-family=\"Helvetica,sans-Serif\" font-size=\"14.00\">class = orthorhombic_2</text>\n",
       "</g>\n",
       "<!-- 31&#45;&gt;33 -->\n",
       "<g id=\"edge33\" class=\"edge\"><title>31&#45;&gt;33</title>\n",
       "<path fill=\"none\" stroke=\"black\" d=\"M1725.21,-334.405C1735.84,-322.748 1747.53,-309.94 1758.2,-298.241\"/>\n",
       "<polygon fill=\"black\" stroke=\"black\" points=\"1760.89,-300.483 1765.05,-290.736 1755.72,-295.765 1760.89,-300.483\"/>\n",
       "</g>\n",
       "<!-- 35 -->\n",
       "<g id=\"node36\" class=\"node\"><title>35</title>\n",
       "<path fill=\"#5be84f\" stroke=\"black\" d=\"M2045.25,-413.5C2045.25,-413.5 1918.75,-413.5 1918.75,-413.5 1912.75,-413.5 1906.75,-407.5 1906.75,-401.5 1906.75,-401.5 1906.75,-346.5 1906.75,-346.5 1906.75,-340.5 1912.75,-334.5 1918.75,-334.5 1918.75,-334.5 2045.25,-334.5 2045.25,-334.5 2051.25,-334.5 2057.25,-340.5 2057.25,-346.5 2057.25,-346.5 2057.25,-401.5 2057.25,-401.5 2057.25,-407.5 2051.25,-413.5 2045.25,-413.5\"/>\n",
       "<text text-anchor=\"start\" x=\"1938\" y=\"-399.3\" font-family=\"Helvetica,sans-Serif\" font-size=\"14.00\">iodine ≤ 1.5</text>\n",
       "<text text-anchor=\"start\" x=\"1942.5\" y=\"-385.3\" font-family=\"Helvetica,sans-Serif\" font-size=\"14.00\">gini = 0.18</text>\n",
       "<text text-anchor=\"start\" x=\"1932\" y=\"-371.3\" font-family=\"Helvetica,sans-Serif\" font-size=\"14.00\">samples = 10</text>\n",
       "<text text-anchor=\"start\" x=\"1915\" y=\"-357.3\" font-family=\"Helvetica,sans-Serif\" font-size=\"14.00\">value = [1, 9, 0, 0]</text>\n",
       "<text text-anchor=\"start\" x=\"1916.5\" y=\"-343.3\" font-family=\"Helvetica,sans-Serif\" font-size=\"14.00\">class = tetragonal</text>\n",
       "</g>\n",
       "<!-- 34&#45;&gt;35 -->\n",
       "<g id=\"edge35\" class=\"edge\"><title>34&#45;&gt;35</title>\n",
       "<path fill=\"none\" stroke=\"black\" d=\"M1982,-450.405C1982,-441.862 1982,-432.702 1982,-423.813\"/>\n",
       "<polygon fill=\"black\" stroke=\"black\" points=\"1985.5,-423.555 1982,-413.555 1978.5,-423.555 1985.5,-423.555\"/>\n",
       "</g>\n",
       "<!-- 40 -->\n",
       "<g id=\"node41\" class=\"node\"><title>40</title>\n",
       "<path fill=\"#eeab7b\" stroke=\"black\" d=\"M2215.25,-413.5C2215.25,-413.5 2088.75,-413.5 2088.75,-413.5 2082.75,-413.5 2076.75,-407.5 2076.75,-401.5 2076.75,-401.5 2076.75,-346.5 2076.75,-346.5 2076.75,-340.5 2082.75,-334.5 2088.75,-334.5 2088.75,-334.5 2215.25,-334.5 2215.25,-334.5 2221.25,-334.5 2227.25,-340.5 2227.25,-346.5 2227.25,-346.5 2227.25,-401.5 2227.25,-401.5 2227.25,-407.5 2221.25,-413.5 2215.25,-413.5\"/>\n",
       "<text text-anchor=\"start\" x=\"2104\" y=\"-399.3\" font-family=\"Helvetica,sans-Serif\" font-size=\"14.00\">first_FA ≤ 0.5</text>\n",
       "<text text-anchor=\"start\" x=\"2108\" y=\"-385.3\" font-family=\"Helvetica,sans-Serif\" font-size=\"14.00\">gini = 0.375</text>\n",
       "<text text-anchor=\"start\" x=\"2106.5\" y=\"-371.3\" font-family=\"Helvetica,sans-Serif\" font-size=\"14.00\">samples = 4</text>\n",
       "<text text-anchor=\"start\" x=\"2085\" y=\"-357.3\" font-family=\"Helvetica,sans-Serif\" font-size=\"14.00\">value = [3, 1, 0, 0]</text>\n",
       "<text text-anchor=\"start\" x=\"2105\" y=\"-343.3\" font-family=\"Helvetica,sans-Serif\" font-size=\"14.00\">class = cubic</text>\n",
       "</g>\n",
       "<!-- 34&#45;&gt;40 -->\n",
       "<g id=\"edge40\" class=\"edge\"><title>34&#45;&gt;40</title>\n",
       "<path fill=\"none\" stroke=\"black\" d=\"M2039.55,-450.405C2054.51,-440.377 2070.73,-429.497 2086.08,-419.204\"/>\n",
       "<polygon fill=\"black\" stroke=\"black\" points=\"2088.15,-422.032 2094.51,-413.555 2084.25,-416.218 2088.15,-422.032\"/>\n",
       "</g>\n",
       "<!-- 36 -->\n",
       "<g id=\"node37\" class=\"node\"><title>36</title>\n",
       "<path fill=\"#47e539\" stroke=\"black\" d=\"M2044.25,-290.5C2044.25,-290.5 1917.75,-290.5 1917.75,-290.5 1911.75,-290.5 1905.75,-284.5 1905.75,-278.5 1905.75,-278.5 1905.75,-237.5 1905.75,-237.5 1905.75,-231.5 1911.75,-225.5 1917.75,-225.5 1917.75,-225.5 2044.25,-225.5 2044.25,-225.5 2050.25,-225.5 2056.25,-231.5 2056.25,-237.5 2056.25,-237.5 2056.25,-278.5 2056.25,-278.5 2056.25,-284.5 2050.25,-290.5 2044.25,-290.5\"/>\n",
       "<text text-anchor=\"start\" x=\"1946\" y=\"-276.3\" font-family=\"Helvetica,sans-Serif\" font-size=\"14.00\">gini = 0.0</text>\n",
       "<text text-anchor=\"start\" x=\"1935.5\" y=\"-262.3\" font-family=\"Helvetica,sans-Serif\" font-size=\"14.00\">samples = 6</text>\n",
       "<text text-anchor=\"start\" x=\"1914\" y=\"-248.3\" font-family=\"Helvetica,sans-Serif\" font-size=\"14.00\">value = [0, 6, 0, 0]</text>\n",
       "<text text-anchor=\"start\" x=\"1915.5\" y=\"-234.3\" font-family=\"Helvetica,sans-Serif\" font-size=\"14.00\">class = tetragonal</text>\n",
       "</g>\n",
       "<!-- 35&#45;&gt;36 -->\n",
       "<g id=\"edge36\" class=\"edge\"><title>35&#45;&gt;36</title>\n",
       "<path fill=\"none\" stroke=\"black\" d=\"M1981.66,-334.405C1981.57,-323.636 1981.46,-311.885 1981.37,-300.933\"/>\n",
       "<polygon fill=\"black\" stroke=\"black\" points=\"1984.87,-300.705 1981.28,-290.736 1977.87,-300.767 1984.87,-300.705\"/>\n",
       "</g>\n",
       "<!-- 37 -->\n",
       "<g id=\"node38\" class=\"node\"><title>37</title>\n",
       "<path fill=\"#84ee7b\" stroke=\"black\" d=\"M2213.25,-297.5C2213.25,-297.5 2086.75,-297.5 2086.75,-297.5 2080.75,-297.5 2074.75,-291.5 2074.75,-285.5 2074.75,-285.5 2074.75,-230.5 2074.75,-230.5 2074.75,-224.5 2080.75,-218.5 2086.75,-218.5 2086.75,-218.5 2213.25,-218.5 2213.25,-218.5 2219.25,-218.5 2225.25,-224.5 2225.25,-230.5 2225.25,-230.5 2225.25,-285.5 2225.25,-285.5 2225.25,-291.5 2219.25,-297.5 2213.25,-297.5\"/>\n",
       "<text text-anchor=\"start\" x=\"2102\" y=\"-283.3\" font-family=\"Helvetica,sans-Serif\" font-size=\"14.00\">first_FA ≤ 0.5</text>\n",
       "<text text-anchor=\"start\" x=\"2106\" y=\"-269.3\" font-family=\"Helvetica,sans-Serif\" font-size=\"14.00\">gini = 0.375</text>\n",
       "<text text-anchor=\"start\" x=\"2104.5\" y=\"-255.3\" font-family=\"Helvetica,sans-Serif\" font-size=\"14.00\">samples = 4</text>\n",
       "<text text-anchor=\"start\" x=\"2083\" y=\"-241.3\" font-family=\"Helvetica,sans-Serif\" font-size=\"14.00\">value = [1, 3, 0, 0]</text>\n",
       "<text text-anchor=\"start\" x=\"2084.5\" y=\"-227.3\" font-family=\"Helvetica,sans-Serif\" font-size=\"14.00\">class = tetragonal</text>\n",
       "</g>\n",
       "<!-- 35&#45;&gt;37 -->\n",
       "<g id=\"edge37\" class=\"edge\"><title>35&#45;&gt;37</title>\n",
       "<path fill=\"none\" stroke=\"black\" d=\"M2038.88,-334.405C2053.66,-324.377 2069.69,-313.497 2084.86,-303.204\"/>\n",
       "<polygon fill=\"black\" stroke=\"black\" points=\"2086.87,-306.067 2093.18,-297.555 2082.94,-300.274 2086.87,-306.067\"/>\n",
       "</g>\n",
       "<!-- 38 -->\n",
       "<g id=\"node39\" class=\"node\"><title>38</title>\n",
       "<path fill=\"#e58139\" stroke=\"black\" d=\"M2163.25,-174.5C2163.25,-174.5 2036.75,-174.5 2036.75,-174.5 2030.75,-174.5 2024.75,-168.5 2024.75,-162.5 2024.75,-162.5 2024.75,-121.5 2024.75,-121.5 2024.75,-115.5 2030.75,-109.5 2036.75,-109.5 2036.75,-109.5 2163.25,-109.5 2163.25,-109.5 2169.25,-109.5 2175.25,-115.5 2175.25,-121.5 2175.25,-121.5 2175.25,-162.5 2175.25,-162.5 2175.25,-168.5 2169.25,-174.5 2163.25,-174.5\"/>\n",
       "<text text-anchor=\"start\" x=\"2065\" y=\"-160.3\" font-family=\"Helvetica,sans-Serif\" font-size=\"14.00\">gini = 0.0</text>\n",
       "<text text-anchor=\"start\" x=\"2054.5\" y=\"-146.3\" font-family=\"Helvetica,sans-Serif\" font-size=\"14.00\">samples = 1</text>\n",
       "<text text-anchor=\"start\" x=\"2033\" y=\"-132.3\" font-family=\"Helvetica,sans-Serif\" font-size=\"14.00\">value = [1, 0, 0, 0]</text>\n",
       "<text text-anchor=\"start\" x=\"2053\" y=\"-118.3\" font-family=\"Helvetica,sans-Serif\" font-size=\"14.00\">class = cubic</text>\n",
       "</g>\n",
       "<!-- 37&#45;&gt;38 -->\n",
       "<g id=\"edge38\" class=\"edge\"><title>37&#45;&gt;38</title>\n",
       "<path fill=\"none\" stroke=\"black\" d=\"M2133.07,-218.405C2128.2,-207.303 2122.88,-195.157 2117.95,-183.919\"/>\n",
       "<polygon fill=\"black\" stroke=\"black\" points=\"2121.14,-182.488 2113.92,-174.736 2114.73,-185.3 2121.14,-182.488\"/>\n",
       "</g>\n",
       "<!-- 39 -->\n",
       "<g id=\"node40\" class=\"node\"><title>39</title>\n",
       "<path fill=\"#47e539\" stroke=\"black\" d=\"M2332.25,-174.5C2332.25,-174.5 2205.75,-174.5 2205.75,-174.5 2199.75,-174.5 2193.75,-168.5 2193.75,-162.5 2193.75,-162.5 2193.75,-121.5 2193.75,-121.5 2193.75,-115.5 2199.75,-109.5 2205.75,-109.5 2205.75,-109.5 2332.25,-109.5 2332.25,-109.5 2338.25,-109.5 2344.25,-115.5 2344.25,-121.5 2344.25,-121.5 2344.25,-162.5 2344.25,-162.5 2344.25,-168.5 2338.25,-174.5 2332.25,-174.5\"/>\n",
       "<text text-anchor=\"start\" x=\"2234\" y=\"-160.3\" font-family=\"Helvetica,sans-Serif\" font-size=\"14.00\">gini = 0.0</text>\n",
       "<text text-anchor=\"start\" x=\"2223.5\" y=\"-146.3\" font-family=\"Helvetica,sans-Serif\" font-size=\"14.00\">samples = 3</text>\n",
       "<text text-anchor=\"start\" x=\"2202\" y=\"-132.3\" font-family=\"Helvetica,sans-Serif\" font-size=\"14.00\">value = [0, 3, 0, 0]</text>\n",
       "<text text-anchor=\"start\" x=\"2203.5\" y=\"-118.3\" font-family=\"Helvetica,sans-Serif\" font-size=\"14.00\">class = tetragonal</text>\n",
       "</g>\n",
       "<!-- 37&#45;&gt;39 -->\n",
       "<g id=\"edge39\" class=\"edge\"><title>37&#45;&gt;39</title>\n",
       "<path fill=\"none\" stroke=\"black\" d=\"M2190.29,-218.405C2202.57,-206.637 2216.08,-193.696 2228.39,-181.907\"/>\n",
       "<polygon fill=\"black\" stroke=\"black\" points=\"2231.07,-184.182 2235.87,-174.736 2226.23,-179.127 2231.07,-184.182\"/>\n",
       "</g>\n",
       "<!-- 41 -->\n",
       "<g id=\"node42\" class=\"node\"><title>41</title>\n",
       "<path fill=\"#47e539\" stroke=\"black\" d=\"M2382.25,-290.5C2382.25,-290.5 2255.75,-290.5 2255.75,-290.5 2249.75,-290.5 2243.75,-284.5 2243.75,-278.5 2243.75,-278.5 2243.75,-237.5 2243.75,-237.5 2243.75,-231.5 2249.75,-225.5 2255.75,-225.5 2255.75,-225.5 2382.25,-225.5 2382.25,-225.5 2388.25,-225.5 2394.25,-231.5 2394.25,-237.5 2394.25,-237.5 2394.25,-278.5 2394.25,-278.5 2394.25,-284.5 2388.25,-290.5 2382.25,-290.5\"/>\n",
       "<text text-anchor=\"start\" x=\"2284\" y=\"-276.3\" font-family=\"Helvetica,sans-Serif\" font-size=\"14.00\">gini = 0.0</text>\n",
       "<text text-anchor=\"start\" x=\"2273.5\" y=\"-262.3\" font-family=\"Helvetica,sans-Serif\" font-size=\"14.00\">samples = 1</text>\n",
       "<text text-anchor=\"start\" x=\"2252\" y=\"-248.3\" font-family=\"Helvetica,sans-Serif\" font-size=\"14.00\">value = [0, 1, 0, 0]</text>\n",
       "<text text-anchor=\"start\" x=\"2253.5\" y=\"-234.3\" font-family=\"Helvetica,sans-Serif\" font-size=\"14.00\">class = tetragonal</text>\n",
       "</g>\n",
       "<!-- 40&#45;&gt;41 -->\n",
       "<g id=\"edge41\" class=\"edge\"><title>40&#45;&gt;41</title>\n",
       "<path fill=\"none\" stroke=\"black\" d=\"M2208.54,-334.405C2226.51,-322.137 2246.35,-308.595 2264.19,-296.412\"/>\n",
       "<polygon fill=\"black\" stroke=\"black\" points=\"2266.49,-299.081 2272.78,-290.552 2262.55,-293.299 2266.49,-299.081\"/>\n",
       "</g>\n",
       "<!-- 42 -->\n",
       "<g id=\"node43\" class=\"node\"><title>42</title>\n",
       "<path fill=\"#e58139\" stroke=\"black\" d=\"M2551.25,-290.5C2551.25,-290.5 2424.75,-290.5 2424.75,-290.5 2418.75,-290.5 2412.75,-284.5 2412.75,-278.5 2412.75,-278.5 2412.75,-237.5 2412.75,-237.5 2412.75,-231.5 2418.75,-225.5 2424.75,-225.5 2424.75,-225.5 2551.25,-225.5 2551.25,-225.5 2557.25,-225.5 2563.25,-231.5 2563.25,-237.5 2563.25,-237.5 2563.25,-278.5 2563.25,-278.5 2563.25,-284.5 2557.25,-290.5 2551.25,-290.5\"/>\n",
       "<text text-anchor=\"start\" x=\"2453\" y=\"-276.3\" font-family=\"Helvetica,sans-Serif\" font-size=\"14.00\">gini = 0.0</text>\n",
       "<text text-anchor=\"start\" x=\"2442.5\" y=\"-262.3\" font-family=\"Helvetica,sans-Serif\" font-size=\"14.00\">samples = 3</text>\n",
       "<text text-anchor=\"start\" x=\"2421\" y=\"-248.3\" font-family=\"Helvetica,sans-Serif\" font-size=\"14.00\">value = [3, 0, 0, 0]</text>\n",
       "<text text-anchor=\"start\" x=\"2441\" y=\"-234.3\" font-family=\"Helvetica,sans-Serif\" font-size=\"14.00\">class = cubic</text>\n",
       "</g>\n",
       "<!-- 40&#45;&gt;42 -->\n",
       "<g id=\"edge42\" class=\"edge\"><title>40&#45;&gt;42</title>\n",
       "<path fill=\"none\" stroke=\"black\" d=\"M2227.7,-336.937C2230.48,-335.903 2233.26,-334.92 2236,-334 2307.99,-309.864 2330.96,-321.974 2403,-298 2406.34,-296.89 2409.72,-295.688 2413.11,-294.419\"/>\n",
       "<polygon fill=\"black\" stroke=\"black\" points=\"2414.64,-297.58 2422.68,-290.681 2412.09,-291.06 2414.64,-297.58\"/>\n",
       "</g>\n",
       "<!-- 44 -->\n",
       "<g id=\"node45\" class=\"node\"><title>44</title>\n",
       "<path fill=\"#e58139\" stroke=\"black\" d=\"M2228,-522.5C2228,-522.5 2092,-522.5 2092,-522.5 2086,-522.5 2080,-516.5 2080,-510.5 2080,-510.5 2080,-469.5 2080,-469.5 2080,-463.5 2086,-457.5 2092,-457.5 2092,-457.5 2228,-457.5 2228,-457.5 2234,-457.5 2240,-463.5 2240,-469.5 2240,-469.5 2240,-510.5 2240,-510.5 2240,-516.5 2234,-522.5 2228,-522.5\"/>\n",
       "<text text-anchor=\"start\" x=\"2125\" y=\"-508.3\" font-family=\"Helvetica,sans-Serif\" font-size=\"14.00\">gini = 0.0</text>\n",
       "<text text-anchor=\"start\" x=\"2110\" y=\"-494.3\" font-family=\"Helvetica,sans-Serif\" font-size=\"14.00\">samples = 19</text>\n",
       "<text text-anchor=\"start\" x=\"2088.5\" y=\"-480.3\" font-family=\"Helvetica,sans-Serif\" font-size=\"14.00\">value = [19, 0, 0, 0]</text>\n",
       "<text text-anchor=\"start\" x=\"2113\" y=\"-466.3\" font-family=\"Helvetica,sans-Serif\" font-size=\"14.00\">class = cubic</text>\n",
       "</g>\n",
       "<!-- 43&#45;&gt;44 -->\n",
       "<g id=\"edge44\" class=\"edge\"><title>43&#45;&gt;44</title>\n",
       "<path fill=\"none\" stroke=\"black\" d=\"M2160,-566.405C2160,-555.636 2160,-543.885 2160,-532.933\"/>\n",
       "<polygon fill=\"black\" stroke=\"black\" points=\"2163.5,-532.736 2160,-522.736 2156.5,-532.736 2163.5,-532.736\"/>\n",
       "</g>\n",
       "<!-- 45 -->\n",
       "<g id=\"node46\" class=\"node\"><title>45</title>\n",
       "<path fill=\"#c2f6bd\" stroke=\"black\" d=\"M2397.25,-529.5C2397.25,-529.5 2270.75,-529.5 2270.75,-529.5 2264.75,-529.5 2258.75,-523.5 2258.75,-517.5 2258.75,-517.5 2258.75,-462.5 2258.75,-462.5 2258.75,-456.5 2264.75,-450.5 2270.75,-450.5 2270.75,-450.5 2397.25,-450.5 2397.25,-450.5 2403.25,-450.5 2409.25,-456.5 2409.25,-462.5 2409.25,-462.5 2409.25,-517.5 2409.25,-517.5 2409.25,-523.5 2403.25,-529.5 2397.25,-529.5\"/>\n",
       "<text text-anchor=\"start\" x=\"2282\" y=\"-515.3\" font-family=\"Helvetica,sans-Serif\" font-size=\"14.00\">bromine ≤ 0.5</text>\n",
       "<text text-anchor=\"start\" x=\"2294.5\" y=\"-501.3\" font-family=\"Helvetica,sans-Serif\" font-size=\"14.00\">gini = 0.48</text>\n",
       "<text text-anchor=\"start\" x=\"2284\" y=\"-487.3\" font-family=\"Helvetica,sans-Serif\" font-size=\"14.00\">samples = 10</text>\n",
       "<text text-anchor=\"start\" x=\"2267\" y=\"-473.3\" font-family=\"Helvetica,sans-Serif\" font-size=\"14.00\">value = [4, 6, 0, 0]</text>\n",
       "<text text-anchor=\"start\" x=\"2268.5\" y=\"-459.3\" font-family=\"Helvetica,sans-Serif\" font-size=\"14.00\">class = tetragonal</text>\n",
       "</g>\n",
       "<!-- 43&#45;&gt;45 -->\n",
       "<g id=\"edge45\" class=\"edge\"><title>43&#45;&gt;45</title>\n",
       "<path fill=\"none\" stroke=\"black\" d=\"M2218.91,-566.405C2234.21,-556.377 2250.82,-545.497 2266.53,-535.204\"/>\n",
       "<polygon fill=\"black\" stroke=\"black\" points=\"2268.71,-537.963 2275.15,-529.555 2264.87,-532.108 2268.71,-537.963\"/>\n",
       "</g>\n",
       "<!-- 46 -->\n",
       "<g id=\"node47\" class=\"node\"><title>46</title>\n",
       "<path fill=\"#47e539\" stroke=\"black\" d=\"M2384.25,-406.5C2384.25,-406.5 2257.75,-406.5 2257.75,-406.5 2251.75,-406.5 2245.75,-400.5 2245.75,-394.5 2245.75,-394.5 2245.75,-353.5 2245.75,-353.5 2245.75,-347.5 2251.75,-341.5 2257.75,-341.5 2257.75,-341.5 2384.25,-341.5 2384.25,-341.5 2390.25,-341.5 2396.25,-347.5 2396.25,-353.5 2396.25,-353.5 2396.25,-394.5 2396.25,-394.5 2396.25,-400.5 2390.25,-406.5 2384.25,-406.5\"/>\n",
       "<text text-anchor=\"start\" x=\"2286\" y=\"-392.3\" font-family=\"Helvetica,sans-Serif\" font-size=\"14.00\">gini = 0.0</text>\n",
       "<text text-anchor=\"start\" x=\"2275.5\" y=\"-378.3\" font-family=\"Helvetica,sans-Serif\" font-size=\"14.00\">samples = 6</text>\n",
       "<text text-anchor=\"start\" x=\"2254\" y=\"-364.3\" font-family=\"Helvetica,sans-Serif\" font-size=\"14.00\">value = [0, 6, 0, 0]</text>\n",
       "<text text-anchor=\"start\" x=\"2255.5\" y=\"-350.3\" font-family=\"Helvetica,sans-Serif\" font-size=\"14.00\">class = tetragonal</text>\n",
       "</g>\n",
       "<!-- 45&#45;&gt;46 -->\n",
       "<g id=\"edge46\" class=\"edge\"><title>45&#45;&gt;46</title>\n",
       "<path fill=\"none\" stroke=\"black\" d=\"M2329.6,-450.405C2328.37,-439.636 2327.03,-427.885 2325.78,-416.933\"/>\n",
       "<polygon fill=\"black\" stroke=\"black\" points=\"2329.23,-416.275 2324.62,-406.736 2322.27,-417.069 2329.23,-416.275\"/>\n",
       "</g>\n",
       "<!-- 47 -->\n",
       "<g id=\"node48\" class=\"node\"><title>47</title>\n",
       "<path fill=\"#e58139\" stroke=\"black\" d=\"M2553.25,-406.5C2553.25,-406.5 2426.75,-406.5 2426.75,-406.5 2420.75,-406.5 2414.75,-400.5 2414.75,-394.5 2414.75,-394.5 2414.75,-353.5 2414.75,-353.5 2414.75,-347.5 2420.75,-341.5 2426.75,-341.5 2426.75,-341.5 2553.25,-341.5 2553.25,-341.5 2559.25,-341.5 2565.25,-347.5 2565.25,-353.5 2565.25,-353.5 2565.25,-394.5 2565.25,-394.5 2565.25,-400.5 2559.25,-406.5 2553.25,-406.5\"/>\n",
       "<text text-anchor=\"start\" x=\"2455\" y=\"-392.3\" font-family=\"Helvetica,sans-Serif\" font-size=\"14.00\">gini = 0.0</text>\n",
       "<text text-anchor=\"start\" x=\"2444.5\" y=\"-378.3\" font-family=\"Helvetica,sans-Serif\" font-size=\"14.00\">samples = 4</text>\n",
       "<text text-anchor=\"start\" x=\"2423\" y=\"-364.3\" font-family=\"Helvetica,sans-Serif\" font-size=\"14.00\">value = [4, 0, 0, 0]</text>\n",
       "<text text-anchor=\"start\" x=\"2443\" y=\"-350.3\" font-family=\"Helvetica,sans-Serif\" font-size=\"14.00\">class = cubic</text>\n",
       "</g>\n",
       "<!-- 45&#45;&gt;47 -->\n",
       "<g id=\"edge47\" class=\"edge\"><title>45&#45;&gt;47</title>\n",
       "<path fill=\"none\" stroke=\"black\" d=\"M2386.81,-450.405C2403.45,-438.248 2421.8,-424.841 2438.35,-412.745\"/>\n",
       "<polygon fill=\"black\" stroke=\"black\" points=\"2440.81,-415.278 2446.82,-406.552 2436.68,-409.626 2440.81,-415.278\"/>\n",
       "</g>\n",
       "<!-- 49 -->\n",
       "<g id=\"node50\" class=\"node\"><title>49</title>\n",
       "<path fill=\"#ebf5fc\" stroke=\"black\" d=\"M2860.25,-761.5C2860.25,-761.5 2697.75,-761.5 2697.75,-761.5 2691.75,-761.5 2685.75,-755.5 2685.75,-749.5 2685.75,-749.5 2685.75,-694.5 2685.75,-694.5 2685.75,-688.5 2691.75,-682.5 2697.75,-682.5 2697.75,-682.5 2860.25,-682.5 2860.25,-682.5 2866.25,-682.5 2872.25,-688.5 2872.25,-694.5 2872.25,-694.5 2872.25,-749.5 2872.25,-749.5 2872.25,-755.5 2866.25,-761.5 2860.25,-761.5\"/>\n",
       "<text text-anchor=\"start\" x=\"2727\" y=\"-747.3\" font-family=\"Helvetica,sans-Serif\" font-size=\"14.00\">bromine ≤ 2.5</text>\n",
       "<text text-anchor=\"start\" x=\"2735\" y=\"-733.3\" font-family=\"Helvetica,sans-Serif\" font-size=\"14.00\">gini = 0.703</text>\n",
       "<text text-anchor=\"start\" x=\"2729\" y=\"-719.3\" font-family=\"Helvetica,sans-Serif\" font-size=\"14.00\">samples = 41</text>\n",
       "<text text-anchor=\"start\" x=\"2698.5\" y=\"-705.3\" font-family=\"Helvetica,sans-Serif\" font-size=\"14.00\">value = [3, 12, 15, 11]</text>\n",
       "<text text-anchor=\"start\" x=\"2694\" y=\"-691.3\" font-family=\"Helvetica,sans-Serif\" font-size=\"14.00\">class = orthorhombic_1</text>\n",
       "</g>\n",
       "<!-- 48&#45;&gt;49 -->\n",
       "<g id=\"edge49\" class=\"edge\"><title>48&#45;&gt;49</title>\n",
       "<path fill=\"none\" stroke=\"black\" d=\"M2779,-798.405C2779,-789.862 2779,-780.702 2779,-771.813\"/>\n",
       "<polygon fill=\"black\" stroke=\"black\" points=\"2782.5,-771.555 2779,-761.555 2775.5,-771.555 2782.5,-771.555\"/>\n",
       "</g>\n",
       "<!-- 70 -->\n",
       "<g id=\"node71\" class=\"node\"><title>70</title>\n",
       "<path fill=\"#d739e5\" stroke=\"black\" d=\"M3065.25,-754.5C3065.25,-754.5 2902.75,-754.5 2902.75,-754.5 2896.75,-754.5 2890.75,-748.5 2890.75,-742.5 2890.75,-742.5 2890.75,-701.5 2890.75,-701.5 2890.75,-695.5 2896.75,-689.5 2902.75,-689.5 2902.75,-689.5 3065.25,-689.5 3065.25,-689.5 3071.25,-689.5 3077.25,-695.5 3077.25,-701.5 3077.25,-701.5 3077.25,-742.5 3077.25,-742.5 3077.25,-748.5 3071.25,-754.5 3065.25,-754.5\"/>\n",
       "<text text-anchor=\"start\" x=\"2949\" y=\"-740.3\" font-family=\"Helvetica,sans-Serif\" font-size=\"14.00\">gini = 0.0</text>\n",
       "<text text-anchor=\"start\" x=\"2938.5\" y=\"-726.3\" font-family=\"Helvetica,sans-Serif\" font-size=\"14.00\">samples = 7</text>\n",
       "<text text-anchor=\"start\" x=\"2917\" y=\"-712.3\" font-family=\"Helvetica,sans-Serif\" font-size=\"14.00\">value = [0, 0, 0, 7]</text>\n",
       "<text text-anchor=\"start\" x=\"2899\" y=\"-698.3\" font-family=\"Helvetica,sans-Serif\" font-size=\"14.00\">class = orthorhombic_2</text>\n",
       "</g>\n",
       "<!-- 48&#45;&gt;70 -->\n",
       "<g id=\"edge70\" class=\"edge\"><title>48&#45;&gt;70</title>\n",
       "<path fill=\"none\" stroke=\"black\" d=\"M2848.4,-798.405C2871.07,-785.802 2896.15,-771.855 2918.51,-759.418\"/>\n",
       "<polygon fill=\"black\" stroke=\"black\" points=\"2920.22,-762.471 2927.26,-754.552 2916.82,-756.353 2920.22,-762.471\"/>\n",
       "</g>\n",
       "<!-- 50 -->\n",
       "<g id=\"node51\" class=\"node\"><title>50</title>\n",
       "<path fill=\"#dfeffb\" stroke=\"black\" d=\"M2860.25,-645.5C2860.25,-645.5 2697.75,-645.5 2697.75,-645.5 2691.75,-645.5 2685.75,-639.5 2685.75,-633.5 2685.75,-633.5 2685.75,-578.5 2685.75,-578.5 2685.75,-572.5 2691.75,-566.5 2697.75,-566.5 2697.75,-566.5 2860.25,-566.5 2860.25,-566.5 2866.25,-566.5 2872.25,-572.5 2872.25,-578.5 2872.25,-578.5 2872.25,-633.5 2872.25,-633.5 2872.25,-639.5 2866.25,-645.5 2860.25,-645.5\"/>\n",
       "<text text-anchor=\"start\" x=\"2748\" y=\"-631.3\" font-family=\"Helvetica,sans-Serif\" font-size=\"14.00\">tin ≤ 0.5</text>\n",
       "<text text-anchor=\"start\" x=\"2735\" y=\"-617.3\" font-family=\"Helvetica,sans-Serif\" font-size=\"14.00\">gini = 0.688</text>\n",
       "<text text-anchor=\"start\" x=\"2729\" y=\"-603.3\" font-family=\"Helvetica,sans-Serif\" font-size=\"14.00\">samples = 36</text>\n",
       "<text text-anchor=\"start\" x=\"2703\" y=\"-589.3\" font-family=\"Helvetica,sans-Serif\" font-size=\"14.00\">value = [3, 7, 15, 11]</text>\n",
       "<text text-anchor=\"start\" x=\"2694\" y=\"-575.3\" font-family=\"Helvetica,sans-Serif\" font-size=\"14.00\">class = orthorhombic_1</text>\n",
       "</g>\n",
       "<!-- 49&#45;&gt;50 -->\n",
       "<g id=\"edge50\" class=\"edge\"><title>49&#45;&gt;50</title>\n",
       "<path fill=\"none\" stroke=\"black\" d=\"M2779,-682.405C2779,-673.862 2779,-664.702 2779,-655.813\"/>\n",
       "<polygon fill=\"black\" stroke=\"black\" points=\"2782.5,-655.555 2779,-645.555 2775.5,-655.555 2782.5,-655.555\"/>\n",
       "</g>\n",
       "<!-- 69 -->\n",
       "<g id=\"node70\" class=\"node\"><title>69</title>\n",
       "<path fill=\"#47e539\" stroke=\"black\" d=\"M3029.25,-638.5C3029.25,-638.5 2902.75,-638.5 2902.75,-638.5 2896.75,-638.5 2890.75,-632.5 2890.75,-626.5 2890.75,-626.5 2890.75,-585.5 2890.75,-585.5 2890.75,-579.5 2896.75,-573.5 2902.75,-573.5 2902.75,-573.5 3029.25,-573.5 3029.25,-573.5 3035.25,-573.5 3041.25,-579.5 3041.25,-585.5 3041.25,-585.5 3041.25,-626.5 3041.25,-626.5 3041.25,-632.5 3035.25,-638.5 3029.25,-638.5\"/>\n",
       "<text text-anchor=\"start\" x=\"2931\" y=\"-624.3\" font-family=\"Helvetica,sans-Serif\" font-size=\"14.00\">gini = 0.0</text>\n",
       "<text text-anchor=\"start\" x=\"2920.5\" y=\"-610.3\" font-family=\"Helvetica,sans-Serif\" font-size=\"14.00\">samples = 5</text>\n",
       "<text text-anchor=\"start\" x=\"2899\" y=\"-596.3\" font-family=\"Helvetica,sans-Serif\" font-size=\"14.00\">value = [0, 5, 0, 0]</text>\n",
       "<text text-anchor=\"start\" x=\"2900.5\" y=\"-582.3\" font-family=\"Helvetica,sans-Serif\" font-size=\"14.00\">class = tetragonal</text>\n",
       "</g>\n",
       "<!-- 49&#45;&gt;69 -->\n",
       "<g id=\"edge69\" class=\"edge\"><title>49&#45;&gt;69</title>\n",
       "<path fill=\"none\" stroke=\"black\" d=\"M2842.31,-682.405C2862.71,-669.97 2885.25,-656.225 2905.45,-643.914\"/>\n",
       "<polygon fill=\"black\" stroke=\"black\" points=\"2907.53,-646.746 2914.24,-638.552 2903.88,-640.769 2907.53,-646.746\"/>\n",
       "</g>\n",
       "<!-- 51 -->\n",
       "<g id=\"node52\" class=\"node\"><title>51</title>\n",
       "<path fill=\"#eeaaf4\" stroke=\"black\" d=\"M2860.25,-529.5C2860.25,-529.5 2697.75,-529.5 2697.75,-529.5 2691.75,-529.5 2685.75,-523.5 2685.75,-517.5 2685.75,-517.5 2685.75,-462.5 2685.75,-462.5 2685.75,-456.5 2691.75,-450.5 2697.75,-450.5 2697.75,-450.5 2860.25,-450.5 2860.25,-450.5 2866.25,-450.5 2872.25,-456.5 2872.25,-462.5 2872.25,-462.5 2872.25,-517.5 2872.25,-517.5 2872.25,-523.5 2866.25,-529.5 2860.25,-529.5\"/>\n",
       "<text text-anchor=\"start\" x=\"2735\" y=\"-515.3\" font-family=\"Helvetica,sans-Serif\" font-size=\"14.00\">iodine ≤ 0.5</text>\n",
       "<text text-anchor=\"start\" x=\"2735\" y=\"-501.3\" font-family=\"Helvetica,sans-Serif\" font-size=\"14.00\">gini = 0.611</text>\n",
       "<text text-anchor=\"start\" x=\"2729\" y=\"-487.3\" font-family=\"Helvetica,sans-Serif\" font-size=\"14.00\">samples = 18</text>\n",
       "<text text-anchor=\"start\" x=\"2707.5\" y=\"-473.3\" font-family=\"Helvetica,sans-Serif\" font-size=\"14.00\">value = [1, 3, 4, 10]</text>\n",
       "<text text-anchor=\"start\" x=\"2694\" y=\"-459.3\" font-family=\"Helvetica,sans-Serif\" font-size=\"14.00\">class = orthorhombic_2</text>\n",
       "</g>\n",
       "<!-- 50&#45;&gt;51 -->\n",
       "<g id=\"edge51\" class=\"edge\"><title>50&#45;&gt;51</title>\n",
       "<path fill=\"none\" stroke=\"black\" d=\"M2779,-566.405C2779,-557.862 2779,-548.702 2779,-539.813\"/>\n",
       "<polygon fill=\"black\" stroke=\"black\" points=\"2782.5,-539.555 2779,-529.555 2775.5,-539.555 2782.5,-539.555\"/>\n",
       "</g>\n",
       "<!-- 60 -->\n",
       "<g id=\"node61\" class=\"node\"><title>60</title>\n",
       "<path fill=\"#9ccef2\" stroke=\"black\" d=\"M3244.25,-529.5C3244.25,-529.5 3081.75,-529.5 3081.75,-529.5 3075.75,-529.5 3069.75,-523.5 3069.75,-517.5 3069.75,-517.5 3069.75,-462.5 3069.75,-462.5 3069.75,-456.5 3075.75,-450.5 3081.75,-450.5 3081.75,-450.5 3244.25,-450.5 3244.25,-450.5 3250.25,-450.5 3256.25,-456.5 3256.25,-462.5 3256.25,-462.5 3256.25,-517.5 3256.25,-517.5 3256.25,-523.5 3250.25,-529.5 3244.25,-529.5\"/>\n",
       "<text text-anchor=\"start\" x=\"3119\" y=\"-515.3\" font-family=\"Helvetica,sans-Serif\" font-size=\"14.00\">iodine ≤ 0.5</text>\n",
       "<text text-anchor=\"start\" x=\"3119\" y=\"-501.3\" font-family=\"Helvetica,sans-Serif\" font-size=\"14.00\">gini = 0.562</text>\n",
       "<text text-anchor=\"start\" x=\"3113\" y=\"-487.3\" font-family=\"Helvetica,sans-Serif\" font-size=\"14.00\">samples = 18</text>\n",
       "<text text-anchor=\"start\" x=\"3091.5\" y=\"-473.3\" font-family=\"Helvetica,sans-Serif\" font-size=\"14.00\">value = [2, 4, 11, 1]</text>\n",
       "<text text-anchor=\"start\" x=\"3078\" y=\"-459.3\" font-family=\"Helvetica,sans-Serif\" font-size=\"14.00\">class = orthorhombic_1</text>\n",
       "</g>\n",
       "<!-- 50&#45;&gt;60 -->\n",
       "<g id=\"edge60\" class=\"edge\"><title>50&#45;&gt;60</title>\n",
       "<path fill=\"none\" stroke=\"black\" d=\"M2872.52,-568.804C2875.37,-567.841 2878.2,-566.904 2881,-566 2939.54,-547.081 3006,-529.234 3059.69,-515.699\"/>\n",
       "<polygon fill=\"black\" stroke=\"black\" points=\"3060.72,-519.051 3069.57,-513.223 3059.01,-512.261 3060.72,-519.051\"/>\n",
       "</g>\n",
       "<!-- 52 -->\n",
       "<g id=\"node53\" class=\"node\"><title>52</title>\n",
       "<path fill=\"#d739e5\" stroke=\"black\" d=\"M2758.25,-406.5C2758.25,-406.5 2595.75,-406.5 2595.75,-406.5 2589.75,-406.5 2583.75,-400.5 2583.75,-394.5 2583.75,-394.5 2583.75,-353.5 2583.75,-353.5 2583.75,-347.5 2589.75,-341.5 2595.75,-341.5 2595.75,-341.5 2758.25,-341.5 2758.25,-341.5 2764.25,-341.5 2770.25,-347.5 2770.25,-353.5 2770.25,-353.5 2770.25,-394.5 2770.25,-394.5 2770.25,-400.5 2764.25,-406.5 2758.25,-406.5\"/>\n",
       "<text text-anchor=\"start\" x=\"2642\" y=\"-392.3\" font-family=\"Helvetica,sans-Serif\" font-size=\"14.00\">gini = 0.0</text>\n",
       "<text text-anchor=\"start\" x=\"2631.5\" y=\"-378.3\" font-family=\"Helvetica,sans-Serif\" font-size=\"14.00\">samples = 6</text>\n",
       "<text text-anchor=\"start\" x=\"2610\" y=\"-364.3\" font-family=\"Helvetica,sans-Serif\" font-size=\"14.00\">value = [0, 0, 0, 6]</text>\n",
       "<text text-anchor=\"start\" x=\"2592\" y=\"-350.3\" font-family=\"Helvetica,sans-Serif\" font-size=\"14.00\">class = orthorhombic_2</text>\n",
       "</g>\n",
       "<!-- 51&#45;&gt;52 -->\n",
       "<g id=\"edge52\" class=\"edge\"><title>51&#45;&gt;52</title>\n",
       "<path fill=\"none\" stroke=\"black\" d=\"M2744.47,-450.405C2734.04,-438.748 2722.58,-425.94 2712.11,-414.241\"/>\n",
       "<polygon fill=\"black\" stroke=\"black\" points=\"2714.67,-411.855 2705.4,-406.736 2709.46,-416.523 2714.67,-411.855\"/>\n",
       "</g>\n",
       "<!-- 53 -->\n",
       "<g id=\"node54\" class=\"node\"><title>53</title>\n",
       "<path fill=\"#ffffff\" stroke=\"black\" d=\"M2963.25,-413.5C2963.25,-413.5 2800.75,-413.5 2800.75,-413.5 2794.75,-413.5 2788.75,-407.5 2788.75,-401.5 2788.75,-401.5 2788.75,-346.5 2788.75,-346.5 2788.75,-340.5 2794.75,-334.5 2800.75,-334.5 2800.75,-334.5 2963.25,-334.5 2963.25,-334.5 2969.25,-334.5 2975.25,-340.5 2975.25,-346.5 2975.25,-346.5 2975.25,-401.5 2975.25,-401.5 2975.25,-407.5 2969.25,-413.5 2963.25,-413.5\"/>\n",
       "<text text-anchor=\"start\" x=\"2831.5\" y=\"-399.3\" font-family=\"Helvetica,sans-Serif\" font-size=\"14.00\">chlorine ≤ 1.5</text>\n",
       "<text text-anchor=\"start\" x=\"2838\" y=\"-385.3\" font-family=\"Helvetica,sans-Serif\" font-size=\"14.00\">gini = 0.708</text>\n",
       "<text text-anchor=\"start\" x=\"2832\" y=\"-371.3\" font-family=\"Helvetica,sans-Serif\" font-size=\"14.00\">samples = 12</text>\n",
       "<text text-anchor=\"start\" x=\"2815\" y=\"-357.3\" font-family=\"Helvetica,sans-Serif\" font-size=\"14.00\">value = [1, 3, 4, 4]</text>\n",
       "<text text-anchor=\"start\" x=\"2797\" y=\"-343.3\" font-family=\"Helvetica,sans-Serif\" font-size=\"14.00\">class = orthorhombic_1</text>\n",
       "</g>\n",
       "<!-- 51&#45;&gt;53 -->\n",
       "<g id=\"edge53\" class=\"edge\"><title>51&#45;&gt;53</title>\n",
       "<path fill=\"none\" stroke=\"black\" d=\"M2813.87,-450.405C2822.34,-441.027 2831.49,-430.904 2840.25,-421.212\"/>\n",
       "<polygon fill=\"black\" stroke=\"black\" points=\"2843.06,-423.322 2847.16,-413.555 2837.86,-418.629 2843.06,-423.322\"/>\n",
       "</g>\n",
       "<!-- 54 -->\n",
       "<g id=\"node55\" class=\"node\"><title>54</title>\n",
       "<path fill=\"#f7d7fa\" stroke=\"black\" d=\"M2758.25,-297.5C2758.25,-297.5 2595.75,-297.5 2595.75,-297.5 2589.75,-297.5 2583.75,-291.5 2583.75,-285.5 2583.75,-285.5 2583.75,-230.5 2583.75,-230.5 2583.75,-224.5 2589.75,-218.5 2595.75,-218.5 2595.75,-218.5 2758.25,-218.5 2758.25,-218.5 2764.25,-218.5 2770.25,-224.5 2770.25,-230.5 2770.25,-230.5 2770.25,-285.5 2770.25,-285.5 2770.25,-291.5 2764.25,-297.5 2758.25,-297.5\"/>\n",
       "<text text-anchor=\"start\" x=\"2626.5\" y=\"-283.3\" font-family=\"Helvetica,sans-Serif\" font-size=\"14.00\">chlorine ≤ 0.5</text>\n",
       "<text text-anchor=\"start\" x=\"2633\" y=\"-269.3\" font-family=\"Helvetica,sans-Serif\" font-size=\"14.00\">gini = 0.594</text>\n",
       "<text text-anchor=\"start\" x=\"2631.5\" y=\"-255.3\" font-family=\"Helvetica,sans-Serif\" font-size=\"14.00\">samples = 8</text>\n",
       "<text text-anchor=\"start\" x=\"2610\" y=\"-241.3\" font-family=\"Helvetica,sans-Serif\" font-size=\"14.00\">value = [1, 3, 0, 4]</text>\n",
       "<text text-anchor=\"start\" x=\"2592\" y=\"-227.3\" font-family=\"Helvetica,sans-Serif\" font-size=\"14.00\">class = orthorhombic_2</text>\n",
       "</g>\n",
       "<!-- 53&#45;&gt;54 -->\n",
       "<g id=\"edge54\" class=\"edge\"><title>53&#45;&gt;54</title>\n",
       "<path fill=\"none\" stroke=\"black\" d=\"M2812.6,-334.405C2794.15,-324.144 2774.09,-312.993 2755.21,-302.49\"/>\n",
       "<polygon fill=\"black\" stroke=\"black\" points=\"2756.77,-299.357 2746.33,-297.555 2753.37,-305.474 2756.77,-299.357\"/>\n",
       "</g>\n",
       "<!-- 59 -->\n",
       "<g id=\"node60\" class=\"node\"><title>59</title>\n",
       "<path fill=\"#399de5\" stroke=\"black\" d=\"M2963.25,-290.5C2963.25,-290.5 2800.75,-290.5 2800.75,-290.5 2794.75,-290.5 2788.75,-284.5 2788.75,-278.5 2788.75,-278.5 2788.75,-237.5 2788.75,-237.5 2788.75,-231.5 2794.75,-225.5 2800.75,-225.5 2800.75,-225.5 2963.25,-225.5 2963.25,-225.5 2969.25,-225.5 2975.25,-231.5 2975.25,-237.5 2975.25,-237.5 2975.25,-278.5 2975.25,-278.5 2975.25,-284.5 2969.25,-290.5 2963.25,-290.5\"/>\n",
       "<text text-anchor=\"start\" x=\"2847\" y=\"-276.3\" font-family=\"Helvetica,sans-Serif\" font-size=\"14.00\">gini = 0.0</text>\n",
       "<text text-anchor=\"start\" x=\"2836.5\" y=\"-262.3\" font-family=\"Helvetica,sans-Serif\" font-size=\"14.00\">samples = 4</text>\n",
       "<text text-anchor=\"start\" x=\"2815\" y=\"-248.3\" font-family=\"Helvetica,sans-Serif\" font-size=\"14.00\">value = [0, 0, 4, 0]</text>\n",
       "<text text-anchor=\"start\" x=\"2797\" y=\"-234.3\" font-family=\"Helvetica,sans-Serif\" font-size=\"14.00\">class = orthorhombic_1</text>\n",
       "</g>\n",
       "<!-- 53&#45;&gt;59 -->\n",
       "<g id=\"edge59\" class=\"edge\"><title>53&#45;&gt;59</title>\n",
       "<path fill=\"none\" stroke=\"black\" d=\"M2882,-334.405C2882,-323.636 2882,-311.885 2882,-300.933\"/>\n",
       "<polygon fill=\"black\" stroke=\"black\" points=\"2885.5,-300.736 2882,-290.736 2878.5,-300.736 2885.5,-300.736\"/>\n",
       "</g>\n",
       "<!-- 55 -->\n",
       "<g id=\"node56\" class=\"node\"><title>55</title>\n",
       "<path fill=\"#e16aec\" stroke=\"black\" d=\"M2621.25,-181.5C2621.25,-181.5 2458.75,-181.5 2458.75,-181.5 2452.75,-181.5 2446.75,-175.5 2446.75,-169.5 2446.75,-169.5 2446.75,-114.5 2446.75,-114.5 2446.75,-108.5 2452.75,-102.5 2458.75,-102.5 2458.75,-102.5 2621.25,-102.5 2621.25,-102.5 2627.25,-102.5 2633.25,-108.5 2633.25,-114.5 2633.25,-114.5 2633.25,-169.5 2633.25,-169.5 2633.25,-175.5 2627.25,-181.5 2621.25,-181.5\"/>\n",
       "<text text-anchor=\"start\" x=\"2496\" y=\"-167.3\" font-family=\"Helvetica,sans-Serif\" font-size=\"14.00\">iodine ≤ 1.5</text>\n",
       "<text text-anchor=\"start\" x=\"2500.5\" y=\"-153.3\" font-family=\"Helvetica,sans-Serif\" font-size=\"14.00\">gini = 0.32</text>\n",
       "<text text-anchor=\"start\" x=\"2494.5\" y=\"-139.3\" font-family=\"Helvetica,sans-Serif\" font-size=\"14.00\">samples = 5</text>\n",
       "<text text-anchor=\"start\" x=\"2473\" y=\"-125.3\" font-family=\"Helvetica,sans-Serif\" font-size=\"14.00\">value = [1, 0, 0, 4]</text>\n",
       "<text text-anchor=\"start\" x=\"2455\" y=\"-111.3\" font-family=\"Helvetica,sans-Serif\" font-size=\"14.00\">class = orthorhombic_2</text>\n",
       "</g>\n",
       "<!-- 54&#45;&gt;55 -->\n",
       "<g id=\"edge55\" class=\"edge\"><title>54&#45;&gt;55</title>\n",
       "<path fill=\"none\" stroke=\"black\" d=\"M2630.62,-218.405C2618.9,-208.655 2606.22,-198.101 2594.15,-188.063\"/>\n",
       "<polygon fill=\"black\" stroke=\"black\" points=\"2596.26,-185.261 2586.33,-181.555 2591.78,-190.642 2596.26,-185.261\"/>\n",
       "</g>\n",
       "<!-- 58 -->\n",
       "<g id=\"node59\" class=\"node\"><title>58</title>\n",
       "<path fill=\"#47e539\" stroke=\"black\" d=\"M2790.25,-174.5C2790.25,-174.5 2663.75,-174.5 2663.75,-174.5 2657.75,-174.5 2651.75,-168.5 2651.75,-162.5 2651.75,-162.5 2651.75,-121.5 2651.75,-121.5 2651.75,-115.5 2657.75,-109.5 2663.75,-109.5 2663.75,-109.5 2790.25,-109.5 2790.25,-109.5 2796.25,-109.5 2802.25,-115.5 2802.25,-121.5 2802.25,-121.5 2802.25,-162.5 2802.25,-162.5 2802.25,-168.5 2796.25,-174.5 2790.25,-174.5\"/>\n",
       "<text text-anchor=\"start\" x=\"2692\" y=\"-160.3\" font-family=\"Helvetica,sans-Serif\" font-size=\"14.00\">gini = 0.0</text>\n",
       "<text text-anchor=\"start\" x=\"2681.5\" y=\"-146.3\" font-family=\"Helvetica,sans-Serif\" font-size=\"14.00\">samples = 3</text>\n",
       "<text text-anchor=\"start\" x=\"2660\" y=\"-132.3\" font-family=\"Helvetica,sans-Serif\" font-size=\"14.00\">value = [0, 3, 0, 0]</text>\n",
       "<text text-anchor=\"start\" x=\"2661.5\" y=\"-118.3\" font-family=\"Helvetica,sans-Serif\" font-size=\"14.00\">class = tetragonal</text>\n",
       "</g>\n",
       "<!-- 54&#45;&gt;58 -->\n",
       "<g id=\"edge58\" class=\"edge\"><title>54&#45;&gt;58</title>\n",
       "<path fill=\"none\" stroke=\"black\" d=\"M2693.93,-218.405C2698.8,-207.303 2704.12,-195.157 2709.05,-183.919\"/>\n",
       "<polygon fill=\"black\" stroke=\"black\" points=\"2712.27,-185.3 2713.08,-174.736 2705.86,-182.488 2712.27,-185.3\"/>\n",
       "</g>\n",
       "<!-- 56 -->\n",
       "<g id=\"node57\" class=\"node\"><title>56</title>\n",
       "<path fill=\"#e58139\" stroke=\"black\" d=\"M2509.25,-65.5C2509.25,-65.5 2382.75,-65.5 2382.75,-65.5 2376.75,-65.5 2370.75,-59.5 2370.75,-53.5 2370.75,-53.5 2370.75,-12.5 2370.75,-12.5 2370.75,-6.5 2376.75,-0.5 2382.75,-0.5 2382.75,-0.5 2509.25,-0.5 2509.25,-0.5 2515.25,-0.5 2521.25,-6.5 2521.25,-12.5 2521.25,-12.5 2521.25,-53.5 2521.25,-53.5 2521.25,-59.5 2515.25,-65.5 2509.25,-65.5\"/>\n",
       "<text text-anchor=\"start\" x=\"2411\" y=\"-51.3\" font-family=\"Helvetica,sans-Serif\" font-size=\"14.00\">gini = 0.0</text>\n",
       "<text text-anchor=\"start\" x=\"2400.5\" y=\"-37.3\" font-family=\"Helvetica,sans-Serif\" font-size=\"14.00\">samples = 1</text>\n",
       "<text text-anchor=\"start\" x=\"2379\" y=\"-23.3\" font-family=\"Helvetica,sans-Serif\" font-size=\"14.00\">value = [1, 0, 0, 0]</text>\n",
       "<text text-anchor=\"start\" x=\"2399\" y=\"-9.3\" font-family=\"Helvetica,sans-Serif\" font-size=\"14.00\">class = cubic</text>\n",
       "</g>\n",
       "<!-- 55&#45;&gt;56 -->\n",
       "<g id=\"edge56\" class=\"edge\"><title>55&#45;&gt;56</title>\n",
       "<path fill=\"none\" stroke=\"black\" d=\"M2506.06,-102.371C2497.76,-92.9237 2488.88,-82.8049 2480.55,-73.3259\"/>\n",
       "<polygon fill=\"black\" stroke=\"black\" points=\"2482.94,-70.7456 2473.71,-65.5428 2477.68,-75.3656 2482.94,-70.7456\"/>\n",
       "</g>\n",
       "<!-- 57 -->\n",
       "<g id=\"node58\" class=\"node\"><title>57</title>\n",
       "<path fill=\"#d739e5\" stroke=\"black\" d=\"M2714.25,-65.5C2714.25,-65.5 2551.75,-65.5 2551.75,-65.5 2545.75,-65.5 2539.75,-59.5 2539.75,-53.5 2539.75,-53.5 2539.75,-12.5 2539.75,-12.5 2539.75,-6.5 2545.75,-0.5 2551.75,-0.5 2551.75,-0.5 2714.25,-0.5 2714.25,-0.5 2720.25,-0.5 2726.25,-6.5 2726.25,-12.5 2726.25,-12.5 2726.25,-53.5 2726.25,-53.5 2726.25,-59.5 2720.25,-65.5 2714.25,-65.5\"/>\n",
       "<text text-anchor=\"start\" x=\"2598\" y=\"-51.3\" font-family=\"Helvetica,sans-Serif\" font-size=\"14.00\">gini = 0.0</text>\n",
       "<text text-anchor=\"start\" x=\"2587.5\" y=\"-37.3\" font-family=\"Helvetica,sans-Serif\" font-size=\"14.00\">samples = 4</text>\n",
       "<text text-anchor=\"start\" x=\"2566\" y=\"-23.3\" font-family=\"Helvetica,sans-Serif\" font-size=\"14.00\">value = [0, 0, 0, 4]</text>\n",
       "<text text-anchor=\"start\" x=\"2548\" y=\"-9.3\" font-family=\"Helvetica,sans-Serif\" font-size=\"14.00\">class = orthorhombic_2</text>\n",
       "</g>\n",
       "<!-- 55&#45;&gt;57 -->\n",
       "<g id=\"edge57\" class=\"edge\"><title>55&#45;&gt;57</title>\n",
       "<path fill=\"none\" stroke=\"black\" d=\"M2573.58,-102.371C2581.79,-92.9237 2590.58,-82.8049 2598.82,-73.3259\"/>\n",
       "<polygon fill=\"black\" stroke=\"black\" points=\"2601.67,-75.3865 2605.58,-65.5428 2596.38,-70.7944 2601.67,-75.3865\"/>\n",
       "</g>\n",
       "<!-- 61 -->\n",
       "<g id=\"node62\" class=\"node\"><title>61</title>\n",
       "<path fill=\"#a3f29c\" stroke=\"black\" d=\"M3226.25,-413.5C3226.25,-413.5 3099.75,-413.5 3099.75,-413.5 3093.75,-413.5 3087.75,-407.5 3087.75,-401.5 3087.75,-401.5 3087.75,-346.5 3087.75,-346.5 3087.75,-340.5 3093.75,-334.5 3099.75,-334.5 3099.75,-334.5 3226.25,-334.5 3226.25,-334.5 3232.25,-334.5 3238.25,-340.5 3238.25,-346.5 3238.25,-346.5 3238.25,-401.5 3238.25,-401.5 3238.25,-407.5 3232.25,-413.5 3226.25,-413.5\"/>\n",
       "<text text-anchor=\"start\" x=\"3112.5\" y=\"-399.3\" font-family=\"Helvetica,sans-Serif\" font-size=\"14.00\">chlorine ≤ 2.5</text>\n",
       "<text text-anchor=\"start\" x=\"3119\" y=\"-385.3\" font-family=\"Helvetica,sans-Serif\" font-size=\"14.00\">gini = 0.444</text>\n",
       "<text text-anchor=\"start\" x=\"3117.5\" y=\"-371.3\" font-family=\"Helvetica,sans-Serif\" font-size=\"14.00\">samples = 6</text>\n",
       "<text text-anchor=\"start\" x=\"3096\" y=\"-357.3\" font-family=\"Helvetica,sans-Serif\" font-size=\"14.00\">value = [0, 4, 2, 0]</text>\n",
       "<text text-anchor=\"start\" x=\"3097.5\" y=\"-343.3\" font-family=\"Helvetica,sans-Serif\" font-size=\"14.00\">class = tetragonal</text>\n",
       "</g>\n",
       "<!-- 60&#45;&gt;61 -->\n",
       "<g id=\"edge61\" class=\"edge\"><title>60&#45;&gt;61</title>\n",
       "<path fill=\"none\" stroke=\"black\" d=\"M3163,-450.405C3163,-441.862 3163,-432.702 3163,-423.813\"/>\n",
       "<polygon fill=\"black\" stroke=\"black\" points=\"3166.5,-423.555 3163,-413.555 3159.5,-423.555 3166.5,-423.555\"/>\n",
       "</g>\n",
       "<!-- 64 -->\n",
       "<g id=\"node65\" class=\"node\"><title>64</title>\n",
       "<path fill=\"#74baed\" stroke=\"black\" d=\"M3542.25,-413.5C3542.25,-413.5 3379.75,-413.5 3379.75,-413.5 3373.75,-413.5 3367.75,-407.5 3367.75,-401.5 3367.75,-401.5 3367.75,-346.5 3367.75,-346.5 3367.75,-340.5 3373.75,-334.5 3379.75,-334.5 3379.75,-334.5 3542.25,-334.5 3542.25,-334.5 3548.25,-334.5 3554.25,-340.5 3554.25,-346.5 3554.25,-346.5 3554.25,-401.5 3554.25,-401.5 3554.25,-407.5 3548.25,-413.5 3542.25,-413.5\"/>\n",
       "<text text-anchor=\"start\" x=\"3410.5\" y=\"-399.3\" font-family=\"Helvetica,sans-Serif\" font-size=\"14.00\">chlorine ≤ 1.5</text>\n",
       "<text text-anchor=\"start\" x=\"3417\" y=\"-385.3\" font-family=\"Helvetica,sans-Serif\" font-size=\"14.00\">gini = 0.403</text>\n",
       "<text text-anchor=\"start\" x=\"3411\" y=\"-371.3\" font-family=\"Helvetica,sans-Serif\" font-size=\"14.00\">samples = 12</text>\n",
       "<text text-anchor=\"start\" x=\"3394\" y=\"-357.3\" font-family=\"Helvetica,sans-Serif\" font-size=\"14.00\">value = [2, 0, 9, 1]</text>\n",
       "<text text-anchor=\"start\" x=\"3376\" y=\"-343.3\" font-family=\"Helvetica,sans-Serif\" font-size=\"14.00\">class = orthorhombic_1</text>\n",
       "</g>\n",
       "<!-- 60&#45;&gt;64 -->\n",
       "<g id=\"edge64\" class=\"edge\"><title>60&#45;&gt;64</title>\n",
       "<path fill=\"none\" stroke=\"black\" d=\"M3256.47,-453.242C3288.71,-440.91 3324.99,-427.031 3357.95,-414.422\"/>\n",
       "<polygon fill=\"black\" stroke=\"black\" points=\"3359.51,-417.571 3367.6,-410.729 3357.01,-411.033 3359.51,-417.571\"/>\n",
       "</g>\n",
       "<!-- 62 -->\n",
       "<g id=\"node63\" class=\"node\"><title>62</title>\n",
       "<path fill=\"#47e539\" stroke=\"black\" d=\"M3132.25,-290.5C3132.25,-290.5 3005.75,-290.5 3005.75,-290.5 2999.75,-290.5 2993.75,-284.5 2993.75,-278.5 2993.75,-278.5 2993.75,-237.5 2993.75,-237.5 2993.75,-231.5 2999.75,-225.5 3005.75,-225.5 3005.75,-225.5 3132.25,-225.5 3132.25,-225.5 3138.25,-225.5 3144.25,-231.5 3144.25,-237.5 3144.25,-237.5 3144.25,-278.5 3144.25,-278.5 3144.25,-284.5 3138.25,-290.5 3132.25,-290.5\"/>\n",
       "<text text-anchor=\"start\" x=\"3034\" y=\"-276.3\" font-family=\"Helvetica,sans-Serif\" font-size=\"14.00\">gini = 0.0</text>\n",
       "<text text-anchor=\"start\" x=\"3023.5\" y=\"-262.3\" font-family=\"Helvetica,sans-Serif\" font-size=\"14.00\">samples = 4</text>\n",
       "<text text-anchor=\"start\" x=\"3002\" y=\"-248.3\" font-family=\"Helvetica,sans-Serif\" font-size=\"14.00\">value = [0, 4, 0, 0]</text>\n",
       "<text text-anchor=\"start\" x=\"3003.5\" y=\"-234.3\" font-family=\"Helvetica,sans-Serif\" font-size=\"14.00\">class = tetragonal</text>\n",
       "</g>\n",
       "<!-- 61&#45;&gt;62 -->\n",
       "<g id=\"edge62\" class=\"edge\"><title>61&#45;&gt;62</title>\n",
       "<path fill=\"none\" stroke=\"black\" d=\"M3131.18,-334.405C3121.66,-322.859 3111.2,-310.184 3101.63,-298.575\"/>\n",
       "<polygon fill=\"black\" stroke=\"black\" points=\"3104.23,-296.225 3095.17,-290.736 3098.83,-300.678 3104.23,-296.225\"/>\n",
       "</g>\n",
       "<!-- 63 -->\n",
       "<g id=\"node64\" class=\"node\"><title>63</title>\n",
       "<path fill=\"#399de5\" stroke=\"black\" d=\"M3337.25,-290.5C3337.25,-290.5 3174.75,-290.5 3174.75,-290.5 3168.75,-290.5 3162.75,-284.5 3162.75,-278.5 3162.75,-278.5 3162.75,-237.5 3162.75,-237.5 3162.75,-231.5 3168.75,-225.5 3174.75,-225.5 3174.75,-225.5 3337.25,-225.5 3337.25,-225.5 3343.25,-225.5 3349.25,-231.5 3349.25,-237.5 3349.25,-237.5 3349.25,-278.5 3349.25,-278.5 3349.25,-284.5 3343.25,-290.5 3337.25,-290.5\"/>\n",
       "<text text-anchor=\"start\" x=\"3221\" y=\"-276.3\" font-family=\"Helvetica,sans-Serif\" font-size=\"14.00\">gini = 0.0</text>\n",
       "<text text-anchor=\"start\" x=\"3210.5\" y=\"-262.3\" font-family=\"Helvetica,sans-Serif\" font-size=\"14.00\">samples = 2</text>\n",
       "<text text-anchor=\"start\" x=\"3189\" y=\"-248.3\" font-family=\"Helvetica,sans-Serif\" font-size=\"14.00\">value = [0, 0, 2, 0]</text>\n",
       "<text text-anchor=\"start\" x=\"3171\" y=\"-234.3\" font-family=\"Helvetica,sans-Serif\" font-size=\"14.00\">class = orthorhombic_1</text>\n",
       "</g>\n",
       "<!-- 61&#45;&gt;63 -->\n",
       "<g id=\"edge63\" class=\"edge\"><title>61&#45;&gt;63</title>\n",
       "<path fill=\"none\" stroke=\"black\" d=\"M3194.49,-334.405C3203.9,-322.859 3214.24,-310.184 3223.71,-298.575\"/>\n",
       "<polygon fill=\"black\" stroke=\"black\" points=\"3226.5,-300.698 3230.11,-290.736 3221.08,-296.273 3226.5,-300.698\"/>\n",
       "</g>\n",
       "<!-- 65 -->\n",
       "<g id=\"node66\" class=\"node\"><title>65</title>\n",
       "<path fill=\"#4fa8e8\" stroke=\"black\" d=\"M3542.25,-297.5C3542.25,-297.5 3379.75,-297.5 3379.75,-297.5 3373.75,-297.5 3367.75,-291.5 3367.75,-285.5 3367.75,-285.5 3367.75,-230.5 3367.75,-230.5 3367.75,-224.5 3373.75,-218.5 3379.75,-218.5 3379.75,-218.5 3542.25,-218.5 3542.25,-218.5 3548.25,-218.5 3554.25,-224.5 3554.25,-230.5 3554.25,-230.5 3554.25,-285.5 3554.25,-285.5 3554.25,-291.5 3548.25,-297.5 3542.25,-297.5\"/>\n",
       "<text text-anchor=\"start\" x=\"3409\" y=\"-283.3\" font-family=\"Helvetica,sans-Serif\" font-size=\"14.00\">bromine ≤ 1.5</text>\n",
       "<text text-anchor=\"start\" x=\"3421.5\" y=\"-269.3\" font-family=\"Helvetica,sans-Serif\" font-size=\"14.00\">gini = 0.18</text>\n",
       "<text text-anchor=\"start\" x=\"3411\" y=\"-255.3\" font-family=\"Helvetica,sans-Serif\" font-size=\"14.00\">samples = 10</text>\n",
       "<text text-anchor=\"start\" x=\"3394\" y=\"-241.3\" font-family=\"Helvetica,sans-Serif\" font-size=\"14.00\">value = [0, 0, 9, 1]</text>\n",
       "<text text-anchor=\"start\" x=\"3376\" y=\"-227.3\" font-family=\"Helvetica,sans-Serif\" font-size=\"14.00\">class = orthorhombic_1</text>\n",
       "</g>\n",
       "<!-- 64&#45;&gt;65 -->\n",
       "<g id=\"edge65\" class=\"edge\"><title>64&#45;&gt;65</title>\n",
       "<path fill=\"none\" stroke=\"black\" d=\"M3461,-334.405C3461,-325.862 3461,-316.702 3461,-307.813\"/>\n",
       "<polygon fill=\"black\" stroke=\"black\" points=\"3464.5,-307.555 3461,-297.555 3457.5,-307.555 3464.5,-307.555\"/>\n",
       "</g>\n",
       "<!-- 68 -->\n",
       "<g id=\"node69\" class=\"node\"><title>68</title>\n",
       "<path fill=\"#e58139\" stroke=\"black\" d=\"M3711.25,-290.5C3711.25,-290.5 3584.75,-290.5 3584.75,-290.5 3578.75,-290.5 3572.75,-284.5 3572.75,-278.5 3572.75,-278.5 3572.75,-237.5 3572.75,-237.5 3572.75,-231.5 3578.75,-225.5 3584.75,-225.5 3584.75,-225.5 3711.25,-225.5 3711.25,-225.5 3717.25,-225.5 3723.25,-231.5 3723.25,-237.5 3723.25,-237.5 3723.25,-278.5 3723.25,-278.5 3723.25,-284.5 3717.25,-290.5 3711.25,-290.5\"/>\n",
       "<text text-anchor=\"start\" x=\"3613\" y=\"-276.3\" font-family=\"Helvetica,sans-Serif\" font-size=\"14.00\">gini = 0.0</text>\n",
       "<text text-anchor=\"start\" x=\"3602.5\" y=\"-262.3\" font-family=\"Helvetica,sans-Serif\" font-size=\"14.00\">samples = 2</text>\n",
       "<text text-anchor=\"start\" x=\"3581\" y=\"-248.3\" font-family=\"Helvetica,sans-Serif\" font-size=\"14.00\">value = [2, 0, 0, 0]</text>\n",
       "<text text-anchor=\"start\" x=\"3601\" y=\"-234.3\" font-family=\"Helvetica,sans-Serif\" font-size=\"14.00\">class = cubic</text>\n",
       "</g>\n",
       "<!-- 64&#45;&gt;68 -->\n",
       "<g id=\"edge68\" class=\"edge\"><title>64&#45;&gt;68</title>\n",
       "<path fill=\"none\" stroke=\"black\" d=\"M3524.31,-334.405C3544.71,-321.97 3567.25,-308.225 3587.45,-295.914\"/>\n",
       "<polygon fill=\"black\" stroke=\"black\" points=\"3589.53,-298.746 3596.24,-290.552 3585.88,-292.769 3589.53,-298.746\"/>\n",
       "</g>\n",
       "<!-- 66 -->\n",
       "<g id=\"node67\" class=\"node\"><title>66</title>\n",
       "<path fill=\"#399de5\" stroke=\"black\" d=\"M3439.25,-174.5C3439.25,-174.5 3276.75,-174.5 3276.75,-174.5 3270.75,-174.5 3264.75,-168.5 3264.75,-162.5 3264.75,-162.5 3264.75,-121.5 3264.75,-121.5 3264.75,-115.5 3270.75,-109.5 3276.75,-109.5 3276.75,-109.5 3439.25,-109.5 3439.25,-109.5 3445.25,-109.5 3451.25,-115.5 3451.25,-121.5 3451.25,-121.5 3451.25,-162.5 3451.25,-162.5 3451.25,-168.5 3445.25,-174.5 3439.25,-174.5\"/>\n",
       "<text text-anchor=\"start\" x=\"3323\" y=\"-160.3\" font-family=\"Helvetica,sans-Serif\" font-size=\"14.00\">gini = 0.0</text>\n",
       "<text text-anchor=\"start\" x=\"3312.5\" y=\"-146.3\" font-family=\"Helvetica,sans-Serif\" font-size=\"14.00\">samples = 9</text>\n",
       "<text text-anchor=\"start\" x=\"3291\" y=\"-132.3\" font-family=\"Helvetica,sans-Serif\" font-size=\"14.00\">value = [0, 0, 9, 0]</text>\n",
       "<text text-anchor=\"start\" x=\"3273\" y=\"-118.3\" font-family=\"Helvetica,sans-Serif\" font-size=\"14.00\">class = orthorhombic_1</text>\n",
       "</g>\n",
       "<!-- 65&#45;&gt;66 -->\n",
       "<g id=\"edge66\" class=\"edge\"><title>65&#45;&gt;66</title>\n",
       "<path fill=\"none\" stroke=\"black\" d=\"M3426.13,-218.405C3415.6,-206.748 3404.02,-193.94 3393.45,-182.241\"/>\n",
       "<polygon fill=\"black\" stroke=\"black\" points=\"3395.98,-179.81 3386.67,-174.736 3390.78,-184.503 3395.98,-179.81\"/>\n",
       "</g>\n",
       "<!-- 67 -->\n",
       "<g id=\"node68\" class=\"node\"><title>67</title>\n",
       "<path fill=\"#d739e5\" stroke=\"black\" d=\"M3644.25,-174.5C3644.25,-174.5 3481.75,-174.5 3481.75,-174.5 3475.75,-174.5 3469.75,-168.5 3469.75,-162.5 3469.75,-162.5 3469.75,-121.5 3469.75,-121.5 3469.75,-115.5 3475.75,-109.5 3481.75,-109.5 3481.75,-109.5 3644.25,-109.5 3644.25,-109.5 3650.25,-109.5 3656.25,-115.5 3656.25,-121.5 3656.25,-121.5 3656.25,-162.5 3656.25,-162.5 3656.25,-168.5 3650.25,-174.5 3644.25,-174.5\"/>\n",
       "<text text-anchor=\"start\" x=\"3528\" y=\"-160.3\" font-family=\"Helvetica,sans-Serif\" font-size=\"14.00\">gini = 0.0</text>\n",
       "<text text-anchor=\"start\" x=\"3517.5\" y=\"-146.3\" font-family=\"Helvetica,sans-Serif\" font-size=\"14.00\">samples = 1</text>\n",
       "<text text-anchor=\"start\" x=\"3496\" y=\"-132.3\" font-family=\"Helvetica,sans-Serif\" font-size=\"14.00\">value = [0, 0, 0, 1]</text>\n",
       "<text text-anchor=\"start\" x=\"3478\" y=\"-118.3\" font-family=\"Helvetica,sans-Serif\" font-size=\"14.00\">class = orthorhombic_2</text>\n",
       "</g>\n",
       "<!-- 65&#45;&gt;67 -->\n",
       "<g id=\"edge67\" class=\"edge\"><title>65&#45;&gt;67</title>\n",
       "<path fill=\"none\" stroke=\"black\" d=\"M3495.53,-218.405C3505.96,-206.748 3517.42,-193.94 3527.89,-182.241\"/>\n",
       "<polygon fill=\"black\" stroke=\"black\" points=\"3530.54,-184.523 3534.6,-174.736 3525.33,-179.855 3530.54,-184.523\"/>\n",
       "</g>\n",
       "</g>\n",
       "</svg>\n"
      ],
      "text/plain": [
       "<graphviz.files.Source at 0x7f072ff86070>"
      ]
     },
     "execution_count": 34,
     "metadata": {},
     "output_type": "execute_result"
    }
   ],
   "source": [
    "import graphviz\n",
    "feature_names = ['first_cs','first_FA','first_MA','lead','tin','chlorine','iodine','bromine','reg']\n",
    "target_names = ['cubic', 'tetragonal', 'orthorhombic_1', 'orthorhombic_2']\n",
    "dot_data = tree.export_graphviz(clf, out_file=None,\n",
    "                                feature_names = feature_names,\n",
    "                                class_names = target_names,\n",
    "                                filled=True, rounded=True,\n",
    "                                special_characters=True)\n",
    "graph = graphviz.Source(dot_data)\n",
    "graph"
   ]
  },
  {
   "cell_type": "markdown",
   "metadata": {},
   "source": [
    "\n",
    "One issue with decision trees is that it's often easy to overfit the data, by making the depth of the tree too large. To see if this is occurring, we can compute the cross-validation score of the model for different sets of maximum depths:\n"
   ]
  },
  {
   "cell_type": "code",
   "execution_count": 35,
   "metadata": {},
   "outputs": [
    {
     "name": "stdout",
     "output_type": "stream",
     "text": [
      "1 [0.56756757 0.54054054 0.40540541 0.48648649]\n",
      "2 [0.59459459 0.56756757 0.45945946 0.54054054]\n",
      "3 [0.62162162 0.51351351 0.54054054 0.64864865]\n",
      "4 [0.62162162 0.62162162 0.54054054 0.67567568]\n",
      "5 [0.67567568 0.72972973 0.62162162 0.7027027 ]\n",
      "6 [0.75675676 0.89189189 0.83783784 0.78378378]\n",
      "7 [0.81081081 0.89189189 0.83783784 0.86486486]\n",
      "8 [0.86486486 0.89189189 0.86486486 0.83783784]\n",
      "9 [0.83783784 0.81081081 0.86486486 0.86486486]\n"
     ]
    },
    {
     "data": {
      "image/png": "[encoded data removed]",
      "text/plain": [
       "<Figure size 432x288 with 1 Axes>"
      ]
     },
     "metadata": {
      "needs_background": "light"
     },
     "output_type": "display_data"
    }
   ],
   "source": [
    "folds = model_selection.KFold(n_splits=4, shuffle=True, random_state=0)\n",
    "scores = []\n",
    "for max_depth in range(1, 10):\n",
    "    clf = tree.DecisionTreeClassifier(max_depth=max_depth)\n",
    "    score = model_selection.cross_val_score(clf, X_hof, y_hof, cv=folds)\n",
    "    print(max_depth, score)\n",
    "    scores.append(score.mean())\n",
    "plt.plot(range(1, 10), scores)\n",
    "plt.xlabel('Maximum depth')\n",
    "plt.ylabel('Cross-validation score')\n",
    "plt.show()"
   ]
  },
  {
   "cell_type": "markdown",
   "metadata": {},
   "source": [
    "\n",
    "## Improving the input vector\n",
    "\n",
    "There is much more information we could include in the input vector, which might increase our predictive power of our model. An example could be the covalent radius of tin vs lead, or of the halogens, which will tend to increase or decrease the lattice constant of the whole crystal, and hence the energy. The covalent radii are available in `ase.data`, and can be imported as `from ase.data import covalent_radii`. Another example could be the electronegativities of the halogens, which will play a role in the character of the bonds. The mulliken electronegativities of chlorine, bromine and iodine are 8.3, 7.59 and 6.76 respectively\n",
    "\n",
    "Start by redoing a basic examination of the data: plot the band gap and heats of formation against some of the quantities you might add, and see if there is any correlation. For the quantities that do have a correlation, try adding them to the input vector, and see which (if any) result in an improved model for either the heat of formation, the relative energetic ordering of the symmetry classes, or the band gap.\n"
   ]
  },
  {
   "cell_type": "code",
   "execution_count": 36,
   "metadata": {},
   "outputs": [
    {
     "data": {
      "image/png": "[encoded data removed]",
      "text/plain": [
       "<Figure size 432x288 with 1 Axes>"
      ]
     },
     "metadata": {
      "needs_background": "light"
     },
     "output_type": "display_data"
    },
    {
     "data": {
      "image/png": "[encoded data removed]",
      "text/plain": [
       "<Figure size 432x288 with 1 Axes>"
      ]
     },
     "metadata": {
      "needs_background": "light"
     },
     "output_type": "display_data"
    },
    {
     "data": {
      "image/png": "[encoded data removed]",
      "text/plain": [
       "<Figure size 432x288 with 1 Axes>"
      ]
     },
     "metadata": {
      "needs_background": "light"
     },
     "output_type": "display_data"
    },
    {
     "data": {
      "image/png": "[encoded data removed]",
      "text/plain": [
       "<Figure size 432x288 with 1 Axes>"
      ]
     },
     "metadata": {
      "needs_background": "light"
     },
     "output_type": "display_data"
    },
    {
     "data": {
      "image/png": "[encoded data removed]",
      "text/plain": [
       "<Figure size 432x288 with 1 Axes>"
      ]
     },
     "metadata": {
      "needs_background": "light"
     },
     "output_type": "display_data"
    },
    {
     "data": {
      "image/png": "[encoded data removed]",
      "text/plain": [
       "<Figure size 432x288 with 1 Axes>"
      ]
     },
     "metadata": {
      "needs_background": "light"
     },
     "output_type": "display_data"
    }
   ],
   "source": [
    "from ase.data import covalent_radii as c_r, atomic_numbers as num\n",
    "\n",
    "B_radii = np.array([c_r[num['Pb']], c_r[num['Sn']]])  # Pb, Sn\n",
    "X_radii = np.array([c_r[17], c_r[53], c_r[35]])  # Cl, I, Br\n",
    "elec_neg = np.array([8.3, 6.76, 7.59])  # Cl, I, Br\n",
    "\n",
    "B_r = [np.sum(r[3:5]*B_radii) for r in X_hof]\n",
    "X_r = [np.mean(r[5:8]*X_radii) for r in X_hof]\n",
    "eln = [np.mean(r[5:8]*elec_neg) for r in X_hof]\n",
    "\n",
    "from itertools import product\n",
    "\n",
    "properties = {\n",
    "    \"B radius\": B_r,\n",
    "    \"X radius\": X_r,\n",
    "    \"Mulliken\": eln\n",
    "}\n",
    "responses = {\n",
    "    \"Band Gap\": y,\n",
    "    \"HoF\": HoF\n",
    "}\n",
    "\n",
    "for (prop_name, prop), (resp_name, resp) in product(properties.items(), responses.items()):\n",
    "    plt.scatter(prop, resp)\n",
    "    plt.title(f\"{resp_name} vs. {prop_name}\")\n",
    "    plt.xlabel(prop_name)\n",
    "    plt.ylabel(resp_name)\n",
    "    plt.show()"
   ]
  },
  {
   "cell_type": "code",
   "execution_count": 37,
   "metadata": {},
   "outputs": [
    {
     "name": "stdout",
     "output_type": "stream",
     "text": [
      "(148, 15)\n"
     ]
    },
    {
     "data": {
      "image/png": "[encoded data removed]",
      "text/plain": [
       "<Figure size 432x288 with 1 Axes>"
      ]
     },
     "metadata": {
      "needs_background": "light"
     },
     "output_type": "display_data"
    },
    {
     "name": "stdout",
     "output_type": "stream",
     "text": [
      "Loss with covalent:  27.61994200764555\n",
      "Loss without:  31.219369567160427\n",
      "yes, loss is better\n"
     ]
    }
   ],
   "source": [
    "X_add = np.hstack((X, np.array(X_r).reshape(-1, 1), np.array(eln).reshape(-1, 1)))\n",
    "print(X_add.shape)\n",
    "\n",
    "w, loss_add = fit(X_add, HoF, 0.5)\n",
    "plt.scatter(np.dot(X_add, w), HoF)\n",
    "limits()\n",
    "plt.show()\n",
    "\n",
    "_, loss = fit(X, HoF, 0.5)\n",
    "print('Loss with covalent: ', loss_add)\n",
    "print('Loss without: ', loss)\n",
    "print('yes, loss is better')"
   ]
  },
  {
   "cell_type": "code",
   "execution_count": null,
   "metadata": {},
   "outputs": [],
   "source": []
  },
  {
   "cell_type": "markdown",
   "metadata": {},
   "source": [
    "\n",
    "## Improving the models\n",
    "\n",
    "Most phenomena we encounter don't have nice linear relationships between inputs and outputs. We model nonlinear relationships in two different ways: we either introduce nonlinearity in our features, or in our model. The first\n",
    "is known as feature engineering, and requires a good method. The second makes optimizing the parameters of our model slightly more difficult, as we can lose many of the nice properties of the linear model, such as the closed-form solution.\n",
    "\n",
    "Here we will focus on gaussian process regression as a case study. You can read more about it [here](http://scikit-learn.org/stable/modules/gaussian_process.html#gaussian-process). This lets us fit nonlinear functions and also provides a confidence interval indicating how well the machine is doing.\n",
    "\n",
    "Similar to the `linear_regression`, we can import it from `sklearn` and create an example of the model with `model = GaussianProcessRegressor(kernel=YYY)`, where `YYY` is the kernel used. As a start, we should use a radial basis function, which is also available from `sklearn`. As usual, the model has a `fit()` and a `predict()` method, which sets the parameters of the model, and tries to predict outputs based on inputs.\n"
   ]
  },
  {
   "cell_type": "code",
   "execution_count": 38,
   "metadata": {},
   "outputs": [
    {
     "data": {
      "text/plain": [
       "1.0"
      ]
     },
     "execution_count": 38,
     "metadata": {},
     "output_type": "execute_result"
    }
   ],
   "source": [
    "from sklearn.gaussian_process import GaussianProcessRegressor\n",
    "from sklearn.gaussian_process.kernels import RBF\n",
    "\n",
    "kernel = RBF(length_scale=0.1)\n",
    "model = GaussianProcessRegressor(kernel=kernel)\n",
    "model.fit(X, y)\n",
    "fit = model.predict(X)\n",
    "model.score(X, y)"
   ]
  },
  {
   "cell_type": "markdown",
   "metadata": {},
   "source": [
    "\n",
    "The model we have chosen is very dependent on the length scale we set for the kernel, and it is not given that the value chosen above (0.1) is a good choice. The fact that we have a score of 1.0 is an indication that we may be overfitting. The trick to selecting the best value of this parameter is again cross-validation. We can loop over different possible values of the hyperparameter to make different classes of models, and then evaluate the cross-validation score of each to see which performs best. Try this!\n"
   ]
  },
  {
   "cell_type": "code",
   "execution_count": 39,
   "metadata": {},
   "outputs": [
    {
     "name": "stdout",
     "output_type": "stream",
     "text": [
      "Scored [0. 0. 0.] for length scale 1.000000e-02\n",
      "Scored [0. 0. 0.] for length scale 1.000000e-01\n",
      "Scored [0.92632978 0.89671123 0.86221124] for length scale 5.000000e-01\n",
      "Scored [0.92632978 0.89671123 0.86221124] for length scale 1.000000e+00\n",
      "Scored [0. 0. 0.] for length scale 5.000000e+01\n",
      "Scored [0. 0. 0.] for length scale 1.000000e+02\n"
     ]
    },
    {
     "name": "stderr",
     "output_type": "stream",
     "text": [
      "/zhome/fa/5/1000203270/CAMD2022/venv/lib/python3.8/site-packages/sklearn/gaussian_process/kernels.py:420: ConvergenceWarning: The optimal value found for dimension 0 of parameter length_scale is close to the specified lower bound 1e-05. Decreasing the bound and calling fit again may find a better value.\n",
      "  warnings.warn(\n",
      "/zhome/fa/5/1000203270/CAMD2022/venv/lib/python3.8/site-packages/sklearn/gaussian_process/kernels.py:420: ConvergenceWarning: The optimal value found for dimension 0 of parameter length_scale is close to the specified lower bound 1e-05. Decreasing the bound and calling fit again may find a better value.\n",
      "  warnings.warn(\n",
      "/zhome/fa/5/1000203270/CAMD2022/venv/lib/python3.8/site-packages/sklearn/gaussian_process/kernels.py:420: ConvergenceWarning: The optimal value found for dimension 0 of parameter length_scale is close to the specified lower bound 1e-05. Decreasing the bound and calling fit again may find a better value.\n",
      "  warnings.warn(\n",
      "/zhome/fa/5/1000203270/CAMD2022/venv/lib/python3.8/site-packages/sklearn/gaussian_process/kernels.py:420: ConvergenceWarning: The optimal value found for dimension 0 of parameter length_scale is close to the specified lower bound 1e-05. Decreasing the bound and calling fit again may find a better value.\n",
      "  warnings.warn(\n",
      "/zhome/fa/5/1000203270/CAMD2022/venv/lib/python3.8/site-packages/sklearn/gaussian_process/kernels.py:420: ConvergenceWarning: The optimal value found for dimension 0 of parameter length_scale is close to the specified lower bound 1e-05. Decreasing the bound and calling fit again may find a better value.\n",
      "  warnings.warn(\n",
      "/zhome/fa/5/1000203270/CAMD2022/venv/lib/python3.8/site-packages/sklearn/gaussian_process/kernels.py:420: ConvergenceWarning: The optimal value found for dimension 0 of parameter length_scale is close to the specified lower bound 1e-05. Decreasing the bound and calling fit again may find a better value.\n",
      "  warnings.warn(\n"
     ]
    },
    {
     "data": {
      "text/plain": [
       "RBF(length_scale=1.55)"
      ]
     },
     "execution_count": 39,
     "metadata": {},
     "output_type": "execute_result"
    }
   ],
   "source": [
    "best = (None, np.zeros(3))\n",
    "folds = model_selection.KFold(n_splits=3, shuffle=True, random_state=1)\n",
    "for sigma in [1e-2, 1e-1, 5e-1, 1, 5e1, 1e2]:\n",
    "    kernel = RBF(length_scale=sigma)\n",
    "    m = GaussianProcessRegressor(kernel=kernel)\n",
    "    score = model_selection.cross_val_score(m, X, y, cv=folds, scoring='explained_variance')\n",
    "    new = (m, score)\n",
    "    best = max(best, new, key=lambda t: t[1].mean())\n",
    "    print(f\"Scored {score} for length scale {sigma:e}\")\n",
    "\n",
    "best_model, best_score = best\n",
    "best_model.fit(X, y).kernel_"
   ]
  },
  {
   "cell_type": "markdown",
   "metadata": {},
   "source": [
    "\n",
    "Ideally you should find that length scales of ~1.0 perform best according to this scoring metric. In general, `scikit` has many tools for finding optimized hyperparameters for a given model - an example is [GridSearchCV](http://scikit-learn.org/stable/auto_examples/model_selection/plot_grid_search_digits.html), which automatically goes through all possible combinations of hyperparameters, finding the best one. You should note that there is a problem with using the Cross-validation scores we compute here to evaluate the performance of a given set of hyperparameters, which is very similar to the original problem of overfitting. Can you see what it is?\n"
   ]
  },
  {
   "cell_type": "code",
   "execution_count": null,
   "metadata": {},
   "outputs": [],
   "source": []
  },
  {
   "cell_type": "markdown",
   "metadata": {},
   "source": [
    "\n",
    "# Testing and evaluating the model\n",
    "\n",
    "Now we've reached the stage where we start actually doing electronic structure calculations!\n",
    "\n",
    "We would like to test the models we have made by comparing the predicted quantities to calculated quantities. We are looking for a material that is not present in the database, and fulfills the following criteria:\n",
    "* It has a negative heat of formation\n",
    "* The cubic symmetry is the most stable for this composition class (due to computational cost of the other symmetry types)\n",
    "* It has a band gap of approximately 1.5 eV\n",
    "\n",
    "It might not be possible to find a material that fulfills all, so try to find one, where the band gap of the cubic symmetry structure is close to 1.5 eV.\n"
   ]
  },
  {
   "cell_type": "code",
   "execution_count": 40,
   "metadata": {},
   "outputs": [
    {
     "name": "stdout",
     "output_type": "stream",
     "text": [
      "Material    Found Symmetry   Gap    Predicted Gap\n",
      "--------------------------------------------------\n",
      "FASnIBr2    tetragonal       1.633  0.707\n",
      "FASnIBr2    orthorhombic_1   1.365  0.707\n",
      "FAPbBrCl2   orthorhombic_1   2.601  2.667\n",
      "CsSnI3      orthorhombic_1   0.943  0.315\n",
      "CsSnI3      orthorhombic_2   2.843  0.315\n",
      "CsSnI3      tetragonal       0.732  0.315\n",
      "FASnICl2    orthorhombic_1   1.849  1.643\n",
      "FASnICl2    orthorhombic_2   3.329  1.643\n",
      "MAPbI2Cl    orthorhombic_1   1.762  1.859\n",
      "MAPbI2Cl    tetragonal       2.246  1.859\n",
      "FASnI3      tetragonal       1.388  1.074\n",
      "MASnBr2Cl   orthorhombic_2   4.542  2.009\n",
      "MASnI2Cl    orthorhombic_2   4.055  0.974\n",
      "CsPbIBrCl   tetragonal       1.664  1.669\n",
      "CsPbIBrCl   orthorhombic_1   1.828  1.669\n",
      "CsSnBr2Cl   tetragonal       1.103  1.066\n",
      "CsSnBr2Cl   orthorhombic_1   1.203  1.066\n",
      "MASnIBrCl   tetragonal       2.369  1.161\n",
      "FAPbI2Cl    orthorhombic_1   1.123  1.940\n",
      "FAPbI2Cl    tetragonal       1.905  1.940\n",
      "FASnI2Br    orthorhombic_2   2.833  0.563\n",
      "FASnI2Br    orthorhombic_1   0.839  0.563\n",
      "FASnI2Br    tetragonal       1.613  0.563\n",
      "CsPbBrCl2   orthorhombic_2   4.218  1.690\n",
      "MAPbBrCl2   orthorhombic_1   2.988  2.315\n",
      "MAPbBrCl2   orthorhombic_2   4.334  2.315\n",
      "MAPbBrCl2   tetragonal       3.605  2.315\n",
      "MAPbICl2    tetragonal       2.748  2.287\n",
      "CsPbI2Cl    tetragonal       1.977  1.783\n",
      "FAPbICl2    tetragonal       2.548  2.452\n",
      "MASnCl3     orthorhombic_1   3.074  2.204\n",
      "CsSnIBr2    orthorhombic_2   3.242  0.702\n"
     ]
    }
   ],
   "source": [
    "# Determine all the materials in the database, that do not have the cubic symmetry calculated\n",
    "names = set(r.name for r in db.select(\"symmetry!=cubic\", project=\"organometal\")) - \\\n",
    "        set(r.name for r in db.select(project=\"organometal\", symmetry=\"cubic\"))\n",
    "\n",
    "rows = [r for n in names for r in db.select(name=n)]\n",
    "new_X = np.array([calculate_input_vector(r) for r in rows])\n",
    "new_X[:, :4] = [1, 0, 0, 0]\n",
    "\n",
    "pred_bg = best_model.predict(new_X).flatten()\n",
    "\n",
    "print(f\"Material    Found Symmetry   Gap    Predicted Gap\\n{'-'*50}\")\n",
    "for r, bg in zip(rows, pred_bg):\n",
    "    print(f\"{r.name: <12}{r.symmetry: <17}{r.gllbsc_ind_gap:.3f}  {bg:.3f}\")\n"
   ]
  },
  {
   "cell_type": "markdown",
   "metadata": {},
   "source": [
    "\n",
    "Ideally there is a structure similar to it in the database. To generate the new structure, we can therefore start with the atoms object of the similar structure. Suppose the identical structure is already present, only with lead instead of tin in the structure. We can then generate an initial guess for the starting structure.\n"
   ]
  },
  {
   "cell_type": "code",
   "execution_count": 41,
   "metadata": {},
   "outputs": [],
   "source": [
    "row = next(db.select('Cs,Sn', symmetry='cubic'))  # student: row = next(db.select(name='similar name', symmetry='similar symmetry'))\n",
    "atoms = row.toatoms()\n",
    "symbols = atoms.get_chemical_symbols()\n",
    "new_symbols = ['Pb' if symbol == 'Sn' else symbol  # student: new_symbols = [? if symbol == ? else symbol\n",
    "               for symbol in symbols]\n",
    "atoms.set_chemical_symbols(new_symbols)\n",
    "view(atoms)\n",
    "atoms.write(\"chosen_material.xyz\")"
   ]
  },
  {
   "cell_type": "markdown",
   "metadata": {},
   "source": [
    "\n",
    "Hopefully, you should see that the structure looks as expected! Unfortunately, the new structure is not in a relaxed configuration - by changing some of the atoms, we've also changed the forces on each atom. Before we calculate the energies and band gaps, we need to relax the structure. Note: because of the computational cost, select a cubic structure.\n",
    "\n",
    "**Tip**: You can save the following cell to a file, say `myrelax.py`, by uncommenting the first line and using the next cell to submit it to the cluster by writing the following in a cell:\n",
    "~~~\n",
    "!mq submit myrelax.py -R 8:1:4h\n",
    "~~~\n"
   ]
  },
  {
   "cell_type": "code",
   "execution_count": 42,
   "metadata": {},
   "outputs": [
    {
     "data": {
      "text/plain": [
       "True"
      ]
     },
     "execution_count": 42,
     "metadata": {},
     "output_type": "execute_result"
    }
   ],
   "source": [
    "#%%writefile myrelax.py\n",
    "from gpaw import GPAW, FermiDirac, PW\n",
    "from ase.io import read\n",
    "from ase.optimize.bfgs import BFGS\n",
    "from ase.constraints import UnitCellFilter\n",
    "\n",
    "atoms = read('chosen_material.xyz')\n",
    "name = atoms.get_chemical_formula()\n",
    "calc = GPAW(mode=PW(500),\n",
    "            kpts={'size': (4, 4, 4), 'gamma': True},\n",
    "            xc='PBE',\n",
    "            txt=name + '_relax.out',\n",
    "            occupations=FermiDirac(width=0.05))\n",
    "\n",
    "atoms.calc = calc\n",
    "uf = UnitCellFilter(atoms, mask=[1, 1, 1, 0, 0, 0])\n",
    "relax = BFGS(uf, logfile=name + '_relax.log', trajectory='chosen_relax.traj')\n",
    "relax.run(fmax=0.05)  # force is really a stress here"
   ]
  },
  {
   "cell_type": "markdown",
   "metadata": {},
   "source": [
    "\n",
    "Once we have the relaxed structure, we are ready to roll! We need to calculate the heat of formation and band gap of this structure, and compare with our predicted values. Time permitting, we should also calculate the heat of formation of the three competing crystal symmetries, to really confirm that we are looking at the correct state. Standard DFT seriously underestimates the band gap. We thus use a more accurate method which includes the calculation of the derivative discontinuity, called GLLBSC. You can find more information about it [here](https://journals.aps.org/prb/abstract/10.1103/PhysRevB.82.115106) and a benchmark of different methodologies [here](https://onlinelibrary.wiley.com/doi/abs/10.1002/aenm.201400915).\n"
   ]
  },
  {
   "cell_type": "code",
   "execution_count": 47,
   "metadata": {},
   "outputs": [
    {
     "name": "stdout",
     "output_type": "stream",
     "text": [
      "\n",
      "  ___ ___ ___ _ _ _  \n",
      " |   |   |_  | | | | \n",
      " | | | | | . | | | | \n",
      " |__ |  _|___|_____|  22.1.1b1\n",
      " |___|_|             \n",
      "\n",
      "User:   dft22x019@n-62-30-7\n",
      "Date:   Fri Aug 19 11:10:18 2022\n",
      "Arch:   x86_64\n",
      "Pid:    20393\n",
      "CWD:    /zhome/fa/5/1000203270/CAMD2022/machinelearning\n",
      "Python: 3.8.5\n",
      "gpaw:   /zhome/fa/5/1000203270/CAMD2022/venv/gpaw/gpaw (462ec1d400)\n",
      "_gpaw:  /zhome/fa/5/1000203270/CAMD2022/venv/gpaw/\n",
      "        _gpaw.cpython-38-x86_64-linux-gnu.so (462ec1d400)\n",
      "ase:    /zhome/9f/f/2737/CAMD2022/venv-master/ase/ase (version 3.23.0b1-bcce2b6c57)\n",
      "numpy:  /zhome/fa/5/1000203270/CAMD2022/venv/lib/python3.8/site-packages/numpy (version 1.22.4)\n",
      "scipy:  /zhome/fa/5/1000203270/CAMD2022/venv/lib/python3.8/site-packages/scipy (version 1.8.1)\n",
      "libxc:  4.3.4\n",
      "units:  Angstrom and eV\n",
      "cores: 1\n",
      "OpenMP: False\n",
      "OMP_NUM_THREADS: 1\n",
      "\n",
      "Input parameters:\n",
      "  kpts: {gamma: True,\n",
      "         size: (8, 8, 8)}\n",
      "  mode: {ecut: 500.0,\n",
      "         name: pw}\n",
      "  occupations: {fixmagmom: False,\n",
      "                name: fermi-dirac,\n",
      "                width: 0.05}\n",
      "  xc: GLLBSC\n",
      "\n",
      "System changes: positions, numbers, cell, pbc, initial_charges, initial_magmoms \n",
      "\n",
      "Initialize ...\n",
      "\n",
      "species:\n",
      "  Pb:\n",
      "    name: Lead\n",
      "    id: 7128bc37406581dd57b954a14005c0ad\n",
      "    Z: 82.0\n",
      "    valence: 14\n",
      "    core: 68\n",
      "    charge: 0.0\n",
      "    file: /zhome/86/d/1666/PAW/gpaw-setups-0.9.20000/Pb.GLLBSC.gz\n",
      "    compensation charges: {type: gauss,\n",
      "                           rc: 0.38,\n",
      "                           lmax: 2}\n",
      "    cutoffs: {filter: 2.36,\n",
      "              core: 2.43}\n",
      "    valence states:\n",
      "      #              energy  rcut\n",
      "      - 6s(2.00)   -13.011   1.259\n",
      "      - 6p(2.00)    -4.841   1.275\n",
      "      - 5d(10.00)   -22.546   1.217\n",
      "      -  s          14.200   1.259\n",
      "      -  p          22.370   1.275\n",
      "      -  d           4.665   1.217\n",
      "  \n",
      "    # Using partial waves for Pb as LCAO basis\n",
      "\n",
      "  I:\n",
      "    name: Iodine\n",
      "    id: 56a2c93caa8f5312f9f1d1cdf7d60453\n",
      "    Z: 53.0\n",
      "    valence: 7\n",
      "    core: 46\n",
      "    charge: 0.0\n",
      "    file: /zhome/86/d/1666/PAW/gpaw-setups-0.9.20000/I.GLLBSC.gz\n",
      "    compensation charges: {type: gauss,\n",
      "                           rc: 0.37,\n",
      "                           lmax: 2}\n",
      "    cutoffs: {filter: 2.06,\n",
      "              core: 2.96}\n",
      "    valence states:\n",
      "      #              energy  rcut\n",
      "      - 5s(2.00)   -20.049   1.164\n",
      "      - 5p(5.00)   -10.166   1.164\n",
      "      -  s           7.162   1.164\n",
      "      -  p          17.045   1.164\n",
      "      -  d           0.000   1.164\n",
      "  \n",
      "    # Using partial waves for I as LCAO basis\n",
      "\n",
      "  Cl:\n",
      "    name: Chlorine\n",
      "    id: 09f58f9f27950b443210bc712db7c002\n",
      "    Z: 17.0\n",
      "    valence: 7\n",
      "    core: 10\n",
      "    charge: 0.0\n",
      "    file: /zhome/86/d/1666/PAW/gpaw-setups-0.9.20000/Cl.GLLBSC.gz\n",
      "    compensation charges: {type: gauss,\n",
      "                           rc: 0.25,\n",
      "                           lmax: 2}\n",
      "    cutoffs: {filter: 1.40,\n",
      "              core: 1.49}\n",
      "    valence states:\n",
      "      #              energy  rcut\n",
      "      - 3s(2.00)   -24.525   0.794\n",
      "      - 3p(5.00)   -12.463   0.794\n",
      "      -  s           2.686   0.794\n",
      "      -  p          14.748   0.794\n",
      "      -  d           0.000   0.794\n",
      "  \n",
      "    # Using partial waves for Cl as LCAO basis\n",
      "\n",
      "  Cs:\n",
      "    name: Caesium\n",
      "    id: 410f156e73873912bcef1522d94a9fbd\n",
      "    Z: 55.0\n",
      "    valence: 9\n",
      "    core: 46\n",
      "    charge: 0.0\n",
      "    file: /zhome/86/d/1666/PAW/gpaw-setups-0.9.20000/Cs.GLLBSC.gz\n",
      "    compensation charges: {type: gauss,\n",
      "                           rc: 0.33,\n",
      "                           lmax: 2}\n",
      "    cutoffs: {filter: 2.06,\n",
      "              core: 2.51}\n",
      "    valence states:\n",
      "      #              energy  rcut\n",
      "      - 5s(2.00)   -26.300   1.164\n",
      "      - 6s(1.00)    -2.756   1.164\n",
      "      - 5p(6.00)   -13.212   1.058\n",
      "      -  p          13.999   1.058\n",
      "      -  d           0.000   1.058\n",
      "  \n",
      "    # Using partial waves for Cs as LCAO basis\n",
      "\n",
      "Reference energy: -997373.137537  # eV\n",
      "\n",
      "Spin-paired calculation\n",
      "\n",
      "Convergence criteria:\n",
      " Maximum [total energy] change in last 3 cyles: 0.0005 eV / electron\n",
      " Maximum integral of absolute [dens]ity change: 0.0001 electrons / valence electron\n",
      " Maximum integral of absolute [eigenst]ate change: 4e-08 eV^2 / valence electron\n",
      " Maximum number of scf [iter]ations: 333\n",
      " (Square brackets indicate name in SCF output, whereas a 'c' in\n",
      " the SCF output indicates the quantity has converged.)\n",
      "\n",
      "Symmetries present (total): 2\n",
      "\n",
      "  ( 1  0  0)  ( 1  0  0)\n",
      "  ( 0  1  0)  ( 0  0  1)\n",
      "  ( 0  0  1)  ( 0  1  0)\n",
      "\n",
      "512 k-points: 8 x 8 x 8 Monkhorst-Pack grid + [1/16,1/16,1/16]\n",
      "150 k-points in the irreducible part of the Brillouin zone\n",
      "       k-points in crystal coordinates                weights\n",
      "   0:     0.00000000    0.00000000    0.00000000          1/512\n",
      "   1:     0.00000000    0.12500000   -0.12500000          2/512\n",
      "   2:     0.00000000    0.12500000    0.00000000          4/512\n",
      "   3:     0.00000000    0.12500000    0.12500000          2/512\n",
      "   4:     0.00000000    0.25000000   -0.25000000          2/512\n",
      "   5:     0.00000000    0.25000000   -0.12500000          4/512\n",
      "   6:     0.00000000    0.25000000    0.00000000          4/512\n",
      "   7:     0.00000000    0.25000000    0.12500000          4/512\n",
      "   8:     0.00000000    0.25000000    0.25000000          2/512\n",
      "   9:     0.00000000    0.37500000   -0.37500000          2/512\n",
      "          ...\n",
      " 149:     0.50000000    0.50000000    0.50000000          1/512\n",
      "\n",
      "Wave functions: Plane wave expansion\n",
      "  Cutoff energy: 500.000 eV\n",
      "  Number of coefficients (min, max): 5436, 5552\n",
      "  Pulay-stress correction: 0.000000 eV/Ang^3 (de/decut=0.000000)\n",
      "  Using FFTW library\n",
      "  ScaLapack parameters: grid=1x1, blocksize=None\n",
      "  Wavefunction extrapolation:\n",
      "    Improved wavefunction reuse through dual PAW basis \n",
      "\n",
      "Occupation numbers: Fermi-Dirac:\n",
      "  width: 0.0500  # eV\n",
      " \n",
      "\n",
      "Eigensolver\n",
      "   Davidson(niter=2) \n",
      "\n",
      "Densities:\n",
      "  Coarse grid: 35*30*30 grid\n",
      "  Fine grid: 70*60*60 grid\n",
      "  Total Charge: 0.000000 \n",
      "\n",
      "Density mixing:\n",
      "  Method: separate\n",
      "  Backend: pulay\n",
      "  Linear mixing parameter: 0.05\n",
      "  old densities: 5\n",
      "  Damping of long wavelength oscillations: 50 \n",
      "\n",
      "Hamiltonian:\n",
      "  XC and Coulomb potentials evaluated on a 70*60*60 grid\n",
      "  Using the GLLBSC Exchange-Correlation functional\n",
      "  External potential:\n",
      "    NoExternalPotential\n",
      " \n",
      "\n",
      "XC parameters: GLLBSC functional being used consists of\n",
      "  -----------------------------------------------------------------------\n",
      "  | Weight | Module     | Description                                   |\n",
      "  -----------------------------------------------------------------------\n",
      "  |  1.000 | SCREENING  | GGA_X_PBE_SOL with 2 nearest neighbor stencil |\n",
      "  |  1.000 | RESPONSE   | eps=0.0500 eV                                 |\n",
      "  |  1.000 | XC         | GGA_C_PBE_SOL with 2 nearest neighbor stencil |\n",
      "  -----------------------------------------------------------------------\n",
      "\n",
      "Memory estimate:\n",
      "  Process memory now: 435.64 MiB\n",
      "  Calculator: 562.70 MiB\n",
      "    Density: 18.89 MiB\n",
      "      Arrays: 6.25 MiB\n",
      "      Localized functions: 10.24 MiB\n",
      "      Mixer: 2.40 MiB\n",
      "    Hamiltonian: 4.38 MiB\n",
      "      Arrays: 4.09 MiB\n",
      "      XC: 0.00 MiB\n",
      "      Poisson: 0.00 MiB\n",
      "      vbar: 0.29 MiB\n",
      "    Wavefunctions: 539.43 MiB\n",
      "      Arrays psit_nG: 330.40 MiB\n",
      "      Eigensolver: 2.73 MiB\n",
      "      Projections: 4.17 MiB\n",
      "      Projectors: 188.23 MiB\n",
      "      PW-descriptor: 13.91 MiB\n",
      "\n",
      "Total number of cores used: 1\n",
      "\n",
      "Number of atoms: 5\n",
      "Number of atomic orbitals: 26\n",
      "Number of bands in calculation: 26\n",
      "Number of valence electrons: 44\n",
      "Bands to converge: occupied\n",
      "\n",
      "... initialized\n",
      "\n",
      "Initializing position-dependent things.\n",
      "\n",
      "Density initialized from atomic densities\n",
      "Creating initial wave functions:\n",
      "  26 bands from LCAO basis set\n",
      "\n",
      "                            \n",
      "                            \n",
      "                            \n",
      "                   Cs       \n",
      "                            \n",
      "       Cl                   \n",
      "                            \n",
      "         Cl                 \n",
      "        Pb                  \n",
      "               I            \n",
      "                            \n",
      "                            \n",
      "                            \n",
      "\n",
      "Positions:\n",
      "   0 Pb     0.237787   -0.016351   -0.016351    ( 0.0000,  0.0000,  0.0000)\n",
      "   1 I      3.466165   -0.024028   -0.024028    ( 0.0000,  0.0000,  0.0000)\n",
      "   2 Cl    -0.036637    2.851974   -0.010629    ( 0.0000,  0.0000,  0.0000)\n",
      "   3 Cl    -0.036637   -0.010629    2.851974    ( 0.0000,  0.0000,  0.0000)\n",
      "   4 Cs     4.230941    2.849267    2.849267    ( 0.0000,  0.0000,  0.0000)\n",
      "\n",
      "Unit cell:\n",
      "           periodic     x           y           z      points  spacing\n",
      "  1. axis:    yes    6.558578   -0.000000   -0.000000    35     0.1874\n",
      "  2. axis:    yes    0.000000    5.738104   -0.000000    30     0.1913\n",
      "  3. axis:    yes    0.000000    0.000000    5.738104    30     0.1913\n",
      "\n",
      "  Lengths:   6.558578   5.738104   5.738104\n",
      "  Angles:   90.000000  90.000000  90.000000\n",
      "\n",
      "Effective grid spacing dv^(1/3) = 0.1900\n",
      "\n"
     ]
    },
    {
     "name": "stdout",
     "output_type": "stream",
     "text": [
      "     iter     time        total  log10-change:\n",
      "                         energy  eigst   dens\n",
      "iter:   1 11:11:04   -19.663970\n",
      "iter:   2 11:11:33   -19.766069  -0.93  -1.26\n",
      "iter:   3 11:12:02   -20.084785  -1.82  -1.18\n",
      "iter:   4 11:12:31   -20.034495  -2.82  -1.16\n",
      "iter:   5 11:13:00   -19.543695  -2.73  -1.15\n",
      "iter:   6 11:13:29   -17.746071  -1.20  -1.21\n",
      "iter:   7 11:13:58   -18.050658  -2.15  -1.72\n",
      "iter:   8 11:14:26   -17.835521  -3.00  -1.66\n",
      "iter:   9 11:14:55   -17.727796  -3.16  -1.78\n",
      "iter:  10 11:15:23   -17.600867  -2.78  -2.03\n",
      "iter:  11 11:15:52   -17.559862  -3.51  -2.17\n",
      "iter:  12 11:16:21   -17.607042  -3.71  -2.18\n",
      "iter:  13 11:16:50   -17.586812  -3.71  -2.32\n",
      "iter:  14 11:17:19   -17.564712  -4.36  -2.65\n",
      "iter:  15 11:17:47   -17.559220  -4.77  -2.78\n",
      "iter:  16 11:18:16   -17.564187c -5.14  -2.81\n",
      "iter:  17 11:18:44   -17.561479c -5.71  -3.22\n",
      "iter:  18 11:19:12   -17.561666c -6.16  -3.35\n",
      "iter:  19 11:19:40   -17.562528c -5.51  -3.38\n",
      "iter:  20 11:20:09   -17.562122c -6.39  -3.64\n",
      "iter:  21 11:20:38   -17.562525c -7.16  -3.79\n",
      "iter:  22 11:21:07   -17.562133c -7.44c -3.80\n",
      "iter:  23 11:21:35   -17.562389c -6.59  -3.75\n",
      "iter:  24 11:22:04   -17.562319c -6.99  -4.01c\n",
      "iter:  25 11:22:33   -17.562524c -7.48c -4.11c\n",
      "\n",
      "Converged after 25 iterations.\n",
      "\n",
      "Dipole moment: (-4.121449, 2.663215, 2.663215) |e|*Ang\n",
      "\n",
      "Energy contributions relative to reference atoms: (reference = -997373.137537)\n",
      "\n",
      "Kinetic:        +90.593961\n",
      "Potential:      -86.854672\n",
      "External:        +0.000000\n",
      "XC:             -21.948995\n",
      "Entropy (-ST):   -0.000000\n",
      "Local:           +0.647182\n",
      "--------------------------\n",
      "Free energy:    -17.562524\n",
      "Extrapolated:   -17.562524\n",
      "\n",
      "GLLBSC response reference energy: 0.49680 eV (from HOMO)\n",
      "\n",
      "Showing only first 2 kpts\n",
      " Kpt  Band  Eigenvalues  Occupancy\n",
      "  0    20     -0.60260    2.00000\n",
      "  0    21     -0.60259    2.00000\n",
      "  0    22      5.35611    0.00000\n",
      "  0    23      6.38625    0.00000\n",
      "\n",
      "  1    20     -0.66975    2.00000\n",
      "  1    21     -0.62745    2.00000\n",
      "  1    22      5.62982    0.00000\n",
      "  1    23      5.90406    0.00000\n",
      "\n",
      "\n",
      "Fermi level: 1.60769\n",
      "\n",
      "Gap: 2.434 eV\n",
      "Transition (v -> c):\n",
      "  (s=0, k=149, n=21, [0.50, 0.50, 0.50]) -> (s=0, k=138, n=22, [0.50, 0.38, -0.38])\n",
      "The gap is 3.403 with components: Kohn-Sham gap 2.434 and discontinuity gap of 0.969.\n"
     ]
    }
   ],
   "source": [
    "# %%writefile dft-gllb.py\n",
    "from ase.io import read\n",
    "from gpaw import GPAW, FermiDirac, PW\n",
    "\n",
    "atoms = read('chosen_relax.traj')\n",
    "calc = GPAW(mode=PW(500),\n",
    "            kpts={'size': (8, 8, 8), 'gamma': True},\n",
    "            xc='GLLBSC',\n",
    "            occupations=FermiDirac(width=0.05))\n",
    "\n",
    "atoms.calc = calc\n",
    "energy = atoms.get_potential_energy()\n",
    "\n",
    "# Note! An accurate discontinuity calculation requires a k-point grid that\n",
    "# gives accurate HOMO/VBM and LUMO/CBM levels (in other words, the k-points of\n",
    "# the valence band maximum and the conduction band minimum should be\n",
    "# included in the used k-point grid).\n",
    "homo, lumo = calc.get_homo_lumo()\n",
    "response = calc.hamiltonian.xc.response\n",
    "dxc_pot = response.calculate_discontinuity_potential(homo, lumo)\n",
    "KS_gap, dxc = response.calculate_discontinuity(dxc_pot)\n",
    "gap = KS_gap + dxc\n",
    "print(f\"The gap is {gap:.3f} with components: Kohn-Sham gap {KS_gap:.3f} and \"\n",
    "      f\"discontinuity gap of {dxc:.3f}.\")"
   ]
  },
  {
   "cell_type": "code",
   "execution_count": 44,
   "metadata": {},
   "outputs": [
    {
     "name": "stdout",
     "output_type": "stream",
     "text": [
      "13916710 ./ dft-gllb.py 8:1:4h\r\n",
      "1 task submitted\r\n"
     ]
    }
   ],
   "source": [
    "!mq submit dft-gllb.py -R 8:1:4h"
   ]
  },
  {
   "cell_type": "code",
   "execution_count": 45,
   "metadata": {},
   "outputs": [
    {
     "name": "stdout",
     "output_type": "stream",
     "text": [
      "id       folder name        res.     age state  time\r\n",
      "-------- ------ ----------- ------ ----- ----- -----\r\n",
      "13916710 ./     dft-gllb.py 8:1:4h 23:54 \u001b[92mdone \u001b[0m 12:07\r\n",
      "-------- ------ ----------- ------ ----- ----- -----\r\n",
      "\u001b[92mdone\u001b[0m: 1, total: 1\r\n"
     ]
    }
   ],
   "source": [
    "!mq ls"
   ]
  },
  {
   "cell_type": "markdown",
   "metadata": {},
   "source": [
    "\n",
    "Do the resulting energies match your predictions?\n"
   ]
  }
 ],
 "metadata": {
  "kernelspec": {
   "display_name": "CAMD2022",
   "language": "python",
   "name": "camd2022"
  },
  "language_info": {
   "codemirror_mode": {
    "name": "ipython",
    "version": 3
   },
   "file_extension": ".py",
   "mimetype": "text/x-python",
   "name": "python",
   "nbconvert_exporter": "python",
   "pygments_lexer": "ipython3",
   "version": "3.8.5"
  }
 },
 "nbformat": 4,
 "nbformat_minor": 1
}
